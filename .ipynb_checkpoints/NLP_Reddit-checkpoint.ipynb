{
 "cells": [
  {
   "cell_type": "code",
   "execution_count": 2,
   "metadata": {
    "scrolled": false
   },
   "outputs": [],
   "source": [
    "import requests\n",
    "from bs4 import BeautifulSoup\n",
    "from sklearn.ensemble import RandomForestClassifier\n",
    "from sklearn.model_selection import train_test_split, cross_val_score\n",
    "from sklearn.grid_search import GridSearchCV\n",
    "from sklearn.linear_model import LogisticRegression, LinearRegression\n",
    "from sklearn.feature_extraction.text import CountVectorizer, HashingVectorizer\n",
    "\n",
    "import numpy as np\n",
    "import pandas as pd\n",
    "\n",
    "import seaborn as sns\n",
    "import matplotlib.pyplot as plt\n",
    "import praw\n",
    "import csv\n",
    "import os\n",
    "import sys\n",
    "import pickle\n",
    "# import Scraper_config as cfg\n",
    "%matplotlib inline\n",
    "%config InlineBackend.figure_format = 'retina'"
   ]
  },
  {
   "cell_type": "markdown",
   "metadata": {},
   "source": [
    "### Scraping Thread Info from Reddit.com"
   ]
  },
  {
   "cell_type": "markdown",
   "metadata": {},
   "source": [
    "#### Set up a request (using requests) to the URL below. Use BeautifulSoup to parse the page and extract all results"
   ]
  },
  {
   "cell_type": "code",
   "execution_count": 3,
   "metadata": {
    "collapsed": true
   },
   "outputs": [],
   "source": [
    "URL = \"http://www.reddit.com\""
   ]
  },
  {
   "cell_type": "code",
   "execution_count": 4,
   "metadata": {
    "collapsed": true
   },
   "outputs": [],
   "source": [
    "# response = requests.get(URL)\n",
    "response = requests.get(URL, headers = {'User-agent': 'AC'})"
   ]
  },
  {
   "cell_type": "code",
   "execution_count": 5,
   "metadata": {},
   "outputs": [
    {
     "name": "stdout",
     "output_type": "stream",
     "text": [
      "200\n"
     ]
    }
   ],
   "source": [
    "print(response.status_code)"
   ]
  },
  {
   "cell_type": "code",
   "execution_count": 6,
   "metadata": {
    "collapsed": true
   },
   "outputs": [],
   "source": [
    "html = response.text"
   ]
  },
  {
   "cell_type": "code",
   "execution_count": 7,
   "metadata": {
    "collapsed": true
   },
   "outputs": [
    {
     "name": "stdout",
     "output_type": "stream",
     "text": [
      "<!doctype html><html xmlns=\"http://www.w3.org/1999/xhtml\" lang=\"en\" xml:lang=\"en\"><head><title>reddit: the front page of the internet</title><meta name=\"keywords\" content=\" reddit, reddit.com, vote, comment, submit \" /><meta name=\"description\" content=\"reddit: the front page of the internet\" /><meta name=\"referrer\" content=\"always\"><meta http-equiv=\"Content-Type\" content=\"text/html; charset=UTF-8\" /><link type=\"application/opensearchdescription+xml\" rel=\"search\" href=\"/static/opensearch.xml\"/><link rel=\"canonical\" href=\"https://www.reddit.com/\" /><meta name=\"viewport\" content=\"width=1024\"><link rel=\"dns-prefetch\" href=\"//out.reddit.com\"><link rel=\"preconnect\" href=\"//out.reddit.com\"><link rel=\"apple-touch-icon\" sizes=\"57x57\" href=\"//www.redditstatic.com/desktop2x/img/favicon/apple-icon-57x57.png\" /><link rel=\"apple-touch-icon\" sizes=\"60x60\" href=\"//www.redditstatic.com/desktop2x/img/favicon/apple-icon-60x60.png\" /><link rel=\"apple-touch-icon\" sizes=\"72x72\" href=\"//www.redditstatic.com/desktop2x/img/favicon/apple-icon-72x72.png\" /><link rel=\"apple-touch-icon\" sizes=\"76x76\" href=\"//www.redditstatic.com/desktop2x/img/favicon/apple-icon-76x76.png\" /><link rel=\"apple-touch-icon\" sizes=\"114x114\" href=\"//www.redditstatic.com/desktop2x/img/favicon/apple-icon-114x114.png\" /><link rel=\"apple-touch-icon\" sizes=\"120x120\" href=\"//www.redditstatic.com/desktop2x/img/favicon/apple-icon-120x120.png\" /><link rel=\"apple-touch-icon\" sizes=\"144x144\" href=\"//www.redditstatic.com/desktop2x/img/favicon/apple-icon-144x144.png\" /><link rel=\"apple-touch-icon\" sizes=\"152x152\" href=\"//www.redditstatic.com/desktop2x/img/favicon/apple-icon-152x152.png\" /><link rel=\"apple-touch-icon\" sizes=\"180x180\" href=\"//www.redditstatic.com/desktop2x/img/favicon/apple-icon-180x180.png\" /><link rel=\"icon\" type=\"image/png\" sizes=\"192x192\" href=\"//www.redditstatic.com/desktop2x/img/favicon/android-icon-192x192.png\" /><link rel=\"icon\" type=\"image/png\" sizes=\"32x32\" href=\"//www.redditstatic.com/desktop2x/img/favicon/favicon-32x32.png\" /><link rel=\"icon\" type=\"image/png\" sizes=\"96x96\" href=\"//www.redditstatic.com/desktop2x/img/favicon/favicon-96x96.png\" /><link rel=\"icon\" type=\"image/png\" sizes=\"16x16\" href=\"//www.redditstatic.com/desktop2x/img/favicon/favicon-16x16.png\" /><link rel=\"manifest\" href=\"//www.redditstatic.com/desktop2x/img/favicon/manifest.json\"/><meta name=\"msapplication-TileColor\" content=\"#ffffff\"/><meta name=\"msapplication-TileImage\" content=\"//www.redditstatic.com/desktop2x/img/favicon/ms-icon-144x144.png\"/><meta name=\"theme-color\" content=\"#ffffff\"/><link rel=\"alternate\" type=\"application/atom+xml\" title=\"RSS\" href=\"https://www.reddit.com/.rss\" /><link rel=\"stylesheet\" type=\"text/css\" href=\"//www.redditstatic.com/reddit.cqL5rDYDfmo.css\" media=\"all\"><link rel=\"stylesheet\" type=\"text/css\" href=\"//www.redditstatic.com/expando.gMzRK16vwrQ.css\" media=\"all\"><link rel=\"stylesheet\" type=\"text/css\" href=\"//www.redditstatic.com/crosspost-preview.De3P20Yb4PY.css\" media=\"all\"><link rel=\"stylesheet\" type=\"text/css\" href=\"//www.redditstatic.com/author-tooltip.uiV1oYrKgxk.css\" media=\"all\"><link rel=\"stylesheet\" type=\"text/css\" href=\"//www.redditstatic.com/listing-comments.AZZO7Kj_O88.css\" media=\"all\"><link rel=\"stylesheet\" type=\"text/css\" href=\"//www.redditstatic.com/popup-notification.6-JvPBpHWMo.css\" media=\"all\"><link rel=\"stylesheet\" type=\"text/css\" href=\"//www.redditstatic.com/desktoponboarding.pXPmBeaw4d0.css\" media=\"all\"><link rel=\"stylesheet\" type=\"text/css\" href=\"//www.redditstatic.com/videoplayer.YbUSlMWPXyg.css\" media=\"all\"><link rel=\"stylesheet\" type=\"text/css\" href=\"//www.redditstatic.com/videoplayercontrols.a_TwaTy76-k.css\" media=\"all\"><!--[if gte IE 8]><!--><!--<![endif]--><!--[if gte IE 9]><!--><script type=\"text/javascript\" src=\"//www.redditstatic.com/reddit-init.en.CJoke566gMY.js\"></script><!--<![endif]--><!--[if lt IE 9]><script type=\"text/javascript\" src=\"//www.redditstatic.com/reddit-init-legacy.en.5lwEdwToKxY.js\"></script><![endif]--><script type=\"text/javascript\" src=\"//www.redditstatic.com/videoplayer.OtpMscnDxGQ.js\"></script><script type=\"text/javascript\" id=\"config\">r.setup({\"feature_outbound_beacons\": false, \"post_site\": \"\", \"gold\": false, \"poisoning_report_mac\": null, \"requires_eu_cookie_policy\": false, \"nsfw_media_acknowledged\": false, \"stats_domain\": \"https://stats.redditmedia.com\", \"feature_onboarding_splash\": \"active\", \"feature_expando_events\": true, \"facebook_app_id\": \"322647334569188\", \"feature_subscribe_join_follow_test\": null, \"logged\": false, \"loid_created\": 1522349206451, \"uitracker_url\": \"//pixel.redditmedia.com/pixel/of_discovery.png\", \"modhash\": \"\", \"send_logs\": true, \"https_endpoint\": \"https://www.reddit.com\", \"ads_loading_timeout_ms\": 5000, \"enabled_experiments\": {}, \"advertiser_category\": null, \"expando_preference\": \"subreddit_default\", \"debug\": false, \"has_subscribed\": false, \"feature_no_subscription_step\": \"control_2\", \"clicktracker_url\": \"//pixel.redditmedia.com/click\", \"cur_site\": \"\", \"events_collector_url\": \"https://www.reddit.com/api/register\", \"feature_archived_signup_cta\": true, \"https_forced\": true, \"share_tracking_hmac\": null, \"live_orangereds_pref\": true, \"ad_serving_events_sample_rate\": \"1.00\", \"renderstyle\": \"html\", \"pref_no_video_autoplay\": false, \"vote_hash\": \"/BwOGmVj/JcTjaoZRdqXGN/wyYtIfZCJ3/4TgnvcASRjC8GZlJdUGUUytPpddkZOhvG4wJyyOpV2iOogvtUUBQvKJiMHjdaSYmvQ/585Fa6HZ289RsOULHG+sKOeomvXy5JcN8GNQvrjc7EScA0hecQO7/zlHFQd+h/OtcRWvac=\", \"eventtracker_url\": \"//pixel.redditmedia.com/pixel/of_delight.png\", \"events_collector_key\": \"RedditFrontend1\", \"feature_post_embed\": true, \"feature_mobile_native_banner\": true, \"cache_policy\": \"loggedout_www\", \"feature_geopopular_onboarding\": null, \"store_visits\": false, \"anon_eventtracker_url\": \"//pixel.redditmedia.com/pixel/of_diversity.png\", \"pref_beta\": false, \"eu_cookie_max_attempts\": 3, \"mweb_blacklist_expressions\": [\"^/prefs/?\", \"^/live/?\", \"/message/compose\", \"/m/\", \"^/subreddits/create\", \"^/gold\", \"^/advertising\", \"^/promoted\", \"^/buttons\"], \"signature_header\": \"X-Signature\", \"signature_header_v2\": \"X-Signature-v2\", \"feature_screenview_events\": true, \"status_msg\": {\"fetching\": \"fetching title...\", \"loading\": \"loading...\", \"submitting\": \"submitting...\"}, \"eu_cookie\": \"eu_cookie\", \"ajax_domain\": \"www.reddit.com\", \"cur_screen_name\": \"\", \"loid\": \"00000000001415xly2\", \"is_sponsor\": false, \"feature_autofill_username\": null, \"user_id\": false, \"pref_email_messages\": false, \"poisoning_canary\": null, \"feature_heartbeat_events\": true, \"over_18\": false, \"feature_ads_user_matching\": false, \"external_frame\": false, \"feature_hover_user_ui_holdout\": false, \"feature_net_neutrality\": false, \"user_subscription_size\": 0, \"listing_over_18\": false, \"extension\": null, \"embedded\": false, \"share_tracking_ts\": 1522349206590, \"event_target\": {\"geo_filter\": \"US_NY\", \"target_type\": \"listing\", \"target_sort\": \"hot\"}, \"events_collector_v2_url\": \"https://www.reddit.com/api/register\", \"feature_google_sign_up\": null, \"server_time\": 1522349206.0, \"pref_no_profanity\": true, \"cur_domain\": \"reddit.com\", \"feature_flatlist_events\": false, \"user_in_timeout\": false, \"user_websocket_url\": null, \"is_fake\": true, \"feature_signup_cta_p5\": \"variant_3\", \"user_age\": false, \"events_collector_secret\": \"thiiM0ahsieSiech1phithe6chahngoo8sah6aid\\n\", \"new_window\": false, \"pageInfo\": {\"actionName\": \"best.GET_listing\", \"statsVerification\": \"43fcc3f4d77e33d0417bf235aea1aa2c52ef0fd6\", \"verification\": \"43fcc3f4d77e33d0417bf235aea1aa2c52ef0fd6\", \"statsName\": \"best.GET_listing\"}, \"media_domain\": \"www.redditmedia.com\", \"whitelist_status\": \"all_ads\", \"static_root\": \"//www.redditstatic.com\", \"cur_listing\": \"frontpage\", \"email_verified\": false, \"stats_sample_rate\": \"5\", \"loid_version\": 2, \"feature_double_sidebar\": false, \"feature_scroll_events\": true})</script><style type=\"text/css\">/* Custom css: use this block to insert special translation-dependent css in the page header */</style><script type=\"text/javascript\">window.user_type = 'guest'; window.is_gold_page = 'False'.toLowerCase() === 'true';</script><script type=\"text/javascript\">var _gaq = _gaq || []; _gaq.push( ['_require', 'inpage_linkid', '//www.google-analytics.com/plugins/ga/inpage_linkid.js'], ['_setAccount', 'UA-12131688-1'], ['_setDomainName', 'reddit.com'], ['_setCustomVar', 1, 'site', 'frontpage', 3], ['_setCustomVar', 2, 'srpath', 'frontpage-GET_listing', 3], ['_setCustomVar', 3, 'usertype', user_type, 2], ['_setCustomVar', 4, 'uitype', 'web', 3], ['_setCustomVar', 5, 'style_override', '', 2], ['_setSampleRate', '1'], ['_trackPageview'] ); (function() { var ga = document.createElement('script'); ga.type = 'text/javascript'; ga.async = true; ga.src = ('https:' == document.location.protocol ? 'https://ssl' : 'http://www') + '.google-analytics.com/ga.js'; var s = document.getElementsByTagName('script')[0]; s.parentNode.insertBefore(ga, s); })();</script><script type=\"text/javascript\">(function(i,s,o,g,r,a,m){i['GoogleAnalyticsObject']=r;i[r]=i[r]||function(){ (i[r].q=i[r].q||[]).push(arguments)},i[r].l=1*new Date();a=s.createElement(o), m=s.getElementsByTagName(o)[0];a.async=1;a.src=g;m.parentNode.insertBefore(a,m) })(window,document,'script','//www.google-analytics.com/analytics.js','_ga'); window._ga('create', 'UA-12131688-9', { 'name': 'goldTracker', 'cookieDomain': 'reddit.com', '1': 'frontpage', '2': 'frontpage-GET_listing', '3': window.user_type, '4': 'web', 'sampleRate': 100 }); if (window.is_gold_page) { window._ga('goldTracker.send', 'pageview'); }</script></head><body class=\"listing-page hot-page\" ><div id=\"block-homepage\"></div><script type=\"text/javascript\">document.querySelector('#block-homepage').style.display = 'block';</script><div class=\"GoogleAd HomeAds InArticleAd LeftAd SidebarAd ad-300-250 ad-banner adbar adbox1 ads-area adsense-ad box_ad googad\" id=\"adblock-test\"></div><script>var frame = document.createElement('iframe'); frame.style.display = 'none'; frame.referrer = 'no-referrer'; frame.id = 'gtm-jail'; frame.name = JSON.stringify({ subreddit: r.config.post_site, origin: location.origin, url: location.href, userMatching: r.config.feature_ads_user_matching, userId: r.config.user_id, advertiserCategory: r.config.advertiser_category, adsStatus: r.config.whitelist_status, }); frame.src = '//' + \"www.redditmedia.com\" + '/gtm/jail?cb=' + \"8CqR7FcToPI\"; document.body.appendChild(frame);</script><script>var mf = document.createElement('script'); mf.type = 'text/javascript'; mf.async = true; mf.src = \"//www.redditstatic.com/moat/moatframe.js\"; var s = document.getElementsByTagName('script')[0]; s.parentNode.insertBefore(mf, s);</script><div id=\"onboarding-splash\" style=\"display: none\"><div class=\"splash_wrapper\"><div class=\"modal-dialog modal-dialog-lg\"><div class=\"modal-content\"><div class=\"modal-header\"><div class=\"modal-header-close\"><a href=\"javascript: void 0;\" class=\"c-close c-hide-text skip-for-now\" data-dismiss=\"modal\">close this window</a></div></div><div class=\"modal-body\"><script id=\"onboarding-wrapper\" type=\"text/template\"><!-- Login form function --><div id=\"desktop-onboarding-browse\" class=\"c-step-sign-up\"><div class=\"desktop-onboarding-step desktop-onboarding-step_sign-up\"><div class=\"desktop-onboarding__col desktop-onboarding__col_sign-up_form\"><div class=\"reddit-logo\"><img width='200px' src=\"//www.redditstatic.com/logo.svg\" /></div><h2 class=\"desktop-onboarding__title\">Sign up to get your own personalized Reddit experience!</h2><p class=\"desktop-onboarding__description\">By having a Reddit account, you can subscribe, vote, and comment on all your favorite Reddit content. Sign up in just seconds.</p><div class=\"desktop-onboarding-sign-up__form-container c-is-create\"><div class=\"desktop-onboarding-sign-up__form desktop-onboarding-sign-up__form_create\"><h3 class=\"desktop-onboarding-sign-up__form-title\">Enter email</h3><form class=\"sign-up-form\" id=\"desktop-onboarding-sign-up-form\" autocomplete=\"off\"><div class=\"c-form-group \"><label for=\"email\" class=\"screenreader-only\">email:</label><input name=\"email\" id=\"desktop-onboarding-email\" class=\"c-form-control\" type=\"text\" autofocus placeholder=\"email address\" data-validate-url=\"/api/check_email.json\" data-validate-on=\"keyup change blur\" /><div class=\"c-form-control-feedback-wrapper \"><span class=\"c-form-control-feedback c-form-control-feedback-throbber\"></span><span class=\"c-form-control-feedback c-form-control-feedback-error\" title=\"\"></span><span class=\"c-form-control-feedback c-form-control-feedback-success\"></span></div></div><button type=\"submit\" class=\"c-btn c-btn-primary desktop-onboarding__next-button\">Next</button><p class=\"desktop-onboarding-sign-up__form-note google-experiment\">or</p><div class=\"google-button google-experiment\"><div class=\"google-button__icon\"></div><div class=\"google-button__text\">Sign up with Google</div></div><div class=\"google-button__error\"><div class=\"sorry\">Sorry, we can't connect to Google right now.</div><div class=\"not-sorry\">Please try again later.</div></div><p class=\"desktop-onboarding-sign-up__form-note\"><span>Already have an account?</span><a href=\".\" class=\"desktop-onboarding-sign-up__form-toggler\" data-form=\"login\">Log In</a><a href=\"javascript: void 0;\" class=\"skip-for-now\">Skip for now</a></p></form></div><div class=\"desktop-onboarding-sign-up__form desktop-onboarding-sign-up__form_login\"><h3 class=\"desktop-onboarding-sign-up__form-title\">Log In</h3><form id=\"login-form\" method=\"post\" action=\"https://www.reddit.com/post/login\" class=\"form-v2 onboarding-login\"><input type=\"hidden\" name=\"op\" value=\"login\"><div class=\"c-form-group \"><label for=\"user_login\" class=\"screenreader-only\">username</label><input value=\"\" name=\"user\" id=\"user_login\" autofocus class=\"c-form-control\" type=\"text\" maxlength=\"20\" tabindex=\"3\" placeholder=\"username\" ><div class=\"c-form-control-feedback-wrapper \"><span class=\"c-form-control-feedback c-form-control-feedback-throbber\"></span><span class=\"c-form-control-feedback c-form-control-feedback-error\" title=\"\"></span><span class=\"c-form-control-feedback c-form-control-feedback-success\"></span></div></div><div class=\"c-form-group \"><label for=\"passwd_login\" class=\"screenreader-only\">password</label><input id=\"passwd_login\" class=\"c-form-control\" name=\"passwd\" type=\"password\" tabindex=\"3\" placeholder=\"password\" ><div class=\"c-form-control-feedback-wrapper \"><span class=\"c-form-control-feedback c-form-control-feedback-throbber\"></span><span class=\"c-form-control-feedback c-form-control-feedback-error\" title=\"\"></span><span class=\"c-form-control-feedback c-form-control-feedback-success\"></span></div></div><div class=\"desktop-onboarding-sign-up__form-note\"><span>Don't have an account?</span><a href=\".\" class=\"desktop-onboarding-sign-up__form-toggler\" data-form=\"create\">Sign up</a>&nbsp|<a href=\"/password\">Reset password</a></div><input type=\"hidden\" value=\"yes\" name=\"rem\"/><div class=\"spacer\"><div class=\"c-form-group g-recaptcha\" data-sitekey=\"6LeTnxkTAAAAAN9QEuDZRpn90WwKk_R1TRW_g-JC\"></div><span class=\"error BAD_CAPTCHA field-captcha\" style=\"display:none\"></span></div><div class=\"c-clearfix c-submit-group\"><span class=\"c-form-throbber\"></span><button type=\"submit\" class=\"c-btn c-btn-primary c-pull-right\" tabindex=\"3\">log in</button></div><div><div class=\"c-alert c-alert-danger\"></div><span class=\"status\"></span></div></form></div></div><footer>By signing up, you agree to our&#32;<a href=\"https://www.reddit.com/help/useragreement/\" >Terms</a>&#32;and that you have read our&#32;<a href=\"https://www.reddit.com/help/privacypolicy/\" >Privacy Policy</a>&#32;and&#32;<a href=\"https://www.reddit.com/help/contentpolicy/\" >Content Policy</a>.</footer></div><div class=\"desktop-onboarding__col desktop-onboarding__col_sign-up_image\"></div></div><div class=\"desktop-onboarding-step desktop-onboarding-step_subreddit-picker\"><div class=\"subreddit-picker-header\"><h2 class=\"desktop-onboarding__title\">Find the good stuff</h2><p class=\"desktop-onboarding__description\">Reddit is filled with interest based communities, offering something for everyone. Check out some communities and we recommend you subscribe to at least 5.</p></div><div class=\"subreddit-picker\"><ul class=\"subreddit-picker__categories\"></ul><ul class=\"subreddit-picker__subreddits\"></ul><div class=\"subreddit-picker__fail\"><span>Something went wrong.</span><a href=\".\">Try Again?</a></div><div class=\"subreddit-picker__category-fail\"><span>Something went wrong.</span><a href=\".\">Try Again?</a></div></div><footer><div class=\"subreddit-picker-progress\"><div class=\"subreddit-picker-progress__track\"><div class=\"subreddit-picker-progress__bar\"></div></div><span class=\"subreddit-picker-progress__num\">0</span><span>/</span><span class=\"subreddit-picker-progress__denom\">5</span><span>&nbsp;<span class=\"subreddit-subscription-count\">recommended subscriptions</span></span></div><span class=\"desktop-onboarding__step-number\">Step 2 of 3</span><div class=\"desktop-onboarding__buttons\"><button class=\"c-btn desktop-onboarding__back-button\">Back</button><button class=\"c-btn c-btn-primary desktop-onboarding__next-button\">Next</button></div></footer></div><div class=\"desktop-onboarding-step desktop-onboarding-step_username\"><div class=\"desktop-onboarding__col desktop-onboarding__col_username_form\"><h2 class=\"desktop-onboarding__title\">Choose your username</h2><p class=\"desktop-onboarding__description\">Your username is how other community members will see you. This name will be used to credit you for things you share on Reddit. What should we call you?</p><div class=desktop-onboarding-username-form><form id=\"register-form\" method=\"post\" action=\"https://www.reddit.com/post/reg\" autocomplete=\"off\" class=\"form-v2 onboarding-login\"><input type=\"hidden\" name=\"op\" value=\"reg\"><input type=\"hidden\" id=\"desktop-onboarding-register-email\" name=\"email\" value=\"\"><input type=\"hidden\" id=\"desktop-onboarding-subreddits\" name=\"sr\" value=\"\"><div class=\"c-form-group \"><label class=\"desktop-onboarding-sign-up__form-title\" for=\"user_reg\">Choose username</label><input value=\"\" name=\"user\" id=\"user_reg\" autofocus class=\"c-form-control\" type=\"text\" maxlength=\"20\" tabindex=\"2\" placeholder=\"username\" data-validate-url=\"/api/check_username.json\" data-validate-min=\"3\" autocomplete=\"new-username\" ><div class=\"c-form-control-feedback-wrapper \"><span class=\"c-form-control-feedback c-form-control-feedback-throbber\"></span><span class=\"c-form-control-feedback c-form-control-feedback-error\" title=\"\"></span><span class=\"c-form-control-feedback c-form-control-feedback-success\"></span></div></div><div class=\"c-form-group \"><label for=\"passwd_reg\" class=\"desktop-onboarding-sign-up__form-title\">Set password</label><input id=\"passwd_reg\" class=\"c-form-control\" name=\"passwd\" type=\"password\" tabindex=\"2\" placeholder=\"password\" data-validate-url='/api/check_password.json' autocomplete='new-password'><div class=\"c-form-control-feedback-wrapper \"><span class=\"c-form-control-feedback c-form-control-feedback-throbber\"></span><span class=\"c-form-control-feedback c-form-control-feedback-error\" title=\"\"></span><span class=\"c-form-control-feedback c-form-control-feedback-success\"></span></div></div><input type=\"hidden\" name=\"passwd2\" id=\"passwd2_reg\" class=\"c-form-control\"><input type=\"hidden\" value=\"yes\" name=\"rem\"/><div class=\"spacer\"><div class=\"c-form-group g-recaptcha\" data-sitekey=\"6LeTnxkTAAAAAN9QEuDZRpn90WwKk_R1TRW_g-JC\"></div><span class=\"error BAD_CAPTCHA field-captcha\" style=\"display:none\"></span></div><div><div class=\"c-alert c-alert-danger\"></div><span class=\"status\"></span><span class=\"error RATELIMIT field-ratelimit\" style=\"display:none\"></span><span class=\"error RATELIMIT field-vdelay\" style=\"display:none\"></span></div></form></div></div><div class=\"desktop-onboarding__col desktop-onboarding__col_username_picker\"><div class=\"username-generator\"><p class=\"desktop-onboarding__description\">Having a hard time picking a name?<br />Here are some available suggestions.</p><div class=\"username-generator__suggestions\"></div><a href=\"javascript: void 0;\" class=\"username-generator__refresh-button\">Refresh suggestions</a></div><footer><span class=\"desktop-onboarding__step-number\">Step 3 of 3</span><div class=\"desktop-onboarding__buttons\"><button class=\"c-btn desktop-onboarding__back-button\">Back</button><button class=\"c-btn c-btn-primary desktop-onboarding__next-button\">Submit</button></div></footer></div></div></div></script></div></div></div></div></div><div id=\"header\" role=\"banner\"><a tabindex=\"1\" href=\"#content\" id=\"jumpToContent\">jump to content</a><div id=\"sr-header-area\"><div class=\"width-clip\"><div class=\"dropdown srdrop\" onclick=\"open_menu(this)\"><span class=\"selected title\">my subreddits</span></div><div class=\"drop-choices srdrop\"><a href=\"https://www.reddit.com/subreddits/\" class=\"bottom-option choice\" >edit subscriptions</a></div><div class=\"sr-list\"><ul class=\"flat-list sr-bar hover\" ><li class='selected'><a href=\"https://www.reddit.com/r/popular/\" class=\"choice\" >popular</a></li><li ><span class=\"separator\">-</span><a href=\"https://www.reddit.com/r/all/\" class=\"choice\" >all</a></li><li ><span class=\"separator\">-</span><a href=\"https://www.reddit.com/r/random/\" class=\"random choice\" >random</a></li></ul><span class=\"separator\">&nbsp;|&nbsp;</span><ul class=\"flat-list sr-bar hover\" id='sr-bar'><li ><a href=\"https://www.reddit.com/r/AskReddit/\" class=\"choice\" >AskReddit</a></li><li ><span class=\"separator\">-</span><a href=\"https://www.reddit.com/r/worldnews/\" class=\"choice\" >worldnews</a></li><li ><span class=\"separator\">-</span><a href=\"https://www.reddit.com/r/videos/\" class=\"choice\" >videos</a></li><li ><span class=\"separator\">-</span><a href=\"https://www.reddit.com/r/funny/\" class=\"choice\" >funny</a></li><li ><span class=\"separator\">-</span><a href=\"https://www.reddit.com/r/todayilearned/\" class=\"choice\" >todayilearned</a></li><li ><span class=\"separator\">-</span><a href=\"https://www.reddit.com/r/pics/\" class=\"choice\" >pics</a></li><li ><span class=\"separator\">-</span><a href=\"https://www.reddit.com/r/gaming/\" class=\"choice\" >gaming</a></li><li ><span class=\"separator\">-</span><a href=\"https://www.reddit.com/r/movies/\" class=\"choice\" >movies</a></li><li ><span class=\"separator\">-</span><a href=\"https://www.reddit.com/r/news/\" class=\"choice\" >news</a></li><li ><span class=\"separator\">-</span><a href=\"https://www.reddit.com/r/gifs/\" class=\"choice\" >gifs</a></li><li ><span class=\"separator\">-</span><a href=\"https://www.reddit.com/r/mildlyinteresting/\" class=\"choice\" >mildlyinteresting</a></li><li ><span class=\"separator\">-</span><a href=\"https://www.reddit.com/r/aww/\" class=\"choice\" >aww</a></li><li ><span class=\"separator\">-</span><a href=\"https://www.reddit.com/r/Showerthoughts/\" class=\"choice\" >Showerthoughts</a></li><li ><span class=\"separator\">-</span><a href=\"https://www.reddit.com/r/television/\" class=\"choice\" >television</a></li><li ><span class=\"separator\">-</span><a href=\"https://www.reddit.com/r/Jokes/\" class=\"choice\" >Jokes</a></li><li ><span class=\"separator\">-</span><a href=\"https://www.reddit.com/r/science/\" class=\"choice\" >science</a></li><li ><span class=\"separator\">-</span><a href=\"https://www.reddit.com/r/OldSchoolCool/\" class=\"choice\" >OldSchoolCool</a></li><li ><span class=\"separator\">-</span><a href=\"https://www.reddit.com/r/sports/\" class=\"choice\" >sports</a></li><li ><span class=\"separator\">-</span><a href=\"https://www.reddit.com/r/IAmA/\" class=\"choice\" >IAmA</a></li><li ><span class=\"separator\">-</span><a href=\"https://www.reddit.com/r/Documentaries/\" class=\"choice\" >Documentaries</a></li><li ><span class=\"separator\">-</span><a href=\"https://www.reddit.com/r/TwoXChromosomes/\" class=\"choice\" >TwoXChromosomes</a></li><li ><span class=\"separator\">-</span><a href=\"https://www.reddit.com/r/explainlikeimfive/\" class=\"choice\" >explainlikeimfive</a></li><li ><span class=\"separator\">-</span><a href=\"https://www.reddit.com/r/personalfinance/\" class=\"choice\" >personalfinance</a></li><li ><span class=\"separator\">-</span><a href=\"https://www.reddit.com/r/books/\" class=\"choice\" >books</a></li><li ><span class=\"separator\">-</span><a href=\"https://www.reddit.com/r/tifu/\" class=\"choice\" >tifu</a></li><li ><span class=\"separator\">-</span><a href=\"https://www.reddit.com/r/Futurology/\" class=\"choice\" >Futurology</a></li><li ><span class=\"separator\">-</span><a href=\"https://www.reddit.com/r/dataisbeautiful/\" class=\"choice\" >dataisbeautiful</a></li><li ><span class=\"separator\">-</span><a href=\"https://www.reddit.com/r/WritingPrompts/\" class=\"choice\" >WritingPrompts</a></li><li ><span class=\"separator\">-</span><a href=\"https://www.reddit.com/r/nottheonion/\" class=\"choice\" >nottheonion</a></li><li ><span class=\"separator\">-</span><a href=\"https://www.reddit.com/r/food/\" class=\"choice\" >food</a></li><li ><span class=\"separator\">-</span><a href=\"https://www.reddit.com/r/Music/\" class=\"choice\" >Music</a></li><li ><span class=\"separator\">-</span><a href=\"https://www.reddit.com/r/photoshopbattles/\" class=\"choice\" >photoshopbattles</a></li><li ><span class=\"separator\">-</span><a href=\"https://www.reddit.com/r/EarthPorn/\" class=\"choice\" >EarthPorn</a></li><li ><span class=\"separator\">-</span><a href=\"https://www.reddit.com/r/philosophy/\" class=\"choice\" >philosophy</a></li><li ><span class=\"separator\">-</span><a href=\"https://www.reddit.com/r/Art/\" class=\"choice\" >Art</a></li><li ><span class=\"separator\">-</span><a href=\"https://www.reddit.com/r/nosleep/\" class=\"choice\" >nosleep</a></li><li ><span class=\"separator\">-</span><a href=\"https://www.reddit.com/r/GetMotivated/\" class=\"choice\" >GetMotivated</a></li><li ><span class=\"separator\">-</span><a href=\"https://www.reddit.com/r/askscience/\" class=\"choice\" >askscience</a></li><li ><span class=\"separator\">-</span><a href=\"https://www.reddit.com/r/LifeProTips/\" class=\"choice\" >LifeProTips</a></li><li ><span class=\"separator\">-</span><a href=\"https://www.reddit.com/r/space/\" class=\"choice\" >space</a></li><li ><span class=\"separator\">-</span><a href=\"https://www.reddit.com/r/UpliftingNews/\" class=\"choice\" >UpliftingNews</a></li><li ><span class=\"separator\">-</span><a href=\"https://www.reddit.com/r/DIY/\" class=\"choice\" >DIY</a></li><li ><span class=\"separator\">-</span><a href=\"https://www.reddit.com/r/history/\" class=\"choice\" >history</a></li><li ><span class=\"separator\">-</span><a href=\"https://www.reddit.com/r/gadgets/\" class=\"choice\" >gadgets</a></li><li ><span class=\"separator\">-</span><a href=\"https://www.reddit.com/r/creepy/\" class=\"choice\" >creepy</a></li><li ><span class=\"separator\">-</span><a href=\"https://www.reddit.com/r/listentothis/\" class=\"choice\" >listentothis</a></li><li ><span class=\"separator\">-</span><a href=\"https://www.reddit.com/r/blog/\" class=\"choice\" >blog</a></li><li ><span class=\"separator\">-</span><a href=\"https://www.reddit.com/r/announcements/\" class=\"choice\" >announcements</a></li><li ><span class=\"separator\">-</span><a href=\"https://www.reddit.com/r/InternetIsBeautiful/\" class=\"choice\" >InternetIsBeautiful</a></li></ul></div><a href=\"https://www.reddit.com/subreddits/\" id=\"sr-more-link\" >more &raquo;</a></div></div><div id=\"header-bottom-left\"><a href=\"/\" id=\"header-img\" class=\"default-header\" title=\"\">reddit.com</a>&nbsp;<ul class=\"tabmenu \" ><li class='selected'><a href=\"https://www.reddit.com/\" class=\"choice\" >hot</a></li><li ><a href=\"https://www.reddit.com/new/\" class=\"choice\" >new</a></li><li ><a href=\"https://www.reddit.com/rising/\" class=\"choice\" >rising</a></li><li ><a href=\"https://www.reddit.com/controversial/\" class=\"choice\" >controversial</a></li><li ><a href=\"https://www.reddit.com/top/\" class=\"choice\" >top</a></li><li ><a href=\"https://www.reddit.com/gilded/\" class=\"choice\" >gilded</a></li><li ><a href=\"https://www.reddit.com/wiki/\" class=\"choice\" >wiki</a></li></ul></div><div id=\"header-bottom-right\"><span class=\"user\">Want to join?&#32;<a href=\"https://www.reddit.com/login\" class=\"login-required login-link\" >Log in</a>&#32;or&#32;<a href=\"https://www.reddit.com/login\" class=\"login-required\" >sign up</a>&#32;in seconds.</span><span class=\"separator\">|</span><ul class=\"flat-list hover\" ><li ><a href=\"javascript:void(0)\" class=\"pref-lang choice\" onclick=\"return showlang();\" >English</a></li></ul></div></div><div class=\"side\"><div class='spacer'><form action=\"https://www.reddit.com/search\" id=\"search\" role=\"search\"><input type=\"text\" name=\"q\" placeholder=\"search\" tabindex=\"20\"><input type=\"submit\" value=\"\" tabindex=\"22\"><div id=\"searchexpando\" class=\"infobar\"><div id=\"moresearchinfo\"><p>use the following search parameters to narrow your results:</p><dl><dt>subreddit:<i>subreddit</i></dt><dd>find submissions in &quot;subreddit&quot;</dd><dt>author:<i>username</i></dt><dd>find submissions by &quot;username&quot;</dd><dt>site:<i>example.com</i></dt><dd>find submissions from &quot;example.com&quot;</dd><dt>url:<i>text</i></dt><dd>search for &quot;text&quot; in url</dd><dt>selftext:<i>text</i></dt><dd>search for &quot;text&quot; in self post contents</dd><dt>self:yes (or self:no)</dt><dd>include (or exclude) self posts</dd><dt>nsfw:yes (or nsfw:no)</dt><dd>include (or exclude) results marked as NSFW</dd></dl><p>e.g.&#32;<code>subreddit:aww site:imgur.com dog</code></p><p><a href=\"https://www.reddit.com/wiki/search\">see the search faq for details.</a></p></div><p><a href=\"https://www.reddit.com/wiki/search\" id=\"search_showmore\">advanced search: by author, subreddit...</a></p></div></form></div><div class='spacer'><form method=\"post\" action=\"https://www.reddit.com/post/login\" id=\"login_login-main\" class=\"login-form login-form-side\"><input type=\"hidden\" name=\"op\" value=\"login-main\" /><input name=\"user\" placeholder=\"username\" type=\"text\" maxlength=\"20\" tabindex=\"1\"/><input name=\"passwd\" placeholder=\"password\" type=\"password\" tabindex=\"1\"/><div class=\"g-recaptcha\" data-sitekey=\"6LeTnxkTAAAAAN9QEuDZRpn90WwKk_R1TRW_g-JC\"></div><div class=\"status\"></div><div id=\"remember-me\"><input type=\"checkbox\" name=\"rem\" id=\"rem-login-main\" tabindex=\"1\" /><label for=\"rem-login-main\">remember me</label><a class=\"recover-password\" href=\"/password\">reset password</a></div><div class=\"submit\"><span class=\"throbber\"></span><button class=\"btn\" type=\"submit\" tabindex=\"1\">login</button></div><div class=\"clear\"></div></form></div><div class='spacer'><div id=\"ad_2\" class=\"dfp-ad-container\"></div><script>r.hooks.get('reddit').register(function() { window.googletag = window.googletag || {}; googletag.cmd = googletag.cmd || []; window.pbjs = window.pbjs || {}; pbjs.que = pbjs.que || []; var adblock = r.utils.getAdblockLevel(); var frameId = \"ad_2\"; var sizes = [[300, 250], [300, 600]]; var keywords = [\"s.brandlift.holdout_15\", \"videos\", \"funny\", \"aww\", \"s.frontpage\", \"reactiongifs\", \"s.brandlift.holdout_7\", \"baseball\", \"EarthPorn\", \"news\", \"technology\", \"s.sfw\", \"PrequelMemes\", \"gifs\", \"television\", \"Unexpected\", \"PoliticalHumor\", \"HighQualityGifs\", \"NatureIsFuckingLit\", \"s.loggedout\", \"s.brandlift.holdout_17\", \"pics\", \"WhitePeopleTwitter\", \"s.brandlift.holdout_2\", \"BikiniBottomTwitter\", \"Eyebleach\", \"whitepeoplegifs\", \"todayilearned\"]; var properties = {\"placement\": \"atf\", \"pref_3rd_party_site_data_personalized_ads\": true, \"whitelist_status\": \"all_ads\", \"subreddit_screen\": false, \"pref_activity_relevant_ads\": true, \"percentage\": 0, \"iaa\": false, \"random_number\": 0, \"environment\": \"production\", \"pref_3rd_party_data_personalized_ads\": true, \"nsfw\": false, \"logged_in\": false, \"has_used_mobile_app\": false, \"full_url\": \"https://www.reddit.com/\"}; var slotPrefix = \"/32173961/desktop\"; var frame = document.getElementById(frameId); var ads = window.__adslots = window.__adslots || []; if (adblock === 'whitelisted') { frame.className += ' acceptable-ads'; } function isWithinLoadDistance(el) { var rect = el.getBoundingClientRect(); var html = document.documentElement; return (rect.top - (window.innerHeight || html.clientHeight))< 300; } function getPageType() { var $body = $('body'); if ($body.hasClass('comments-page')) { return 'comments'; } else if ($body.hasClass('profile-page')) { return 'user' } else if ($body.hasClass('listing-page')) { return 'listing'; } } function getSlot(prefix, pageType) { var parts = [prefix]; if (pageType !== 'user') { var listing = r.config.cur_listing; if (listing !== 'frontpage') { listing = 'r.' + listing; } parts.push(listing); } if (pageType) { parts.push(pageType); } return parts.join('/'); } var adSlot; googletag.cmd.push(function() { var pageType = getPageType(); adSlot = googletag .defineSlot(getSlot(slotPrefix, pageType), sizes, frameId) .addService(googletag.pubads()); adSlot.setTargeting('keywords', keywords); adSlot.setTargeting('adblock', adblock); adSlot.setTargeting('listing', pageType); Object.keys(properties).forEach(function(key) { adSlot.setTargeting(key, properties[key]); }); googletag.display(frameId); }); var requestAd = function() { if (window._usePrebid) { pbjs.que.push(function() { pbjs.setTargetingForGPTAsync(); googletag.pubads().refresh([adSlot]); }); } else { googletag.pubads().refresh([adSlot]); } }; ads.push({ slotID: frameId, sizes: sizes, callback: function() { googletag.cmd.push(function() { if (isWithinLoadDistance(frame)) { requestAd(); } else { var checkDistance = _.throttle(function() { if (isWithinLoadDistance(frame)) { requestAd(); window.removeEventListener('scroll', checkDistance); } }, 100); window.addEventListener('scroll', checkDistance); } }); }, }) });</script></div><div class='spacer'><div class=\"sidebox submit submit-link\"><div class=\"morelink\"><a href=\"https://www.reddit.com/submit\" data-event-action=\"submit\" data-type=\"subreddit\" data-event-detail=\"link\" class=\"login-required access-required\" target=\"_top\" >Submit a new link</a><div class=\"nub\"></div></div></div></div><div class='spacer'><div class=\"sidebox submit submit-text\"><div class=\"morelink\"><a href=\"https://www.reddit.com/submit?selftext=true\" data-event-action=\"submit\" data-type=\"subreddit\" data-event-detail=\"self\" class=\"login-required access-required\" target=\"_top\" >Submit a new text post</a><div class=\"nub\"></div></div></div></div><div class='spacer'><div class=\"goldvertisement \"><div class=\"inner\"><h2 >daily reddit gold goal</h2><div class=\"progress\"><p>58%</p><div class=\"bar\"><span style=\"width: 58%\"></span></div></div><a class=\"support-cta\" href=\"/gold?goldtype=code&amp;source=progressbar\" target=\"_blank\">help support reddit</a><div class=\"gold-bubble hover-bubble help-bubble anchor-top-centered\"><p><span class=\"gold-branding\">reddit gold</span>&#32;gives you extra features and helps keep our servers running. We believe the more reddit can be user-supported, the freer we will be to make reddit the best it can be.</p><p class=\"buy-gold\">Buy gold for yourself to gain access to&#32;<a class=\"extra-features\" href=\"/gold/about\" target=\"_blank\">extra features</a>&#32;and&#32;<a class=\"gold-benefits\" href=\"/r/goldbenefits\" target=\"_blank\">special benefits</a>. A month of gold pays for &#32;<b>231.26 minutes</b>&#32;of reddit server time!</p><p class=\"give-gold\">Give gold to thank exemplary people and encourage them to post more.</p><p class=\"aside\">This daily goal updates every 10 minutes and is reset at midnight&#32;<a target=\"_blank\" href=\"https://en.wikipedia.org/wiki/Pacific_Time_Zone\">Pacific Time</a>&#32; (12 hours, 13 minutes from now).</p><div class=\"history\"><p >Yesterday's reddit gold goal</p><div class=\"progress\"><p>96%</p><div class=\"bar\"><span style=\"width: 96%\"></span></div></div></div></div></div></div></div><div class='spacer'><div id=\"ad_6\" class=\"dfp-ad-container\"></div><script>r.hooks.get('reddit').register(function() { window.googletag = window.googletag || {}; googletag.cmd = googletag.cmd || []; window.pbjs = window.pbjs || {}; pbjs.que = pbjs.que || []; var adblock = r.utils.getAdblockLevel(); var frameId = \"ad_6\"; var sizes = [[300, 250]]; var keywords = [\"s.brandlift.holdout_15\", \"videos\", \"funny\", \"aww\", \"s.frontpage\", \"reactiongifs\", \"s.brandlift.holdout_7\", \"baseball\", \"EarthPorn\", \"news\", \"technology\", \"s.sfw\", \"PrequelMemes\", \"gifs\", \"television\", \"Unexpected\", \"PoliticalHumor\", \"HighQualityGifs\", \"NatureIsFuckingLit\", \"s.loggedout\", \"s.brandlift.holdout_17\", \"pics\", \"WhitePeopleTwitter\", \"s.brandlift.holdout_2\", \"BikiniBottomTwitter\", \"Eyebleach\", \"whitepeoplegifs\", \"todayilearned\"]; var properties = {\"placement\": \"btf\", \"pref_3rd_party_site_data_personalized_ads\": true, \"whitelist_status\": \"all_ads\", \"subreddit_screen\": false, \"pref_activity_relevant_ads\": true, \"percentage\": 92, \"iaa\": false, \"random_number\": 92, \"environment\": \"production\", \"pref_3rd_party_data_personalized_ads\": true, \"nsfw\": false, \"logged_in\": false, \"has_used_mobile_app\": false, \"full_url\": \"https://www.reddit.com/\"}; var slotPrefix = \"/32173961/desktop\"; var frame = document.getElementById(frameId); var ads = window.__adslots = window.__adslots || []; if (adblock === 'whitelisted') { frame.className += ' acceptable-ads'; } function isWithinLoadDistance(el) { var rect = el.getBoundingClientRect(); var html = document.documentElement; return (rect.top - (window.innerHeight || html.clientHeight))< 300; } function getPageType() { var $body = $('body'); if ($body.hasClass('comments-page')) { return 'comments'; } else if ($body.hasClass('profile-page')) { return 'user' } else if ($body.hasClass('listing-page')) { return 'listing'; } } function getSlot(prefix, pageType) { var parts = [prefix]; if (pageType !== 'user') { var listing = r.config.cur_listing; if (listing !== 'frontpage') { listing = 'r.' + listing; } parts.push(listing); } if (pageType) { parts.push(pageType); } return parts.join('/'); } var adSlot; googletag.cmd.push(function() { var pageType = getPageType(); adSlot = googletag .defineSlot(getSlot(slotPrefix, pageType), sizes, frameId) .addService(googletag.pubads()); adSlot.setTargeting('keywords', keywords); adSlot.setTargeting('adblock', adblock); adSlot.setTargeting('listing', pageType); Object.keys(properties).forEach(function(key) { adSlot.setTargeting(key, properties[key]); }); googletag.display(frameId); }); var requestAd = function() { if (window._usePrebid) { pbjs.que.push(function() { pbjs.setTargetingForGPTAsync(); googletag.pubads().refresh([adSlot]); }); } else { googletag.pubads().refresh([adSlot]); } }; ads.push({ slotID: frameId, sizes: sizes, callback: function() { googletag.cmd.push(function() { if (isWithinLoadDistance(frame)) { requestAd(); } else { var checkDistance = _.throttle(function() { if (isWithinLoadDistance(frame)) { requestAd(); window.removeEventListener('scroll', checkDistance); } }, 100); window.addEventListener('scroll', checkDistance); } }); }, }) });</script></div></div><a name=\"content\"></a><div class=\"content\" role=\"main\" ><section class=\"infobar listingsignupbar\"><a href=\"/login\" class=\"login-required listingsignupbar__container\"><h2 class=\"listingsignupbar__title\">Welcome to Reddit,</h2><p class=\"listingsignupbar__desc\">the front page of the internet.</p><div class=\"listingsignupbar__cta-container\"><span class=\"c-btn c-btn-primary c-pull-left listingsignupbar__cta-button\">Become a Redditor</span><p class=\"listingsignupbar__cta-desc\">and subscribe to one of thousands of communities.</p></div></a><a href=\"#\" class=\"listingsignupbar__close\" title=\"close\">&times;</a></section><div class=\"menuarea\"><div class=\"spacer\"><span class=\"dropdown-title lightdrop\">popular in:&#32;</span><div class=\"dropdown lightdrop\" onclick=\"open_menu(this)\"><span class=\"selected\">United States</span></div><div class=\"drop-choices lightdrop\"><form method=\"POST\" action=\"https://www.reddit.com/prefs/update/geopopular\"><input type=\"hidden\" name=\"geo_filter\" value=\"GLOBAL\"><a href=\"https://www.reddit.com/prefs/update/geopopular\" class=\"choice\" onclick=\"$(this).parent().submit(); return false;\" >Everywhere</a></form><form method=\"POST\" action=\"https://www.reddit.com/prefs/update/geopopular\"><input type=\"hidden\" name=\"geo_filter\" value=\"AR\"><a href=\"https://www.reddit.com/prefs/update/geopopular\" class=\"choice\" onclick=\"$(this).parent().submit(); return false;\" >Argentina</a></form><form method=\"POST\" action=\"https://www.reddit.com/prefs/update/geopopular\"><input type=\"hidden\" name=\"geo_filter\" value=\"AU\"><a href=\"https://www.reddit.com/prefs/update/geopopular\" class=\"choice\" onclick=\"$(this).parent().submit(); return false;\" >Australia</a></form><form method=\"POST\" action=\"https://www.reddit.com/prefs/update/geopopular\"><input type=\"hidden\" name=\"geo_filter\" value=\"BG\"><a href=\"https://www.reddit.com/prefs/update/geopopular\" class=\"choice\" onclick=\"$(this).parent().submit(); return false;\" >Bulgaria</a></form><form method=\"POST\" action=\"https://www.reddit.com/prefs/update/geopopular\"><input type=\"hidden\" name=\"geo_filter\" value=\"CA\"><a href=\"https://www.reddit.com/prefs/update/geopopular\" class=\"choice\" onclick=\"$(this).parent().submit(); return false;\" >Canada</a></form><form method=\"POST\" action=\"https://www.reddit.com/prefs/update/geopopular\"><input type=\"hidden\" name=\"geo_filter\" value=\"CL\"><a href=\"https://www.reddit.com/prefs/update/geopopular\" class=\"choice\" onclick=\"$(this).parent().submit(); return false;\" >Chile</a></form><form method=\"POST\" action=\"https://www.reddit.com/prefs/update/geopopular\"><input type=\"hidden\" name=\"geo_filter\" value=\"CO\"><a href=\"https://www.reddit.com/prefs/update/geopopular\" class=\"choice\" onclick=\"$(this).parent().submit(); return false;\" >Colombia</a></form><form method=\"POST\" action=\"https://www.reddit.com/prefs/update/geopopular\"><input type=\"hidden\" name=\"geo_filter\" value=\"HR\"><a href=\"https://www.reddit.com/prefs/update/geopopular\" class=\"choice\" onclick=\"$(this).parent().submit(); return false;\" >Croatia</a></form><form method=\"POST\" action=\"https://www.reddit.com/prefs/update/geopopular\"><input type=\"hidden\" name=\"geo_filter\" value=\"CZ\"><a href=\"https://www.reddit.com/prefs/update/geopopular\" class=\"choice\" onclick=\"$(this).parent().submit(); return false;\" >Czech Republic</a></form><form method=\"POST\" action=\"https://www.reddit.com/prefs/update/geopopular\"><input type=\"hidden\" name=\"geo_filter\" value=\"FI\"><a href=\"https://www.reddit.com/prefs/update/geopopular\" class=\"choice\" onclick=\"$(this).parent().submit(); return false;\" >Finland</a></form><form method=\"POST\" action=\"https://www.reddit.com/prefs/update/geopopular\"><input type=\"hidden\" name=\"geo_filter\" value=\"GR\"><a href=\"https://www.reddit.com/prefs/update/geopopular\" class=\"choice\" onclick=\"$(this).parent().submit(); return false;\" >Greece</a></form><form method=\"POST\" action=\"https://www.reddit.com/prefs/update/geopopular\"><input type=\"hidden\" name=\"geo_filter\" value=\"HU\"><a href=\"https://www.reddit.com/prefs/update/geopopular\" class=\"choice\" onclick=\"$(this).parent().submit(); return false;\" >Hungary</a></form><form method=\"POST\" action=\"https://www.reddit.com/prefs/update/geopopular\"><input type=\"hidden\" name=\"geo_filter\" value=\"IS\"><a href=\"https://www.reddit.com/prefs/update/geopopular\" class=\"choice\" onclick=\"$(this).parent().submit(); return false;\" >Iceland</a></form><form method=\"POST\" action=\"https://www.reddit.com/prefs/update/geopopular\"><input type=\"hidden\" name=\"geo_filter\" value=\"IN\"><a href=\"https://www.reddit.com/prefs/update/geopopular\" class=\"choice\" onclick=\"$(this).parent().submit(); return false;\" >India</a></form><form method=\"POST\" action=\"https://www.reddit.com/prefs/update/geopopular\"><input type=\"hidden\" name=\"geo_filter\" value=\"IE\"><a href=\"https://www.reddit.com/prefs/update/geopopular\" class=\"choice\" onclick=\"$(this).parent().submit(); return false;\" >Ireland</a></form><form method=\"POST\" action=\"https://www.reddit.com/prefs/update/geopopular\"><input type=\"hidden\" name=\"geo_filter\" value=\"JP\"><a href=\"https://www.reddit.com/prefs/update/geopopular\" class=\"choice\" onclick=\"$(this).parent().submit(); return false;\" >Japan</a></form><form method=\"POST\" action=\"https://www.reddit.com/prefs/update/geopopular\"><input type=\"hidden\" name=\"geo_filter\" value=\"MY\"><a href=\"https://www.reddit.com/prefs/update/geopopular\" class=\"choice\" onclick=\"$(this).parent().submit(); return false;\" >Malaysia</a></form><form method=\"POST\" action=\"https://www.reddit.com/prefs/update/geopopular\"><input type=\"hidden\" name=\"geo_filter\" value=\"MX\"><a href=\"https://www.reddit.com/prefs/update/geopopular\" class=\"choice\" onclick=\"$(this).parent().submit(); return false;\" >Mexico</a></form><form method=\"POST\" action=\"https://www.reddit.com/prefs/update/geopopular\"><input type=\"hidden\" name=\"geo_filter\" value=\"NZ\"><a href=\"https://www.reddit.com/prefs/update/geopopular\" class=\"choice\" onclick=\"$(this).parent().submit(); return false;\" >New Zealand</a></form><form method=\"POST\" action=\"https://www.reddit.com/prefs/update/geopopular\"><input type=\"hidden\" name=\"geo_filter\" value=\"PH\"><a href=\"https://www.reddit.com/prefs/update/geopopular\" class=\"choice\" onclick=\"$(this).parent().submit(); return false;\" >Philippines</a></form><form method=\"POST\" action=\"https://www.reddit.com/prefs/update/geopopular\"><input type=\"hidden\" name=\"geo_filter\" value=\"PL\"><a href=\"https://www.reddit.com/prefs/update/geopopular\" class=\"choice\" onclick=\"$(this).parent().submit(); return false;\" >Poland</a></form><form method=\"POST\" action=\"https://www.reddit.com/prefs/update/geopopular\"><input type=\"hidden\" name=\"geo_filter\" value=\"PT\"><a href=\"https://www.reddit.com/prefs/update/geopopular\" class=\"choice\" onclick=\"$(this).parent().submit(); return false;\" >Portugal</a></form><form method=\"POST\" action=\"https://www.reddit.com/prefs/update/geopopular\"><input type=\"hidden\" name=\"geo_filter\" value=\"PR\"><a href=\"https://www.reddit.com/prefs/update/geopopular\" class=\"choice\" onclick=\"$(this).parent().submit(); return false;\" >Puerto Rico</a></form><form method=\"POST\" action=\"https://www.reddit.com/prefs/update/geopopular\"><input type=\"hidden\" name=\"geo_filter\" value=\"RO\"><a href=\"https://www.reddit.com/prefs/update/geopopular\" class=\"choice\" onclick=\"$(this).parent().submit(); return false;\" >Romania</a></form><form method=\"POST\" action=\"https://www.reddit.com/prefs/update/geopopular\"><input type=\"hidden\" name=\"geo_filter\" value=\"RS\"><a href=\"https://www.reddit.com/prefs/update/geopopular\" class=\"choice\" onclick=\"$(this).parent().submit(); return false;\" >Serbia</a></form><form method=\"POST\" action=\"https://www.reddit.com/prefs/update/geopopular\"><input type=\"hidden\" name=\"geo_filter\" value=\"SG\"><a href=\"https://www.reddit.com/prefs/update/geopopular\" class=\"choice\" onclick=\"$(this).parent().submit(); return false;\" >Singapore</a></form><form method=\"POST\" action=\"https://www.reddit.com/prefs/update/geopopular\"><input type=\"hidden\" name=\"geo_filter\" value=\"SE\"><a href=\"https://www.reddit.com/prefs/update/geopopular\" class=\"choice\" onclick=\"$(this).parent().submit(); return false;\" >Sweden</a></form><form method=\"POST\" action=\"https://www.reddit.com/prefs/update/geopopular\"><input type=\"hidden\" name=\"geo_filter\" value=\"TW\"><a href=\"https://www.reddit.com/prefs/update/geopopular\" class=\"choice\" onclick=\"$(this).parent().submit(); return false;\" >Taiwan</a></form><form method=\"POST\" action=\"https://www.reddit.com/prefs/update/geopopular\"><input type=\"hidden\" name=\"geo_filter\" value=\"TH\"><a href=\"https://www.reddit.com/prefs/update/geopopular\" class=\"choice\" onclick=\"$(this).parent().submit(); return false;\" >Thailand</a></form><form method=\"POST\" action=\"https://www.reddit.com/prefs/update/geopopular\"><input type=\"hidden\" name=\"geo_filter\" value=\"TR\"><a href=\"https://www.reddit.com/prefs/update/geopopular\" class=\"choice\" onclick=\"$(this).parent().submit(); return false;\" >Turkey</a></form><form method=\"POST\" action=\"https://www.reddit.com/prefs/update/geopopular\"><input type=\"hidden\" name=\"geo_filter\" value=\"GB\"><a href=\"https://www.reddit.com/prefs/update/geopopular\" class=\"choice\" onclick=\"$(this).parent().submit(); return false;\" >United Kingdom</a></form></div></div><div class=\"spacer\"><span class=\"dropdown-title lightdrop\">select state:&#32;</span><div class=\"dropdown lightdrop\" onclick=\"open_menu(this)\"><span class=\"selected\">New York</span></div><div class=\"drop-choices lightdrop\"><form method=\"POST\" action=\"https://www.reddit.com/prefs/update/geopopular\"><input type=\"hidden\" name=\"geo_filter\" value=\"US\"><a href=\"https://www.reddit.com/prefs/update/geopopular\" class=\"choice\" onclick=\"$(this).parent().submit(); return false;\" >All States</a></form><form method=\"POST\" action=\"https://www.reddit.com/prefs/update/geopopular\"><input type=\"hidden\" name=\"geo_filter\" value=\"US_AK\"><a href=\"https://www.reddit.com/prefs/update/geopopular\" class=\"choice\" onclick=\"$(this).parent().submit(); return false;\" >Alaska</a></form><form method=\"POST\" action=\"https://www.reddit.com/prefs/update/geopopular\"><input type=\"hidden\" name=\"geo_filter\" value=\"US_AL\"><a href=\"https://www.reddit.com/prefs/update/geopopular\" class=\"choice\" onclick=\"$(this).parent().submit(); return false;\" >Alabama</a></form><form method=\"POST\" action=\"https://www.reddit.com/prefs/update/geopopular\"><input type=\"hidden\" name=\"geo_filter\" value=\"US_AR\"><a href=\"https://www.reddit.com/prefs/update/geopopular\" class=\"choice\" onclick=\"$(this).parent().submit(); return false;\" >Arkansas</a></form><form method=\"POST\" action=\"https://www.reddit.com/prefs/update/geopopular\"><input type=\"hidden\" name=\"geo_filter\" value=\"US_AZ\"><a href=\"https://www.reddit.com/prefs/update/geopopular\" class=\"choice\" onclick=\"$(this).parent().submit(); return false;\" >Arizona</a></form><form method=\"POST\" action=\"https://www.reddit.com/prefs/update/geopopular\"><input type=\"hidden\" name=\"geo_filter\" value=\"US_CA\"><a href=\"https://www.reddit.com/prefs/update/geopopular\" class=\"choice\" onclick=\"$(this).parent().submit(); return false;\" >California</a></form><form method=\"POST\" action=\"https://www.reddit.com/prefs/update/geopopular\"><input type=\"hidden\" name=\"geo_filter\" value=\"US_CO\"><a href=\"https://www.reddit.com/prefs/update/geopopular\" class=\"choice\" onclick=\"$(this).parent().submit(); return false;\" >Colorado</a></form><form method=\"POST\" action=\"https://www.reddit.com/prefs/update/geopopular\"><input type=\"hidden\" name=\"geo_filter\" value=\"US_CT\"><a href=\"https://www.reddit.com/prefs/update/geopopular\" class=\"choice\" onclick=\"$(this).parent().submit(); return false;\" >Connecticut</a></form><form method=\"POST\" action=\"https://www.reddit.com/prefs/update/geopopular\"><input type=\"hidden\" name=\"geo_filter\" value=\"US_DC\"><a href=\"https://www.reddit.com/prefs/update/geopopular\" class=\"choice\" onclick=\"$(this).parent().submit(); return false;\" >District of Columbia</a></form><form method=\"POST\" action=\"https://www.reddit.com/prefs/update/geopopular\"><input type=\"hidden\" name=\"geo_filter\" value=\"US_DE\"><a href=\"https://www.reddit.com/prefs/update/geopopular\" class=\"choice\" onclick=\"$(this).parent().submit(); return false;\" >Delaware</a></form><form method=\"POST\" action=\"https://www.reddit.com/prefs/update/geopopular\"><input type=\"hidden\" name=\"geo_filter\" value=\"US_FL\"><a href=\"https://www.reddit.com/prefs/update/geopopular\" class=\"choice\" onclick=\"$(this).parent().submit(); return false;\" >Florida</a></form><form method=\"POST\" action=\"https://www.reddit.com/prefs/update/geopopular\"><input type=\"hidden\" name=\"geo_filter\" value=\"US_GA\"><a href=\"https://www.reddit.com/prefs/update/geopopular\" class=\"choice\" onclick=\"$(this).parent().submit(); return false;\" >Georgia</a></form><form method=\"POST\" action=\"https://www.reddit.com/prefs/update/geopopular\"><input type=\"hidden\" name=\"geo_filter\" value=\"US_HI\"><a href=\"https://www.reddit.com/prefs/update/geopopular\" class=\"choice\" onclick=\"$(this).parent().submit(); return false;\" >Hawaii</a></form><form method=\"POST\" action=\"https://www.reddit.com/prefs/update/geopopular\"><input type=\"hidden\" name=\"geo_filter\" value=\"US_IA\"><a href=\"https://www.reddit.com/prefs/update/geopopular\" class=\"choice\" onclick=\"$(this).parent().submit(); return false;\" >Iowa</a></form><form method=\"POST\" action=\"https://www.reddit.com/prefs/update/geopopular\"><input type=\"hidden\" name=\"geo_filter\" value=\"US_ID\"><a href=\"https://www.reddit.com/prefs/update/geopopular\" class=\"choice\" onclick=\"$(this).parent().submit(); return false;\" >Idaho</a></form><form method=\"POST\" action=\"https://www.reddit.com/prefs/update/geopopular\"><input type=\"hidden\" name=\"geo_filter\" value=\"US_IL\"><a href=\"https://www.reddit.com/prefs/update/geopopular\" class=\"choice\" onclick=\"$(this).parent().submit(); return false;\" >Illinois</a></form><form method=\"POST\" action=\"https://www.reddit.com/prefs/update/geopopular\"><input type=\"hidden\" name=\"geo_filter\" value=\"US_IN\"><a href=\"https://www.reddit.com/prefs/update/geopopular\" class=\"choice\" onclick=\"$(this).parent().submit(); return false;\" >Indiana</a></form><form method=\"POST\" action=\"https://www.reddit.com/prefs/update/geopopular\"><input type=\"hidden\" name=\"geo_filter\" value=\"US_KS\"><a href=\"https://www.reddit.com/prefs/update/geopopular\" class=\"choice\" onclick=\"$(this).parent().submit(); return false;\" >Kansas</a></form><form method=\"POST\" action=\"https://www.reddit.com/prefs/update/geopopular\"><input type=\"hidden\" name=\"geo_filter\" value=\"US_KY\"><a href=\"https://www.reddit.com/prefs/update/geopopular\" class=\"choice\" onclick=\"$(this).parent().submit(); return false;\" >Kentucky</a></form><form method=\"POST\" action=\"https://www.reddit.com/prefs/update/geopopular\"><input type=\"hidden\" name=\"geo_filter\" value=\"US_LA\"><a href=\"https://www.reddit.com/prefs/update/geopopular\" class=\"choice\" onclick=\"$(this).parent().submit(); return false;\" >Louisiana</a></form><form method=\"POST\" action=\"https://www.reddit.com/prefs/update/geopopular\"><input type=\"hidden\" name=\"geo_filter\" value=\"US_MA\"><a href=\"https://www.reddit.com/prefs/update/geopopular\" class=\"choice\" onclick=\"$(this).parent().submit(); return false;\" >Massachusetts</a></form><form method=\"POST\" action=\"https://www.reddit.com/prefs/update/geopopular\"><input type=\"hidden\" name=\"geo_filter\" value=\"US_MD\"><a href=\"https://www.reddit.com/prefs/update/geopopular\" class=\"choice\" onclick=\"$(this).parent().submit(); return false;\" >Maryland</a></form><form method=\"POST\" action=\"https://www.reddit.com/prefs/update/geopopular\"><input type=\"hidden\" name=\"geo_filter\" value=\"US_ME\"><a href=\"https://www.reddit.com/prefs/update/geopopular\" class=\"choice\" onclick=\"$(this).parent().submit(); return false;\" >Maine</a></form><form method=\"POST\" action=\"https://www.reddit.com/prefs/update/geopopular\"><input type=\"hidden\" name=\"geo_filter\" value=\"US_MI\"><a href=\"https://www.reddit.com/prefs/update/geopopular\" class=\"choice\" onclick=\"$(this).parent().submit(); return false;\" >Michigan</a></form><form method=\"POST\" action=\"https://www.reddit.com/prefs/update/geopopular\"><input type=\"hidden\" name=\"geo_filter\" value=\"US_MN\"><a href=\"https://www.reddit.com/prefs/update/geopopular\" class=\"choice\" onclick=\"$(this).parent().submit(); return false;\" >Minnesota</a></form><form method=\"POST\" action=\"https://www.reddit.com/prefs/update/geopopular\"><input type=\"hidden\" name=\"geo_filter\" value=\"US_MO\"><a href=\"https://www.reddit.com/prefs/update/geopopular\" class=\"choice\" onclick=\"$(this).parent().submit(); return false;\" >Missouri</a></form><form method=\"POST\" action=\"https://www.reddit.com/prefs/update/geopopular\"><input type=\"hidden\" name=\"geo_filter\" value=\"US_MS\"><a href=\"https://www.reddit.com/prefs/update/geopopular\" class=\"choice\" onclick=\"$(this).parent().submit(); return false;\" >Mississippi</a></form><form method=\"POST\" action=\"https://www.reddit.com/prefs/update/geopopular\"><input type=\"hidden\" name=\"geo_filter\" value=\"US_MT\"><a href=\"https://www.reddit.com/prefs/update/geopopular\" class=\"choice\" onclick=\"$(this).parent().submit(); return false;\" >Montana</a></form><form method=\"POST\" action=\"https://www.reddit.com/prefs/update/geopopular\"><input type=\"hidden\" name=\"geo_filter\" value=\"US_NC\"><a href=\"https://www.reddit.com/prefs/update/geopopular\" class=\"choice\" onclick=\"$(this).parent().submit(); return false;\" >North Carolina</a></form><form method=\"POST\" action=\"https://www.reddit.com/prefs/update/geopopular\"><input type=\"hidden\" name=\"geo_filter\" value=\"US_ND\"><a href=\"https://www.reddit.com/prefs/update/geopopular\" class=\"choice\" onclick=\"$(this).parent().submit(); return false;\" >North Dakota</a></form><form method=\"POST\" action=\"https://www.reddit.com/prefs/update/geopopular\"><input type=\"hidden\" name=\"geo_filter\" value=\"US_NE\"><a href=\"https://www.reddit.com/prefs/update/geopopular\" class=\"choice\" onclick=\"$(this).parent().submit(); return false;\" >Nebraska</a></form><form method=\"POST\" action=\"https://www.reddit.com/prefs/update/geopopular\"><input type=\"hidden\" name=\"geo_filter\" value=\"US_NH\"><a href=\"https://www.reddit.com/prefs/update/geopopular\" class=\"choice\" onclick=\"$(this).parent().submit(); return false;\" >New Hampshire</a></form><form method=\"POST\" action=\"https://www.reddit.com/prefs/update/geopopular\"><input type=\"hidden\" name=\"geo_filter\" value=\"US_NJ\"><a href=\"https://www.reddit.com/prefs/update/geopopular\" class=\"choice\" onclick=\"$(this).parent().submit(); return false;\" >New Jersey</a></form><form method=\"POST\" action=\"https://www.reddit.com/prefs/update/geopopular\"><input type=\"hidden\" name=\"geo_filter\" value=\"US_NM\"><a href=\"https://www.reddit.com/prefs/update/geopopular\" class=\"choice\" onclick=\"$(this).parent().submit(); return false;\" >New Mexico</a></form><form method=\"POST\" action=\"https://www.reddit.com/prefs/update/geopopular\"><input type=\"hidden\" name=\"geo_filter\" value=\"US_NV\"><a href=\"https://www.reddit.com/prefs/update/geopopular\" class=\"choice\" onclick=\"$(this).parent().submit(); return false;\" >Nevada</a></form><form method=\"POST\" action=\"https://www.reddit.com/prefs/update/geopopular\"><input type=\"hidden\" name=\"geo_filter\" value=\"US_OH\"><a href=\"https://www.reddit.com/prefs/update/geopopular\" class=\"choice\" onclick=\"$(this).parent().submit(); return false;\" >Ohio</a></form><form method=\"POST\" action=\"https://www.reddit.com/prefs/update/geopopular\"><input type=\"hidden\" name=\"geo_filter\" value=\"US_OK\"><a href=\"https://www.reddit.com/prefs/update/geopopular\" class=\"choice\" onclick=\"$(this).parent().submit(); return false;\" >Oklahoma</a></form><form method=\"POST\" action=\"https://www.reddit.com/prefs/update/geopopular\"><input type=\"hidden\" name=\"geo_filter\" value=\"US_OR\"><a href=\"https://www.reddit.com/prefs/update/geopopular\" class=\"choice\" onclick=\"$(this).parent().submit(); return false;\" >Oregon</a></form><form method=\"POST\" action=\"https://www.reddit.com/prefs/update/geopopular\"><input type=\"hidden\" name=\"geo_filter\" value=\"US_PA\"><a href=\"https://www.reddit.com/prefs/update/geopopular\" class=\"choice\" onclick=\"$(this).parent().submit(); return false;\" >Pennsylvania</a></form><form method=\"POST\" action=\"https://www.reddit.com/prefs/update/geopopular\"><input type=\"hidden\" name=\"geo_filter\" value=\"US_RI\"><a href=\"https://www.reddit.com/prefs/update/geopopular\" class=\"choice\" onclick=\"$(this).parent().submit(); return false;\" >Rhode Island</a></form><form method=\"POST\" action=\"https://www.reddit.com/prefs/update/geopopular\"><input type=\"hidden\" name=\"geo_filter\" value=\"US_SC\"><a href=\"https://www.reddit.com/prefs/update/geopopular\" class=\"choice\" onclick=\"$(this).parent().submit(); return false;\" >South Carolina</a></form><form method=\"POST\" action=\"https://www.reddit.com/prefs/update/geopopular\"><input type=\"hidden\" name=\"geo_filter\" value=\"US_SD\"><a href=\"https://www.reddit.com/prefs/update/geopopular\" class=\"choice\" onclick=\"$(this).parent().submit(); return false;\" >South Dakota</a></form><form method=\"POST\" action=\"https://www.reddit.com/prefs/update/geopopular\"><input type=\"hidden\" name=\"geo_filter\" value=\"US_TN\"><a href=\"https://www.reddit.com/prefs/update/geopopular\" class=\"choice\" onclick=\"$(this).parent().submit(); return false;\" >Tennessee</a></form><form method=\"POST\" action=\"https://www.reddit.com/prefs/update/geopopular\"><input type=\"hidden\" name=\"geo_filter\" value=\"US_TX\"><a href=\"https://www.reddit.com/prefs/update/geopopular\" class=\"choice\" onclick=\"$(this).parent().submit(); return false;\" >Texas</a></form><form method=\"POST\" action=\"https://www.reddit.com/prefs/update/geopopular\"><input type=\"hidden\" name=\"geo_filter\" value=\"US_UT\"><a href=\"https://www.reddit.com/prefs/update/geopopular\" class=\"choice\" onclick=\"$(this).parent().submit(); return false;\" >Utah</a></form><form method=\"POST\" action=\"https://www.reddit.com/prefs/update/geopopular\"><input type=\"hidden\" name=\"geo_filter\" value=\"US_VA\"><a href=\"https://www.reddit.com/prefs/update/geopopular\" class=\"choice\" onclick=\"$(this).parent().submit(); return false;\" >Virginia</a></form><form method=\"POST\" action=\"https://www.reddit.com/prefs/update/geopopular\"><input type=\"hidden\" name=\"geo_filter\" value=\"US_VT\"><a href=\"https://www.reddit.com/prefs/update/geopopular\" class=\"choice\" onclick=\"$(this).parent().submit(); return false;\" >Vermont</a></form><form method=\"POST\" action=\"https://www.reddit.com/prefs/update/geopopular\"><input type=\"hidden\" name=\"geo_filter\" value=\"US_WA\"><a href=\"https://www.reddit.com/prefs/update/geopopular\" class=\"choice\" onclick=\"$(this).parent().submit(); return false;\" >Washington</a></form><form method=\"POST\" action=\"https://www.reddit.com/prefs/update/geopopular\"><input type=\"hidden\" name=\"geo_filter\" value=\"US_WI\"><a href=\"https://www.reddit.com/prefs/update/geopopular\" class=\"choice\" onclick=\"$(this).parent().submit(); return false;\" >Wisconsin</a></form><form method=\"POST\" action=\"https://www.reddit.com/prefs/update/geopopular\"><input type=\"hidden\" name=\"geo_filter\" value=\"US_WV\"><a href=\"https://www.reddit.com/prefs/update/geopopular\" class=\"choice\" onclick=\"$(this).parent().submit(); return false;\" >West Virginia</a></form><form method=\"POST\" action=\"https://www.reddit.com/prefs/update/geopopular\"><input type=\"hidden\" name=\"geo_filter\" value=\"US_WY\"><a href=\"https://www.reddit.com/prefs/update/geopopular\" class=\"choice\" onclick=\"$(this).parent().submit(); return false;\" >Wyoming</a></form></div></div></div><div class='spacer'><div id=\"siteTable_organic\" class=\"organic-listing loading\" ></div><script>r.spotlight.setup( [], 0.0, true, 1, \" reddit.com\", \"t3_881jkf,t3_881ym7,t3_881jar,t3_881m47,t3_881cmt,t3_8810iu,t3_8817lj,t3_881y6r,t3_882tqf,t3_8819ve,t3_880ux8,t3_880luj,t3_881pyp,t3_881cxv,t3_880psk,t3_8814uq,t3_882e38,t3_880sj5,t3_880sf1,t3_880qru,t3_880mgz,t3_8811mf,t3_8810i8,t3_880w8o,t3_880vrl\" )</script></div><div class='spacer'><div class=\"trending-subreddits\"><div class=\"rank-spacer\"></div><div class=\"midcol-spacer\"></div><div class=\"trending-subreddits-content\"><strong>trending subreddits</strong><ul><li><a href=\"/r/knolling/?utm_content=trending_sr_3&amp;utm_medium=trending_subreddits_bar&amp;utm_source=reddit&amp;utm_name=frontpage\" target=\"_blank\">r/knolling</a></li><li><a href=\"/r/tipofmytongue/?utm_content=trending_sr_4&amp;utm_medium=trending_subreddits_bar&amp;utm_source=reddit&amp;utm_name=frontpage\" target=\"_blank\">r/tipofmytongue</a></li><li><a href=\"/r/holdmyjuicebox/?utm_content=trending_sr_2&amp;utm_medium=trending_subreddits_bar&amp;utm_source=reddit&amp;utm_name=frontpage\" target=\"_blank\">r/holdmyjuicebox</a></li><li><a href=\"/r/likeus/?utm_content=trending_sr_5&amp;utm_medium=trending_subreddits_bar&amp;utm_source=reddit&amp;utm_name=frontpage\" target=\"_blank\">r/likeus</a></li><li><a href=\"/r/povertyfinance/?utm_content=trending_sr_1&amp;utm_medium=trending_subreddits_bar&amp;utm_source=reddit&amp;utm_name=frontpage\" target=\"_blank\">r/povertyfinance</a></li></ul><a href=\"/r/trendingsubreddits/comments/87yez1/trending_subreddits_for_20180329_rpovertyfinance/\" class=\"comments may-blank\">28 comments</a></div></div></div><div class='spacer'><style>body >.content .link .rank, .rank-spacer { width: 2.2ex } body >.content .link .midcol, .midcol-spacer { width: 6.1ex } .adsense-wrap { background-color: #eff7ff; font-size: 18px; padding-left: 8.3ex; padding-right: 5px; }</style><div id=\"siteTable\" class=\"sitetable linklisting\"><div class=\" thing id-t3_881jkf odd&#32; link \" id=\"thing_t3_881jkf\" onclick=\"click_thing(this)\" data-fullname=\"t3_881jkf\" data-type=\"link\" data-gildings=\"0\" data-whitelist-status=\"all_ads\" data-author=\"worldfusionwisdom\" data-author-fullname=\"t2_wdj7k71\" data-subreddit=\"todayilearned\" data-subreddit-prefixed=\"r/todayilearned\" data-subreddit-fullname=\"t5_2qqjc\" data-subreddit-type=\"public\" data-timestamp=\"1522332535000\" data-url=\"https://www.popsci.com/cias-bold-kidnapping-soviet-spacecraft\" data-permalink=\"/r/todayilearned/comments/881jkf/til_the_cia_once_kidnapped_a_soviet_spacecraft/\" data-domain=\"popsci.com\" data-rank=\"1\" data-comments-count=\"1285\" data-score=\"43142\" data-promoted=\"false\" data-nsfw=\"false\" data-spoiler=\"false\" data-num-crossposts=\"1\" data-context=\"listing\" ><p class=\"parent\"></p><span class=\"rank\">1</span><div class=\"midcol unvoted\" ><div class=\"arrow up login-required access-required\" data-event-action=\"upvote\" role=\"button\" aria-label=\"upvote\" tabindex=\"0\" ></div><div class=\"score dislikes\" title=\"43149\">43.1k</div><div class=\"score unvoted\" title=\"43150\">43.1k</div><div class=\"score likes\" title=\"43151\">43.2k</div><div class=\"arrow down login-required access-required\" data-event-action=\"downvote\" role=\"button\" aria-label=\"downvote\" tabindex=\"0\" ></div></div><a class=\"thumbnail invisible-when-pinned may-blank outbound\" data-event-action=\"thumbnail\" href=\"https://www.popsci.com/cias-bold-kidnapping-soviet-spacecraft\" data-href-url=\"https://www.popsci.com/cias-bold-kidnapping-soviet-spacecraft\" data-outbound-url=\"https://out.reddit.com/t3_881jkf?url=https%3A%2F%2Fwww.popsci.com%2Fcias-bold-kidnapping-soviet-spacecraft&amp;token=AQAApkK9WtlnhiJKr6OWCvpRuV-rzqkucgvAtdAD1geciLiZaTyj&amp;app_name=reddit.com\" data-outbound-expiration=\"1522352806000\" rel=\"\" ><img src=\"//b.thumbs.redditmedia.com/fQCf0Yqxu6FQCtkfmWDv1azjGn4x5JXXIEbGeD5xM5A.jpg\" width='70' height='36' alt=\"\"></a><div class=\"entry unvoted\"><div class=\"top-matter\"><p class=\"title\"><a class=\"title may-blank outbound\" data-event-action=\"title\" href=\"https://www.popsci.com/cias-bold-kidnapping-soviet-spacecraft\" tabindex=\"1\" data-href-url=\"https://www.popsci.com/cias-bold-kidnapping-soviet-spacecraft\" data-outbound-url=\"https://out.reddit.com/t3_881jkf?url=https%3A%2F%2Fwww.popsci.com%2Fcias-bold-kidnapping-soviet-spacecraft&amp;token=AQAApkK9WtlnhiJKr6OWCvpRuV-rzqkucgvAtdAD1geciLiZaTyj&amp;app_name=reddit.com\" data-outbound-expiration=\"1522352806000\" rel=\"\" >TIL the CIA once &quot;kidnapped&quot; a Soviet spacecraft overnight, took it apart, studied it, reassembled it, &amp; sent it back without the Soviets realizing.</a>&#32;<span class=\"domain\">(<a href=\"/domain/popsci.com/\">popsci.com</a>)</span></p><p class=\"tagline \">submitted&#32;<time title=\"Thu Mar 29 14:08:55 2018 UTC\" datetime=\"2018-03-29T14:08:55+00:00\" class=\"live-timestamp\">4 hours ago</time>&#32;by&#32;<a href=\"https://www.reddit.com/user/worldfusionwisdom\" class=\"author may-blank id-t2_wdj7k71\" >worldfusionwisdom</a><span class=\"userattrs\"></span>&#32;to&#32;<a href=\"https://www.reddit.com/r/todayilearned/\" class=\"subreddit hover may-blank\" >r/todayilearned</a></p><ul class=\"flat-list buttons\"><li class=\"first\"><a href=\"https://www.reddit.com/r/todayilearned/comments/881jkf/til_the_cia_once_kidnapped_a_soviet_spacecraft/\" data-inbound-url=\"/r/todayilearned/comments/881jkf/til_the_cia_once_kidnapped_a_soviet_spacecraft/?utm_content=comments&amp;utm_medium=best&amp;utm_source=reddit&amp;utm_name=frontpage\" data-href-url=\"/r/todayilearned/comments/881jkf/til_the_cia_once_kidnapped_a_soviet_spacecraft/\" data-event-action=\"comments\" class=\"bylink comments may-blank\" rel=\"nofollow\" >1285 comments</a></li><li class=\"share\"><a class=\"post-sharing-button\" href=\"javascript: void 0;\">share</a></li><li class=\"link-save-button save-button login-required\"><a href=\"#\">save</a></li><li><form action=\"/post/hide\" method=\"post\" class=\"state-button hide-button\"><input type=\"hidden\" name=\"executed\" value=\"hidden\" /><span><a href=\"javascript:void(0)\" class=\" \" data-event-action=\"hide\" onclick=\"change_state(this, 'hide', hide_thing);\">hide</a></span></form></li><li class=\"report-button login-required\"><a href=\"javascript:void(0)\" class=\"reportbtn access-required\" data-event-action=\"report\">report</a></li></ul><div class=\"reportform report-t3_881jkf\"></div></div></div><div class=\"child\" ></div><div class=\"clearleft\"></div></div><div class=\"clearleft\"></div><div class=\" thing id-t3_881ym7 even&#32; link \" id=\"thing_t3_881ym7\" onclick=\"click_thing(this)\" data-fullname=\"t3_881ym7\" data-type=\"link\" data-gildings=\"0\" data-whitelist-status=\"all_ads\" data-author=\"JeremysHairJourney\" data-author-fullname=\"t2_mg4ce\" data-subreddit=\"todayilearned\" data-subreddit-prefixed=\"r/todayilearned\" data-subreddit-fullname=\"t5_2qqjc\" data-subreddit-type=\"public\" data-timestamp=\"1522335689000\" data-url=\"https://www.upi.com/Undercover-Detroit-police-attempt-to-arrest-each-other-in-embarassing-drug-bust/8361510804710/\" data-permalink=\"/r/todayilearned/comments/881ym7/til_a_group_of_undercover_detroit_police_posing/\" data-domain=\"upi.com\" data-rank=\"2\" data-comments-count=\"658\" data-score=\"15782\" data-promoted=\"false\" data-nsfw=\"false\" data-spoiler=\"false\" data-num-crossposts=\"5\" data-context=\"listing\" ><p class=\"parent\"></p><span class=\"rank\">2</span><div class=\"midcol unvoted\" ><div class=\"arrow up login-required access-required\" data-event-action=\"upvote\" role=\"button\" aria-label=\"upvote\" tabindex=\"0\" ></div><div class=\"score dislikes\" title=\"15780\">15.8k</div><div class=\"score unvoted\" title=\"15781\">15.8k</div><div class=\"score likes\" title=\"15782\">15.8k</div><div class=\"arrow down login-required access-required\" data-event-action=\"downvote\" role=\"button\" aria-label=\"downvote\" tabindex=\"0\" ></div></div><a class=\"thumbnail invisible-when-pinned may-blank outbound\" data-event-action=\"thumbnail\" href=\"https://www.upi.com/Undercover-Detroit-police-attempt-to-arrest-each-other-in-embarassing-drug-bust/8361510804710/\" data-href-url=\"https://www.upi.com/Undercover-Detroit-police-attempt-to-arrest-each-other-in-embarassing-drug-bust/8361510804710/\" data-outbound-url=\"https://out.reddit.com/t3_881ym7?url=https%3A%2F%2Fwww.upi.com%2FUndercover-Detroit-police-attempt-to-arrest-each-other-in-embarassing-drug-bust%2F8361510804710%2F&amp;token=AQAApkK9WiOangxTPAi3nxSA6Ue9gEkaXKwWaTYbHHRFMZZ3F5Ka&amp;app_name=reddit.com\" data-outbound-expiration=\"1522352806000\" rel=\"\" ><img src=\"//b.thumbs.redditmedia.com/oRzrVjCJ73CiZkrwr1UQRuLWc4a1dk0V_wSyX9Aw2vA.jpg\" width='70' height='46' alt=\"\"></a><div class=\"entry unvoted\"><div class=\"top-matter\"><p class=\"title\"><a class=\"title may-blank outbound\" data-event-action=\"title\" href=\"https://www.upi.com/Undercover-Detroit-police-attempt-to-arrest-each-other-in-embarassing-drug-bust/8361510804710/\" tabindex=\"1\" data-href-url=\"https://www.upi.com/Undercover-Detroit-police-attempt-to-arrest-each-other-in-embarassing-drug-bust/8361510804710/\" data-outbound-url=\"https://out.reddit.com/t3_881ym7?url=https%3A%2F%2Fwww.upi.com%2FUndercover-Detroit-police-attempt-to-arrest-each-other-in-embarassing-drug-bust%2F8361510804710%2F&amp;token=AQAApkK9WiOangxTPAi3nxSA6Ue9gEkaXKwWaTYbHHRFMZZ3F5Ka&amp;app_name=reddit.com\" data-outbound-expiration=\"1522352806000\" rel=\"\" >TIL a group of undercover Detroit police posing as drug dealers tried to arrest another group of undercover police posing as drug buyers.</a>&#32;<span class=\"domain\">(<a href=\"/domain/upi.com/\">upi.com</a>)</span></p><p class=\"tagline \">submitted&#32;<time title=\"Thu Mar 29 15:01:29 2018 UTC\" datetime=\"2018-03-29T15:01:29+00:00\" class=\"live-timestamp\">3 hours ago</time>&#32;by&#32;<a href=\"https://www.reddit.com/user/JeremysHairJourney\" class=\"author may-blank id-t2_mg4ce\" >JeremysHairJourney</a><span class=\"userattrs\"></span>&#32;to&#32;<a href=\"https://www.reddit.com/r/todayilearned/\" class=\"subreddit hover may-blank\" >r/todayilearned</a></p><ul class=\"flat-list buttons\"><li class=\"first\"><a href=\"https://www.reddit.com/r/todayilearned/comments/881ym7/til_a_group_of_undercover_detroit_police_posing/\" data-inbound-url=\"/r/todayilearned/comments/881ym7/til_a_group_of_undercover_detroit_police_posing/?utm_content=comments&amp;utm_medium=best&amp;utm_source=reddit&amp;utm_name=frontpage\" data-href-url=\"/r/todayilearned/comments/881ym7/til_a_group_of_undercover_detroit_police_posing/\" data-event-action=\"comments\" class=\"bylink comments may-blank\" rel=\"nofollow\" >658 comments</a></li><li class=\"share\"><a class=\"post-sharing-button\" href=\"javascript: void 0;\">share</a></li><li class=\"link-save-button save-button login-required\"><a href=\"#\">save</a></li><li><form action=\"/post/hide\" method=\"post\" class=\"state-button hide-button\"><input type=\"hidden\" name=\"executed\" value=\"hidden\" /><span><a href=\"javascript:void(0)\" class=\" \" data-event-action=\"hide\" onclick=\"change_state(this, 'hide', hide_thing);\">hide</a></span></form></li><li class=\"report-button login-required\"><a href=\"javascript:void(0)\" class=\"reportbtn access-required\" data-event-action=\"report\">report</a></li></ul><div class=\"reportform report-t3_881ym7\"></div></div></div><div class=\"child\" ></div><div class=\"clearleft\"></div></div><div class=\"clearleft\"></div><div class=\" thing id-t3_881jar odd&#32; link \" id=\"thing_t3_881jar\" onclick=\"click_thing(this)\" data-fullname=\"t3_881jar\" data-type=\"link\" data-gildings=\"0\" data-whitelist-status=\"all_ads\" data-author=\"AWrig90\" data-author-fullname=\"t2_s67fx\" data-subreddit=\"aww\" data-subreddit-prefixed=\"r/aww\" data-subreddit-fullname=\"t5_2qh1o\" data-subreddit-type=\"public\" data-timestamp=\"1522332480000\" data-url=\"https://i.redd.it/9p5845ifmpo01.jpg\" data-permalink=\"/r/aww/comments/881jar/3_years_in_and_ive_finally_got_a_photo_that_does/\" data-domain=\"i.redd.it\" data-rank=\"3\" data-comments-count=\"331\" data-score=\"23326\" data-promoted=\"false\" data-nsfw=\"false\" data-spoiler=\"false\" data-num-crossposts=\"1\" data-context=\"listing\" ><p class=\"parent\"></p><span class=\"rank\">3</span><div class=\"midcol unvoted\" ><div class=\"arrow up login-required access-required\" data-event-action=\"upvote\" role=\"button\" aria-label=\"upvote\" tabindex=\"0\" ></div><div class=\"score dislikes\" title=\"37912\">37.9k</div><div class=\"score unvoted\" title=\"37913\">37.9k</div><div class=\"score likes\" title=\"37914\">37.9k</div><div class=\"arrow down login-required access-required\" data-event-action=\"downvote\" role=\"button\" aria-label=\"downvote\" tabindex=\"0\" ></div></div><a class=\"thumbnail invisible-when-pinned may-blank \" data-event-action=\"thumbnail\" href=\"/r/aww/comments/881jar/3_years_in_and_ive_finally_got_a_photo_that_does/\" data-href-url=\"/r/aww/comments/881jar/3_years_in_and_ive_finally_got_a_photo_that_does/\" data-inbound-url=\"/r/aww/comments/881jar/3_years_in_and_ive_finally_got_a_photo_that_does/?utm_content=thumbnail&amp;utm_medium=best&amp;utm_source=reddit&amp;utm_name=frontpage\" rel=\"\" ><img src=\"//b.thumbs.redditmedia.com/f7A-cvX9RruR65yPAnaPTS7hqI3ZiX3E3SY_FTSyKUw.jpg\" width='70' height='70' alt=\"\"></a><div class=\"entry unvoted\"><div class=\"top-matter\"><p class=\"title\"><a class=\"title may-blank \" data-event-action=\"title\" href=\"/r/aww/comments/881jar/3_years_in_and_ive_finally_got_a_photo_that_does/\" tabindex=\"1\" data-href-url=\"/r/aww/comments/881jar/3_years_in_and_ive_finally_got_a_photo_that_does/\" data-inbound-url=\"/r/aww/comments/881jar/3_years_in_and_ive_finally_got_a_photo_that_does/?utm_content=title&amp;utm_medium=best&amp;utm_source=reddit&amp;utm_name=frontpage\" rel=\"\" >3 years in and I've finally got a photo that does her justice!</a>&#32;<span class=\"domain\">(<a href=\"/domain/i.redd.it/\">i.redd.it</a>)</span></p><div class=\"expando-button collapsed hide-when-pinned video\"></div><p class=\"tagline \">submitted&#32;<time title=\"Thu Mar 29 14:08:00 2018 UTC\" datetime=\"2018-03-29T14:08:00+00:00\" class=\"live-timestamp\">3 hours ago</time>&#32;by&#32;<a href=\"https://www.reddit.com/user/AWrig90\" class=\"author may-blank id-t2_s67fx\" >AWrig90</a><span class=\"userattrs\"></span>&#32;to&#32;<a href=\"https://www.reddit.com/r/aww/\" class=\"subreddit hover may-blank\" >r/aww</a></p><ul class=\"flat-list buttons\"><li class=\"first\"><a href=\"https://www.reddit.com/r/aww/comments/881jar/3_years_in_and_ive_finally_got_a_photo_that_does/\" data-inbound-url=\"/r/aww/comments/881jar/3_years_in_and_ive_finally_got_a_photo_that_does/?utm_content=comments&amp;utm_medium=best&amp;utm_source=reddit&amp;utm_name=frontpage\" data-href-url=\"/r/aww/comments/881jar/3_years_in_and_ive_finally_got_a_photo_that_does/\" data-event-action=\"comments\" class=\"bylink comments may-blank\" rel=\"nofollow\" >463 comments</a></li><li class=\"share\"><a class=\"post-sharing-button\" href=\"javascript: void 0;\">share</a></li><li class=\"link-save-button save-button login-required\"><a href=\"#\">save</a></li><li><form action=\"/post/hide\" method=\"post\" class=\"state-button hide-button\"><input type=\"hidden\" name=\"executed\" value=\"hidden\" /><span><a href=\"javascript:void(0)\" class=\" \" data-event-action=\"hide\" onclick=\"change_state(this, 'hide', hide_thing);\">hide</a></span></form></li><li class=\"report-button login-required\"><a href=\"javascript:void(0)\" class=\"reportbtn access-required\" data-event-action=\"report\">report</a></li></ul><div class=\"reportform report-t3_881jar\"></div></div><div class=\"expando expando-uninitialized\" style='display: none' data-cachedhtml=\" &lt;div class=&quot;media-preview&quot; id=&quot;media-preview-881jar&quot; style=&quot;max-width: 630px&quot;&gt; &lt;div class=&quot;media-preview-content&quot;&gt; &lt;a href=&quot;https://i.redd.it/9p5845ifmpo01.jpg&quot; class=&quot;may-blank&quot;&gt; &lt;img class=&quot;preview&quot; src=&quot;https://i.redditmedia.com/Tld_wz33dNfzoEnRQzEAIPlTrG0iV-uzbgSzxvVdJck.jpg?w=630&amp;amp;s=8485a60ef4baf5fc952dec3767e3b53d&quot; width=&quot;630&quot; height=&quot;768&quot;&gt; &lt;/a&gt; &lt;/div&gt; &lt;/div&gt; \" data-pin-condition=\"function() {return this.style.display != 'none';}\" ><span class=\"error\">loading...</span></div></div><div class=\"child\" ></div><div class=\"clearleft\"></div></div><div class=\"clearleft\"></div><div class=\" thing id-t3_881m47 linkflair linkflair-netneutrality even&#32; link \" id=\"thing_t3_881m47\" onclick=\"click_thing(this)\" data-fullname=\"t3_881m47\" data-type=\"link\" data-gildings=\"0\" data-whitelist-status=\"all_ads\" data-author=\"jaykirsch\" data-author-fullname=\"t2_snpqs\" data-subreddit=\"technology\" data-subreddit-prefixed=\"r/technology\" data-subreddit-fullname=\"t5_2qh16\" data-subreddit-type=\"public\" data-timestamp=\"1522333078000\" data-url=\"http://thehill.com/policy/technology/380691-aclu-urges-cities-to-build-public-broadband-networks-to-protect-net\" data-permalink=\"/r/technology/comments/881m47/aclu_urges_cities_to_build_public_broadband_to/\" data-domain=\"thehill.com\" data-rank=\"4\" data-comments-count=\"217\" data-score=\"8339\" data-promoted=\"false\" data-nsfw=\"false\" data-spoiler=\"false\" data-num-crossposts=\"0\" data-context=\"listing\" ><p class=\"parent\"></p><span class=\"rank\">4</span><div class=\"midcol unvoted\" ><div class=\"arrow up login-required access-required\" data-event-action=\"upvote\" role=\"button\" aria-label=\"upvote\" tabindex=\"0\" ></div><div class=\"score dislikes\" title=\"8344\">8344</div><div class=\"score unvoted\" title=\"8345\">8345</div><div class=\"score likes\" title=\"8346\">8346</div><div class=\"arrow down login-required access-required\" data-event-action=\"downvote\" role=\"button\" aria-label=\"downvote\" tabindex=\"0\" ></div></div><a class=\"thumbnail invisible-when-pinned default may-blank outbound\" data-event-action=\"thumbnail\" href=\"http://thehill.com/policy/technology/380691-aclu-urges-cities-to-build-public-broadband-networks-to-protect-net\" data-href-url=\"http://thehill.com/policy/technology/380691-aclu-urges-cities-to-build-public-broadband-networks-to-protect-net\" data-outbound-url=\"https://out.reddit.com/t3_881m47?url=http%3A%2F%2Fthehill.com%2Fpolicy%2Ftechnology%2F380691-aclu-urges-cities-to-build-public-broadband-networks-to-protect-net&amp;token=AQAApkK9WifZ4LyDoqWIgSIKBV5bfvrtXyP9H4zTQMfZWgoDDabd&amp;app_name=reddit.com\" data-outbound-expiration=\"1522352806000\" rel=\"\" ></a><div class=\"entry unvoted\"><div class=\"top-matter\"><p class=\"title\"><a class=\"title may-blank outbound\" data-event-action=\"title\" href=\"http://thehill.com/policy/technology/380691-aclu-urges-cities-to-build-public-broadband-networks-to-protect-net\" tabindex=\"1\" data-href-url=\"http://thehill.com/policy/technology/380691-aclu-urges-cities-to-build-public-broadband-networks-to-protect-net\" data-outbound-url=\"https://out.reddit.com/t3_881m47?url=http%3A%2F%2Fthehill.com%2Fpolicy%2Ftechnology%2F380691-aclu-urges-cities-to-build-public-broadband-networks-to-protect-net&amp;token=AQAApkK9WifZ4LyDoqWIgSIKBV5bfvrtXyP9H4zTQMfZWgoDDabd&amp;app_name=reddit.com\" data-outbound-expiration=\"1522352806000\" rel=\"\" >ACLU urges cities to build public broadband to protect net neutrality</a><span class=\"linkflairlabel\" title=\"Net Neutrality\">Net Neutrality</span>&#32;<span class=\"domain\">(<a href=\"/domain/thehill.com/\">thehill.com</a>)</span></p><p class=\"tagline \">submitted&#32;<time title=\"Thu Mar 29 14:17:58 2018 UTC\" datetime=\"2018-03-29T14:17:58+00:00\" class=\"live-timestamp\">4 hours ago</time>&#32;by&#32;<a href=\"https://www.reddit.com/user/jaykirsch\" class=\"author may-blank id-t2_snpqs\" >jaykirsch</a><span class=\"userattrs\"></span>&#32;to&#32;<a href=\"https://www.reddit.com/r/technology/\" class=\"subreddit hover may-blank\" >r/technology</a></p><ul class=\"flat-list buttons\"><li class=\"first\"><a href=\"https://www.reddit.com/r/technology/comments/881m47/aclu_urges_cities_to_build_public_broadband_to/\" data-inbound-url=\"/r/technology/comments/881m47/aclu_urges_cities_to_build_public_broadband_to/?utm_content=comments&amp;utm_medium=best&amp;utm_source=reddit&amp;utm_name=frontpage\" data-href-url=\"/r/technology/comments/881m47/aclu_urges_cities_to_build_public_broadband_to/\" data-event-action=\"comments\" class=\"bylink comments may-blank\" rel=\"nofollow\" >217 comments</a></li><li class=\"share\"><a class=\"post-sharing-button\" href=\"javascript: void 0;\">share</a></li><li class=\"link-save-button save-button login-required\"><a href=\"#\">save</a></li><li><form action=\"/post/hide\" method=\"post\" class=\"state-button hide-button\"><input type=\"hidden\" name=\"executed\" value=\"hidden\" /><span><a href=\"javascript:void(0)\" class=\" \" data-event-action=\"hide\" onclick=\"change_state(this, 'hide', hide_thing);\">hide</a></span></form></li><li class=\"report-button login-required\"><a href=\"javascript:void(0)\" class=\"reportbtn access-required\" data-event-action=\"report\">report</a></li></ul><div class=\"reportform report-t3_881m47\"></div></div></div><div class=\"child\" ></div><div class=\"clearleft\"></div></div><div class=\"clearleft\"></div><div class=\" thing id-t3_881cmt odd&#32; link \" id=\"thing_t3_881cmt\" onclick=\"click_thing(this)\" data-fullname=\"t3_881cmt\" data-type=\"link\" data-gildings=\"0\" data-whitelist-status=\"all_ads\" data-author=\"2DeadMoose\" data-author-fullname=\"t2_161i11\" data-subreddit=\"PoliticalHumor\" data-subreddit-prefixed=\"r/PoliticalHumor\" data-subreddit-fullname=\"t5_2qm21\" data-subreddit-type=\"public\" data-timestamp=\"1522330974000\" data-url=\"https://i.redd.it/u077ndlzhpo01.jpg\" data-permalink=\"/r/PoliticalHumor/comments/881cmt/this_level_of_hypocrisy_makes_my_insides_itchy/\" data-domain=\"i.redd.it\" data-rank=\"5\" data-comments-count=\"861\" data-score=\"15795\" data-promoted=\"false\" data-nsfw=\"false\" data-spoiler=\"false\" data-num-crossposts=\"1\" data-context=\"listing\" ><p class=\"parent\"></p><span class=\"rank\">5</span><div class=\"midcol unvoted\" ><div class=\"arrow up login-required access-required\" data-event-action=\"upvote\" role=\"button\" aria-label=\"upvote\" tabindex=\"0\" ></div><div class=\"score dislikes\" title=\"18652\">18.7k</div><div class=\"score unvoted\" title=\"18653\">18.7k</div><div class=\"score likes\" title=\"18654\">18.7k</div><div class=\"arrow down login-required access-required\" data-event-action=\"downvote\" role=\"button\" aria-label=\"downvote\" tabindex=\"0\" ></div></div><a class=\"thumbnail invisible-when-pinned may-blank \" data-event-action=\"thumbnail\" href=\"/r/PoliticalHumor/comments/881cmt/this_level_of_hypocrisy_makes_my_insides_itchy/\" data-href-url=\"/r/PoliticalHumor/comments/881cmt/this_level_of_hypocrisy_makes_my_insides_itchy/\" data-inbound-url=\"/r/PoliticalHumor/comments/881cmt/this_level_of_hypocrisy_makes_my_insides_itchy/?utm_content=thumbnail&amp;utm_medium=best&amp;utm_source=reddit&amp;utm_name=frontpage\" rel=\"\" ><img src=\"//b.thumbs.redditmedia.com/bNaWTcBl1Pc0ATyUjYbMNoQZv_-W7AHuqx9wYKL8RZk.jpg\" width='70' height='39' alt=\"\"></a><div class=\"entry unvoted\"><div class=\"top-matter\"><p class=\"title\"><a class=\"title may-blank \" data-event-action=\"title\" href=\"/r/PoliticalHumor/comments/881cmt/this_level_of_hypocrisy_makes_my_insides_itchy/\" tabindex=\"1\" data-href-url=\"/r/PoliticalHumor/comments/881cmt/this_level_of_hypocrisy_makes_my_insides_itchy/\" data-inbound-url=\"/r/PoliticalHumor/comments/881cmt/this_level_of_hypocrisy_makes_my_insides_itchy/?utm_content=title&amp;utm_medium=best&amp;utm_source=reddit&amp;utm_name=frontpage\" rel=\"\" >This level of hypocrisy makes my insides itchy 😐</a>&#32;<span class=\"domain\">(<a href=\"/domain/i.redd.it/\">i.redd.it</a>)</span></p><div class=\"expando-button collapsed hide-when-pinned video\"></div><p class=\"tagline \">submitted&#32;<time title=\"Thu Mar 29 13:42:54 2018 UTC\" datetime=\"2018-03-29T13:42:54+00:00\" class=\"live-timestamp\">4 hours ago</time>&#32;by&#32;<a href=\"https://www.reddit.com/user/2DeadMoose\" class=\"author may-blank id-t2_161i11\" >2DeadMoose</a><span class=\"userattrs\"></span>&#32;to&#32;<a href=\"https://www.reddit.com/r/PoliticalHumor/\" class=\"subreddit hover may-blank\" >r/PoliticalHumor</a></p><ul class=\"flat-list buttons\"><li class=\"first\"><a href=\"https://www.reddit.com/r/PoliticalHumor/comments/881cmt/this_level_of_hypocrisy_makes_my_insides_itchy/\" data-inbound-url=\"/r/PoliticalHumor/comments/881cmt/this_level_of_hypocrisy_makes_my_insides_itchy/?utm_content=comments&amp;utm_medium=best&amp;utm_source=reddit&amp;utm_name=frontpage\" data-href-url=\"/r/PoliticalHumor/comments/881cmt/this_level_of_hypocrisy_makes_my_insides_itchy/\" data-event-action=\"comments\" class=\"bylink comments may-blank\" rel=\"nofollow\" >1058 comments</a></li><li class=\"share\"><a class=\"post-sharing-button\" href=\"javascript: void 0;\">share</a></li><li class=\"link-save-button save-button login-required\"><a href=\"#\">save</a></li><li><form action=\"/post/hide\" method=\"post\" class=\"state-button hide-button\"><input type=\"hidden\" name=\"executed\" value=\"hidden\" /><span><a href=\"javascript:void(0)\" class=\" \" data-event-action=\"hide\" onclick=\"change_state(this, 'hide', hide_thing);\">hide</a></span></form></li><li class=\"report-button login-required\"><a href=\"javascript:void(0)\" class=\"reportbtn access-required\" data-event-action=\"report\">report</a></li></ul><div class=\"reportform report-t3_881cmt\"></div></div><div class=\"expando expando-uninitialized\" style='display: none' data-cachedhtml=\" &lt;div class=&quot;media-preview&quot; id=&quot;media-preview-881cmt&quot; style=&quot;max-width: 698px&quot;&gt; &lt;div class=&quot;media-preview-content&quot;&gt; &lt;a href=&quot;https://i.redd.it/u077ndlzhpo01.jpg&quot; class=&quot;may-blank&quot;&gt; &lt;img class=&quot;preview&quot; src=&quot;https://i.redditmedia.com/LNswbzvjtSj09qm_2bPK5VtKSkl0PkRs1lC0fJzfIiA.jpg?w=698&amp;amp;s=97518f7773850596bab2bed431e57cc0&quot; width=&quot;698&quot; height=&quot;389&quot;&gt; &lt;/a&gt; &lt;/div&gt; &lt;/div&gt; \" data-pin-condition=\"function() {return this.style.display != 'none';}\" ><span class=\"error\">loading...</span></div></div><div class=\"child\" ></div><div class=\"clearleft\"></div></div><div class=\"clearleft\"></div><div class=\" thing id-t3_8810iu even&#32; link \" id=\"thing_t3_8810iu\" onclick=\"click_thing(this)\" data-fullname=\"t3_8810iu\" data-type=\"link\" data-gildings=\"0\" data-whitelist-status=\"all_ads\" data-author=\"BeerSmoker228\" data-author-fullname=\"t2_xomz2lb\" data-subreddit=\"BikiniBottomTwitter\" data-subreddit-prefixed=\"r/BikiniBottomTwitter\" data-subreddit-fullname=\"t5_3deqz\" data-subreddit-type=\"public\" data-timestamp=\"1522328024000\" data-url=\"https://i.redd.it/2q82r0ca9po01.jpg\" data-permalink=\"/r/BikiniBottomTwitter/comments/8810iu/indergardeners/\" data-domain=\"i.redd.it\" data-rank=\"6\" data-comments-count=\"231\" data-score=\"25855\" data-promoted=\"false\" data-nsfw=\"false\" data-spoiler=\"false\" data-num-crossposts=\"2\" data-context=\"listing\" ><p class=\"parent\"></p><span class=\"rank\">6</span><div class=\"midcol unvoted\" ><div class=\"arrow up login-required access-required\" data-event-action=\"upvote\" role=\"button\" aria-label=\"upvote\" tabindex=\"0\" ></div><div class=\"score dislikes\" title=\"27173\">27.2k</div><div class=\"score unvoted\" title=\"27174\">27.2k</div><div class=\"score likes\" title=\"27175\">27.2k</div><div class=\"arrow down login-required access-required\" data-event-action=\"downvote\" role=\"button\" aria-label=\"downvote\" tabindex=\"0\" ></div></div><a class=\"thumbnail invisible-when-pinned may-blank \" data-event-action=\"thumbnail\" href=\"/r/BikiniBottomTwitter/comments/8810iu/indergardeners/\" data-href-url=\"/r/BikiniBottomTwitter/comments/8810iu/indergardeners/\" data-inbound-url=\"/r/BikiniBottomTwitter/comments/8810iu/indergardeners/?utm_content=thumbnail&amp;utm_medium=best&amp;utm_source=reddit&amp;utm_name=frontpage\" rel=\"\" ><img src=\"//a.thumbs.redditmedia.com/C4uuymm29Gwde-7qnu-YPfAro7t15O-QZWuXCtnZGx8.jpg\" width='70' height='69' alt=\"\"></a><div class=\"entry unvoted\"><div class=\"top-matter\"><p class=\"title\"><a class=\"title may-blank \" data-event-action=\"title\" href=\"/r/BikiniBottomTwitter/comments/8810iu/indergardeners/\" tabindex=\"1\" data-href-url=\"/r/BikiniBottomTwitter/comments/8810iu/indergardeners/\" data-inbound-url=\"/r/BikiniBottomTwitter/comments/8810iu/indergardeners/?utm_content=title&amp;utm_medium=best&amp;utm_source=reddit&amp;utm_name=frontpage\" rel=\"\" >🅱️indergardeners</a>&#32;<span class=\"domain\">(<a href=\"/domain/i.redd.it/\">i.redd.it</a>)</span></p><div class=\"expando-button collapsed hide-when-pinned video\"></div><p class=\"tagline \">submitted&#32;<time title=\"Thu Mar 29 12:53:44 2018 UTC\" datetime=\"2018-03-29T12:53:44+00:00\" class=\"live-timestamp\">5 hours ago</time>&#32;by&#32;<a href=\"https://www.reddit.com/user/BeerSmoker228\" class=\"author may-blank id-t2_xomz2lb\" >BeerSmoker228</a><span class=\"userattrs\"></span>&#32;to&#32;<a href=\"https://www.reddit.com/r/BikiniBottomTwitter/\" class=\"subreddit hover may-blank\" >r/BikiniBottomTwitter</a></p><ul class=\"flat-list buttons\"><li class=\"first\"><a href=\"https://www.reddit.com/r/BikiniBottomTwitter/comments/8810iu/indergardeners/\" data-inbound-url=\"/r/BikiniBottomTwitter/comments/8810iu/indergardeners/?utm_content=comments&amp;utm_medium=best&amp;utm_source=reddit&amp;utm_name=frontpage\" data-href-url=\"/r/BikiniBottomTwitter/comments/8810iu/indergardeners/\" data-event-action=\"comments\" class=\"bylink comments may-blank\" rel=\"nofollow\" >248 comments</a></li><li class=\"share\"><a class=\"post-sharing-button\" href=\"javascript: void 0;\">share</a></li><li class=\"link-save-button save-button login-required\"><a href=\"#\">save</a></li><li><form action=\"/post/hide\" method=\"post\" class=\"state-button hide-button\"><input type=\"hidden\" name=\"executed\" value=\"hidden\" /><span><a href=\"javascript:void(0)\" class=\" \" data-event-action=\"hide\" onclick=\"change_state(this, 'hide', hide_thing);\">hide</a></span></form></li><li class=\"report-button login-required\"><a href=\"javascript:void(0)\" class=\"reportbtn access-required\" data-event-action=\"report\">report</a></li></ul><div class=\"reportform report-t3_8810iu\"></div></div><div class=\"expando expando-uninitialized\" style='display: none' data-cachedhtml=\" &lt;div class=&quot;media-preview&quot; id=&quot;media-preview-8810iu&quot; style=&quot;max-width: 640px&quot;&gt; &lt;div class=&quot;media-preview-content&quot;&gt; &lt;a href=&quot;https://i.redd.it/2q82r0ca9po01.jpg&quot; class=&quot;may-blank&quot;&gt; &lt;img class=&quot;preview&quot; src=&quot;https://i.redditmedia.com/K4DGQ6g63-Qbx8NLkEwshP-p3lPYTVx9XGx5sgxjG5g.jpg?w=640&amp;amp;s=c549fdfef3d16f0a52a02b4a579b62e1&quot; width=&quot;640&quot; height=&quot;636&quot;&gt; &lt;/a&gt; &lt;/div&gt; &lt;/div&gt; \" data-pin-condition=\"function() {return this.style.display != 'none';}\" ><span class=\"error\">loading...</span></div></div><div class=\"child\" ></div><div class=\"clearleft\"></div></div><div class=\"clearleft\"></div><div class=\" thing id-t3_8817lj linkflair odd&#32; link \" id=\"thing_t3_8817lj\" onclick=\"click_thing(this)\" data-fullname=\"t3_8817lj\" data-type=\"link\" data-gildings=\"0\" data-whitelist-status=\"all_ads\" data-author=\"dickfromaccounting\" data-author-fullname=\"t2_x7yd6\" data-subreddit=\"Eyebleach\" data-subreddit-prefixed=\"r/Eyebleach\" data-subreddit-fullname=\"t5_2s427\" data-subreddit-type=\"public\" data-timestamp=\"1522329739000\" data-url=\"https://i.imgur.com/3qi1qs6.gifv\" data-permalink=\"/r/Eyebleach/comments/8817lj/but_you_said_you_love_me_the_most/\" data-domain=\"i.imgur.com\" data-rank=\"7\" data-comments-count=\"157\" data-score=\"21507\" data-promoted=\"false\" data-nsfw=\"false\" data-spoiler=\"false\" data-num-crossposts=\"3\" data-context=\"listing\" ><p class=\"parent\"></p><span class=\"rank\">7</span><div class=\"midcol unvoted\" ><div class=\"arrow up login-required access-required\" data-event-action=\"upvote\" role=\"button\" aria-label=\"upvote\" tabindex=\"0\" ></div><div class=\"score dislikes\" title=\"21516\">21.5k</div><div class=\"score unvoted\" title=\"21517\">21.5k</div><div class=\"score likes\" title=\"21518\">21.5k</div><div class=\"arrow down login-required access-required\" data-event-action=\"downvote\" role=\"button\" aria-label=\"downvote\" tabindex=\"0\" ></div></div><a class=\"thumbnail invisible-when-pinned may-blank outbound\" data-event-action=\"thumbnail\" href=\"https://i.imgur.com/3qi1qs6.gifv\" data-href-url=\"https://i.imgur.com/3qi1qs6.gifv\" data-outbound-url=\"https://out.reddit.com/t3_8817lj?url=https%3A%2F%2Fi.imgur.com%2F3qi1qs6.gifv&amp;token=AQAApkK9WtlJ74j6iDgF5b6FbpyLRCrS-4ONKW1XFkPxS-g8mSY0&amp;app_name=reddit.com\" data-outbound-expiration=\"1522352806000\" rel=\"\" ><img src=\"//a.thumbs.redditmedia.com/CBfPcrLlmHOesVv6IZrFVUd45AP0rdJbBXyng8kWj78.jpg\" width='70' height='70' alt=\"\"></a><div class=\"entry unvoted\"><div class=\"top-matter\"><p class=\"title\"><a class=\"title may-blank outbound\" data-event-action=\"title\" href=\"https://i.imgur.com/3qi1qs6.gifv\" tabindex=\"1\" data-href-url=\"https://i.imgur.com/3qi1qs6.gifv\" data-outbound-url=\"https://out.reddit.com/t3_8817lj?url=https%3A%2F%2Fi.imgur.com%2F3qi1qs6.gifv&amp;token=AQAApkK9WtlJ74j6iDgF5b6FbpyLRCrS-4ONKW1XFkPxS-g8mSY0&amp;app_name=reddit.com\" data-outbound-expiration=\"1522352806000\" rel=\"\" >But you said you love me the most</a><span class=\"linkflairlabel\" title=\"/r/all\">/r/all</span>&#32;<span class=\"domain\">(<a href=\"/domain/i.imgur.com/\">i.imgur.com</a>)</span></p><p class=\"tagline \">submitted&#32;<time title=\"Thu Mar 29 13:22:19 2018 UTC\" datetime=\"2018-03-29T13:22:19+00:00\" class=\"live-timestamp\">5 hours ago</time>&#32;by&#32;<a href=\"https://www.reddit.com/user/dickfromaccounting\" class=\"author may-blank id-t2_x7yd6\" >dickfromaccounting</a><span class=\"userattrs\"></span>&#32;to&#32;<a href=\"https://www.reddit.com/r/Eyebleach/\" class=\"subreddit hover may-blank\" >r/Eyebleach</a></p><ul class=\"flat-list buttons\"><li class=\"first\"><a href=\"https://www.reddit.com/r/Eyebleach/comments/8817lj/but_you_said_you_love_me_the_most/\" data-inbound-url=\"/r/Eyebleach/comments/8817lj/but_you_said_you_love_me_the_most/?utm_content=comments&amp;utm_medium=best&amp;utm_source=reddit&amp;utm_name=frontpage\" data-href-url=\"/r/Eyebleach/comments/8817lj/but_you_said_you_love_me_the_most/\" data-event-action=\"comments\" class=\"bylink comments may-blank\" rel=\"nofollow\" >157 comments</a></li><li class=\"share\"><a class=\"post-sharing-button\" href=\"javascript: void 0;\">share</a></li><li class=\"link-save-button save-button login-required\"><a href=\"#\">save</a></li><li><form action=\"/post/hide\" method=\"post\" class=\"state-button hide-button\"><input type=\"hidden\" name=\"executed\" value=\"hidden\" /><span><a href=\"javascript:void(0)\" class=\" \" data-event-action=\"hide\" onclick=\"change_state(this, 'hide', hide_thing);\">hide</a></span></form></li><li class=\"report-button login-required\"><a href=\"javascript:void(0)\" class=\"reportbtn access-required\" data-event-action=\"report\">report</a></li></ul><div class=\"reportform report-t3_8817lj\"></div></div></div><div class=\"child\" ></div><div class=\"clearleft\"></div></div><div class=\"clearleft\"></div><div class=\" thing id-t3_881y6r linkflair linkflair-spoiler even&#32; link \" id=\"thing_t3_881y6r\" onclick=\"click_thing(this)\" data-fullname=\"t3_881y6r\" data-type=\"link\" data-gildings=\"0\" data-whitelist-status=\"all_ads\" data-author=\"impeccabletim\" data-author-fullname=\"t2_ni0nr\" data-subreddit=\"television\" data-subreddit-prefixed=\"r/television\" data-subreddit-fullname=\"t5_2qh6e\" data-subreddit-type=\"public\" data-timestamp=\"1522335602000\" data-url=\"https://www.youtube.com/watch?v=sjVqDg32_8s\" data-permalink=\"/r/television/comments/881y6r/westworld_season_2_official_trailer/\" data-domain=\"youtube.com\" data-rank=\"8\" data-comments-count=\"700\" data-score=\"6499\" data-promoted=\"false\" data-nsfw=\"false\" data-spoiler=\"false\" data-num-crossposts=\"1\" data-context=\"listing\" ><p class=\"parent\"></p><span class=\"rank\">8</span><div class=\"midcol unvoted\" ><div class=\"arrow up login-required access-required\" data-event-action=\"upvote\" role=\"button\" aria-label=\"upvote\" tabindex=\"0\" ></div><div class=\"score dislikes\" title=\"6490\">6490</div><div class=\"score unvoted\" title=\"6491\">6491</div><div class=\"score likes\" title=\"6492\">6492</div><div class=\"arrow down login-required access-required\" data-event-action=\"downvote\" role=\"button\" aria-label=\"downvote\" tabindex=\"0\" ></div></div><a class=\"thumbnail invisible-when-pinned may-blank outbound\" data-event-action=\"thumbnail\" href=\"https://www.youtube.com/watch?v=sjVqDg32_8s\" data-href-url=\"https://www.youtube.com/watch?v=sjVqDg32_8s\" data-outbound-url=\"https://out.reddit.com/t3_881y6r?url=https%3A%2F%2Fwww.youtube.com%2Fwatch%3Fv%3DsjVqDg32_8s&amp;token=AQAApkK9WpIDOnzBz4fnnnQBBfQSaRFdjFaoVpH-rL8h-SX03aXH&amp;app_name=reddit.com\" data-outbound-expiration=\"1522352806000\" rel=\"\" ><img src=\"//b.thumbs.redditmedia.com/owl_-Y0IyomDgH5qm6Si39Pe1hbfsl3kHfOMfxAbbuw.jpg\" width='70' height='52' alt=\"\"></a><div class=\"entry unvoted\"><div class=\"top-matter\"><p class=\"title\"><a class=\"title may-blank outbound\" data-event-action=\"title\" href=\"https://www.youtube.com/watch?v=sjVqDg32_8s\" tabindex=\"1\" data-href-url=\"https://www.youtube.com/watch?v=sjVqDg32_8s\" data-outbound-url=\"https://out.reddit.com/t3_881y6r?url=https%3A%2F%2Fwww.youtube.com%2Fwatch%3Fv%3DsjVqDg32_8s&amp;token=AQAApkK9WpIDOnzBz4fnnnQBBfQSaRFdjFaoVpH-rL8h-SX03aXH&amp;app_name=reddit.com\" data-outbound-expiration=\"1522352806000\" rel=\"\" >'Westworld' Season 2 Official Trailer</a><span class=\"linkflairlabel\" title=\"/r/all\">/r/all</span>&#32;<span class=\"domain\">(<a href=\"/domain/youtube.com/\">youtube.com</a>)</span></p><div class=\"expando-button collapsed hide-when-pinned video\"></div><p class=\"tagline \">submitted&#32;<time title=\"Thu Mar 29 15:00:02 2018 UTC\" datetime=\"2018-03-29T15:00:02+00:00\" class=\"live-timestamp\">3 hours ago</time>&#32;by&#32;<a href=\"https://www.reddit.com/user/impeccabletim\" class=\"author may-blank id-t2_ni0nr\" >impeccabletim</a><span class=\"userattrs\"></span>&#32;to&#32;<a href=\"https://www.reddit.com/r/television/\" class=\"subreddit hover may-blank\" >r/television</a></p><ul class=\"flat-list buttons\"><li class=\"first\"><a href=\"https://www.reddit.com/r/television/comments/881y6r/westworld_season_2_official_trailer/\" data-inbound-url=\"/r/television/comments/881y6r/westworld_season_2_official_trailer/?utm_content=comments&amp;utm_medium=best&amp;utm_source=reddit&amp;utm_name=frontpage\" data-href-url=\"/r/television/comments/881y6r/westworld_season_2_official_trailer/\" data-event-action=\"comments\" class=\"bylink comments may-blank\" rel=\"nofollow\" >700 comments</a></li><li class=\"share\"><a class=\"post-sharing-button\" href=\"javascript: void 0;\">share</a></li><li class=\"link-save-button save-button login-required\"><a href=\"#\">save</a></li><li><form action=\"/post/hide\" method=\"post\" class=\"state-button hide-button\"><input type=\"hidden\" name=\"executed\" value=\"hidden\" /><span><a href=\"javascript:void(0)\" class=\" \" data-event-action=\"hide\" onclick=\"change_state(this, 'hide', hide_thing);\">hide</a></span></form></li><li class=\"report-button login-required\"><a href=\"javascript:void(0)\" class=\"reportbtn access-required\" data-event-action=\"report\">report</a></li></ul><div class=\"reportform report-t3_881y6r\"></div></div><div class=\"expando expando-uninitialized\" style='display: none' data-cachedhtml=\" &lt;iframe src=&quot;//www.redditmedia.com/mediaembed/881y6r&quot; id=&quot;media-embed-881y6r-80j&quot; class=&quot;media-embed&quot; width=&quot;610&quot; height=&quot;348&quot; border=&quot;0&quot; frameBorder=&quot;0&quot; scrolling=&quot;no&quot; allowfullscreen&gt;&lt;/iframe&gt; \" data-pin-condition=\"function() {return this.style.display != 'none';}\" ><span class=\"error\">loading...</span></div></div><div class=\"child\" ></div><div class=\"clearleft\"></div></div><div class=\"clearleft\"></div><div class=\" thing id-t3_882tqf linkflair linkflair-vid odd&#32; link \" id=\"thing_t3_882tqf\" onclick=\"click_thing(this)\" data-fullname=\"t3_882tqf\" data-type=\"link\" data-gildings=\"0\" data-whitelist-status=\"all_ads\" data-author=\"aclee_\" data-author-fullname=\"t2_i7b5e\" data-subreddit=\"baseball\" data-subreddit-prefixed=\"r/baseball\" data-subreddit-fullname=\"t5_2qm7u\" data-subreddit-type=\"public\" data-timestamp=\"1522341998000\" data-url=\"https://streamable.com/16vn8\" data-permalink=\"/r/baseball/comments/882tqf/ian_happ_hits_a_home_run_on_the_first_pitch_of/\" data-domain=\"streamable.com\" data-rank=\"9\" data-comments-count=\"448\" data-score=\"2706\" data-promoted=\"false\" data-nsfw=\"false\" data-spoiler=\"false\" data-num-crossposts=\"0\" data-context=\"listing\" ><p class=\"parent\"></p><span class=\"rank\">9</span><div class=\"midcol unvoted\" ><div class=\"arrow up login-required access-required\" data-event-action=\"upvote\" role=\"button\" aria-label=\"upvote\" tabindex=\"0\" ></div><div class=\"score dislikes\" title=\"2707\">2707</div><div class=\"score unvoted\" title=\"2708\">2708</div><div class=\"score likes\" title=\"2709\">2709</div><div class=\"arrow down login-required access-required\" data-event-action=\"downvote\" role=\"button\" aria-label=\"downvote\" tabindex=\"0\" ></div></div><a class=\"thumbnail invisible-when-pinned default may-blank outbound\" data-event-action=\"thumbnail\" href=\"https://streamable.com/16vn8\" data-href-url=\"https://streamable.com/16vn8\" data-outbound-url=\"https://out.reddit.com/t3_882tqf?url=https%3A%2F%2Fstreamable.com%2F16vn8&amp;token=AQAApkK9Wi0bTy-wyvqGXCLbpwjLKCvCLZgGmYh7QHMyCPC9zc_R&amp;app_name=reddit.com\" data-outbound-expiration=\"1522352806000\" rel=\"\" ></a><div class=\"entry unvoted\"><div class=\"top-matter\"><p class=\"title\"><a class=\"title may-blank outbound\" data-event-action=\"title\" href=\"https://streamable.com/16vn8\" tabindex=\"1\" data-href-url=\"https://streamable.com/16vn8\" data-outbound-url=\"https://out.reddit.com/t3_882tqf?url=https%3A%2F%2Fstreamable.com%2F16vn8&amp;token=AQAApkK9Wi0bTy-wyvqGXCLbpwjLKCvCLZgGmYh7QHMyCPC9zc_R&amp;app_name=reddit.com\" data-outbound-expiration=\"1522352806000\" rel=\"\" >Ian Happ hits a home run on the first pitch of the 2018 season</a><span class=\"linkflairlabel\" title=\"Video\">Video</span>&#32;<span class=\"domain\">(<a href=\"/domain/streamable.com/\">streamable.com</a>)</span></p><p class=\"tagline \">submitted&#32;<time title=\"Thu Mar 29 16:46:38 2018 UTC\" datetime=\"2018-03-29T16:46:38+00:00\" class=\"live-timestamp\">2 hours ago</time>&#32;by&#32;<a href=\"https://www.reddit.com/user/aclee_\" class=\"author may-blank id-t2_i7b5e\" >aclee_</a><span class=\"userattrs\"></span>&#32;to&#32;<a href=\"https://www.reddit.com/r/baseball/\" class=\"subreddit hover may-blank\" >r/baseball</a></p><ul class=\"flat-list buttons\"><li class=\"first\"><a href=\"https://www.reddit.com/r/baseball/comments/882tqf/ian_happ_hits_a_home_run_on_the_first_pitch_of/\" data-inbound-url=\"/r/baseball/comments/882tqf/ian_happ_hits_a_home_run_on_the_first_pitch_of/?utm_content=comments&amp;utm_medium=best&amp;utm_source=reddit&amp;utm_name=frontpage\" data-href-url=\"/r/baseball/comments/882tqf/ian_happ_hits_a_home_run_on_the_first_pitch_of/\" data-event-action=\"comments\" class=\"bylink comments may-blank\" rel=\"nofollow\" >448 comments</a></li><li class=\"share\"><a class=\"post-sharing-button\" href=\"javascript: void 0;\">share</a></li><li class=\"link-save-button save-button login-required\"><a href=\"#\">save</a></li><li><form action=\"/post/hide\" method=\"post\" class=\"state-button hide-button\"><input type=\"hidden\" name=\"executed\" value=\"hidden\" /><span><a href=\"javascript:void(0)\" class=\" \" data-event-action=\"hide\" onclick=\"change_state(this, 'hide', hide_thing);\">hide</a></span></form></li><li class=\"report-button login-required\"><a href=\"javascript:void(0)\" class=\"reportbtn access-required\" data-event-action=\"report\">report</a></li></ul><div class=\"reportform report-t3_882tqf\"></div></div></div><div class=\"child\" ></div><div class=\"clearleft\"></div></div><div class=\"clearleft\"></div><div class=\" thing id-t3_8819ve linkflair linkflair-2 even&#32; link \" id=\"thing_t3_8819ve\" onclick=\"click_thing(this)\" data-fullname=\"t3_8819ve\" data-type=\"link\" data-gildings=\"0\" data-whitelist-status=\"all_ads\" data-author=\"bolverkin\" data-author-fullname=\"t2_v045tk1\" data-subreddit=\"reactiongifs\" data-subreddit-prefixed=\"r/reactiongifs\" data-subreddit-fullname=\"t5_2t5y3\" data-subreddit-type=\"public\" data-timestamp=\"1522330296000\" data-url=\"https://i.imgur.com/0LLxoUq.gifv\" data-permalink=\"/r/reactiongifs/comments/8819ve/mrw_someone_asks_if_i_like_old_kung_fu_movies/\" data-domain=\"i.imgur.com\" data-rank=\"10\" data-comments-count=\"351\" data-score=\"20334\" data-promoted=\"false\" data-nsfw=\"false\" data-spoiler=\"false\" data-num-crossposts=\"1\" data-context=\"listing\" ><p class=\"parent\"></p><span class=\"rank\">10</span><div class=\"midcol unvoted\" ><div class=\"arrow up login-required access-required\" data-event-action=\"upvote\" role=\"button\" aria-label=\"upvote\" tabindex=\"0\" ></div><div class=\"score dislikes\" title=\"20336\">20.3k</div><div class=\"score unvoted\" title=\"20337\">20.3k</div><div class=\"score likes\" title=\"20338\">20.3k</div><div class=\"arrow down login-required access-required\" data-event-action=\"downvote\" role=\"button\" aria-label=\"downvote\" tabindex=\"0\" ></div></div><a class=\"thumbnail invisible-when-pinned may-blank outbound\" data-event-action=\"thumbnail\" href=\"https://i.imgur.com/0LLxoUq.gifv\" data-href-url=\"https://i.imgur.com/0LLxoUq.gifv\" data-outbound-url=\"https://out.reddit.com/t3_8819ve?url=https%3A%2F%2Fi.imgur.com%2F0LLxoUq.gifv&amp;token=AQAApkK9Wsz_b_GonHqroIx1vdtRFsmtDCHfHl71AOXZZFhaQDIw&amp;app_name=reddit.com\" data-outbound-expiration=\"1522352806000\" rel=\"\" ><img src=\"//a.thumbs.redditmedia.com/8X-jnTqwjVNgJU3yF3XmGOQQCG6NlnQ9n3rN-JAkP_8.jpg\" width='70' height='39' alt=\"\"></a><div class=\"entry unvoted\"><div class=\"top-matter\"><p class=\"title\"><a class=\"title may-blank outbound\" data-event-action=\"title\" href=\"https://i.imgur.com/0LLxoUq.gifv\" tabindex=\"1\" data-href-url=\"https://i.imgur.com/0LLxoUq.gifv\" data-outbound-url=\"https://out.reddit.com/t3_8819ve?url=https%3A%2F%2Fi.imgur.com%2F0LLxoUq.gifv&amp;token=AQAApkK9Wsz_b_GonHqroIx1vdtRFsmtDCHfHl71AOXZZFhaQDIw&amp;app_name=reddit.com\" data-outbound-expiration=\"1522352806000\" rel=\"\" >MRW someone asks if I like old Kung Fu movies</a><span class=\"linkflairlabel\" title=\"/r/all\">/r/all</span>&#32;<span class=\"domain\">(<a href=\"/domain/i.imgur.com/\">i.imgur.com</a>)</span></p><div class=\"expando-button collapsed hide-when-pinned video\"></div><p class=\"tagline \">submitted&#32;<time title=\"Thu Mar 29 13:31:36 2018 UTC\" datetime=\"2018-03-29T13:31:36+00:00\" class=\"live-timestamp\">5 hours ago</time>&#32;by&#32;<a href=\"https://www.reddit.com/user/bolverkin\" class=\"author may-blank id-t2_v045tk1\" >bolverkin</a><span class=\"userattrs\"></span>&#32;to&#32;<a href=\"https://www.reddit.com/r/reactiongifs/\" class=\"subreddit hover may-blank\" >r/reactiongifs</a></p><ul class=\"flat-list buttons\"><li class=\"first\"><a href=\"https://www.reddit.com/r/reactiongifs/comments/8819ve/mrw_someone_asks_if_i_like_old_kung_fu_movies/\" data-inbound-url=\"/r/reactiongifs/comments/8819ve/mrw_someone_asks_if_i_like_old_kung_fu_movies/?utm_content=comments&amp;utm_medium=best&amp;utm_source=reddit&amp;utm_name=frontpage\" data-href-url=\"/r/reactiongifs/comments/8819ve/mrw_someone_asks_if_i_like_old_kung_fu_movies/\" data-event-action=\"comments\" class=\"bylink comments may-blank\" rel=\"nofollow\" >351 comments</a></li><li class=\"share\"><a class=\"post-sharing-button\" href=\"javascript: void 0;\">share</a></li><li class=\"link-save-button save-button login-required\"><a href=\"#\">save</a></li><li><form action=\"/post/hide\" method=\"post\" class=\"state-button hide-button\"><input type=\"hidden\" name=\"executed\" value=\"hidden\" /><span><a href=\"javascript:void(0)\" class=\" \" data-event-action=\"hide\" onclick=\"change_state(this, 'hide', hide_thing);\">hide</a></span></form></li><li class=\"report-button login-required\"><a href=\"javascript:void(0)\" class=\"reportbtn access-required\" data-event-action=\"report\">report</a></li></ul><div class=\"reportform report-t3_8819ve\"></div></div><div class=\"expando expando-uninitialized\" style='display: none' data-cachedhtml=\" &lt;div class=&quot;media-preview&quot; id=&quot;media-preview-8819ve&quot; style=&quot;max-width: 537px&quot;&gt; &lt;div class=&quot;media-preview-content&quot;&gt; &lt;a href=&quot;https://i.imgur.com/0LLxoUq.gifv&quot; class=&quot;may-blank&quot;&gt; &lt;video class=&quot;preview&quot; preload=&quot;auto&quot; autoplay=&quot;autoplay&quot; muted=&quot;muted&quot; loop=&quot;loop&quot; webkit-playsinline=&quot;&quot; style=&quot;width: 537px; height: 300px;&quot;&gt; &lt;source src=&quot;https://g.redditmedia.com/cJF9mrzfsEkU-5dwoPPaZNWRI3B2fuqxDEy0flUlqW0.gif?w=537&amp;amp;fm=mp4&amp;amp;mp4-fragmented=false&amp;amp;s=c18dec24bb36cc2a11a8274e8c9705ea&quot; type=&quot;video/mp4&quot;&gt; &lt;/video&gt; &lt;/a&gt; &lt;/div&gt; &lt;/div&gt; \" data-pin-condition=\"function() {return this.style.display != 'none';}\" ><span class=\"error\">loading...</span></div></div><div class=\"child\" ></div><div class=\"clearleft\"></div></div><div class=\"clearleft\"></div><div class=\" thing id-t3_880ux8 odd&#32; link \" id=\"thing_t3_880ux8\" onclick=\"click_thing(this)\" data-fullname=\"t3_880ux8\" data-type=\"link\" data-gildings=\"0\" data-whitelist-status=\"all_ads\" data-author=\"dickfromaccounting\" data-author-fullname=\"t2_x7yd6\" data-subreddit=\"WhitePeopleTwitter\" data-subreddit-prefixed=\"r/WhitePeopleTwitter\" data-subreddit-fullname=\"t5_35n7t\" data-subreddit-type=\"public\" data-timestamp=\"1522326583000\" data-url=\"https://i.imgur.com/4M9T0nC.jpg\" data-permalink=\"/r/WhitePeopleTwitter/comments/880ux8/oh_man_this_hits_deep/\" data-domain=\"i.imgur.com\" data-rank=\"11\" data-comments-count=\"451\" data-score=\"28877\" data-promoted=\"false\" data-nsfw=\"false\" data-spoiler=\"false\" data-num-crossposts=\"2\" data-context=\"listing\" ><p class=\"parent\"></p><span class=\"rank\">11</span><div class=\"midcol unvoted\" ><div class=\"arrow up login-required access-required\" data-event-action=\"upvote\" role=\"button\" aria-label=\"upvote\" tabindex=\"0\" ></div><div class=\"score dislikes\" title=\"28876\">28.9k</div><div class=\"score unvoted\" title=\"28877\">28.9k</div><div class=\"score likes\" title=\"28878\">28.9k</div><div class=\"arrow down login-required access-required\" data-event-action=\"downvote\" role=\"button\" aria-label=\"downvote\" tabindex=\"0\" ></div></div><a class=\"thumbnail invisible-when-pinned may-blank outbound\" data-event-action=\"thumbnail\" href=\"https://i.imgur.com/4M9T0nC.jpg\" data-href-url=\"https://i.imgur.com/4M9T0nC.jpg\" data-outbound-url=\"https://out.reddit.com/t3_880ux8?url=https%3A%2F%2Fi.imgur.com%2F4M9T0nC.jpg&amp;token=AQAApkK9WjwvUsy66O0IaEvk7oUskZ_PLlDJSC4FWfxISLu0KkWn&amp;app_name=reddit.com\" data-outbound-expiration=\"1522352806000\" rel=\"\" ><img src=\"//b.thumbs.redditmedia.com/zLgH89TW38llDu51e7pd7_timstnvMo5oK1up8IOzYs.jpg\" width='70' height='45' alt=\"\"></a><div class=\"entry unvoted\"><div class=\"top-matter\"><p class=\"title\"><a class=\"title may-blank outbound\" data-event-action=\"title\" href=\"https://i.imgur.com/4M9T0nC.jpg\" tabindex=\"1\" data-href-url=\"https://i.imgur.com/4M9T0nC.jpg\" data-outbound-url=\"https://out.reddit.com/t3_880ux8?url=https%3A%2F%2Fi.imgur.com%2F4M9T0nC.jpg&amp;token=AQAApkK9WjwvUsy66O0IaEvk7oUskZ_PLlDJSC4FWfxISLu0KkWn&amp;app_name=reddit.com\" data-outbound-expiration=\"1522352806000\" rel=\"\" >Oh man, this hits deep</a>&#32;<span class=\"domain\">(<a href=\"/domain/i.imgur.com/\">i.imgur.com</a>)</span></p><div class=\"expando-button collapsed hide-when-pinned video\"></div><p class=\"tagline \">submitted&#32;<time title=\"Thu Mar 29 12:29:43 2018 UTC\" datetime=\"2018-03-29T12:29:43+00:00\" class=\"live-timestamp\">6 hours ago</time>&#32;by&#32;<a href=\"https://www.reddit.com/user/dickfromaccounting\" class=\"author may-blank id-t2_x7yd6\" >dickfromaccounting</a><span class=\"userattrs\"></span>&#32;to&#32;<a href=\"https://www.reddit.com/r/WhitePeopleTwitter/\" class=\"subreddit hover may-blank\" >r/WhitePeopleTwitter</a></p><ul class=\"flat-list buttons\"><li class=\"first\"><a href=\"https://www.reddit.com/r/WhitePeopleTwitter/comments/880ux8/oh_man_this_hits_deep/\" data-inbound-url=\"/r/WhitePeopleTwitter/comments/880ux8/oh_man_this_hits_deep/?utm_content=comments&amp;utm_medium=best&amp;utm_source=reddit&amp;utm_name=frontpage\" data-href-url=\"/r/WhitePeopleTwitter/comments/880ux8/oh_man_this_hits_deep/\" data-event-action=\"comments\" class=\"bylink comments may-blank\" rel=\"nofollow\" >451 comments</a></li><li class=\"share\"><a class=\"post-sharing-button\" href=\"javascript: void 0;\">share</a></li><li class=\"link-save-button save-button login-required\"><a href=\"#\">save</a></li><li><form action=\"/post/hide\" method=\"post\" class=\"state-button hide-button\"><input type=\"hidden\" name=\"executed\" value=\"hidden\" /><span><a href=\"javascript:void(0)\" class=\" \" data-event-action=\"hide\" onclick=\"change_state(this, 'hide', hide_thing);\">hide</a></span></form></li><li class=\"report-button login-required\"><a href=\"javascript:void(0)\" class=\"reportbtn access-required\" data-event-action=\"report\">report</a></li></ul><div class=\"reportform report-t3_880ux8\"></div></div><div class=\"expando expando-uninitialized\" style='display: none' data-cachedhtml=\" &lt;div class=&quot;media-preview&quot; id=&quot;media-preview-880ux8&quot; style=&quot;max-width: 1024px&quot;&gt; &lt;div class=&quot;media-preview-content&quot;&gt; &lt;a href=&quot;https://i.imgur.com/4M9T0nC.jpg&quot; class=&quot;may-blank&quot;&gt; &lt;img class=&quot;preview&quot; src=&quot;https://i.redditmedia.com/m7g7HCneH5-mcDZanRiQI6ThkN2KJiJm84OhUiA9NrA.jpg?w=1024&amp;amp;s=f49a11b50f7a67764e4d8335ef11a280&quot; width=&quot;1024&quot; height=&quot;663&quot;&gt; &lt;/a&gt; &lt;/div&gt; &lt;/div&gt; \" data-pin-condition=\"function() {return this.style.display != 'none';}\" ><span class=\"error\">loading...</span></div></div><div class=\"child\" ></div><div class=\"clearleft\"></div></div><div class=\"clearleft\"></div><div class=\" thing id-t3_880luj even&#32; link \" id=\"thing_t3_880luj\" onclick=\"click_thing(this)\" data-fullname=\"t3_880luj\" data-type=\"link\" data-gildings=\"0\" data-whitelist-status=\"all_ads\" data-author=\"Bectoriephic\" data-author-fullname=\"t2_qq7tmm5\" data-subreddit=\"news\" data-subreddit-prefixed=\"r/news\" data-subreddit-fullname=\"t5_2qh3l\" data-subreddit-type=\"public\" data-timestamp=\"1522324044000\" data-url=\"http://kfor.com/2018/03/28/senate-scheduled-to-hear-teacher-pay-raise-funding-bills/\" data-permalink=\"/r/news/comments/880luj/oklahoma_senate_passes_447_million_revenue/\" data-domain=\"kfor.com\" data-rank=\"12\" data-comments-count=\"3241\" data-score=\"55469\" data-promoted=\"false\" data-nsfw=\"false\" data-spoiler=\"false\" data-num-crossposts=\"3\" data-context=\"listing\" ><p class=\"parent\"></p><span class=\"rank\">12</span><div class=\"midcol unvoted\" ><div class=\"arrow up login-required access-required\" data-event-action=\"upvote\" role=\"button\" aria-label=\"upvote\" tabindex=\"0\" ></div><div class=\"score dislikes\" title=\"55475\">55.5k</div><div class=\"score unvoted\" title=\"55476\">55.5k</div><div class=\"score likes\" title=\"55477\">55.5k</div><div class=\"arrow down login-required access-required\" data-event-action=\"downvote\" role=\"button\" aria-label=\"downvote\" tabindex=\"0\" ></div></div><a class=\"thumbnail invisible-when-pinned default may-blank outbound\" data-event-action=\"thumbnail\" href=\"http://kfor.com/2018/03/28/senate-scheduled-to-hear-teacher-pay-raise-funding-bills/\" data-href-url=\"http://kfor.com/2018/03/28/senate-scheduled-to-hear-teacher-pay-raise-funding-bills/\" data-outbound-url=\"https://out.reddit.com/t3_880luj?url=http%3A%2F%2Fkfor.com%2F2018%2F03%2F28%2Fsenate-scheduled-to-hear-teacher-pay-raise-funding-bills%2F&amp;token=AQAApkK9WmJpBMQ4pvTPr92biDKlzuBCMefEDHzbhsANEVRrajHN&amp;app_name=reddit.com\" data-outbound-expiration=\"1522352806000\" rel=\"\" ></a><div class=\"entry unvoted\"><div class=\"top-matter\"><p class=\"title\"><a class=\"title may-blank outbound\" data-event-action=\"title\" href=\"http://kfor.com/2018/03/28/senate-scheduled-to-hear-teacher-pay-raise-funding-bills/\" tabindex=\"1\" data-href-url=\"http://kfor.com/2018/03/28/senate-scheduled-to-hear-teacher-pay-raise-funding-bills/\" data-outbound-url=\"https://out.reddit.com/t3_880luj?url=http%3A%2F%2Fkfor.com%2F2018%2F03%2F28%2Fsenate-scheduled-to-hear-teacher-pay-raise-funding-bills%2F&amp;token=AQAApkK9WmJpBMQ4pvTPr92biDKlzuBCMefEDHzbhsANEVRrajHN&amp;app_name=reddit.com\" data-outbound-expiration=\"1522352806000\" rel=\"\" >Oklahoma Senate passes $447 million revenue package to fund teacher pay raise</a>&#32;<span class=\"domain\">(<a href=\"/domain/kfor.com/\">kfor.com</a>)</span></p><p class=\"tagline \">submitted&#32;<time title=\"Thu Mar 29 11:47:24 2018 UTC\" datetime=\"2018-03-29T11:47:24+00:00\" class=\"live-timestamp\">6 hours ago</time>&#32;by&#32;<a href=\"https://www.reddit.com/user/Bectoriephic\" class=\"author may-blank id-t2_qq7tmm5\" >Bectoriephic</a><span class=\"userattrs\"></span>&#32;to&#32;<a href=\"https://www.reddit.com/r/news/\" class=\"subreddit hover may-blank\" >r/news</a></p><ul class=\"flat-list buttons\"><li class=\"first\"><a href=\"https://www.reddit.com/r/news/comments/880luj/oklahoma_senate_passes_447_million_revenue/\" data-inbound-url=\"/r/news/comments/880luj/oklahoma_senate_passes_447_million_revenue/?utm_content=comments&amp;utm_medium=best&amp;utm_source=reddit&amp;utm_name=frontpage\" data-href-url=\"/r/news/comments/880luj/oklahoma_senate_passes_447_million_revenue/\" data-event-action=\"comments\" class=\"bylink comments may-blank\" rel=\"nofollow\" >3241 comments</a></li><li class=\"share\"><a class=\"post-sharing-button\" href=\"javascript: void 0;\">share</a></li><li class=\"link-save-button save-button login-required\"><a href=\"#\">save</a></li><li><form action=\"/post/hide\" method=\"post\" class=\"state-button hide-button\"><input type=\"hidden\" name=\"executed\" value=\"hidden\" /><span><a href=\"javascript:void(0)\" class=\" \" data-event-action=\"hide\" onclick=\"change_state(this, 'hide', hide_thing);\">hide</a></span></form></li><li class=\"report-button login-required\"><a href=\"javascript:void(0)\" class=\"reportbtn access-required\" data-event-action=\"report\">report</a></li></ul><div class=\"reportform report-t3_880luj\"></div></div></div><div class=\"child\" ></div><div class=\"clearleft\"></div></div><div class=\"clearleft\"></div><div class=\" thing id-t3_881pyp odd&#32; link \" id=\"thing_t3_881pyp\" onclick=\"click_thing(this)\" data-fullname=\"t3_881pyp\" data-type=\"link\" data-gildings=\"0\" data-whitelist-status=\"all_ads\" data-author=\"JAlbert653\" data-author-fullname=\"t2_grp19\" data-subreddit=\"todayilearned\" data-subreddit-prefixed=\"r/todayilearned\" data-subreddit-fullname=\"t5_2qqjc\" data-subreddit-type=\"public\" data-timestamp=\"1522333895000\" data-url=\"https://www.bonappetit.com/entertaining-style/article/alcatraz-prison-food\" data-permalink=\"/r/todayilearned/comments/881pyp/til_alcatraz_had_some_of_the_best_food_in_the/\" data-domain=\"bonappetit.com\" data-rank=\"13\" data-comments-count=\"421\" data-score=\"7317\" data-promoted=\"false\" data-nsfw=\"false\" data-spoiler=\"false\" data-num-crossposts=\"0\" data-context=\"listing\" ><p class=\"parent\"></p><span class=\"rank\">13</span><div class=\"midcol unvoted\" ><div class=\"arrow up login-required access-required\" data-event-action=\"upvote\" role=\"button\" aria-label=\"upvote\" tabindex=\"0\" ></div><div class=\"score dislikes\" title=\"7314\">7314</div><div class=\"score unvoted\" title=\"7315\">7315</div><div class=\"score likes\" title=\"7316\">7316</div><div class=\"arrow down login-required access-required\" data-event-action=\"downvote\" role=\"button\" aria-label=\"downvote\" tabindex=\"0\" ></div></div><a class=\"thumbnail invisible-when-pinned may-blank outbound\" data-event-action=\"thumbnail\" href=\"https://www.bonappetit.com/entertaining-style/article/alcatraz-prison-food\" data-href-url=\"https://www.bonappetit.com/entertaining-style/article/alcatraz-prison-food\" data-outbound-url=\"https://out.reddit.com/t3_881pyp?url=https%3A%2F%2Fwww.bonappetit.com%2Fentertaining-style%2Farticle%2Falcatraz-prison-food&amp;token=AQAApkK9Wmt_uDvOGnIpmjNUKczpJC6emJp73Po1WJkzpdzV3VKP&amp;app_name=reddit.com\" data-outbound-expiration=\"1522352806000\" rel=\"\" ><img src=\"//b.thumbs.redditmedia.com/vRSj3eo1uA_YGydaKFIO8LbgUTF-gnc1Y178dvTQPXs.jpg\" width='70' height='39' alt=\"\"></a><div class=\"entry unvoted\"><div class=\"top-matter\"><p class=\"title\"><a class=\"title may-blank outbound\" data-event-action=\"title\" href=\"https://www.bonappetit.com/entertaining-style/article/alcatraz-prison-food\" tabindex=\"1\" data-href-url=\"https://www.bonappetit.com/entertaining-style/article/alcatraz-prison-food\" data-outbound-url=\"https://out.reddit.com/t3_881pyp?url=https%3A%2F%2Fwww.bonappetit.com%2Fentertaining-style%2Farticle%2Falcatraz-prison-food&amp;token=AQAApkK9Wmt_uDvOGnIpmjNUKczpJC6emJp73Po1WJkzpdzV3VKP&amp;app_name=reddit.com\" data-outbound-expiration=\"1522352806000\" rel=\"\" >TIL Alcatraz had some of the best food in the federal prison system including chili dogs, butter-drenched potatoes, pork chops, biscuits and gravy &amp; banana pudding because the warden believed “most trouble in prison is caused by bad food.” The prison staff ate the same food as the prisoners.</a>&#32;<span class=\"domain\">(<a href=\"/domain/bonappetit.com/\">bonappetit.com</a>)</span></p><p class=\"tagline \">submitted&#32;<time title=\"Thu Mar 29 14:31:35 2018 UTC\" datetime=\"2018-03-29T14:31:35+00:00\" class=\"live-timestamp\">4 hours ago</time>&#32;by&#32;<a href=\"https://www.reddit.com/user/JAlbert653\" class=\"author may-blank id-t2_grp19\" >JAlbert653</a><span class=\"userattrs\"></span>&#32;to&#32;<a href=\"https://www.reddit.com/r/todayilearned/\" class=\"subreddit hover may-blank\" >r/todayilearned</a></p><ul class=\"flat-list buttons\"><li class=\"first\"><a href=\"https://www.reddit.com/r/todayilearned/comments/881pyp/til_alcatraz_had_some_of_the_best_food_in_the/\" data-inbound-url=\"/r/todayilearned/comments/881pyp/til_alcatraz_had_some_of_the_best_food_in_the/?utm_content=comments&amp;utm_medium=best&amp;utm_source=reddit&amp;utm_name=frontpage\" data-href-url=\"/r/todayilearned/comments/881pyp/til_alcatraz_had_some_of_the_best_food_in_the/\" data-event-action=\"comments\" class=\"bylink comments may-blank\" rel=\"nofollow\" >421 comments</a></li><li class=\"share\"><a class=\"post-sharing-button\" href=\"javascript: void 0;\">share</a></li><li class=\"link-save-button save-button login-required\"><a href=\"#\">save</a></li><li><form action=\"/post/hide\" method=\"post\" class=\"state-button hide-button\"><input type=\"hidden\" name=\"executed\" value=\"hidden\" /><span><a href=\"javascript:void(0)\" class=\" \" data-event-action=\"hide\" onclick=\"change_state(this, 'hide', hide_thing);\">hide</a></span></form></li><li class=\"report-button login-required\"><a href=\"javascript:void(0)\" class=\"reportbtn access-required\" data-event-action=\"report\">report</a></li></ul><div class=\"reportform report-t3_881pyp\"></div></div></div><div class=\"child\" ></div><div class=\"clearleft\"></div></div><div class=\"clearleft\"></div><div class=\" thing id-t3_881cxv even&#32; link \" id=\"thing_t3_881cxv\" onclick=\"click_thing(this)\" data-fullname=\"t3_881cxv\" data-type=\"link\" data-gildings=\"0\" data-whitelist-status=\"all_ads\" data-author=\"TheFunnyWhore\" data-author-fullname=\"t2_y7xbj\" data-subreddit=\"videos\" data-subreddit-prefixed=\"r/videos\" data-subreddit-fullname=\"t5_2qh1e\" data-subreddit-type=\"public\" data-timestamp=\"1522331044000\" data-url=\"https://youtu.be/anjMMdSuFuE\" data-permalink=\"/r/videos/comments/881cxv/my_daughter_3_date_night_clearly_worth_it/\" data-domain=\"youtu.be\" data-rank=\"14\" data-comments-count=\"1862\" data-score=\"23507\" data-promoted=\"false\" data-nsfw=\"false\" data-spoiler=\"false\" data-num-crossposts=\"5\" data-context=\"listing\" ><p class=\"parent\"></p><span class=\"rank\">14</span><div class=\"midcol unvoted\" ><div class=\"arrow up login-required access-required\" data-event-action=\"upvote\" role=\"button\" aria-label=\"upvote\" tabindex=\"0\" ></div><div class=\"score dislikes\" title=\"23498\">23.5k</div><div class=\"score unvoted\" title=\"23499\">23.5k</div><div class=\"score likes\" title=\"23500\">23.5k</div><div class=\"arrow down login-required access-required\" data-event-action=\"downvote\" role=\"button\" aria-label=\"downvote\" tabindex=\"0\" ></div></div><a class=\"thumbnail invisible-when-pinned may-blank outbound\" data-event-action=\"thumbnail\" href=\"https://youtu.be/anjMMdSuFuE\" data-href-url=\"https://youtu.be/anjMMdSuFuE\" data-outbound-url=\"https://out.reddit.com/t3_881cxv?url=https%3A%2F%2Fyoutu.be%2FanjMMdSuFuE&amp;token=AQAApkK9WpOCmk9vVMXueq0pbTlnctAiRPniCJB7Na17YyqnJCbf&amp;app_name=reddit.com\" data-outbound-expiration=\"1522352806000\" rel=\"\" ><img src=\"//b.thumbs.redditmedia.com/WA_tKkPB4lPm5e3ZeU0nFYrhHJ6ZrLaFm0A0USco8Jg.jpg\" width='70' height='52' alt=\"\"></a><div class=\"entry unvoted\"><div class=\"top-matter\"><p class=\"title\"><a class=\"title may-blank outbound\" data-event-action=\"title\" href=\"https://youtu.be/anjMMdSuFuE\" tabindex=\"1\" data-href-url=\"https://youtu.be/anjMMdSuFuE\" data-outbound-url=\"https://out.reddit.com/t3_881cxv?url=https%3A%2F%2Fyoutu.be%2FanjMMdSuFuE&amp;token=AQAApkK9WpOCmk9vVMXueq0pbTlnctAiRPniCJB7Na17YyqnJCbf&amp;app_name=reddit.com\" data-outbound-expiration=\"1522352806000\" rel=\"\" >My daughter, $3 date night clearly worth it</a>&#32;<span class=\"domain\">(<a href=\"/domain/youtu.be/\">youtu.be</a>)</span></p><div class=\"expando-button collapsed hide-when-pinned video\"></div><p class=\"tagline \">submitted&#32;<time title=\"Thu Mar 29 13:44:04 2018 UTC\" datetime=\"2018-03-29T13:44:04+00:00\" class=\"live-timestamp\">5 hours ago</time>&#32;by&#32;<a href=\"https://www.reddit.com/user/TheFunnyWhore\" class=\"author may-blank id-t2_y7xbj\" >TheFunnyWhore</a><span class=\"userattrs\"></span>&#32;to&#32;<a href=\"https://www.reddit.com/r/videos/\" class=\"subreddit hover may-blank\" >r/videos</a></p><ul class=\"flat-list buttons\"><li class=\"first\"><a href=\"https://www.reddit.com/r/videos/comments/881cxv/my_daughter_3_date_night_clearly_worth_it/\" data-inbound-url=\"/r/videos/comments/881cxv/my_daughter_3_date_night_clearly_worth_it/?utm_content=comments&amp;utm_medium=best&amp;utm_source=reddit&amp;utm_name=frontpage\" data-href-url=\"/r/videos/comments/881cxv/my_daughter_3_date_night_clearly_worth_it/\" data-event-action=\"comments\" class=\"bylink comments may-blank\" rel=\"nofollow\" >1862 comments</a></li><li class=\"share\"><a class=\"post-sharing-button\" href=\"javascript: void 0;\">share</a></li><li class=\"link-save-button save-button login-required\"><a href=\"#\">save</a></li><li><form action=\"/post/hide\" method=\"post\" class=\"state-button hide-button\"><input type=\"hidden\" name=\"executed\" value=\"hidden\" /><span><a href=\"javascript:void(0)\" class=\" \" data-event-action=\"hide\" onclick=\"change_state(this, 'hide', hide_thing);\">hide</a></span></form></li><li class=\"report-button login-required\"><a href=\"javascript:void(0)\" class=\"reportbtn access-required\" data-event-action=\"report\">report</a></li></ul><div class=\"reportform report-t3_881cxv\"></div></div><div class=\"expando expando-uninitialized\" style='display: none' data-cachedhtml=\" &lt;iframe src=&quot;//www.redditmedia.com/mediaembed/881cxv&quot; id=&quot;media-embed-881cxv-s20&quot; class=&quot;media-embed&quot; width=&quot;610&quot; height=&quot;348&quot; border=&quot;0&quot; frameBorder=&quot;0&quot; scrolling=&quot;no&quot; allowfullscreen&gt;&lt;/iframe&gt; \" data-pin-condition=\"function() {return this.style.display != 'none';}\" ><span class=\"error\">loading...</span></div></div><div class=\"child\" ></div><div class=\"clearleft\"></div></div><div class=\"clearleft\"></div><div class=\" thing id-t3_880psk linkflair linkflair-shit odd&#32; link \" id=\"thing_t3_880psk\" onclick=\"click_thing(this)\" data-fullname=\"t3_880psk\" data-type=\"link\" data-gildings=\"0\" data-whitelist-status=\"promo_all\" data-author=\"juiny\" data-author-fullname=\"t2_qopdaz2\" data-subreddit=\"BlackPeopleTwitter\" data-subreddit-prefixed=\"r/BlackPeopleTwitter\" data-subreddit-fullname=\"t5_33x33\" data-subreddit-type=\"public\" data-timestamp=\"1522325183000\" data-url=\"https://imgur.com/e7FePRQ.jpg\" data-permalink=\"/r/BlackPeopleTwitter/comments/880psk/so_many_questions_lol/\" data-domain=\"imgur.com\" data-rank=\"15\" data-comments-count=\"725\" data-score=\"32417\" data-promoted=\"false\" data-nsfw=\"false\" data-spoiler=\"false\" data-num-crossposts=\"7\" data-context=\"listing\" ><p class=\"parent\"></p><span class=\"rank\">15</span><div class=\"midcol unvoted\" ><div class=\"arrow up login-required access-required\" data-event-action=\"upvote\" role=\"button\" aria-label=\"upvote\" tabindex=\"0\" ></div><div class=\"score dislikes\" title=\"32415\">32.4k</div><div class=\"score unvoted\" title=\"32416\">32.4k</div><div class=\"score likes\" title=\"32417\">32.4k</div><div class=\"arrow down login-required access-required\" data-event-action=\"downvote\" role=\"button\" aria-label=\"downvote\" tabindex=\"0\" ></div></div><a class=\"thumbnail invisible-when-pinned may-blank outbound\" data-event-action=\"thumbnail\" href=\"https://imgur.com/e7FePRQ.jpg\" data-href-url=\"https://imgur.com/e7FePRQ.jpg\" data-outbound-url=\"https://out.reddit.com/t3_880psk?url=https%3A%2F%2Fimgur.com%2Fe7FePRQ.jpg&amp;token=AQAApkK9Wk1wROQF4MurAaz2ag_wcHsPfvCcRIS4TSw-M_WRWkJw&amp;app_name=reddit.com\" data-outbound-expiration=\"1522352806000\" rel=\"\" ><img src=\"//a.thumbs.redditmedia.com/UQrWJu7dEEOFY3aECRXrPQyop2qk-TV2dmdNGG02iy8.jpg\" width='70' height='70' alt=\"\"></a><div class=\"entry unvoted\"><div class=\"top-matter\"><p class=\"title\"><a class=\"title may-blank outbound\" data-event-action=\"title\" href=\"https://imgur.com/e7FePRQ.jpg\" tabindex=\"1\" data-href-url=\"https://imgur.com/e7FePRQ.jpg\" data-outbound-url=\"https://out.reddit.com/t3_880psk?url=https%3A%2F%2Fimgur.com%2Fe7FePRQ.jpg&amp;token=AQAApkK9Wk1wROQF4MurAaz2ag_wcHsPfvCcRIS4TSw-M_WRWkJw&amp;app_name=reddit.com\" data-outbound-expiration=\"1522352806000\" rel=\"\" >So many questions lol</a><span class=\"linkflairlabel\" title=\"Bad Title\">Bad Title</span>&#32;<span class=\"domain\">(<a href=\"/domain/imgur.com/\">imgur.com</a>)</span></p><div class=\"expando-button collapsed hide-when-pinned video\"></div><p class=\"tagline \">submitted&#32;<time title=\"Thu Mar 29 12:06:23 2018 UTC\" datetime=\"2018-03-29T12:06:23+00:00\" class=\"live-timestamp\">6 hours ago</time>&#32;by&#32;<a href=\"https://www.reddit.com/user/juiny\" class=\"author may-blank id-t2_qopdaz2\" >juiny</a><span class=\"userattrs\"></span>&#32;to&#32;<a href=\"https://www.reddit.com/r/BlackPeopleTwitter/\" class=\"subreddit hover may-blank\" >r/BlackPeopleTwitter</a></p><ul class=\"flat-list buttons\"><li class=\"first\"><a href=\"https://www.reddit.com/r/BlackPeopleTwitter/comments/880psk/so_many_questions_lol/\" data-inbound-url=\"/r/BlackPeopleTwitter/comments/880psk/so_many_questions_lol/?utm_content=comments&amp;utm_medium=best&amp;utm_source=reddit&amp;utm_name=frontpage\" data-href-url=\"/r/BlackPeopleTwitter/comments/880psk/so_many_questions_lol/\" data-event-action=\"comments\" class=\"bylink comments may-blank\" rel=\"nofollow\" >725 comments</a></li><li class=\"share\"><a class=\"post-sharing-button\" href=\"javascript: void 0;\">share</a></li><li class=\"link-save-button save-button login-required\"><a href=\"#\">save</a></li><li><form action=\"/post/hide\" method=\"post\" class=\"state-button hide-button\"><input type=\"hidden\" name=\"executed\" value=\"hidden\" /><span><a href=\"javascript:void(0)\" class=\" \" data-event-action=\"hide\" onclick=\"change_state(this, 'hide', hide_thing);\">hide</a></span></form></li><li class=\"report-button login-required\"><a href=\"javascript:void(0)\" class=\"reportbtn access-required\" data-event-action=\"report\">report</a></li></ul><div class=\"reportform report-t3_880psk\"></div></div><div class=\"expando expando-uninitialized\" style='display: none' data-cachedhtml=\" &lt;div class=&quot;media-preview&quot; id=&quot;media-preview-880psk&quot; style=&quot;max-width: 540px&quot;&gt; &lt;div class=&quot;media-preview-content&quot;&gt; &lt;a href=&quot;https://imgur.com/e7FePRQ.jpg&quot; class=&quot;may-blank&quot;&gt; &lt;img class=&quot;preview&quot; src=&quot;https://i.redditmedia.com/mULDDAZdXwwSuTHNDfiT2i5SQI3hwaSBw1QwZjMveLA.jpg?w=540&amp;amp;s=dee2fecbde12224fcbcff66e2265c6b8&quot; width=&quot;540&quot; height=&quot;640&quot;&gt; &lt;/a&gt; &lt;/div&gt; &lt;/div&gt; \" data-pin-condition=\"function() {return this.style.display != 'none';}\" ><span class=\"error\">loading...</span></div></div><div class=\"child\" ></div><div class=\"clearleft\"></div></div><div class=\"clearleft\"></div><div class=\" thing id-t3_8814uq even&#32; link \" id=\"thing_t3_8814uq\" onclick=\"click_thing(this)\" data-fullname=\"t3_8814uq\" data-type=\"link\" data-gildings=\"0\" data-whitelist-status=\"all_ads\" data-author=\"Pirate_Redbeard\" data-author-fullname=\"t2_wz756\" data-subreddit=\"Unexpected\" data-subreddit-prefixed=\"r/Unexpected\" data-subreddit-fullname=\"t5_2w67q\" data-subreddit-type=\"public\" data-timestamp=\"1522329076000\" data-url=\"https://i.imgur.com/oDBhhpi.gifv\" data-permalink=\"/r/Unexpected/comments/8814uq/mind_your_business/\" data-domain=\"i.imgur.com\" data-rank=\"16\" data-comments-count=\"237\" data-score=\"32153\" data-promoted=\"false\" data-nsfw=\"false\" data-spoiler=\"false\" data-num-crossposts=\"2\" data-context=\"listing\" ><p class=\"parent\"></p><span class=\"rank\">16</span><div class=\"midcol unvoted\" ><div class=\"arrow up login-required access-required\" data-event-action=\"upvote\" role=\"button\" aria-label=\"upvote\" tabindex=\"0\" ></div><div class=\"score dislikes\" title=\"32155\">32.2k</div><div class=\"score unvoted\" title=\"32156\">32.2k</div><div class=\"score likes\" title=\"32157\">32.2k</div><div class=\"arrow down login-required access-required\" data-event-action=\"downvote\" role=\"button\" aria-label=\"downvote\" tabindex=\"0\" ></div></div><a class=\"thumbnail invisible-when-pinned default may-blank outbound\" data-event-action=\"thumbnail\" href=\"https://i.imgur.com/oDBhhpi.gifv\" data-href-url=\"https://i.imgur.com/oDBhhpi.gifv\" data-outbound-url=\"https://out.reddit.com/t3_8814uq?url=https%3A%2F%2Fi.imgur.com%2FoDBhhpi.gifv&amp;token=AQAApkK9WpxP1FhS19-DCTrSRAxUuLeSRcCB_ccy_4Mvz-Xr3FXN&amp;app_name=reddit.com\" data-outbound-expiration=\"1522352806000\" rel=\"\" ></a><div class=\"entry unvoted\"><div class=\"top-matter\"><p class=\"title\"><a class=\"title may-blank outbound\" data-event-action=\"title\" href=\"https://i.imgur.com/oDBhhpi.gifv\" tabindex=\"1\" data-href-url=\"https://i.imgur.com/oDBhhpi.gifv\" data-outbound-url=\"https://out.reddit.com/t3_8814uq?url=https%3A%2F%2Fi.imgur.com%2FoDBhhpi.gifv&amp;token=AQAApkK9WpxP1FhS19-DCTrSRAxUuLeSRcCB_ccy_4Mvz-Xr3FXN&amp;app_name=reddit.com\" data-outbound-expiration=\"1522352806000\" rel=\"\" >Mind your business</a>&#32;<span class=\"domain\">(<a href=\"/domain/i.imgur.com/\">i.imgur.com</a>)</span></p><div class=\"expando-button collapsed hide-when-pinned video\"></div><p class=\"tagline \">submitted&#32;<time title=\"Thu Mar 29 13:11:16 2018 UTC\" datetime=\"2018-03-29T13:11:16+00:00\" class=\"live-timestamp\">5 hours ago</time>&#32;by&#32;<a href=\"https://www.reddit.com/user/Pirate_Redbeard\" class=\"author may-blank id-t2_wz756\" >Pirate_Redbeard</a><span class=\"userattrs\"></span>&#32;to&#32;<a href=\"https://www.reddit.com/r/Unexpected/\" class=\"subreddit hover may-blank\" >r/Unexpected</a></p><ul class=\"flat-list buttons\"><li class=\"first\"><a href=\"https://www.reddit.com/r/Unexpected/comments/8814uq/mind_your_business/\" data-inbound-url=\"/r/Unexpected/comments/8814uq/mind_your_business/?utm_content=comments&amp;utm_medium=best&amp;utm_source=reddit&amp;utm_name=frontpage\" data-href-url=\"/r/Unexpected/comments/8814uq/mind_your_business/\" data-event-action=\"comments\" class=\"bylink comments may-blank\" rel=\"nofollow\" >237 comments</a></li><li class=\"share\"><a class=\"post-sharing-button\" href=\"javascript: void 0;\">share</a></li><li class=\"link-save-button save-button login-required\"><a href=\"#\">save</a></li><li><form action=\"/post/hide\" method=\"post\" class=\"state-button hide-button\"><input type=\"hidden\" name=\"executed\" value=\"hidden\" /><span><a href=\"javascript:void(0)\" class=\" \" data-event-action=\"hide\" onclick=\"change_state(this, 'hide', hide_thing);\">hide</a></span></form></li><li class=\"report-button login-required\"><a href=\"javascript:void(0)\" class=\"reportbtn access-required\" data-event-action=\"report\">report</a></li></ul><div class=\"reportform report-t3_8814uq\"></div></div><div class=\"expando expando-uninitialized\" style='display: none' data-cachedhtml=\" &lt;div class=&quot;media-preview&quot; id=&quot;media-preview-8814uq&quot; style=&quot;max-width: 600px&quot;&gt; &lt;div class=&quot;media-preview-content&quot;&gt; &lt;a href=&quot;https://i.imgur.com/oDBhhpi.gifv&quot; class=&quot;may-blank&quot;&gt; &lt;video class=&quot;preview&quot; preload=&quot;auto&quot; autoplay=&quot;autoplay&quot; muted=&quot;muted&quot; loop=&quot;loop&quot; webkit-playsinline=&quot;&quot; style=&quot;width: 600px; height: 600px;&quot;&gt; &lt;source src=&quot;https://g.redditmedia.com/vhldZywWmwJIHjUhFqjmSkqKsdRXu9WL_8JlaUA9-68.gif?w=600&amp;amp;fm=mp4&amp;amp;mp4-fragmented=false&amp;amp;s=8c7b6bc98c1dd89a3ee9ff0ee01cbf90&quot; type=&quot;video/mp4&quot;&gt; &lt;/video&gt; &lt;/a&gt; &lt;/div&gt; &lt;/div&gt; \" data-pin-condition=\"function() {return this.style.display != 'none';}\" ><span class=\"error\">loading...</span></div></div><div class=\"child\" ></div><div class=\"clearleft\"></div></div><div class=\"clearleft\"></div><div class=\" thing id-t3_882e38 odd&#32; link \" id=\"thing_t3_882e38\" onclick=\"click_thing(this)\" data-fullname=\"t3_882e38\" data-type=\"link\" data-gildings=\"0\" data-whitelist-status=\"all_ads\" data-author=\"Goal1\" data-author-fullname=\"t2_el08g\" data-subreddit=\"NatureIsFuckingLit\" data-subreddit-prefixed=\"r/NatureIsFuckingLit\" data-subreddit-fullname=\"t5_3gdh7\" data-subreddit-type=\"public\" data-timestamp=\"1522338918000\" data-url=\"https://i.imgur.com/ic14klp.gifv\" data-permalink=\"/r/NatureIsFuckingLit/comments/882e38/meet_the_world_smallest_feline/\" data-domain=\"i.imgur.com\" data-rank=\"17\" data-comments-count=\"106\" data-score=\"5130\" data-promoted=\"false\" data-nsfw=\"false\" data-spoiler=\"false\" data-num-crossposts=\"0\" data-context=\"listing\" ><p class=\"parent\"></p><span class=\"rank\">17</span><div class=\"midcol unvoted\" ><div class=\"arrow up login-required access-required\" data-event-action=\"upvote\" role=\"button\" aria-label=\"upvote\" tabindex=\"0\" ></div><div class=\"score dislikes\" title=\"5132\">5132</div><div class=\"score unvoted\" title=\"5133\">5133</div><div class=\"score likes\" title=\"5134\">5134</div><div class=\"arrow down login-required access-required\" data-event-action=\"downvote\" role=\"button\" aria-label=\"downvote\" tabindex=\"0\" ></div></div><a class=\"thumbnail invisible-when-pinned may-blank outbound\" data-event-action=\"thumbnail\" href=\"https://i.imgur.com/ic14klp.gifv\" data-href-url=\"https://i.imgur.com/ic14klp.gifv\" data-outbound-url=\"https://out.reddit.com/t3_882e38?url=https%3A%2F%2Fi.imgur.com%2Fic14klp.gifv&amp;token=AQAApkK9WnYS66xmwNjZqq-0myvlIpbgSCYD0H3mWuqZe9gUtJ9h&amp;app_name=reddit.com\" data-outbound-expiration=\"1522352806000\" rel=\"\" ><img src=\"//b.thumbs.redditmedia.com/kRt3bAjsP8DVRd4ZCcsp728-8XebWnz1skgn8kyKryU.jpg\" width='70' height='39' alt=\"\"></a><div class=\"entry unvoted\"><div class=\"top-matter\"><p class=\"title\"><a class=\"title may-blank outbound\" data-event-action=\"title\" href=\"https://i.imgur.com/ic14klp.gifv\" tabindex=\"1\" data-href-url=\"https://i.imgur.com/ic14klp.gifv\" data-outbound-url=\"https://out.reddit.com/t3_882e38?url=https%3A%2F%2Fi.imgur.com%2Fic14klp.gifv&amp;token=AQAApkK9WnYS66xmwNjZqq-0myvlIpbgSCYD0H3mWuqZe9gUtJ9h&amp;app_name=reddit.com\" data-outbound-expiration=\"1522352806000\" rel=\"\" >🔥 Meet the world smallest feline</a>&#32;<span class=\"domain\">(<a href=\"/domain/i.imgur.com/\">i.imgur.com</a>)</span></p><div class=\"expando-button collapsed hide-when-pinned video\"></div><p class=\"tagline \">submitted&#32;<time title=\"Thu Mar 29 15:55:18 2018 UTC\" datetime=\"2018-03-29T15:55:18+00:00\" class=\"live-timestamp\">2 hours ago</time>&#32;by&#32;<a href=\"https://www.reddit.com/user/Goal1\" class=\"author may-blank id-t2_el08g\" >Goal1</a><span class=\"userattrs\"></span>&#32;to&#32;<a href=\"https://www.reddit.com/r/NatureIsFuckingLit/\" class=\"subreddit hover may-blank\" >r/NatureIsFuckingLit</a></p><ul class=\"flat-list buttons\"><li class=\"first\"><a href=\"https://www.reddit.com/r/NatureIsFuckingLit/comments/882e38/meet_the_world_smallest_feline/\" data-inbound-url=\"/r/NatureIsFuckingLit/comments/882e38/meet_the_world_smallest_feline/?utm_content=comments&amp;utm_medium=best&amp;utm_source=reddit&amp;utm_name=frontpage\" data-href-url=\"/r/NatureIsFuckingLit/comments/882e38/meet_the_world_smallest_feline/\" data-event-action=\"comments\" class=\"bylink comments may-blank\" rel=\"nofollow\" >106 comments</a></li><li class=\"share\"><a class=\"post-sharing-button\" href=\"javascript: void 0;\">share</a></li><li class=\"link-save-button save-button login-required\"><a href=\"#\">save</a></li><li><form action=\"/post/hide\" method=\"post\" class=\"state-button hide-button\"><input type=\"hidden\" name=\"executed\" value=\"hidden\" /><span><a href=\"javascript:void(0)\" class=\" \" data-event-action=\"hide\" onclick=\"change_state(this, 'hide', hide_thing);\">hide</a></span></form></li><li class=\"report-button login-required\"><a href=\"javascript:void(0)\" class=\"reportbtn access-required\" data-event-action=\"report\">report</a></li></ul><div class=\"reportform report-t3_882e38\"></div></div><div class=\"expando expando-uninitialized\" style='display: none' data-cachedhtml=\" &lt;div class=&quot;media-preview&quot; id=&quot;media-preview-882e38&quot; style=&quot;max-width: 728px&quot;&gt; &lt;div class=&quot;media-preview-content&quot;&gt; &lt;a href=&quot;https://i.imgur.com/ic14klp.gifv&quot; class=&quot;may-blank&quot;&gt; &lt;video class=&quot;preview&quot; preload=&quot;auto&quot; autoplay=&quot;autoplay&quot; muted=&quot;muted&quot; loop=&quot;loop&quot; webkit-playsinline=&quot;&quot; style=&quot;width: 728px; height: 408px;&quot;&gt; &lt;source src=&quot;https://g.redditmedia.com/Ng3h4o5Du4bT5gHxi-HxFMpWlD9zo0Ttd6hYX6Lcqpc.gif?w=728&amp;amp;fm=mp4&amp;amp;mp4-fragmented=false&amp;amp;s=05e281a03a29d5e78d72678c750f5959&quot; type=&quot;video/mp4&quot;&gt; &lt;/video&gt; &lt;/a&gt; &lt;/div&gt; &lt;/div&gt; \" data-pin-condition=\"function() {return this.style.display != 'none';}\" ><span class=\"error\">loading...</span></div></div><div class=\"child\" ></div><div class=\"clearleft\"></div></div><div class=\"clearleft\"></div><div class=\" thing id-t3_880sj5 linkflair even&#32; link \" id=\"thing_t3_880sj5\" onclick=\"click_thing(this)\" data-fullname=\"t3_880sj5\" data-type=\"link\" data-gildings=\"0\" data-whitelist-status=\"all_ads\" data-author=\"goneintorapture\" data-author-fullname=\"t2_cogq9\" data-subreddit=\"funny\" data-subreddit-prefixed=\"r/funny\" data-subreddit-fullname=\"t5_2qh33\" data-subreddit-type=\"public\" data-timestamp=\"1522325921000\" data-url=\"https://i.imgur.com/KHKQKaM.jpg\" data-permalink=\"/r/funny/comments/880sj5/squeeze_oc/\" data-domain=\"i.imgur.com\" data-rank=\"18\" data-comments-count=\"204\" data-score=\"23909\" data-promoted=\"false\" data-nsfw=\"false\" data-spoiler=\"false\" data-num-crossposts=\"6\" data-context=\"listing\" ><p class=\"parent\"></p><span class=\"rank\">18</span><div class=\"midcol unvoted\" ><div class=\"arrow up login-required access-required\" data-event-action=\"upvote\" role=\"button\" aria-label=\"upvote\" tabindex=\"0\" ></div><div class=\"score dislikes\" title=\"23913\">23.9k</div><div class=\"score unvoted\" title=\"23914\">23.9k</div><div class=\"score likes\" title=\"23915\">23.9k</div><div class=\"arrow down login-required access-required\" data-event-action=\"downvote\" role=\"button\" aria-label=\"downvote\" tabindex=\"0\" ></div></div><a class=\"thumbnail invisible-when-pinned may-blank outbound\" data-event-action=\"thumbnail\" href=\"https://i.imgur.com/KHKQKaM.jpg\" data-href-url=\"https://i.imgur.com/KHKQKaM.jpg\" data-outbound-url=\"https://out.reddit.com/t3_880sj5?url=https%3A%2F%2Fi.imgur.com%2FKHKQKaM.jpg&amp;token=AQAApkK9WuT_huasLADNe1dmAB3SanFNLrf-a0Ie--ECCIwNcoVq&amp;app_name=reddit.com\" data-outbound-expiration=\"1522352806000\" rel=\"\" ><img src=\"//b.thumbs.redditmedia.com/sgclSKH6zKre7qRsvt1YWcbhDdCggIpqd6Rg8Z59yCw.jpg\" width='70' height='70' alt=\"\"></a><div class=\"entry unvoted\"><div class=\"top-matter\"><p class=\"title\"><a class=\"title may-blank outbound\" data-event-action=\"title\" href=\"https://i.imgur.com/KHKQKaM.jpg\" tabindex=\"1\" data-href-url=\"https://i.imgur.com/KHKQKaM.jpg\" data-outbound-url=\"https://out.reddit.com/t3_880sj5?url=https%3A%2F%2Fi.imgur.com%2FKHKQKaM.jpg&amp;token=AQAApkK9WuT_huasLADNe1dmAB3SanFNLrf-a0Ie--ECCIwNcoVq&amp;app_name=reddit.com\" data-outbound-expiration=\"1522352806000\" rel=\"\" >Squeeze [OC]</a><span class=\"linkflairlabel\" title=\"Verified\">Verified</span>&#32;<span class=\"domain\">(<a href=\"/domain/i.imgur.com/\">i.imgur.com</a>)</span></p><div class=\"expando-button collapsed hide-when-pinned video\"></div><p class=\"tagline \">submitted&#32;<time title=\"Thu Mar 29 12:18:41 2018 UTC\" datetime=\"2018-03-29T12:18:41+00:00\" class=\"live-timestamp\">6 hours ago</time>&#32;by&#32;<a href=\"https://www.reddit.com/user/goneintorapture\" class=\"author may-blank id-t2_cogq9\" >goneintorapture</a><span class=\"userattrs\"></span>&#32;to&#32;<a href=\"https://www.reddit.com/r/funny/\" class=\"subreddit hover may-blank\" >r/funny</a></p><ul class=\"flat-list buttons\"><li class=\"first\"><a href=\"https://www.reddit.com/r/funny/comments/880sj5/squeeze_oc/\" data-inbound-url=\"/r/funny/comments/880sj5/squeeze_oc/?utm_content=comments&amp;utm_medium=best&amp;utm_source=reddit&amp;utm_name=frontpage\" data-href-url=\"/r/funny/comments/880sj5/squeeze_oc/\" data-event-action=\"comments\" class=\"bylink comments may-blank\" rel=\"nofollow\" >204 comments</a></li><li class=\"share\"><a class=\"post-sharing-button\" href=\"javascript: void 0;\">share</a></li><li class=\"link-save-button save-button login-required\"><a href=\"#\">save</a></li><li><form action=\"/post/hide\" method=\"post\" class=\"state-button hide-button\"><input type=\"hidden\" name=\"executed\" value=\"hidden\" /><span><a href=\"javascript:void(0)\" class=\" \" data-event-action=\"hide\" onclick=\"change_state(this, 'hide', hide_thing);\">hide</a></span></form></li><li class=\"report-button login-required\"><a href=\"javascript:void(0)\" class=\"reportbtn access-required\" data-event-action=\"report\">report</a></li></ul><div class=\"reportform report-t3_880sj5\"></div></div><div class=\"expando expando-uninitialized\" style='display: none' data-cachedhtml=\" &lt;div class=&quot;media-preview&quot; id=&quot;media-preview-880sj5&quot; style=&quot;max-width: 768px&quot;&gt; &lt;div class=&quot;media-preview-content&quot;&gt; &lt;a href=&quot;https://i.imgur.com/KHKQKaM.jpg&quot; class=&quot;may-blank&quot;&gt; &lt;img class=&quot;preview&quot; src=&quot;https://i.redditmedia.com/awr923Nt24PmPLATuLNv0kmkaLuewXedjBjqAhhG_iA.jpg?w=768&amp;amp;s=fe9d4f210e591b73cb3581e05316c367&quot; width=&quot;768&quot; height=&quot;768&quot;&gt; &lt;/a&gt; &lt;/div&gt; &lt;/div&gt; \" data-pin-condition=\"function() {return this.style.display != 'none';}\" ><span class=\"error\">loading...</span></div></div><div class=\"child\" ></div><div class=\"clearleft\"></div></div><div class=\"clearleft\"></div><div class=\" thing id-t3_880sf1 odd&#32; link \" id=\"thing_t3_880sf1\" onclick=\"click_thing(this)\" data-fullname=\"t3_880sf1\" data-type=\"link\" data-gildings=\"0\" data-whitelist-status=\"all_ads\" data-author=\"MASTASENATA\" data-author-fullname=\"t2_qd68wkk\" data-subreddit=\"PrequelMemes\" data-subreddit-prefixed=\"r/PrequelMemes\" data-subreddit-fullname=\"t5_3i60n\" data-subreddit-type=\"public\" data-timestamp=\"1522325894000\" data-url=\"https://i.redd.it/4h56f3r02po01.jpg\" data-permalink=\"/r/PrequelMemes/comments/880sf1/quigon_gin_and_darth_maul_putting_up_a_painting/\" data-domain=\"i.redd.it\" data-rank=\"19\" data-comments-count=\"197\" data-score=\"28001\" data-promoted=\"false\" data-nsfw=\"false\" data-spoiler=\"false\" data-num-crossposts=\"1\" data-context=\"listing\" ><p class=\"parent\"></p><span class=\"rank\">19</span><div class=\"midcol unvoted\" ><div class=\"arrow up login-required access-required\" data-event-action=\"upvote\" role=\"button\" aria-label=\"upvote\" tabindex=\"0\" ></div><div class=\"score dislikes\" title=\"29857\">29.9k</div><div class=\"score unvoted\" title=\"29858\">29.9k</div><div class=\"score likes\" title=\"29859\">29.9k</div><div class=\"arrow down login-required access-required\" data-event-action=\"downvote\" role=\"button\" aria-label=\"downvote\" tabindex=\"0\" ></div></div><a class=\"thumbnail invisible-when-pinned may-blank \" data-event-action=\"thumbnail\" href=\"/r/PrequelMemes/comments/880sf1/quigon_gin_and_darth_maul_putting_up_a_painting/\" data-href-url=\"/r/PrequelMemes/comments/880sf1/quigon_gin_and_darth_maul_putting_up_a_painting/\" data-inbound-url=\"/r/PrequelMemes/comments/880sf1/quigon_gin_and_darth_maul_putting_up_a_painting/?utm_content=thumbnail&amp;utm_medium=best&amp;utm_source=reddit&amp;utm_name=frontpage\" rel=\"\" ><img src=\"//b.thumbs.redditmedia.com/ilq4xqqbbXVeirrdfUUdBHBdWbcpoez4dZgknJv7LyY.jpg\" width='70' height='56' alt=\"\"></a><div class=\"entry unvoted\"><div class=\"top-matter\"><p class=\"title\"><a class=\"title may-blank \" data-event-action=\"title\" href=\"/r/PrequelMemes/comments/880sf1/quigon_gin_and_darth_maul_putting_up_a_painting/\" tabindex=\"1\" data-href-url=\"/r/PrequelMemes/comments/880sf1/quigon_gin_and_darth_maul_putting_up_a_painting/\" data-inbound-url=\"/r/PrequelMemes/comments/880sf1/quigon_gin_and_darth_maul_putting_up_a_painting/?utm_content=title&amp;utm_medium=best&amp;utm_source=reddit&amp;utm_name=frontpage\" rel=\"\" >Qui-Gon Gin and Darth Maul putting up a painting of Darth Vader, while Obi-Wan is supervising them. (xpost from r/photoshopbattles made by u/Matiasjkk</a>&#32;<span class=\"domain\">(<a href=\"/domain/i.redd.it/\">i.redd.it</a>)</span></p><div class=\"expando-button collapsed hide-when-pinned video\"></div><p class=\"tagline \">submitted&#32;<time title=\"Thu Mar 29 12:18:14 2018 UTC\" datetime=\"2018-03-29T12:18:14+00:00\" class=\"live-timestamp\">6 hours ago</time>&#32;by&#32;<a href=\"https://www.reddit.com/user/MASTASENATA\" class=\"author may-blank id-t2_qd68wkk\" >MASTASENATA</a><span class=\"userattrs\"></span>&#32;to&#32;<a href=\"https://www.reddit.com/r/PrequelMemes/\" class=\"subreddit hover may-blank\" >r/PrequelMemes</a></p><ul class=\"flat-list buttons\"><li class=\"first\"><a href=\"https://www.reddit.com/r/PrequelMemes/comments/880sf1/quigon_gin_and_darth_maul_putting_up_a_painting/\" data-inbound-url=\"/r/PrequelMemes/comments/880sf1/quigon_gin_and_darth_maul_putting_up_a_painting/?utm_content=comments&amp;utm_medium=best&amp;utm_source=reddit&amp;utm_name=frontpage\" data-href-url=\"/r/PrequelMemes/comments/880sf1/quigon_gin_and_darth_maul_putting_up_a_painting/\" data-event-action=\"comments\" class=\"bylink comments may-blank\" rel=\"nofollow\" >201 comments</a></li><li class=\"share\"><a class=\"post-sharing-button\" href=\"javascript: void 0;\">share</a></li><li class=\"link-save-button save-button login-required\"><a href=\"#\">save</a></li><li><form action=\"/post/hide\" method=\"post\" class=\"state-button hide-button\"><input type=\"hidden\" name=\"executed\" value=\"hidden\" /><span><a href=\"javascript:void(0)\" class=\" \" data-event-action=\"hide\" onclick=\"change_state(this, 'hide', hide_thing);\">hide</a></span></form></li><li class=\"report-button login-required\"><a href=\"javascript:void(0)\" class=\"reportbtn access-required\" data-event-action=\"report\">report</a></li></ul><div class=\"reportform report-t3_880sf1\"></div></div><div class=\"expando expando-uninitialized\" style='display: none' data-cachedhtml=\" &lt;div class=&quot;media-preview&quot; id=&quot;media-preview-880sf1&quot; style=&quot;max-width: 953px&quot;&gt; &lt;div class=&quot;media-preview-content&quot;&gt; &lt;a href=&quot;https://i.redd.it/4h56f3r02po01.jpg&quot; class=&quot;may-blank&quot;&gt; &lt;img class=&quot;preview&quot; src=&quot;https://i.redditmedia.com/t2Kqh-H8Wq6SgHpLFzXkgmFYGLyuAq5Hk--3nsLKuBo.jpg?w=953&amp;amp;s=5e11b1f69f3674d140f699a6671245e1&quot; width=&quot;953&quot; height=&quot;768&quot;&gt; &lt;/a&gt; &lt;/div&gt; &lt;/div&gt; \" data-pin-condition=\"function() {return this.style.display != 'none';}\" ><span class=\"error\">loading...</span></div></div><div class=\"child\" ></div><div class=\"clearleft\"></div></div><div class=\"clearleft\"></div><div class=\" thing id-t3_880qru even&#32; link \" id=\"thing_t3_880qru\" onclick=\"click_thing(this)\" data-fullname=\"t3_880qru\" data-type=\"link\" data-gildings=\"0\" data-whitelist-status=\"all_ads\" data-author=\"sulldc\" data-author-fullname=\"t2_4o24n\" data-subreddit=\"pics\" data-subreddit-prefixed=\"r/pics\" data-subreddit-fullname=\"t5_2qh0u\" data-subreddit-type=\"public\" data-timestamp=\"1522325457000\" data-url=\"https://i.redd.it/zywxl49i1po01.jpg\" data-permalink=\"/r/pics/comments/880qru/new_york_public_library/\" data-domain=\"i.redd.it\" data-rank=\"20\" data-comments-count=\"136\" data-score=\"6424\" data-promoted=\"false\" data-nsfw=\"false\" data-spoiler=\"false\" data-num-crossposts=\"3\" data-context=\"listing\" ><p class=\"parent\"></p><span class=\"rank\">20</span><div class=\"midcol unvoted\" ><div class=\"arrow up login-required access-required\" data-event-action=\"upvote\" role=\"button\" aria-label=\"upvote\" tabindex=\"0\" ></div><div class=\"score dislikes\" title=\"7644\">7644</div><div class=\"score unvoted\" title=\"7645\">7645</div><div class=\"score likes\" title=\"7646\">7646</div><div class=\"arrow down login-required access-required\" data-event-action=\"downvote\" role=\"button\" aria-label=\"downvote\" tabindex=\"0\" ></div></div><a class=\"thumbnail invisible-when-pinned may-blank \" data-event-action=\"thumbnail\" href=\"/r/pics/comments/880qru/new_york_public_library/\" data-href-url=\"/r/pics/comments/880qru/new_york_public_library/\" data-inbound-url=\"/r/pics/comments/880qru/new_york_public_library/?utm_content=thumbnail&amp;utm_medium=best&amp;utm_source=reddit&amp;utm_name=frontpage\" rel=\"\" ><img src=\"//b.thumbs.redditmedia.com/iTyL05djhgGckCwjeWHGIhGELSk_hRDwSgyPINz2sPQ.jpg\" width='70' height='70' alt=\"\"></a><div class=\"entry unvoted\"><div class=\"top-matter\"><p class=\"title\"><a class=\"title may-blank \" data-event-action=\"title\" href=\"/r/pics/comments/880qru/new_york_public_library/\" tabindex=\"1\" data-href-url=\"/r/pics/comments/880qru/new_york_public_library/\" data-inbound-url=\"/r/pics/comments/880qru/new_york_public_library/?utm_content=title&amp;utm_medium=best&amp;utm_source=reddit&amp;utm_name=frontpage\" rel=\"\" >New York Public Library</a>&#32;<span class=\"domain\">(<a href=\"/domain/i.redd.it/\">i.redd.it</a>)</span></p><div class=\"expando-button collapsed hide-when-pinned video\"></div><p class=\"tagline \">submitted&#32;<time title=\"Thu Mar 29 12:10:57 2018 UTC\" datetime=\"2018-03-29T12:10:57+00:00\" class=\"live-timestamp\">5 hours ago</time>&#32;by&#32;<a href=\"https://www.reddit.com/user/sulldc\" class=\"author may-blank id-t2_4o24n\" >sulldc</a><span class=\"userattrs\"></span>&#32;to&#32;<a href=\"https://www.reddit.com/r/pics/\" class=\"subreddit hover may-blank\" >r/pics</a></p><ul class=\"flat-list buttons\"><li class=\"first\"><a href=\"https://www.reddit.com/r/pics/comments/880qru/new_york_public_library/\" data-inbound-url=\"/r/pics/comments/880qru/new_york_public_library/?utm_content=comments&amp;utm_medium=best&amp;utm_source=reddit&amp;utm_name=frontpage\" data-href-url=\"/r/pics/comments/880qru/new_york_public_library/\" data-event-action=\"comments\" class=\"bylink comments may-blank\" rel=\"nofollow\" >153 comments</a></li><li class=\"share\"><a class=\"post-sharing-button\" href=\"javascript: void 0;\">share</a></li><li class=\"link-save-button save-button login-required\"><a href=\"#\">save</a></li><li><form action=\"/post/hide\" method=\"post\" class=\"state-button hide-button\"><input type=\"hidden\" name=\"executed\" value=\"hidden\" /><span><a href=\"javascript:void(0)\" class=\" \" data-event-action=\"hide\" onclick=\"change_state(this, 'hide', hide_thing);\">hide</a></span></form></li><li class=\"report-button login-required\"><a href=\"javascript:void(0)\" class=\"reportbtn access-required\" data-event-action=\"report\">report</a></li></ul><div class=\"reportform report-t3_880qru\"></div></div><div class=\"expando expando-uninitialized\" style='display: none' data-cachedhtml=\" &lt;div class=&quot;media-preview&quot; id=&quot;media-preview-880qru&quot; style=&quot;max-width: 614px&quot;&gt; &lt;div class=&quot;media-preview-content&quot;&gt; &lt;a href=&quot;https://i.redd.it/zywxl49i1po01.jpg&quot; class=&quot;may-blank&quot;&gt; &lt;img class=&quot;preview&quot; src=&quot;https://i.redditmedia.com/IdM6b4TrDwDTepUB2vw9D40jD6u2ye1b81zIzrw-z0o.jpg?w=614&amp;amp;s=08456020f54149a20133ec60ed6cc410&quot; width=&quot;614&quot; height=&quot;768&quot;&gt; &lt;/a&gt; &lt;/div&gt; &lt;/div&gt; \" data-pin-condition=\"function() {return this.style.display != 'none';}\" ><span class=\"error\">loading...</span></div></div><div class=\"child\" ></div><div class=\"clearleft\"></div></div><div class=\"clearleft\"></div><div class=\" thing id-t3_880mgz linkflair odd&#32; link \" id=\"thing_t3_880mgz\" onclick=\"click_thing(this)\" data-fullname=\"t3_880mgz\" data-type=\"link\" data-gildings=\"0\" data-whitelist-status=\"all_ads\" data-author=\"SlimJones123\" data-author-fullname=\"t2_64xzj\" data-subreddit=\"gifs\" data-subreddit-prefixed=\"r/gifs\" data-subreddit-fullname=\"t5_2qt55\" data-subreddit-type=\"public\" data-timestamp=\"1522324234000\" data-url=\"https://gfycat.com/GenerousPeacefulBluemorphobutterfly\" data-permalink=\"/r/gifs/comments/880mgz/bear_catching_snowflakes_on_its_paws/\" data-domain=\"gfycat.com\" data-rank=\"21\" data-comments-count=\"1725\" data-score=\"45838\" data-promoted=\"false\" data-nsfw=\"false\" data-spoiler=\"false\" data-num-crossposts=\"20\" data-context=\"listing\" ><p class=\"parent\"></p><span class=\"rank\">21</span><div class=\"midcol unvoted\" ><div class=\"arrow up login-required access-required\" data-event-action=\"upvote\" role=\"button\" aria-label=\"upvote\" tabindex=\"0\" ></div><div class=\"score dislikes\" title=\"45849\">45.8k</div><div class=\"score unvoted\" title=\"45850\">45.9k</div><div class=\"score likes\" title=\"45851\">45.9k</div><div class=\"arrow down login-required access-required\" data-event-action=\"downvote\" role=\"button\" aria-label=\"downvote\" tabindex=\"0\" ></div></div><a class=\"thumbnail invisible-when-pinned may-blank outbound\" data-event-action=\"thumbnail\" href=\"https://gfycat.com/GenerousPeacefulBluemorphobutterfly\" data-href-url=\"https://gfycat.com/GenerousPeacefulBluemorphobutterfly\" data-outbound-url=\"https://out.reddit.com/t3_880mgz?url=https%3A%2F%2Fgfycat.com%2FGenerousPeacefulBluemorphobutterfly&amp;token=AQAApkK9WlANyAzV6TvvYjWmhQbnKSz2nfsFXgQLauijhoDdhcb5&amp;app_name=reddit.com\" data-outbound-expiration=\"1522352806000\" rel=\"\" ><img src=\"//b.thumbs.redditmedia.com/HTKtAaS68JUv41L5sPSRRH9Favb04fLs_Fu6p0trraU.jpg\" width='70' height='70' alt=\"\"></a><div class=\"entry unvoted\"><div class=\"top-matter\"><p class=\"title\"><a class=\"title may-blank outbound\" data-event-action=\"title\" href=\"https://gfycat.com/GenerousPeacefulBluemorphobutterfly\" tabindex=\"1\" data-href-url=\"https://gfycat.com/GenerousPeacefulBluemorphobutterfly\" data-outbound-url=\"https://out.reddit.com/t3_880mgz?url=https%3A%2F%2Fgfycat.com%2FGenerousPeacefulBluemorphobutterfly&amp;token=AQAApkK9WlANyAzV6TvvYjWmhQbnKSz2nfsFXgQLauijhoDdhcb5&amp;app_name=reddit.com\" data-outbound-expiration=\"1522352806000\" rel=\"\" >Bear catching snowflakes on it's paws</a><span class=\"linkflairlabel\" title=\"* its\">* its</span>&#32;<span class=\"domain\">(<a href=\"/domain/gfycat.com/\">gfycat.com</a>)</span></p><div class=\"expando-button collapsed hide-when-pinned video\"></div><p class=\"tagline \">submitted&#32;<time title=\"Thu Mar 29 11:50:34 2018 UTC\" datetime=\"2018-03-29T11:50:34+00:00\" class=\"live-timestamp\">6 hours ago</time>&#32;by&#32;<a href=\"https://www.reddit.com/user/SlimJones123\" class=\"author may-blank id-t2_64xzj\" >SlimJones123</a><span class=\"userattrs\"></span>&#32;to&#32;<a href=\"https://www.reddit.com/r/gifs/\" class=\"subreddit hover may-blank\" >r/gifs</a></p><ul class=\"flat-list buttons\"><li class=\"first\"><a href=\"https://www.reddit.com/r/gifs/comments/880mgz/bear_catching_snowflakes_on_its_paws/\" data-inbound-url=\"/r/gifs/comments/880mgz/bear_catching_snowflakes_on_its_paws/?utm_content=comments&amp;utm_medium=best&amp;utm_source=reddit&amp;utm_name=frontpage\" data-href-url=\"/r/gifs/comments/880mgz/bear_catching_snowflakes_on_its_paws/\" data-event-action=\"comments\" class=\"bylink comments may-blank\" rel=\"nofollow\" >1725 comments</a></li><li class=\"share\"><a class=\"post-sharing-button\" href=\"javascript: void 0;\">share</a></li><li class=\"link-save-button save-button login-required\"><a href=\"#\">save</a></li><li><form action=\"/post/hide\" method=\"post\" class=\"state-button hide-button\"><input type=\"hidden\" name=\"executed\" value=\"hidden\" /><span><a href=\"javascript:void(0)\" class=\" \" data-event-action=\"hide\" onclick=\"change_state(this, 'hide', hide_thing);\">hide</a></span></form></li><li class=\"report-button login-required\"><a href=\"javascript:void(0)\" class=\"reportbtn access-required\" data-event-action=\"report\">report</a></li></ul><div class=\"reportform report-t3_880mgz\"></div></div><div class=\"expando expando-uninitialized\" style='display: none' data-cachedhtml=\" &lt;iframe src=&quot;//www.redditmedia.com/mediaembed/880mgz&quot; id=&quot;media-embed-880mgz-crx&quot; class=&quot;media-embed&quot; width=&quot;610&quot; height=&quot;1077&quot; border=&quot;0&quot; frameBorder=&quot;0&quot; scrolling=&quot;no&quot; allowfullscreen&gt;&lt;/iframe&gt; \" data-pin-condition=\"function() {return this.style.display != 'none';}\" ><span class=\"error\">loading...</span></div></div><div class=\"child\" ></div><div class=\"clearleft\"></div></div><div class=\"clearleft\"></div><div class=\" thing id-t3_8811mf even&#32; link \" id=\"thing_t3_8811mf\" onclick=\"click_thing(this)\" data-fullname=\"t3_8811mf\" data-type=\"link\" data-gildings=\"0\" data-whitelist-status=\"all_ads\" data-author=\"Pirate_Redbeard\" data-author-fullname=\"t2_wz756\" data-subreddit=\"whitepeoplegifs\" data-subreddit-prefixed=\"r/whitepeoplegifs\" data-subreddit-fullname=\"t5_2vhdb\" data-subreddit-type=\"public\" data-timestamp=\"1522328288000\" data-url=\"https://i.imgur.com/KpkbjTX.gifv\" data-permalink=\"/r/whitepeoplegifs/comments/8811mf/meanwhile_at_the_pool/\" data-domain=\"i.imgur.com\" data-rank=\"22\" data-comments-count=\"974\" data-score=\"19266\" data-promoted=\"false\" data-nsfw=\"false\" data-spoiler=\"false\" data-num-crossposts=\"2\" data-context=\"listing\" ><p class=\"parent\"></p><span class=\"rank\">22</span><div class=\"midcol unvoted\" ><div class=\"arrow up login-required access-required\" data-event-action=\"upvote\" role=\"button\" aria-label=\"upvote\" tabindex=\"0\" ></div><div class=\"score dislikes\" title=\"19277\">19.3k</div><div class=\"score unvoted\" title=\"19278\">19.3k</div><div class=\"score likes\" title=\"19279\">19.3k</div><div class=\"arrow down login-required access-required\" data-event-action=\"downvote\" role=\"button\" aria-label=\"downvote\" tabindex=\"0\" ></div></div><a class=\"thumbnail invisible-when-pinned may-blank outbound\" data-event-action=\"thumbnail\" href=\"https://i.imgur.com/KpkbjTX.gifv\" data-href-url=\"https://i.imgur.com/KpkbjTX.gifv\" data-outbound-url=\"https://out.reddit.com/t3_8811mf?url=https%3A%2F%2Fi.imgur.com%2FKpkbjTX.gifv&amp;token=AQAApkK9Wsf8f5-l0GNpPnxqmgptUgMtqQzfaoJBSPJwlOoj5YIg&amp;app_name=reddit.com\" data-outbound-expiration=\"1522352806000\" rel=\"\" ><img src=\"//a.thumbs.redditmedia.com/iU0HWWKtEukCWriTCrOWiNklpXGB2pOjgkpdE9ltME8.jpg\" width='70' height='68' alt=\"\"></a><div class=\"entry unvoted\"><div class=\"top-matter\"><p class=\"title\"><a class=\"title may-blank outbound\" data-event-action=\"title\" href=\"https://i.imgur.com/KpkbjTX.gifv\" tabindex=\"1\" data-href-url=\"https://i.imgur.com/KpkbjTX.gifv\" data-outbound-url=\"https://out.reddit.com/t3_8811mf?url=https%3A%2F%2Fi.imgur.com%2FKpkbjTX.gifv&amp;token=AQAApkK9Wsf8f5-l0GNpPnxqmgptUgMtqQzfaoJBSPJwlOoj5YIg&amp;app_name=reddit.com\" data-outbound-expiration=\"1522352806000\" rel=\"\" >Meanwhile, at the pool...</a>&#32;<span class=\"domain\">(<a href=\"/domain/i.imgur.com/\">i.imgur.com</a>)</span></p><p class=\"tagline \">submitted&#32;<time title=\"Thu Mar 29 12:58:08 2018 UTC\" datetime=\"2018-03-29T12:58:08+00:00\" class=\"live-timestamp\">5 hours ago</time>&#32;by&#32;<a href=\"https://www.reddit.com/user/Pirate_Redbeard\" class=\"author may-blank id-t2_wz756\" >Pirate_Redbeard</a><span class=\"userattrs\"></span>&#32;to&#32;<a href=\"https://www.reddit.com/r/whitepeoplegifs/\" class=\"subreddit hover may-blank\" >r/whitepeoplegifs</a></p><ul class=\"flat-list buttons\"><li class=\"first\"><a href=\"https://www.reddit.com/r/whitepeoplegifs/comments/8811mf/meanwhile_at_the_pool/\" data-inbound-url=\"/r/whitepeoplegifs/comments/8811mf/meanwhile_at_the_pool/?utm_content=comments&amp;utm_medium=best&amp;utm_source=reddit&amp;utm_name=frontpage\" data-href-url=\"/r/whitepeoplegifs/comments/8811mf/meanwhile_at_the_pool/\" data-event-action=\"comments\" class=\"bylink comments may-blank\" rel=\"nofollow\" >974 comments</a></li><li class=\"share\"><a class=\"post-sharing-button\" href=\"javascript: void 0;\">share</a></li><li class=\"link-save-button save-button login-required\"><a href=\"#\">save</a></li><li><form action=\"/post/hide\" method=\"post\" class=\"state-button hide-button\"><input type=\"hidden\" name=\"executed\" value=\"hidden\" /><span><a href=\"javascript:void(0)\" class=\" \" data-event-action=\"hide\" onclick=\"change_state(this, 'hide', hide_thing);\">hide</a></span></form></li><li class=\"report-button login-required\"><a href=\"javascript:void(0)\" class=\"reportbtn access-required\" data-event-action=\"report\">report</a></li></ul><div class=\"reportform report-t3_8811mf\"></div></div></div><div class=\"child\" ></div><div class=\"clearleft\"></div></div><div class=\"clearleft\"></div><div class=\" thing id-t3_8810i8 odd&#32; link \" id=\"thing_t3_8810i8\" onclick=\"click_thing(this)\" data-fullname=\"t3_8810i8\" data-type=\"link\" data-gildings=\"0\" data-whitelist-status=\"all_ads\" data-author=\"jamesgblanton\" data-author-fullname=\"t2_13cx06li\" data-subreddit=\"EarthPorn\" data-subreddit-prefixed=\"r/EarthPorn\" data-subreddit-fullname=\"t5_2sbq3\" data-subreddit-type=\"public\" data-timestamp=\"1522328020000\" data-url=\"https://i.redd.it/r7fzwhz79po01.jpg\" data-permalink=\"/r/EarthPorn/comments/8810i8/a_single_31_second_exposure_i_captured_of_the/\" data-domain=\"i.redd.it\" data-rank=\"23\" data-comments-count=\"141\" data-score=\"10067\" data-promoted=\"false\" data-nsfw=\"false\" data-spoiler=\"false\" data-num-crossposts=\"1\" data-context=\"listing\" ><p class=\"parent\"></p><span class=\"rank\">23</span><div class=\"midcol unvoted\" ><div class=\"arrow up login-required access-required\" data-event-action=\"upvote\" role=\"button\" aria-label=\"upvote\" tabindex=\"0\" ></div><div class=\"score dislikes\" title=\"14129\">14.1k</div><div class=\"score unvoted\" title=\"14130\">14.1k</div><div class=\"score likes\" title=\"14131\">14.1k</div><div class=\"arrow down login-required access-required\" data-event-action=\"downvote\" role=\"button\" aria-label=\"downvote\" tabindex=\"0\" ></div></div><a class=\"thumbnail invisible-when-pinned may-blank \" data-event-action=\"thumbnail\" href=\"/r/EarthPorn/comments/8810i8/a_single_31_second_exposure_i_captured_of_the/\" data-href-url=\"/r/EarthPorn/comments/8810i8/a_single_31_second_exposure_i_captured_of_the/\" data-inbound-url=\"/r/EarthPorn/comments/8810i8/a_single_31_second_exposure_i_captured_of_the/?utm_content=thumbnail&amp;utm_medium=best&amp;utm_source=reddit&amp;utm_name=frontpage\" rel=\"\" ><img src=\"//b.thumbs.redditmedia.com/OMtcVyCvqZTkdngk2p6kZUz4QlXrBZMfaIf9z51tvic.jpg\" width='70' height='46' alt=\"\"></a><div class=\"entry unvoted\"><div class=\"top-matter\"><p class=\"title\"><a class=\"title may-blank \" data-event-action=\"title\" href=\"/r/EarthPorn/comments/8810i8/a_single_31_second_exposure_i_captured_of_the/\" tabindex=\"1\" data-href-url=\"/r/EarthPorn/comments/8810i8/a_single_31_second_exposure_i_captured_of_the/\" data-inbound-url=\"/r/EarthPorn/comments/8810i8/a_single_31_second_exposure_i_captured_of_the/?utm_content=title&amp;utm_medium=best&amp;utm_source=reddit&amp;utm_name=frontpage\" rel=\"\" >A single 31 second exposure I captured of the Galactic Core rising over Banks Lake National Wildlife Refuge in Lanier County Georgia on Thursday, March 22nd at 5:57 A.M. (1459x973) (OC)</a>&#32;<span class=\"domain\">(<a href=\"/domain/i.redd.it/\">i.redd.it</a>)</span></p><div class=\"expando-button collapsed hide-when-pinned video\"></div><p class=\"tagline \">submitted&#32;<time title=\"Thu Mar 29 12:53:40 2018 UTC\" datetime=\"2018-03-29T12:53:40+00:00\" class=\"live-timestamp\">5 hours ago</time>&#32;by&#32;<a href=\"https://www.reddit.com/user/jamesgblanton\" class=\"author may-blank id-t2_13cx06li\" >jamesgblanton</a><span class=\"userattrs\"></span>&#32;to&#32;<a href=\"https://www.reddit.com/r/EarthPorn/\" class=\"subreddit hover may-blank\" >r/EarthPorn</a></p><ul class=\"flat-list buttons\"><li class=\"first\"><a href=\"https://www.reddit.com/r/EarthPorn/comments/8810i8/a_single_31_second_exposure_i_captured_of_the/\" data-inbound-url=\"/r/EarthPorn/comments/8810i8/a_single_31_second_exposure_i_captured_of_the/?utm_content=comments&amp;utm_medium=best&amp;utm_source=reddit&amp;utm_name=frontpage\" data-href-url=\"/r/EarthPorn/comments/8810i8/a_single_31_second_exposure_i_captured_of_the/\" data-event-action=\"comments\" class=\"bylink comments may-blank\" rel=\"nofollow\" >188 comments</a></li><li class=\"share\"><a class=\"post-sharing-button\" href=\"javascript: void 0;\">share</a></li><li class=\"link-save-button save-button login-required\"><a href=\"#\">save</a></li><li><form action=\"/post/hide\" method=\"post\" class=\"state-button hide-button\"><input type=\"hidden\" name=\"executed\" value=\"hidden\" /><span><a href=\"javascript:void(0)\" class=\" \" data-event-action=\"hide\" onclick=\"change_state(this, 'hide', hide_thing);\">hide</a></span></form></li><li class=\"report-button login-required\"><a href=\"javascript:void(0)\" class=\"reportbtn access-required\" data-event-action=\"report\">report</a></li></ul><div class=\"reportform report-t3_8810i8\"></div></div><div class=\"expando expando-uninitialized\" style='display: none' data-cachedhtml=\" &lt;div class=&quot;media-preview&quot; id=&quot;media-preview-8810i8&quot; style=&quot;max-width: 1024px&quot;&gt; &lt;div class=&quot;media-preview-content&quot;&gt; &lt;a href=&quot;https://i.redd.it/r7fzwhz79po01.jpg&quot; class=&quot;may-blank&quot;&gt; &lt;img class=&quot;preview&quot; src=&quot;https://i.redditmedia.com/9GURq4fKilBhmxcDM1Uhx5ILNCaCoScrQQ3RRL18foU.jpg?w=1024&amp;amp;s=3411dd6af7e9ee7dc1930579ccac50fb&quot; width=&quot;1024&quot; height=&quot;682&quot;&gt; &lt;/a&gt; &lt;/div&gt; &lt;/div&gt; \" data-pin-condition=\"function() {return this.style.display != 'none';}\" ><span class=\"error\">loading...</span></div></div><div class=\"child\" ></div><div class=\"clearleft\"></div></div><div class=\"clearleft\"></div><div class=\" thing id-t3_880w8o linkflair linkflair-2 even&#32; link \" id=\"thing_t3_880w8o\" onclick=\"click_thing(this)\" data-fullname=\"t3_880w8o\" data-type=\"link\" data-gildings=\"0\" data-whitelist-status=\"all_ads\" data-author=\"crazyfeekus\" data-author-fullname=\"t2_kg0tcz5\" data-subreddit=\"pics\" data-subreddit-prefixed=\"r/pics\" data-subreddit-fullname=\"t5_2qh0u\" data-subreddit-type=\"public\" data-timestamp=\"1522326916000\" data-url=\"https://i.redd.it/kmacbonz5po01.jpg\" data-permalink=\"/r/pics/comments/880w8o/cherry_blossom_in_japan/\" data-domain=\"i.redd.it\" data-rank=\"24\" data-comments-count=\"157\" data-score=\"19724\" data-promoted=\"false\" data-nsfw=\"false\" data-spoiler=\"false\" data-num-crossposts=\"2\" data-context=\"listing\" ><p class=\"parent\"></p><span class=\"rank\">24</span><div class=\"midcol unvoted\" ><div class=\"arrow up login-required access-required\" data-event-action=\"upvote\" role=\"button\" aria-label=\"upvote\" tabindex=\"0\" ></div><div class=\"score dislikes\" title=\"19807\">19.8k</div><div class=\"score unvoted\" title=\"19808\">19.8k</div><div class=\"score likes\" title=\"19809\">19.8k</div><div class=\"arrow down login-required access-required\" data-event-action=\"downvote\" role=\"button\" aria-label=\"downvote\" tabindex=\"0\" ></div></div><a class=\"thumbnail invisible-when-pinned may-blank \" data-event-action=\"thumbnail\" href=\"/r/pics/comments/880w8o/cherry_blossom_in_japan/\" data-href-url=\"/r/pics/comments/880w8o/cherry_blossom_in_japan/\" data-inbound-url=\"/r/pics/comments/880w8o/cherry_blossom_in_japan/?utm_content=thumbnail&amp;utm_medium=best&amp;utm_source=reddit&amp;utm_name=frontpage\" rel=\"\" ><img src=\"//b.thumbs.redditmedia.com/G4h0hhZB_TnXoJl93JWa9ddJ8_WgSRntXb6haXrlm1c.jpg\" width='70' height='52' alt=\"\"></a><div class=\"entry unvoted\"><div class=\"top-matter\"><p class=\"title\"><a class=\"title may-blank \" data-event-action=\"title\" href=\"/r/pics/comments/880w8o/cherry_blossom_in_japan/\" tabindex=\"1\" data-href-url=\"/r/pics/comments/880w8o/cherry_blossom_in_japan/\" data-inbound-url=\"/r/pics/comments/880w8o/cherry_blossom_in_japan/?utm_content=title&amp;utm_medium=best&amp;utm_source=reddit&amp;utm_name=frontpage\" rel=\"\" >Cherry blossom in Japan</a><span class=\"linkflairlabel\" title=\"*China\">*China</span>&#32;<span class=\"domain\">(<a href=\"/domain/i.redd.it/\">i.redd.it</a>)</span></p><div class=\"expando-button collapsed hide-when-pinned video\"></div><p class=\"tagline \">submitted&#32;<time title=\"Thu Mar 29 12:35:16 2018 UTC\" datetime=\"2018-03-29T12:35:16+00:00\" class=\"live-timestamp\">6 hours ago</time>&#32;by&#32;<a href=\"https://www.reddit.com/user/crazyfeekus\" class=\"author may-blank id-t2_kg0tcz5\" >crazyfeekus</a><span class=\"userattrs\"></span>&#32;to&#32;<a href=\"https://www.reddit.com/r/pics/\" class=\"subreddit hover may-blank\" >r/pics</a></p><ul class=\"flat-list buttons\"><li class=\"first\"><a href=\"https://www.reddit.com/r/pics/comments/880w8o/cherry_blossom_in_japan/\" data-inbound-url=\"/r/pics/comments/880w8o/cherry_blossom_in_japan/?utm_content=comments&amp;utm_medium=best&amp;utm_source=reddit&amp;utm_name=frontpage\" data-href-url=\"/r/pics/comments/880w8o/cherry_blossom_in_japan/\" data-event-action=\"comments\" class=\"bylink comments may-blank\" rel=\"nofollow\" >157 comments</a></li><li class=\"share\"><a class=\"post-sharing-button\" href=\"javascript: void 0;\">share</a></li><li class=\"link-save-button save-button login-required\"><a href=\"#\">save</a></li><li><form action=\"/post/hide\" method=\"post\" class=\"state-button hide-button\"><input type=\"hidden\" name=\"executed\" value=\"hidden\" /><span><a href=\"javascript:void(0)\" class=\" \" data-event-action=\"hide\" onclick=\"change_state(this, 'hide', hide_thing);\">hide</a></span></form></li><li class=\"report-button login-required\"><a href=\"javascript:void(0)\" class=\"reportbtn access-required\" data-event-action=\"report\">report</a></li></ul><div class=\"reportform report-t3_880w8o\"></div></div><div class=\"expando expando-uninitialized\" style='display: none' data-cachedhtml=\" &lt;div class=&quot;media-preview&quot; id=&quot;media-preview-880w8o&quot; style=&quot;max-width: 1024px&quot;&gt; &lt;div class=&quot;media-preview-content&quot;&gt; &lt;a href=&quot;https://i.redd.it/kmacbonz5po01.jpg&quot; class=&quot;may-blank&quot;&gt; &lt;img class=&quot;preview&quot; src=&quot;https://i.redditmedia.com/y06cXrA9sOz9kMiPts6pikwL7pLIw3idCwJrPTZAICI.jpg?w=1024&amp;amp;s=0b4474e4c8814c04fa4954da680572fc&quot; width=&quot;1024&quot; height=&quot;768&quot;&gt; &lt;/a&gt; &lt;/div&gt; &lt;/div&gt; \" data-pin-condition=\"function() {return this.style.display != 'none';}\" ><span class=\"error\">loading...</span></div></div><div class=\"child\" ></div><div class=\"clearleft\"></div></div><div class=\"clearleft\"></div><div class=\" thing id-t3_880vrl linkflair linkflair-001 odd&#32; link \" id=\"thing_t3_880vrl\" onclick=\"click_thing(this)\" data-fullname=\"t3_880vrl\" data-type=\"link\" data-gildings=\"0\" data-whitelist-status=\"all_ads\" data-author=\"august_hakansson\" data-author-fullname=\"t2_xxee6\" data-subreddit=\"HighQualityGifs\" data-subreddit-prefixed=\"r/HighQualityGifs\" data-subreddit-fullname=\"t5_2ylxz\" data-subreddit-type=\"public\" data-timestamp=\"1522326797000\" data-url=\"https://gfycat.com/SilentWiltedArawana\" data-permalink=\"/r/HighQualityGifs/comments/880vrl/the_perfect_gif/\" data-domain=\"gfycat.com\" data-rank=\"25\" data-comments-count=\"102\" data-score=\"12606\" data-promoted=\"false\" data-nsfw=\"false\" data-spoiler=\"false\" data-num-crossposts=\"1\" data-context=\"listing\" ><p class=\"parent\"></p><span class=\"rank\">25</span><div class=\"midcol unvoted\" ><div class=\"arrow up login-required access-required\" data-event-action=\"upvote\" role=\"button\" aria-label=\"upvote\" tabindex=\"0\" ></div><div class=\"score dislikes\" title=\"12610\">12.6k</div><div class=\"score unvoted\" title=\"12611\">12.6k</div><div class=\"score likes\" title=\"12612\">12.6k</div><div class=\"arrow down login-required access-required\" data-event-action=\"downvote\" role=\"button\" aria-label=\"downvote\" tabindex=\"0\" ></div></div><a class=\"thumbnail invisible-when-pinned may-blank outbound\" data-event-action=\"thumbnail\" href=\"https://gfycat.com/SilentWiltedArawana\" data-href-url=\"https://gfycat.com/SilentWiltedArawana\" data-outbound-url=\"https://out.reddit.com/t3_880vrl?url=https%3A%2F%2Fgfycat.com%2FSilentWiltedArawana&amp;token=AQAApkK9WsdKxfMO0u2MdVYpUV9Uf8_yKuUzIPlJbJd7_4xg3uQ1&amp;app_name=reddit.com\" data-outbound-expiration=\"1522352806000\" rel=\"\" ><img src=\"//b.thumbs.redditmedia.com/hHq_K9Dhzslw15VT_1xrq0VwvbfA-CCCMU82ER9-G3k.jpg\" width='70' height='39' alt=\"\"></a><div class=\"entry unvoted\"><div class=\"top-matter\"><p class=\"title\"><a class=\"title may-blank outbound\" data-event-action=\"title\" href=\"https://gfycat.com/SilentWiltedArawana\" tabindex=\"1\" data-href-url=\"https://gfycat.com/SilentWiltedArawana\" data-outbound-url=\"https://out.reddit.com/t3_880vrl?url=https%3A%2F%2Fgfycat.com%2FSilentWiltedArawana&amp;token=AQAApkK9WsdKxfMO0u2MdVYpUV9Uf8_yKuUzIPlJbJd7_4xg3uQ1&amp;app_name=reddit.com\" data-outbound-expiration=\"1522352806000\" rel=\"\" >The perfect GIF</a><span class=\"linkflairlabel\" title=\"The Simpsons /r/all\">The Simpsons /r/all</span>&#32;<span class=\"domain\">(<a href=\"/domain/gfycat.com/\">gfycat.com</a>)</span></p><div class=\"expando-button collapsed hide-when-pinned video\"></div><p class=\"tagline \">submitted&#32;<time title=\"Thu Mar 29 12:33:17 2018 UTC\" datetime=\"2018-03-29T12:33:17+00:00\" class=\"live-timestamp\">6 hours ago</time>&#32;by&#32;<a href=\"https://www.reddit.com/user/august_hakansson\" class=\"author may-blank id-t2_xxee6\" >august_hakansson</a><span class=\"userattrs\"></span>&#32;to&#32;<a href=\"https://www.reddit.com/r/HighQualityGifs/\" class=\"subreddit hover may-blank\" >r/HighQualityGifs</a></p><ul class=\"flat-list buttons\"><li class=\"first\"><a href=\"https://www.reddit.com/r/HighQualityGifs/comments/880vrl/the_perfect_gif/\" data-inbound-url=\"/r/HighQualityGifs/comments/880vrl/the_perfect_gif/?utm_content=comments&amp;utm_medium=best&amp;utm_source=reddit&amp;utm_name=frontpage\" data-href-url=\"/r/HighQualityGifs/comments/880vrl/the_perfect_gif/\" data-event-action=\"comments\" class=\"bylink comments may-blank\" rel=\"nofollow\" >102 comments</a></li><li class=\"share\"><a class=\"post-sharing-button\" href=\"javascript: void 0;\">share</a></li><li class=\"link-save-button save-button login-required\"><a href=\"#\">save</a></li><li><form action=\"/post/hide\" method=\"post\" class=\"state-button hide-button\"><input type=\"hidden\" name=\"executed\" value=\"hidden\" /><span><a href=\"javascript:void(0)\" class=\" \" data-event-action=\"hide\" onclick=\"change_state(this, 'hide', hide_thing);\">hide</a></span></form></li><li class=\"report-button login-required\"><a href=\"javascript:void(0)\" class=\"reportbtn access-required\" data-event-action=\"report\">report</a></li></ul><div class=\"reportform report-t3_880vrl\"></div></div><div class=\"expando expando-uninitialized\" style='display: none' data-cachedhtml=\" &lt;iframe src=&quot;//www.redditmedia.com/mediaembed/880vrl&quot; id=&quot;media-embed-880vrl-t45&quot; class=&quot;media-embed&quot; width=&quot;610&quot; height=&quot;347&quot; border=&quot;0&quot; frameBorder=&quot;0&quot; scrolling=&quot;no&quot; allowfullscreen&gt;&lt;/iframe&gt; \" data-pin-condition=\"function() {return this.style.display != 'none';}\" ><span class=\"error\">loading...</span></div></div><div class=\"child\" ></div><div class=\"clearleft\"></div></div><div class=\"clearleft\"></div><div class=\"nav-buttons\"><span class=\"nextprev\">view more:&#32;<span class=\"next-button\"><a href=\"https://www.reddit.com/?count=25&amp;after=t3_880vrl\" rel=\"nofollow next\" >next &rsaquo;</a></span></span></div></div></div><script id=\"archived-popup\" type=\"text/template\"><div class=\"interstitial\"><img class=\"interstitial-image\" src=\"//www.redditstatic.com/interstitial-image-archived.png\" alt=\"archived\" height=\"150\" width=\"150\"><div class=\"interstitial-message md-container\"><div class=\"md\"><h3>This is an archived post. You won't be able to vote or comment.</h3><p>Posts&#32;are&#32;automatically&#32;archived&#32;after&#32;6&#32;months.</p></div></div><div class=\"buttons\"><a href=\"/\" class=\"c-btn c-btn-primary\">Got It</a></div></div></script></div><div class=\"footer-parent\"><div by-zero class=\"footer rounded\"><div class=\"col\"><ul class=\"flat-vert hover\" ><li class=\"flat-vert title\">about</li><li ><a href=\"https://www.reddit.com/blog/\" class=\"choice\" >blog</a></li><li ><span class=\"separator\"></span><a href=\"https://about.reddit.com/\" class=\"choice\" >about</a></li><li ><span class=\"separator\"></span><a href=\"https://www.reddit.com/advertising/\" class=\"choice\" >advertise</a></li><li ><span class=\"separator\"></span><a href=\"https://about.reddit.com/careers/\" class=\"choice\" >careers</a></li></ul></div><div class=\"col\"><ul class=\"flat-vert hover\" ><li class=\"flat-vert title\">help</li><li ><a href=\"https://www.reddit.com/rules/\" class=\"choice\" >site rules</a></li><li ><span class=\"separator\"></span><a href=\"https://www.reddithelp.com\" class=\"choice\" >Reddit help center</a></li><li ><span class=\"separator\"></span><a href=\"https://www.reddit.com/wiki/\" class=\"choice\" >wiki</a></li><li ><span class=\"separator\"></span><a href=\"https://www.reddit.com/wiki/reddiquette/\" class=\"choice\" >reddiquette</a></li><li ><span class=\"separator\"></span><a href=\"https://www.reddit.com/help/healthycommunities/\" class=\"choice\" >mod guidelines</a></li><li ><span class=\"separator\"></span><a href=\"https://www.reddit.com/contact/\" class=\"choice\" >contact us</a></li></ul></div><div class=\"col\"><ul class=\"flat-vert hover\" ><li class=\"flat-vert title\">apps &amp; tools</li><li ><a href=\"https://itunes.apple.com/us/app/reddit-the-official-app/id1064216828?mt=8\" class=\"choice\" >Reddit for iPhone</a></li><li ><span class=\"separator\"></span><a href=\"https://play.google.com/store/apps/details?id=com.reddit.frontpage\" class=\"choice\" >Reddit for Android</a></li><li ><span class=\"separator\"></span><a href=\"#\" class=\"mweb-redirect-btn choice\" >mobile website</a></li><li ><span class=\"separator\"></span><a href=\"https://www.reddit.com/buttons/\" class=\"choice\" >buttons</a></li></ul></div><div class=\"col\"><ul class=\"flat-vert hover\" ><li class=\"flat-vert title\">&lt;3</li><li ><a href=\"https://www.reddit.com/gold/about/\" class=\"buygold choice\" >reddit gold</a></li><li ><span class=\"separator\"></span><a href=\"http://redditgifts.com\" class=\"choice\" >redditgifts</a></li></ul></div></div><p class=\"bottommenu\">Use of this site constitutes acceptance of our&#32;<a href=\"https://www.reddit.com/help/useragreement\" >User Agreement</a>&#32;and&#32;<a href=\"https://www.reddit.com/help/privacypolicy\" >Privacy Policy</a>. &copy; 2018 reddit inc. All rights reserved.</p><p class=\"bottommenu\">REDDIT and the ALIEN Logo are registered trademarks of reddit inc.</p></div><script>var BETA_HOST = 'beta.reddit.com'; if (location.host === BETA_HOST) { r.config.https_endpoint = 'https://' + BETA_HOST; }</script><script id=\"login-popup\" type=\"text/template\"><!-- Login form function --><div id=\"desktop-onboarding-browse\" class=\"c-step-sign-up\"><div class=\"desktop-onboarding-step desktop-onboarding-step_sign-up\"><div class=\"desktop-onboarding__col desktop-onboarding__col_sign-up_form\"><div class=\"reddit-logo\"><img width='200px' src=\"//www.redditstatic.com/logo.svg\" /></div><h2 class=\"desktop-onboarding__title\">Sign up to get your own personalized Reddit experience!</h2><p class=\"desktop-onboarding__description\">By having a Reddit account, you can subscribe, vote, and comment on all your favorite Reddit content. Sign up in just seconds.</p><div class=\"desktop-onboarding-sign-up__form-container c-is-create\"><div class=\"desktop-onboarding-sign-up__form desktop-onboarding-sign-up__form_create\"><h3 class=\"desktop-onboarding-sign-up__form-title\">Enter email</h3><form class=\"sign-up-form\" id=\"desktop-onboarding-sign-up-form\" autocomplete=\"off\"><div class=\"c-form-group \"><label for=\"email\" class=\"screenreader-only\">email:</label><input name=\"email\" id=\"desktop-onboarding-email\" class=\"c-form-control\" type=\"text\" autofocus placeholder=\"email address\" data-validate-url=\"/api/check_email.json\" data-validate-on=\"keyup change blur\" /><div class=\"c-form-control-feedback-wrapper \"><span class=\"c-form-control-feedback c-form-control-feedback-throbber\"></span><span class=\"c-form-control-feedback c-form-control-feedback-error\" title=\"\"></span><span class=\"c-form-control-feedback c-form-control-feedback-success\"></span></div></div><button type=\"submit\" class=\"c-btn c-btn-primary desktop-onboarding__next-button\">Next</button><p class=\"desktop-onboarding-sign-up__form-note google-experiment\">or</p><div class=\"google-button google-experiment\"><div class=\"google-button__icon\"></div><div class=\"google-button__text\">Sign up with Google</div></div><div class=\"google-button__error\"><div class=\"sorry\">Sorry, we can't connect to Google right now.</div><div class=\"not-sorry\">Please try again later.</div></div><p class=\"desktop-onboarding-sign-up__form-note\"><span>Already have an account?</span><a href=\".\" class=\"desktop-onboarding-sign-up__form-toggler\" data-form=\"login\">Log In</a><a href=\"javascript: void 0;\" class=\"skip-for-now\">Skip for now</a></p></form></div><div class=\"desktop-onboarding-sign-up__form desktop-onboarding-sign-up__form_login\"><h3 class=\"desktop-onboarding-sign-up__form-title\">Log In</h3><form id=\"login-form\" method=\"post\" action=\"https://www.reddit.com/post/login\" class=\"form-v2 onboarding-login\"><input type=\"hidden\" name=\"op\" value=\"login\"><div class=\"c-form-group \"><label for=\"user_login\" class=\"screenreader-only\">username</label><input value=\"\" name=\"user\" id=\"user_login\" autofocus class=\"c-form-control\" type=\"text\" maxlength=\"20\" tabindex=\"3\" placeholder=\"username\" ><div class=\"c-form-control-feedback-wrapper \"><span class=\"c-form-control-feedback c-form-control-feedback-throbber\"></span><span class=\"c-form-control-feedback c-form-control-feedback-error\" title=\"\"></span><span class=\"c-form-control-feedback c-form-control-feedback-success\"></span></div></div><div class=\"c-form-group \"><label for=\"passwd_login\" class=\"screenreader-only\">password</label><input id=\"passwd_login\" class=\"c-form-control\" name=\"passwd\" type=\"password\" tabindex=\"3\" placeholder=\"password\" ><div class=\"c-form-control-feedback-wrapper \"><span class=\"c-form-control-feedback c-form-control-feedback-throbber\"></span><span class=\"c-form-control-feedback c-form-control-feedback-error\" title=\"\"></span><span class=\"c-form-control-feedback c-form-control-feedback-success\"></span></div></div><div class=\"desktop-onboarding-sign-up__form-note\"><span>Don't have an account?</span><a href=\".\" class=\"desktop-onboarding-sign-up__form-toggler\" data-form=\"create\">Sign up</a>&nbsp|<a href=\"/password\">Reset password</a></div><input type=\"hidden\" value=\"yes\" name=\"rem\"/><div class=\"spacer\"><div class=\"c-form-group g-recaptcha\" data-sitekey=\"6LeTnxkTAAAAAN9QEuDZRpn90WwKk_R1TRW_g-JC\"></div><span class=\"error BAD_CAPTCHA field-captcha\" style=\"display:none\"></span></div><div class=\"c-clearfix c-submit-group\"><span class=\"c-form-throbber\"></span><button type=\"submit\" class=\"c-btn c-btn-primary c-pull-right\" tabindex=\"3\">log in</button></div><div><div class=\"c-alert c-alert-danger\"></div><span class=\"status\"></span></div></form></div></div><footer>By signing up, you agree to our&#32;<a href=\"https://www.reddit.com/help/useragreement/\" >Terms</a>&#32;and that you have read our&#32;<a href=\"https://www.reddit.com/help/privacypolicy/\" >Privacy Policy</a>&#32;and&#32;<a href=\"https://www.reddit.com/help/contentpolicy/\" >Content Policy</a>.</footer></div><div class=\"desktop-onboarding__col desktop-onboarding__col_sign-up_image\"></div></div><div class=\"desktop-onboarding-step desktop-onboarding-step_subreddit-picker\"><div class=\"subreddit-picker-header\"><h2 class=\"desktop-onboarding__title\">Find the good stuff</h2><p class=\"desktop-onboarding__description\">Reddit is filled with interest based communities, offering something for everyone. Check out some communities and we recommend you subscribe to at least 5.</p></div><div class=\"subreddit-picker\"><ul class=\"subreddit-picker__categories\"></ul><ul class=\"subreddit-picker__subreddits\"></ul><div class=\"subreddit-picker__fail\"><span>Something went wrong.</span><a href=\".\">Try Again?</a></div><div class=\"subreddit-picker__category-fail\"><span>Something went wrong.</span><a href=\".\">Try Again?</a></div></div><footer><div class=\"subreddit-picker-progress\"><div class=\"subreddit-picker-progress__track\"><div class=\"subreddit-picker-progress__bar\"></div></div><span class=\"subreddit-picker-progress__num\">0</span><span>/</span><span class=\"subreddit-picker-progress__denom\">5</span><span>&nbsp;<span class=\"subreddit-subscription-count\">recommended subscriptions</span></span></div><span class=\"desktop-onboarding__step-number\">Step 2 of 3</span><div class=\"desktop-onboarding__buttons\"><button class=\"c-btn desktop-onboarding__back-button\">Back</button><button class=\"c-btn c-btn-primary desktop-onboarding__next-button\">Next</button></div></footer></div><div class=\"desktop-onboarding-step desktop-onboarding-step_username\"><div class=\"desktop-onboarding__col desktop-onboarding__col_username_form\"><h2 class=\"desktop-onboarding__title\">Choose your username</h2><p class=\"desktop-onboarding__description\">Your username is how other community members will see you. This name will be used to credit you for things you share on Reddit. What should we call you?</p><div class=desktop-onboarding-username-form><form id=\"register-form\" method=\"post\" action=\"https://www.reddit.com/post/reg\" autocomplete=\"off\" class=\"form-v2 onboarding-login\"><input type=\"hidden\" name=\"op\" value=\"reg\"><input type=\"hidden\" id=\"desktop-onboarding-register-email\" name=\"email\" value=\"\"><input type=\"hidden\" id=\"desktop-onboarding-subreddits\" name=\"sr\" value=\"\"><div class=\"c-form-group \"><label class=\"desktop-onboarding-sign-up__form-title\" for=\"user_reg\">Choose username</label><input value=\"\" name=\"user\" id=\"user_reg\" autofocus class=\"c-form-control\" type=\"text\" maxlength=\"20\" tabindex=\"2\" placeholder=\"username\" data-validate-url=\"/api/check_username.json\" data-validate-min=\"3\" autocomplete=\"new-username\" ><div class=\"c-form-control-feedback-wrapper \"><span class=\"c-form-control-feedback c-form-control-feedback-throbber\"></span><span class=\"c-form-control-feedback c-form-control-feedback-error\" title=\"\"></span><span class=\"c-form-control-feedback c-form-control-feedback-success\"></span></div></div><div class=\"c-form-group \"><label for=\"passwd_reg\" class=\"desktop-onboarding-sign-up__form-title\">Set password</label><input id=\"passwd_reg\" class=\"c-form-control\" name=\"passwd\" type=\"password\" tabindex=\"2\" placeholder=\"password\" data-validate-url='/api/check_password.json' autocomplete='new-password'><div class=\"c-form-control-feedback-wrapper \"><span class=\"c-form-control-feedback c-form-control-feedback-throbber\"></span><span class=\"c-form-control-feedback c-form-control-feedback-error\" title=\"\"></span><span class=\"c-form-control-feedback c-form-control-feedback-success\"></span></div></div><input type=\"hidden\" name=\"passwd2\" id=\"passwd2_reg\" class=\"c-form-control\"><input type=\"hidden\" value=\"yes\" name=\"rem\"/><div class=\"spacer\"><div class=\"c-form-group g-recaptcha\" data-sitekey=\"6LeTnxkTAAAAAN9QEuDZRpn90WwKk_R1TRW_g-JC\"></div><span class=\"error BAD_CAPTCHA field-captcha\" style=\"display:none\"></span></div><div><div class=\"c-alert c-alert-danger\"></div><span class=\"status\"></span><span class=\"error RATELIMIT field-ratelimit\" style=\"display:none\"></span><span class=\"error RATELIMIT field-vdelay\" style=\"display:none\"></span></div></form></div></div><div class=\"desktop-onboarding__col desktop-onboarding__col_username_picker\"><div class=\"username-generator\"><p class=\"desktop-onboarding__description\">Having a hard time picking a name?<br />Here are some available suggestions.</p><div class=\"username-generator__suggestions\"></div><a href=\"javascript: void 0;\" class=\"username-generator__refresh-button\">Refresh suggestions</a></div><footer><span class=\"desktop-onboarding__step-number\">Step 3 of 3</span><div class=\"desktop-onboarding__buttons\"><button class=\"c-btn desktop-onboarding__back-button\">Back</button><button class=\"c-btn c-btn-primary desktop-onboarding__next-button\">Submit</button></div></footer></div></div></div></script><script id=\"lang-popup\" type=\"text/template\"><form action=\"https://www.reddit.com/post/unlogged_options\" method=\"post\" class=\"pretty-form short-text prefoptions\"><input type=\"hidden\" name=\"uh\" value=\"\" /><table class=\"content preftable\"><tr><th>interface language</th><td class=\"prefright\"><select id=\"lang\" name=\"lang\"><option selected='selected' value=\"en\">English [en]</option><option value=\"af\">Afrikaans [af] (*)</option><option value=\"ar\">العربية [ar] (*)</option><option value=\"be\">Беларуская мова [be] (*)</option><option value=\"bg\">български език [bg]</option><option value=\"bn-IN\">বাংলা [bn-IN] (*)</option><option value=\"bn-bd\">বাংলা [bn-bd] (*)</option><option value=\"bs\">Bosanski [bs] (*)</option><option value=\"ca\">català [ca]</option><option value=\"cs\">česky [cs]</option><option value=\"cy\">Cymraeg [cy] (*)</option><option value=\"da\">dansk [da]</option><option value=\"de\">Deutsch [de]</option><option value=\"el\">Ελληνικά [el]</option><option value=\"en-au\">English (Australia) [en-au]</option><option value=\"en-ca\">English (Canadian) [en-ca]</option><option value=\"en-gb\">English (Great Britain) [en-gb]</option><option value=\"en-us\">English [en-us]</option><option value=\"eo\">Esperanto [eo] (*)</option><option value=\"es\">español [es]</option><option value=\"es-ar\">español [es-ar]</option><option value=\"es-cl\">español [es-cl]</option><option value=\"es-mx\">Español [es-mx]</option><option value=\"et\">eesti keel [et] (*)</option><option value=\"eu\">Euskara [eu]</option><option value=\"fa\">فارسی [fa]</option><option value=\"fi\">suomi [fi]</option><option value=\"fil\">Filipino [fil] (*)</option><option value=\"fr\">français [fr]</option><option value=\"fr-ca\">Français [fr-ca]</option><option value=\"fy-NL\">Frysk [fy-NL] (*)</option><option value=\"ga-ie\">Gaeilge [ga-ie] (*)</option><option value=\"gd\">Gàidhlig [gd]</option><option value=\"gl\">Galego [gl] (*)</option><option value=\"he\">עברית [he] (*)</option><option value=\"hi\">मानक हिन्दी [hi] (*)</option><option value=\"hr\">hrvatski [hr]</option><option value=\"hu\">Magyar [hu]</option><option value=\"hy\">Հայերեն լեզու [hy]</option><option value=\"id\">Bahasa Indonesia [id] (*)</option><option value=\"is\">íslenska [is]</option><option value=\"it\">italiano (Italy) [it]</option><option value=\"ja\">日本語 [ja]</option><option value=\"kn_IN\">ಕನ್ನಡ [kn_IN]</option><option value=\"ko\">한국어 [ko]</option><option value=\"la\">Latin [la] (*)</option><option value=\"leet\">1337 [leet]</option><option value=\"lol\">LOL [lol]</option><option value=\"lt\">lietuvių kalba [lt] (*)</option><option value=\"lv\">latviešu valoda [lv]</option><option value=\"ms\">Bahasa Melayu [ms] (*)</option><option value=\"mt-MT\">Malti [mt-MT]</option><option value=\"nl\">Nederlands [nl]</option><option value=\"nn\">Nynorsk [nn]</option><option value=\"no\">Norsk [no]</option><option value=\"pir\">Arrrrrrrr! [pir] (*)</option><option value=\"pl\">polski [pl]</option><option value=\"pt\">português [pt] (*)</option><option value=\"pt-pt\">português [pt-pt]</option><option value=\"pt_BR\">português brasileiro [pt_BR]</option><option value=\"ro\">română [ro]</option><option value=\"ru\">русский [ru]</option><option value=\"sk\">slovenčina [sk]</option><option value=\"sl\">slovenščina [sl] (*)</option><option value=\"sr\">српски језик [sr]</option><option value=\"sr-la\">Srpski [sr-la]</option><option value=\"sv\">Svenska [sv]</option><option value=\"ta\">தமிழ் [ta]</option><option value=\"th\">ภาษาไทย [th]</option><option value=\"tr\">Türkçe [tr]</option><option value=\"uk\">українська мова [uk]</option><option value=\"vi\">Tiếng Việt [vi]</option><option value=\"zh\">中文 [zh]</option><option value=\"zh-cn\">简化字 [zh-cn]</option></select>&#32;<span class=\"details hover\">(*) incomplete &#32;<a href=\"https://www.reddit.com/r/i18n/wiki/getting_started\">volunteer to translate</a></span></td></tr><tr><td><input type=\"submit\" class=\"btn save-preferences\" value=\"save options\"/></td></tr></table></form></script><img id=\"hsts_pixel\" src=\"//reddit.com/static/pixel.png\"><p class=\"debuginfo\"><span class=\"icon\">&pi;</span>&nbsp;<span class=\"content\">Rendered by PID 43006 on&#32; app-280 &#32;at 2018-03-29 18:46:46.445892+00:00 running 393cd81 country code: US.</span></p><script type=\"text/javascript\" src=\"//www.redditstatic.com/reddit.en.VNqAYAsyUkE.js\"></script><script type=\"text/javascript\" src=\"//www.redditstatic.com/onboarding-splash.5rGpjR57dvE.js\"></script><script type=\"text/javascript\" src=\"//www.redditstatic.com/author-tooltip.YctRSapjI9o.js\"></script><script type=\"text/javascript\" src=\"//www.redditstatic.com/spoiler-text.vsLMfxcst1g.js\"></script><script>(function() { var ads = window.__adslots = window.__adslots || []; window.googletag = window.googletag || {}; googletag.cmd = googletag.cmd || []; function indexGoogleTagSlots(googSlots) { return googSlots.reduce(function(o, slot) { var slotID = slot.getSlotElementId(); o[slotID] = slot; return o; }, {}); } var gads = document.createElement('script'); gads.async = true; gads.type = 'text/javascript'; var useSSL = 'https:' == document.location.protocol; gads.src = (useSSL ? 'https:' : 'http:') + '//www.googletagservices.com/tag/js/gpt.js'; var node = document.getElementsByTagName('script')[0]; node.parentNode.insertBefore(gads, node); googletag.cmd.push(function() { googletag.pubads().disableInitialLoad(); googletag.pubads().setSafeFrameConfig({ allowOverlayExpansion: false, allowPushExpansion: false, sandbox: !(r.utils.testAcceptableAds() && /firefox/i.test(navigator.userAgent)), }); googletag.enableServices(); }); var percentage = 0.05; var usePrebid = window._usePrebid = Math.random()<= percentage || /.*prebid=1.*/.test(location.search || ''); if (usePrebid) { /* prebid */ window.pbjs = window.pbjs || {}; pbjs.que = pbjs.que || []; pbjs.que.push(function() { pbjs.setConfig({ priceGranularity: { buckets: [{ min: 0, max: 3, increment: 0.01, }, { min: 3, max: 8, increment: 0.05, }, { min: 8, max: 20, increment: 0.5, }, { min: 20, max: 35, increment: 1, }], }, }); }); var pb = document.createElement('script'); pb.type = 'text/javascript'; pb.async = true; pb.src = \"//www.redditstatic.com/js/prebid.js\"; var s = document.getElementsByTagName('script')[0]; s.parentNode.insertBefore(pb, s); } else { /* amazon a9 ads */ !function(a9,a,p,s,t,A,g){if(a[a9])return;function q(c,r){a[a9]._Q.push([c,r])}a[a9]={init:function(){q('i',arguments)},fetchBids:function(){q('f',arguments)},_Q:[]};A=p.createElement(s);A.async=!0;A.src=t;g=p.getElementsByTagName(s)[0];g.parentNode.insertBefore(A,g)}('apstag',window,document,'script','//c.amazon-adsystem.com/aax2/apstag.js'); } r.hooks.get('reddit').register(function() { var category = \"\"; if (!usePrebid) { apstag.init({ pubID: r.utils.testAcceptableAds() ? '3570' : '3379', adServer: 'googletag', bidTimeout: 2e3, params: { position: 'sidebar', section: category, sis_sitesection: ['reddit.com', category].filter(function(x) { return x; }).join(':'), subreddit: r.config.post_site, }, }); } googletag.cmd.push(function() { var adSlots = googletag.pubads().getSlots(); var headerBidCallback = function() { var callbacks = _.pluck(ads, 'callback'); _.invoke(callbacks, 'call'); }; if (usePrebid) { var bidsBackHandler = function() { if (pbjs.adserverRequestSent) return; pbjs.adserverRequestSent = true; headerBidCallback(); }; pbjs.que.push(function() { pbjs.addAdUnits(ads.map(function(ad) { return { code: ad.slotID, sizes: ad.sizes, bids: [{ bidder: 'appnexus', params: { placementId: '11905719', }, }], }; })); pbjs.requestBids({ bidsBackHandler: bidsBackHandler, }); }); setTimeout(bidsBackHandler, 700); } else { apstag.fetchBids({ slots: _.map(ads, function(ad) { return _.pick(ad, ['slotID', 'sizes']); }), timeout: 2e3, }, function(bids) { googletag.cmd.push(function() { var slotsById = indexGoogleTagSlots(adSlots); bids.forEach(function(bid) { var slot = slotsById[bid.slotID]; if (slot) { apstag.targetingKeys().forEach(function(key) { slot.setTargeting(key, bid[key]) }); } }); }); headerBidCallback(); }); } }); }); })();</script></body></html>\n"
     ]
    }
   ],
   "source": [
    "print(html)"
   ]
  },
  {
   "cell_type": "code",
   "execution_count": 12,
   "metadata": {
    "collapsed": true
   },
   "outputs": [],
   "source": [
    "soup = BeautifulSoup(html, 'lxml')"
   ]
  },
  {
   "cell_type": "code",
   "execution_count": 13,
   "metadata": {},
   "outputs": [
    {
     "data": {
      "text/plain": [
       "<title>reddit: the front page of the internet</title>"
      ]
     },
     "execution_count": 13,
     "metadata": {},
     "output_type": "execute_result"
    }
   ],
   "source": [
    "soup.html.title"
   ]
  },
  {
   "cell_type": "code",
   "execution_count": 14,
   "metadata": {
    "scrolled": true
   },
   "outputs": [
    {
     "name": "stdout",
     "output_type": "stream",
     "text": [
      "reddit: the front page of the internet\n"
     ]
    }
   ],
   "source": [
    "print(soup.html.title.text)"
   ]
  },
  {
   "cell_type": "code",
   "execution_count": 15,
   "metadata": {
    "collapsed": true
   },
   "outputs": [
    {
     "data": {
      "text/plain": [
       "'reddit: the front page of the internetr.setup({\"feature_outbound_beacons\": false, \"post_site\": \"\", \"gold\": false, \"poisoning_report_mac\": null, \"requires_eu_cookie_policy\": false, \"nsfw_media_acknowledged\": false, \"stats_domain\": \"https://stats.redditmedia.com\", \"feature_onboarding_splash\": \"active\", \"feature_expando_events\": true, \"facebook_app_id\": \"322647334569188\", \"feature_subscribe_join_follow_test\": null, \"logged\": false, \"loid_created\": 1522349206451, \"uitracker_url\": \"//pixel.redditmedia.com/pixel/of_discovery.png\", \"modhash\": \"\", \"send_logs\": true, \"https_endpoint\": \"https://www.reddit.com\", \"ads_loading_timeout_ms\": 5000, \"enabled_experiments\": {}, \"advertiser_category\": null, \"expando_preference\": \"subreddit_default\", \"debug\": false, \"has_subscribed\": false, \"feature_no_subscription_step\": \"control_2\", \"clicktracker_url\": \"//pixel.redditmedia.com/click\", \"cur_site\": \"\", \"events_collector_url\": \"https://www.reddit.com/api/register\", \"feature_archived_signup_cta\": true, \"https_forced\": true, \"share_tracking_hmac\": null, \"live_orangereds_pref\": true, \"ad_serving_events_sample_rate\": \"1.00\", \"renderstyle\": \"html\", \"pref_no_video_autoplay\": false, \"vote_hash\": \"/BwOGmVj/JcTjaoZRdqXGN/wyYtIfZCJ3/4TgnvcASRjC8GZlJdUGUUytPpddkZOhvG4wJyyOpV2iOogvtUUBQvKJiMHjdaSYmvQ/585Fa6HZ289RsOULHG+sKOeomvXy5JcN8GNQvrjc7EScA0hecQO7/zlHFQd+h/OtcRWvac=\", \"eventtracker_url\": \"//pixel.redditmedia.com/pixel/of_delight.png\", \"events_collector_key\": \"RedditFrontend1\", \"feature_post_embed\": true, \"feature_mobile_native_banner\": true, \"cache_policy\": \"loggedout_www\", \"feature_geopopular_onboarding\": null, \"store_visits\": false, \"anon_eventtracker_url\": \"//pixel.redditmedia.com/pixel/of_diversity.png\", \"pref_beta\": false, \"eu_cookie_max_attempts\": 3, \"mweb_blacklist_expressions\": [\"^/prefs/?\", \"^/live/?\", \"/message/compose\", \"/m/\", \"^/subreddits/create\", \"^/gold\", \"^/advertising\", \"^/promoted\", \"^/buttons\"], \"signature_header\": \"X-Signature\", \"signature_header_v2\": \"X-Signature-v2\", \"feature_screenview_events\": true, \"status_msg\": {\"fetching\": \"fetching title...\", \"loading\": \"loading...\", \"submitting\": \"submitting...\"}, \"eu_cookie\": \"eu_cookie\", \"ajax_domain\": \"www.reddit.com\", \"cur_screen_name\": \"\", \"loid\": \"00000000001415xly2\", \"is_sponsor\": false, \"feature_autofill_username\": null, \"user_id\": false, \"pref_email_messages\": false, \"poisoning_canary\": null, \"feature_heartbeat_events\": true, \"over_18\": false, \"feature_ads_user_matching\": false, \"external_frame\": false, \"feature_hover_user_ui_holdout\": false, \"feature_net_neutrality\": false, \"user_subscription_size\": 0, \"listing_over_18\": false, \"extension\": null, \"embedded\": false, \"share_tracking_ts\": 1522349206590, \"event_target\": {\"geo_filter\": \"US_NY\", \"target_type\": \"listing\", \"target_sort\": \"hot\"}, \"events_collector_v2_url\": \"https://www.reddit.com/api/register\", \"feature_google_sign_up\": null, \"server_time\": 1522349206.0, \"pref_no_profanity\": true, \"cur_domain\": \"reddit.com\", \"feature_flatlist_events\": false, \"user_in_timeout\": false, \"user_websocket_url\": null, \"is_fake\": true, \"feature_signup_cta_p5\": \"variant_3\", \"user_age\": false, \"events_collector_secret\": \"thiiM0ahsieSiech1phithe6chahngoo8sah6aid\\\\n\", \"new_window\": false, \"pageInfo\": {\"actionName\": \"best.GET_listing\", \"statsVerification\": \"43fcc3f4d77e33d0417bf235aea1aa2c52ef0fd6\", \"verification\": \"43fcc3f4d77e33d0417bf235aea1aa2c52ef0fd6\", \"statsName\": \"best.GET_listing\"}, \"media_domain\": \"www.redditmedia.com\", \"whitelist_status\": \"all_ads\", \"static_root\": \"//www.redditstatic.com\", \"cur_listing\": \"frontpage\", \"email_verified\": false, \"stats_sample_rate\": \"5\", \"loid_version\": 2, \"feature_double_sidebar\": false, \"feature_scroll_events\": true})/* Custom css: use this block to insert special translation-dependent css in the page header */window.user_type = \\'guest\\'; window.is_gold_page = \\'False\\'.toLowerCase() === \\'true\\';var _gaq = _gaq || []; _gaq.push( [\\'_require\\', \\'inpage_linkid\\', \\'//www.google-analytics.com/plugins/ga/inpage_linkid.js\\'], [\\'_setAccount\\', \\'UA-12131688-1\\'], [\\'_setDomainName\\', \\'reddit.com\\'], [\\'_setCustomVar\\', 1, \\'site\\', \\'frontpage\\', 3], [\\'_setCustomVar\\', 2, \\'srpath\\', \\'frontpage-GET_listing\\', 3], [\\'_setCustomVar\\', 3, \\'usertype\\', user_type, 2], [\\'_setCustomVar\\', 4, \\'uitype\\', \\'web\\', 3], [\\'_setCustomVar\\', 5, \\'style_override\\', \\'\\', 2], [\\'_setSampleRate\\', \\'1\\'], [\\'_trackPageview\\'] ); (function() { var ga = document.createElement(\\'script\\'); ga.type = \\'text/javascript\\'; ga.async = true; ga.src = (\\'https:\\' == document.location.protocol ? \\'https://ssl\\' : \\'http://www\\') + \\'.google-analytics.com/ga.js\\'; var s = document.getElementsByTagName(\\'script\\')[0]; s.parentNode.insertBefore(ga, s); })();(function(i,s,o,g,r,a,m){i[\\'GoogleAnalyticsObject\\']=r;i[r]=i[r]||function(){ (i[r].q=i[r].q||[]).push(arguments)},i[r].l=1*new Date();a=s.createElement(o), m=s.getElementsByTagName(o)[0];a.async=1;a.src=g;m.parentNode.insertBefore(a,m) })(window,document,\\'script\\',\\'//www.google-analytics.com/analytics.js\\',\\'_ga\\'); window._ga(\\'create\\', \\'UA-12131688-9\\', { \\'name\\': \\'goldTracker\\', \\'cookieDomain\\': \\'reddit.com\\', \\'1\\': \\'frontpage\\', \\'2\\': \\'frontpage-GET_listing\\', \\'3\\': window.user_type, \\'4\\': \\'web\\', \\'sampleRate\\': 100 }); if (window.is_gold_page) { window._ga(\\'goldTracker.send\\', \\'pageview\\'); }document.querySelector(\\'#block-homepage\\').style.display = \\'block\\';var frame = document.createElement(\\'iframe\\'); frame.style.display = \\'none\\'; frame.referrer = \\'no-referrer\\'; frame.id = \\'gtm-jail\\'; frame.name = JSON.stringify({ subreddit: r.config.post_site, origin: location.origin, url: location.href, userMatching: r.config.feature_ads_user_matching, userId: r.config.user_id, advertiserCategory: r.config.advertiser_category, adsStatus: r.config.whitelist_status, }); frame.src = \\'//\\' + \"www.redditmedia.com\" + \\'/gtm/jail?cb=\\' + \"8CqR7FcToPI\"; document.body.appendChild(frame);var mf = document.createElement(\\'script\\'); mf.type = \\'text/javascript\\'; mf.async = true; mf.src = \"//www.redditstatic.com/moat/moatframe.js\"; var s = document.getElementsByTagName(\\'script\\')[0]; s.parentNode.insertBefore(mf, s);close this window<!-- Login form function --><div id=\"desktop-onboarding-browse\" class=\"c-step-sign-up\"><div class=\"desktop-onboarding-step desktop-onboarding-step_sign-up\"><div class=\"desktop-onboarding__col desktop-onboarding__col_sign-up_form\"><div class=\"reddit-logo\"><img width=\\'200px\\' src=\"//www.redditstatic.com/logo.svg\" /></div><h2 class=\"desktop-onboarding__title\">Sign up to get your own personalized Reddit experience!</h2><p class=\"desktop-onboarding__description\">By having a Reddit account, you can subscribe, vote, and comment on all your favorite Reddit content. Sign up in just seconds.</p><div class=\"desktop-onboarding-sign-up__form-container c-is-create\"><div class=\"desktop-onboarding-sign-up__form desktop-onboarding-sign-up__form_create\"><h3 class=\"desktop-onboarding-sign-up__form-title\">Enter email</h3><form class=\"sign-up-form\" id=\"desktop-onboarding-sign-up-form\" autocomplete=\"off\"><div class=\"c-form-group \"><label for=\"email\" class=\"screenreader-only\">email:</label><input name=\"email\" id=\"desktop-onboarding-email\" class=\"c-form-control\" type=\"text\" autofocus placeholder=\"email address\" data-validate-url=\"/api/check_email.json\" data-validate-on=\"keyup change blur\" /><div class=\"c-form-control-feedback-wrapper \"><span class=\"c-form-control-feedback c-form-control-feedback-throbber\"></span><span class=\"c-form-control-feedback c-form-control-feedback-error\" title=\"\"></span><span class=\"c-form-control-feedback c-form-control-feedback-success\"></span></div></div><button type=\"submit\" class=\"c-btn c-btn-primary desktop-onboarding__next-button\">Next</button><p class=\"desktop-onboarding-sign-up__form-note google-experiment\">or</p><div class=\"google-button google-experiment\"><div class=\"google-button__icon\"></div><div class=\"google-button__text\">Sign up with Google</div></div><div class=\"google-button__error\"><div class=\"sorry\">Sorry, we can\\'t connect to Google right now.</div><div class=\"not-sorry\">Please try again later.</div></div><p class=\"desktop-onboarding-sign-up__form-note\"><span>Already have an account?</span><a href=\".\" class=\"desktop-onboarding-sign-up__form-toggler\" data-form=\"login\">Log In</a><a href=\"javascript: void 0;\" class=\"skip-for-now\">Skip for now</a></p></form></div><div class=\"desktop-onboarding-sign-up__form desktop-onboarding-sign-up__form_login\"><h3 class=\"desktop-onboarding-sign-up__form-title\">Log In</h3><form id=\"login-form\" method=\"post\" action=\"https://www.reddit.com/post/login\" class=\"form-v2 onboarding-login\"><input type=\"hidden\" name=\"op\" value=\"login\"><div class=\"c-form-group \"><label for=\"user_login\" class=\"screenreader-only\">username</label><input value=\"\" name=\"user\" id=\"user_login\" autofocus class=\"c-form-control\" type=\"text\" maxlength=\"20\" tabindex=\"3\" placeholder=\"username\" ><div class=\"c-form-control-feedback-wrapper \"><span class=\"c-form-control-feedback c-form-control-feedback-throbber\"></span><span class=\"c-form-control-feedback c-form-control-feedback-error\" title=\"\"></span><span class=\"c-form-control-feedback c-form-control-feedback-success\"></span></div></div><div class=\"c-form-group \"><label for=\"passwd_login\" class=\"screenreader-only\">password</label><input id=\"passwd_login\" class=\"c-form-control\" name=\"passwd\" type=\"password\" tabindex=\"3\" placeholder=\"password\" ><div class=\"c-form-control-feedback-wrapper \"><span class=\"c-form-control-feedback c-form-control-feedback-throbber\"></span><span class=\"c-form-control-feedback c-form-control-feedback-error\" title=\"\"></span><span class=\"c-form-control-feedback c-form-control-feedback-success\"></span></div></div><div class=\"desktop-onboarding-sign-up__form-note\"><span>Don\\'t have an account?</span><a href=\".\" class=\"desktop-onboarding-sign-up__form-toggler\" data-form=\"create\">Sign up</a>&nbsp|<a href=\"/password\">Reset password</a></div><input type=\"hidden\" value=\"yes\" name=\"rem\"/><div class=\"spacer\"><div class=\"c-form-group g-recaptcha\" data-sitekey=\"6LeTnxkTAAAAAN9QEuDZRpn90WwKk_R1TRW_g-JC\"></div><span class=\"error BAD_CAPTCHA field-captcha\" style=\"display:none\"></span></div><div class=\"c-clearfix c-submit-group\"><span class=\"c-form-throbber\"></span><button type=\"submit\" class=\"c-btn c-btn-primary c-pull-right\" tabindex=\"3\">log in</button></div><div><div class=\"c-alert c-alert-danger\"></div><span class=\"status\"></span></div></form></div></div><footer>By signing up, you agree to our&#32;<a href=\"https://www.reddit.com/help/useragreement/\" >Terms</a>&#32;and that you have read our&#32;<a href=\"https://www.reddit.com/help/privacypolicy/\" >Privacy Policy</a>&#32;and&#32;<a href=\"https://www.reddit.com/help/contentpolicy/\" >Content Policy</a>.</footer></div><div class=\"desktop-onboarding__col desktop-onboarding__col_sign-up_image\"></div></div><div class=\"desktop-onboarding-step desktop-onboarding-step_subreddit-picker\"><div class=\"subreddit-picker-header\"><h2 class=\"desktop-onboarding__title\">Find the good stuff</h2><p class=\"desktop-onboarding__description\">Reddit is filled with interest based communities, offering something for everyone. Check out some communities and we recommend you subscribe to at least 5.</p></div><div class=\"subreddit-picker\"><ul class=\"subreddit-picker__categories\"></ul><ul class=\"subreddit-picker__subreddits\"></ul><div class=\"subreddit-picker__fail\"><span>Something went wrong.</span><a href=\".\">Try Again?</a></div><div class=\"subreddit-picker__category-fail\"><span>Something went wrong.</span><a href=\".\">Try Again?</a></div></div><footer><div class=\"subreddit-picker-progress\"><div class=\"subreddit-picker-progress__track\"><div class=\"subreddit-picker-progress__bar\"></div></div><span class=\"subreddit-picker-progress__num\">0</span><span>/</span><span class=\"subreddit-picker-progress__denom\">5</span><span>&nbsp;<span class=\"subreddit-subscription-count\">recommended subscriptions</span></span></div><span class=\"desktop-onboarding__step-number\">Step 2 of 3</span><div class=\"desktop-onboarding__buttons\"><button class=\"c-btn desktop-onboarding__back-button\">Back</button><button class=\"c-btn c-btn-primary desktop-onboarding__next-button\">Next</button></div></footer></div><div class=\"desktop-onboarding-step desktop-onboarding-step_username\"><div class=\"desktop-onboarding__col desktop-onboarding__col_username_form\"><h2 class=\"desktop-onboarding__title\">Choose your username</h2><p class=\"desktop-onboarding__description\">Your username is how other community members will see you. This name will be used to credit you for things you share on Reddit. What should we call you?</p><div class=desktop-onboarding-username-form><form id=\"register-form\" method=\"post\" action=\"https://www.reddit.com/post/reg\" autocomplete=\"off\" class=\"form-v2 onboarding-login\"><input type=\"hidden\" name=\"op\" value=\"reg\"><input type=\"hidden\" id=\"desktop-onboarding-register-email\" name=\"email\" value=\"\"><input type=\"hidden\" id=\"desktop-onboarding-subreddits\" name=\"sr\" value=\"\"><div class=\"c-form-group \"><label class=\"desktop-onboarding-sign-up__form-title\" for=\"user_reg\">Choose username</label><input value=\"\" name=\"user\" id=\"user_reg\" autofocus class=\"c-form-control\" type=\"text\" maxlength=\"20\" tabindex=\"2\" placeholder=\"username\" data-validate-url=\"/api/check_username.json\" data-validate-min=\"3\" autocomplete=\"new-username\" ><div class=\"c-form-control-feedback-wrapper \"><span class=\"c-form-control-feedback c-form-control-feedback-throbber\"></span><span class=\"c-form-control-feedback c-form-control-feedback-error\" title=\"\"></span><span class=\"c-form-control-feedback c-form-control-feedback-success\"></span></div></div><div class=\"c-form-group \"><label for=\"passwd_reg\" class=\"desktop-onboarding-sign-up__form-title\">Set password</label><input id=\"passwd_reg\" class=\"c-form-control\" name=\"passwd\" type=\"password\" tabindex=\"2\" placeholder=\"password\" data-validate-url=\\'/api/check_password.json\\' autocomplete=\\'new-password\\'><div class=\"c-form-control-feedback-wrapper \"><span class=\"c-form-control-feedback c-form-control-feedback-throbber\"></span><span class=\"c-form-control-feedback c-form-control-feedback-error\" title=\"\"></span><span class=\"c-form-control-feedback c-form-control-feedback-success\"></span></div></div><input type=\"hidden\" name=\"passwd2\" id=\"passwd2_reg\" class=\"c-form-control\"><input type=\"hidden\" value=\"yes\" name=\"rem\"/><div class=\"spacer\"><div class=\"c-form-group g-recaptcha\" data-sitekey=\"6LeTnxkTAAAAAN9QEuDZRpn90WwKk_R1TRW_g-JC\"></div><span class=\"error BAD_CAPTCHA field-captcha\" style=\"display:none\"></span></div><div><div class=\"c-alert c-alert-danger\"></div><span class=\"status\"></span><span class=\"error RATELIMIT field-ratelimit\" style=\"display:none\"></span><span class=\"error RATELIMIT field-vdelay\" style=\"display:none\"></span></div></form></div></div><div class=\"desktop-onboarding__col desktop-onboarding__col_username_picker\"><div class=\"username-generator\"><p class=\"desktop-onboarding__description\">Having a hard time picking a name?<br />Here are some available suggestions.</p><div class=\"username-generator__suggestions\"></div><a href=\"javascript: void 0;\" class=\"username-generator__refresh-button\">Refresh suggestions</a></div><footer><span class=\"desktop-onboarding__step-number\">Step 3 of 3</span><div class=\"desktop-onboarding__buttons\"><button class=\"c-btn desktop-onboarding__back-button\">Back</button><button class=\"c-btn c-btn-primary desktop-onboarding__next-button\">Submit</button></div></footer></div></div></div>jump to contentmy subredditsedit subscriptionspopular-all-random\\xa0|\\xa0AskReddit-worldnews-videos-funny-todayilearned-pics-gaming-movies-news-gifs-mildlyinteresting-aww-Showerthoughts-television-Jokes-science-OldSchoolCool-sports-IAmA-Documentaries-TwoXChromosomes-explainlikeimfive-personalfinance-books-tifu-Futurology-dataisbeautiful-WritingPrompts-nottheonion-food-Music-photoshopbattles-EarthPorn-philosophy-Art-nosleep-GetMotivated-askscience-LifeProTips-space-UpliftingNews-DIY-history-gadgets-creepy-listentothis-blog-announcements-InternetIsBeautifulmore »reddit.com\\xa0hotnewrisingcontroversialtopgildedwikiWant to join? Log in or sign up in seconds.|Englishuse the following search parameters to narrow your results:subreddit:subredditfind submissions in \"subreddit\"author:usernamefind submissions by \"username\"site:example.comfind submissions from \"example.com\"url:textsearch for \"text\" in urlselftext:textsearch for \"text\" in self post contentsself:yes (or self:no)include (or exclude) self postsnsfw:yes (or nsfw:no)include (or exclude) results marked as NSFWe.g. subreddit:aww site:imgur.com dogsee the search faq for details.advanced search: by author, subreddit...remember mereset passwordloginr.hooks.get(\\'reddit\\').register(function() { window.googletag = window.googletag || {}; googletag.cmd = googletag.cmd || []; window.pbjs = window.pbjs || {}; pbjs.que = pbjs.que || []; var adblock = r.utils.getAdblockLevel(); var frameId = \"ad_2\"; var sizes = [[300, 250], [300, 600]]; var keywords = [\"s.brandlift.holdout_15\", \"videos\", \"funny\", \"aww\", \"s.frontpage\", \"reactiongifs\", \"s.brandlift.holdout_7\", \"baseball\", \"EarthPorn\", \"news\", \"technology\", \"s.sfw\", \"PrequelMemes\", \"gifs\", \"television\", \"Unexpected\", \"PoliticalHumor\", \"HighQualityGifs\", \"NatureIsFuckingLit\", \"s.loggedout\", \"s.brandlift.holdout_17\", \"pics\", \"WhitePeopleTwitter\", \"s.brandlift.holdout_2\", \"BikiniBottomTwitter\", \"Eyebleach\", \"whitepeoplegifs\", \"todayilearned\"]; var properties = {\"placement\": \"atf\", \"pref_3rd_party_site_data_personalized_ads\": true, \"whitelist_status\": \"all_ads\", \"subreddit_screen\": false, \"pref_activity_relevant_ads\": true, \"percentage\": 0, \"iaa\": false, \"random_number\": 0, \"environment\": \"production\", \"pref_3rd_party_data_personalized_ads\": true, \"nsfw\": false, \"logged_in\": false, \"has_used_mobile_app\": false, \"full_url\": \"https://www.reddit.com/\"}; var slotPrefix = \"/32173961/desktop\"; var frame = document.getElementById(frameId); var ads = window.__adslots = window.__adslots || []; if (adblock === \\'whitelisted\\') { frame.className += \\' acceptable-ads\\'; } function isWithinLoadDistance(el) { var rect = el.getBoundingClientRect(); var html = document.documentElement; return (rect.top - (window.innerHeight || html.clientHeight))< 300; } function getPageType() { var $body = $(\\'body\\'); if ($body.hasClass(\\'comments-page\\')) { return \\'comments\\'; } else if ($body.hasClass(\\'profile-page\\')) { return \\'user\\' } else if ($body.hasClass(\\'listing-page\\')) { return \\'listing\\'; } } function getSlot(prefix, pageType) { var parts = [prefix]; if (pageType !== \\'user\\') { var listing = r.config.cur_listing; if (listing !== \\'frontpage\\') { listing = \\'r.\\' + listing; } parts.push(listing); } if (pageType) { parts.push(pageType); } return parts.join(\\'/\\'); } var adSlot; googletag.cmd.push(function() { var pageType = getPageType(); adSlot = googletag .defineSlot(getSlot(slotPrefix, pageType), sizes, frameId) .addService(googletag.pubads()); adSlot.setTargeting(\\'keywords\\', keywords); adSlot.setTargeting(\\'adblock\\', adblock); adSlot.setTargeting(\\'listing\\', pageType); Object.keys(properties).forEach(function(key) { adSlot.setTargeting(key, properties[key]); }); googletag.display(frameId); }); var requestAd = function() { if (window._usePrebid) { pbjs.que.push(function() { pbjs.setTargetingForGPTAsync(); googletag.pubads().refresh([adSlot]); }); } else { googletag.pubads().refresh([adSlot]); } }; ads.push({ slotID: frameId, sizes: sizes, callback: function() { googletag.cmd.push(function() { if (isWithinLoadDistance(frame)) { requestAd(); } else { var checkDistance = _.throttle(function() { if (isWithinLoadDistance(frame)) { requestAd(); window.removeEventListener(\\'scroll\\', checkDistance); } }, 100); window.addEventListener(\\'scroll\\', checkDistance); } }); }, }) });Submit a new linkSubmit a new text postdaily reddit gold goal58%help support redditreddit gold gives you extra features and helps keep our servers running. We believe the more reddit can be user-supported, the freer we will be to make reddit the best it can be.Buy gold for yourself to gain access to extra features and special benefits. A month of gold pays for  231.26 minutes of reddit server time!Give gold to thank exemplary people and encourage them to post more.This daily goal updates every 10 minutes and is reset at midnight Pacific Time  (12 hours, 13 minutes from now).Yesterday\\'s reddit gold goal96%r.hooks.get(\\'reddit\\').register(function() { window.googletag = window.googletag || {}; googletag.cmd = googletag.cmd || []; window.pbjs = window.pbjs || {}; pbjs.que = pbjs.que || []; var adblock = r.utils.getAdblockLevel(); var frameId = \"ad_6\"; var sizes = [[300, 250]]; var keywords = [\"s.brandlift.holdout_15\", \"videos\", \"funny\", \"aww\", \"s.frontpage\", \"reactiongifs\", \"s.brandlift.holdout_7\", \"baseball\", \"EarthPorn\", \"news\", \"technology\", \"s.sfw\", \"PrequelMemes\", \"gifs\", \"television\", \"Unexpected\", \"PoliticalHumor\", \"HighQualityGifs\", \"NatureIsFuckingLit\", \"s.loggedout\", \"s.brandlift.holdout_17\", \"pics\", \"WhitePeopleTwitter\", \"s.brandlift.holdout_2\", \"BikiniBottomTwitter\", \"Eyebleach\", \"whitepeoplegifs\", \"todayilearned\"]; var properties = {\"placement\": \"btf\", \"pref_3rd_party_site_data_personalized_ads\": true, \"whitelist_status\": \"all_ads\", \"subreddit_screen\": false, \"pref_activity_relevant_ads\": true, \"percentage\": 92, \"iaa\": false, \"random_number\": 92, \"environment\": \"production\", \"pref_3rd_party_data_personalized_ads\": true, \"nsfw\": false, \"logged_in\": false, \"has_used_mobile_app\": false, \"full_url\": \"https://www.reddit.com/\"}; var slotPrefix = \"/32173961/desktop\"; var frame = document.getElementById(frameId); var ads = window.__adslots = window.__adslots || []; if (adblock === \\'whitelisted\\') { frame.className += \\' acceptable-ads\\'; } function isWithinLoadDistance(el) { var rect = el.getBoundingClientRect(); var html = document.documentElement; return (rect.top - (window.innerHeight || html.clientHeight))< 300; } function getPageType() { var $body = $(\\'body\\'); if ($body.hasClass(\\'comments-page\\')) { return \\'comments\\'; } else if ($body.hasClass(\\'profile-page\\')) { return \\'user\\' } else if ($body.hasClass(\\'listing-page\\')) { return \\'listing\\'; } } function getSlot(prefix, pageType) { var parts = [prefix]; if (pageType !== \\'user\\') { var listing = r.config.cur_listing; if (listing !== \\'frontpage\\') { listing = \\'r.\\' + listing; } parts.push(listing); } if (pageType) { parts.push(pageType); } return parts.join(\\'/\\'); } var adSlot; googletag.cmd.push(function() { var pageType = getPageType(); adSlot = googletag .defineSlot(getSlot(slotPrefix, pageType), sizes, frameId) .addService(googletag.pubads()); adSlot.setTargeting(\\'keywords\\', keywords); adSlot.setTargeting(\\'adblock\\', adblock); adSlot.setTargeting(\\'listing\\', pageType); Object.keys(properties).forEach(function(key) { adSlot.setTargeting(key, properties[key]); }); googletag.display(frameId); }); var requestAd = function() { if (window._usePrebid) { pbjs.que.push(function() { pbjs.setTargetingForGPTAsync(); googletag.pubads().refresh([adSlot]); }); } else { googletag.pubads().refresh([adSlot]); } }; ads.push({ slotID: frameId, sizes: sizes, callback: function() { googletag.cmd.push(function() { if (isWithinLoadDistance(frame)) { requestAd(); } else { var checkDistance = _.throttle(function() { if (isWithinLoadDistance(frame)) { requestAd(); window.removeEventListener(\\'scroll\\', checkDistance); } }, 100); window.addEventListener(\\'scroll\\', checkDistance); } }); }, }) });Welcome to Reddit,the front page of the internet.Become a Redditorand subscribe to one of thousands of communities.×popular in: United StatesEverywhereArgentinaAustraliaBulgariaCanadaChileColombiaCroatiaCzech RepublicFinlandGreeceHungaryIcelandIndiaIrelandJapanMalaysiaMexicoNew ZealandPhilippinesPolandPortugalPuerto RicoRomaniaSerbiaSingaporeSwedenTaiwanThailandTurkeyUnited Kingdomselect state: New YorkAll StatesAlaskaAlabamaArkansasArizonaCaliforniaColoradoConnecticutDistrict of ColumbiaDelawareFloridaGeorgiaHawaiiIowaIdahoIllinoisIndianaKansasKentuckyLouisianaMassachusettsMarylandMaineMichiganMinnesotaMissouriMississippiMontanaNorth CarolinaNorth DakotaNebraskaNew HampshireNew JerseyNew MexicoNevadaOhioOklahomaOregonPennsylvaniaRhode IslandSouth CarolinaSouth DakotaTennesseeTexasUtahVirginiaVermontWashingtonWisconsinWest VirginiaWyomingr.spotlight.setup( [], 0.0, true, 1, \" reddit.com\", \"t3_881jkf,t3_881ym7,t3_881jar,t3_881m47,t3_881cmt,t3_8810iu,t3_8817lj,t3_881y6r,t3_882tqf,t3_8819ve,t3_880ux8,t3_880luj,t3_881pyp,t3_881cxv,t3_880psk,t3_8814uq,t3_882e38,t3_880sj5,t3_880sf1,t3_880qru,t3_880mgz,t3_8811mf,t3_8810i8,t3_880w8o,t3_880vrl\" )trending subredditsr/knollingr/tipofmytonguer/holdmyjuiceboxr/likeusr/povertyfinance28 commentsbody >.content .link .rank, .rank-spacer { width: 2.2ex } body >.content .link .midcol, .midcol-spacer { width: 6.1ex } .adsense-wrap { background-color: #eff7ff; font-size: 18px; padding-left: 8.3ex; padding-right: 5px; }143.1k43.1k43.2kTIL the CIA once \"kidnapped\" a Soviet spacecraft overnight, took it apart, studied it, reassembled it, & sent it back without the Soviets realizing. (popsci.com)submitted 4 hours ago by worldfusionwisdom to r/todayilearned1285 commentssharesavehidereport215.8k15.8k15.8kTIL a group of undercover Detroit police posing as drug dealers tried to arrest another group of undercover police posing as drug buyers. (upi.com)submitted 3 hours ago by JeremysHairJourney to r/todayilearned658 commentssharesavehidereport337.9k37.9k37.9k3 years in and I\\'ve finally got a photo that does her justice! (i.redd.it)submitted 3 hours ago by AWrig90 to r/aww463 commentssharesavehidereportloading...4834483458346ACLU urges cities to build public broadband to protect net neutralityNet Neutrality (thehill.com)submitted 4 hours ago by jaykirsch to r/technology217 commentssharesavehidereport518.7k18.7k18.7kThis level of hypocrisy makes my insides itchy 😐 (i.redd.it)submitted 4 hours ago by 2DeadMoose to r/PoliticalHumor1058 commentssharesavehidereportloading...627.2k27.2k27.2k🅱️indergardeners (i.redd.it)submitted 5 hours ago by BeerSmoker228 to r/BikiniBottomTwitter248 commentssharesavehidereportloading...721.5k21.5k21.5kBut you said you love me the most/r/all (i.imgur.com)submitted 5 hours ago by dickfromaccounting to r/Eyebleach157 commentssharesavehidereport8649064916492\\'Westworld\\' Season 2 Official Trailer/r/all (youtube.com)submitted 3 hours ago by impeccabletim to r/television700 commentssharesavehidereportloading...9270727082709Ian Happ hits a home run on the first pitch of the 2018 seasonVideo (streamable.com)submitted 2 hours ago by aclee_ to r/baseball448 commentssharesavehidereport1020.3k20.3k20.3kMRW someone asks if I like old Kung Fu movies/r/all (i.imgur.com)submitted 5 hours ago by bolverkin to r/reactiongifs351 commentssharesavehidereportloading...1128.9k28.9k28.9kOh man, this hits deep (i.imgur.com)submitted 6 hours ago by dickfromaccounting to r/WhitePeopleTwitter451 commentssharesavehidereportloading...1255.5k55.5k55.5kOklahoma Senate passes $447 million revenue package to fund teacher pay raise (kfor.com)submitted 6 hours ago by Bectoriephic to r/news3241 commentssharesavehidereport13731473157316TIL Alcatraz had some of the best food in the federal prison system including chili dogs, butter-drenched potatoes, pork chops, biscuits and gravy & banana pudding because the warden believed “most trouble in prison is caused by bad food.” The prison staff ate the same food as the prisoners. (bonappetit.com)submitted 4 hours ago by JAlbert653 to r/todayilearned421 commentssharesavehidereport1423.5k23.5k23.5kMy daughter, $3 date night clearly worth it (youtu.be)submitted 5 hours ago by TheFunnyWhore to r/videos1862 commentssharesavehidereportloading...1532.4k32.4k32.4kSo many questions lolBad Title (imgur.com)submitted 6 hours ago by juiny to r/BlackPeopleTwitter725 commentssharesavehidereportloading...1632.2k32.2k32.2kMind your business (i.imgur.com)submitted 5 hours ago by Pirate_Redbeard to r/Unexpected237 commentssharesavehidereportloading...17513251335134🔥 Meet the world smallest feline (i.imgur.com)submitted 2 hours ago by Goal1 to r/NatureIsFuckingLit106 commentssharesavehidereportloading...1823.9k23.9k23.9kSqueeze [OC]Verified (i.imgur.com)submitted 6 hours ago by goneintorapture to r/funny204 commentssharesavehidereportloading...1929.9k29.9k29.9kQui-Gon Gin and Darth Maul putting up a painting of Darth Vader, while Obi-Wan is supervising them. (xpost from r/photoshopbattles made by u/Matiasjkk (i.redd.it)submitted 6 hours ago by MASTASENATA to r/PrequelMemes201 commentssharesavehidereportloading...20764476457646New York Public Library (i.redd.it)submitted 5 hours ago by sulldc to r/pics153 commentssharesavehidereportloading...2145.8k45.9k45.9kBear catching snowflakes on it\\'s paws* its (gfycat.com)submitted 6 hours ago by SlimJones123 to r/gifs1725 commentssharesavehidereportloading...2219.3k19.3k19.3kMeanwhile, at the pool... (i.imgur.com)submitted 5 hours ago by Pirate_Redbeard to r/whitepeoplegifs974 commentssharesavehidereport2314.1k14.1k14.1kA single 31 second exposure I captured of the Galactic Core rising over Banks Lake National Wildlife Refuge in Lanier County Georgia on Thursday, March 22nd at 5:57 A.M. (1459x973) (OC) (i.redd.it)submitted 5 hours ago by jamesgblanton to r/EarthPorn188 commentssharesavehidereportloading...2419.8k19.8k19.8kCherry blossom in Japan*China (i.redd.it)submitted 6 hours ago by crazyfeekus to r/pics157 commentssharesavehidereportloading...2512.6k12.6k12.6kThe perfect GIFThe Simpsons /r/all (gfycat.com)submitted 6 hours ago by august_hakansson to r/HighQualityGifs102 commentssharesavehidereportloading...view more: next ›<div class=\"interstitial\"><img class=\"interstitial-image\" src=\"//www.redditstatic.com/interstitial-image-archived.png\" alt=\"archived\" height=\"150\" width=\"150\"><div class=\"interstitial-message md-container\"><div class=\"md\"><h3>This is an archived post. You won\\'t be able to vote or comment.</h3><p>Posts&#32;are&#32;automatically&#32;archived&#32;after&#32;6&#32;months.</p></div></div><div class=\"buttons\"><a href=\"/\" class=\"c-btn c-btn-primary\">Got It</a></div></div>aboutblogaboutadvertisecareershelpsite rulesReddit help centerwikireddiquettemod guidelinescontact usapps & toolsReddit for iPhoneReddit for Androidmobile websitebuttons<3reddit goldredditgiftsUse of this site constitutes acceptance of our User Agreement and Privacy Policy. © 2018 reddit inc. All rights reserved.REDDIT and the ALIEN Logo are registered trademarks of reddit inc.var BETA_HOST = \\'beta.reddit.com\\'; if (location.host === BETA_HOST) { r.config.https_endpoint = \\'https://\\' + BETA_HOST; }<!-- Login form function --><div id=\"desktop-onboarding-browse\" class=\"c-step-sign-up\"><div class=\"desktop-onboarding-step desktop-onboarding-step_sign-up\"><div class=\"desktop-onboarding__col desktop-onboarding__col_sign-up_form\"><div class=\"reddit-logo\"><img width=\\'200px\\' src=\"//www.redditstatic.com/logo.svg\" /></div><h2 class=\"desktop-onboarding__title\">Sign up to get your own personalized Reddit experience!</h2><p class=\"desktop-onboarding__description\">By having a Reddit account, you can subscribe, vote, and comment on all your favorite Reddit content. Sign up in just seconds.</p><div class=\"desktop-onboarding-sign-up__form-container c-is-create\"><div class=\"desktop-onboarding-sign-up__form desktop-onboarding-sign-up__form_create\"><h3 class=\"desktop-onboarding-sign-up__form-title\">Enter email</h3><form class=\"sign-up-form\" id=\"desktop-onboarding-sign-up-form\" autocomplete=\"off\"><div class=\"c-form-group \"><label for=\"email\" class=\"screenreader-only\">email:</label><input name=\"email\" id=\"desktop-onboarding-email\" class=\"c-form-control\" type=\"text\" autofocus placeholder=\"email address\" data-validate-url=\"/api/check_email.json\" data-validate-on=\"keyup change blur\" /><div class=\"c-form-control-feedback-wrapper \"><span class=\"c-form-control-feedback c-form-control-feedback-throbber\"></span><span class=\"c-form-control-feedback c-form-control-feedback-error\" title=\"\"></span><span class=\"c-form-control-feedback c-form-control-feedback-success\"></span></div></div><button type=\"submit\" class=\"c-btn c-btn-primary desktop-onboarding__next-button\">Next</button><p class=\"desktop-onboarding-sign-up__form-note google-experiment\">or</p><div class=\"google-button google-experiment\"><div class=\"google-button__icon\"></div><div class=\"google-button__text\">Sign up with Google</div></div><div class=\"google-button__error\"><div class=\"sorry\">Sorry, we can\\'t connect to Google right now.</div><div class=\"not-sorry\">Please try again later.</div></div><p class=\"desktop-onboarding-sign-up__form-note\"><span>Already have an account?</span><a href=\".\" class=\"desktop-onboarding-sign-up__form-toggler\" data-form=\"login\">Log In</a><a href=\"javascript: void 0;\" class=\"skip-for-now\">Skip for now</a></p></form></div><div class=\"desktop-onboarding-sign-up__form desktop-onboarding-sign-up__form_login\"><h3 class=\"desktop-onboarding-sign-up__form-title\">Log In</h3><form id=\"login-form\" method=\"post\" action=\"https://www.reddit.com/post/login\" class=\"form-v2 onboarding-login\"><input type=\"hidden\" name=\"op\" value=\"login\"><div class=\"c-form-group \"><label for=\"user_login\" class=\"screenreader-only\">username</label><input value=\"\" name=\"user\" id=\"user_login\" autofocus class=\"c-form-control\" type=\"text\" maxlength=\"20\" tabindex=\"3\" placeholder=\"username\" ><div class=\"c-form-control-feedback-wrapper \"><span class=\"c-form-control-feedback c-form-control-feedback-throbber\"></span><span class=\"c-form-control-feedback c-form-control-feedback-error\" title=\"\"></span><span class=\"c-form-control-feedback c-form-control-feedback-success\"></span></div></div><div class=\"c-form-group \"><label for=\"passwd_login\" class=\"screenreader-only\">password</label><input id=\"passwd_login\" class=\"c-form-control\" name=\"passwd\" type=\"password\" tabindex=\"3\" placeholder=\"password\" ><div class=\"c-form-control-feedback-wrapper \"><span class=\"c-form-control-feedback c-form-control-feedback-throbber\"></span><span class=\"c-form-control-feedback c-form-control-feedback-error\" title=\"\"></span><span class=\"c-form-control-feedback c-form-control-feedback-success\"></span></div></div><div class=\"desktop-onboarding-sign-up__form-note\"><span>Don\\'t have an account?</span><a href=\".\" class=\"desktop-onboarding-sign-up__form-toggler\" data-form=\"create\">Sign up</a>&nbsp|<a href=\"/password\">Reset password</a></div><input type=\"hidden\" value=\"yes\" name=\"rem\"/><div class=\"spacer\"><div class=\"c-form-group g-recaptcha\" data-sitekey=\"6LeTnxkTAAAAAN9QEuDZRpn90WwKk_R1TRW_g-JC\"></div><span class=\"error BAD_CAPTCHA field-captcha\" style=\"display:none\"></span></div><div class=\"c-clearfix c-submit-group\"><span class=\"c-form-throbber\"></span><button type=\"submit\" class=\"c-btn c-btn-primary c-pull-right\" tabindex=\"3\">log in</button></div><div><div class=\"c-alert c-alert-danger\"></div><span class=\"status\"></span></div></form></div></div><footer>By signing up, you agree to our&#32;<a href=\"https://www.reddit.com/help/useragreement/\" >Terms</a>&#32;and that you have read our&#32;<a href=\"https://www.reddit.com/help/privacypolicy/\" >Privacy Policy</a>&#32;and&#32;<a href=\"https://www.reddit.com/help/contentpolicy/\" >Content Policy</a>.</footer></div><div class=\"desktop-onboarding__col desktop-onboarding__col_sign-up_image\"></div></div><div class=\"desktop-onboarding-step desktop-onboarding-step_subreddit-picker\"><div class=\"subreddit-picker-header\"><h2 class=\"desktop-onboarding__title\">Find the good stuff</h2><p class=\"desktop-onboarding__description\">Reddit is filled with interest based communities, offering something for everyone. Check out some communities and we recommend you subscribe to at least 5.</p></div><div class=\"subreddit-picker\"><ul class=\"subreddit-picker__categories\"></ul><ul class=\"subreddit-picker__subreddits\"></ul><div class=\"subreddit-picker__fail\"><span>Something went wrong.</span><a href=\".\">Try Again?</a></div><div class=\"subreddit-picker__category-fail\"><span>Something went wrong.</span><a href=\".\">Try Again?</a></div></div><footer><div class=\"subreddit-picker-progress\"><div class=\"subreddit-picker-progress__track\"><div class=\"subreddit-picker-progress__bar\"></div></div><span class=\"subreddit-picker-progress__num\">0</span><span>/</span><span class=\"subreddit-picker-progress__denom\">5</span><span>&nbsp;<span class=\"subreddit-subscription-count\">recommended subscriptions</span></span></div><span class=\"desktop-onboarding__step-number\">Step 2 of 3</span><div class=\"desktop-onboarding__buttons\"><button class=\"c-btn desktop-onboarding__back-button\">Back</button><button class=\"c-btn c-btn-primary desktop-onboarding__next-button\">Next</button></div></footer></div><div class=\"desktop-onboarding-step desktop-onboarding-step_username\"><div class=\"desktop-onboarding__col desktop-onboarding__col_username_form\"><h2 class=\"desktop-onboarding__title\">Choose your username</h2><p class=\"desktop-onboarding__description\">Your username is how other community members will see you. This name will be used to credit you for things you share on Reddit. What should we call you?</p><div class=desktop-onboarding-username-form><form id=\"register-form\" method=\"post\" action=\"https://www.reddit.com/post/reg\" autocomplete=\"off\" class=\"form-v2 onboarding-login\"><input type=\"hidden\" name=\"op\" value=\"reg\"><input type=\"hidden\" id=\"desktop-onboarding-register-email\" name=\"email\" value=\"\"><input type=\"hidden\" id=\"desktop-onboarding-subreddits\" name=\"sr\" value=\"\"><div class=\"c-form-group \"><label class=\"desktop-onboarding-sign-up__form-title\" for=\"user_reg\">Choose username</label><input value=\"\" name=\"user\" id=\"user_reg\" autofocus class=\"c-form-control\" type=\"text\" maxlength=\"20\" tabindex=\"2\" placeholder=\"username\" data-validate-url=\"/api/check_username.json\" data-validate-min=\"3\" autocomplete=\"new-username\" ><div class=\"c-form-control-feedback-wrapper \"><span class=\"c-form-control-feedback c-form-control-feedback-throbber\"></span><span class=\"c-form-control-feedback c-form-control-feedback-error\" title=\"\"></span><span class=\"c-form-control-feedback c-form-control-feedback-success\"></span></div></div><div class=\"c-form-group \"><label for=\"passwd_reg\" class=\"desktop-onboarding-sign-up__form-title\">Set password</label><input id=\"passwd_reg\" class=\"c-form-control\" name=\"passwd\" type=\"password\" tabindex=\"2\" placeholder=\"password\" data-validate-url=\\'/api/check_password.json\\' autocomplete=\\'new-password\\'><div class=\"c-form-control-feedback-wrapper \"><span class=\"c-form-control-feedback c-form-control-feedback-throbber\"></span><span class=\"c-form-control-feedback c-form-control-feedback-error\" title=\"\"></span><span class=\"c-form-control-feedback c-form-control-feedback-success\"></span></div></div><input type=\"hidden\" name=\"passwd2\" id=\"passwd2_reg\" class=\"c-form-control\"><input type=\"hidden\" value=\"yes\" name=\"rem\"/><div class=\"spacer\"><div class=\"c-form-group g-recaptcha\" data-sitekey=\"6LeTnxkTAAAAAN9QEuDZRpn90WwKk_R1TRW_g-JC\"></div><span class=\"error BAD_CAPTCHA field-captcha\" style=\"display:none\"></span></div><div><div class=\"c-alert c-alert-danger\"></div><span class=\"status\"></span><span class=\"error RATELIMIT field-ratelimit\" style=\"display:none\"></span><span class=\"error RATELIMIT field-vdelay\" style=\"display:none\"></span></div></form></div></div><div class=\"desktop-onboarding__col desktop-onboarding__col_username_picker\"><div class=\"username-generator\"><p class=\"desktop-onboarding__description\">Having a hard time picking a name?<br />Here are some available suggestions.</p><div class=\"username-generator__suggestions\"></div><a href=\"javascript: void 0;\" class=\"username-generator__refresh-button\">Refresh suggestions</a></div><footer><span class=\"desktop-onboarding__step-number\">Step 3 of 3</span><div class=\"desktop-onboarding__buttons\"><button class=\"c-btn desktop-onboarding__back-button\">Back</button><button class=\"c-btn c-btn-primary desktop-onboarding__next-button\">Submit</button></div></footer></div></div></div><form action=\"https://www.reddit.com/post/unlogged_options\" method=\"post\" class=\"pretty-form short-text prefoptions\"><input type=\"hidden\" name=\"uh\" value=\"\" /><table class=\"content preftable\"><tr><th>interface language</th><td class=\"prefright\"><select id=\"lang\" name=\"lang\"><option selected=\\'selected\\' value=\"en\">English [en]</option><option value=\"af\">Afrikaans [af] (*)</option><option value=\"ar\">العربية [ar] (*)</option><option value=\"be\">Беларуская мова [be] (*)</option><option value=\"bg\">български език [bg]</option><option value=\"bn-IN\">বাংলা [bn-IN] (*)</option><option value=\"bn-bd\">বাংলা [bn-bd] (*)</option><option value=\"bs\">Bosanski [bs] (*)</option><option value=\"ca\">català [ca]</option><option value=\"cs\">česky [cs]</option><option value=\"cy\">Cymraeg [cy] (*)</option><option value=\"da\">dansk [da]</option><option value=\"de\">Deutsch [de]</option><option value=\"el\">Ελληνικά [el]</option><option value=\"en-au\">English (Australia) [en-au]</option><option value=\"en-ca\">English (Canadian) [en-ca]</option><option value=\"en-gb\">English (Great Britain) [en-gb]</option><option value=\"en-us\">English [en-us]</option><option value=\"eo\">Esperanto [eo] (*)</option><option value=\"es\">español [es]</option><option value=\"es-ar\">español [es-ar]</option><option value=\"es-cl\">español [es-cl]</option><option value=\"es-mx\">Español [es-mx]</option><option value=\"et\">eesti keel [et] (*)</option><option value=\"eu\">Euskara [eu]</option><option value=\"fa\">فارسی [fa]</option><option value=\"fi\">suomi [fi]</option><option value=\"fil\">Filipino [fil] (*)</option><option value=\"fr\">français [fr]</option><option value=\"fr-ca\">Français [fr-ca]</option><option value=\"fy-NL\">Frysk [fy-NL] (*)</option><option value=\"ga-ie\">Gaeilge [ga-ie] (*)</option><option value=\"gd\">Gàidhlig [gd]</option><option value=\"gl\">Galego [gl] (*)</option><option value=\"he\">עברית [he] (*)</option><option value=\"hi\">मानक हिन्दी [hi] (*)</option><option value=\"hr\">hrvatski [hr]</option><option value=\"hu\">Magyar [hu]</option><option value=\"hy\">Հայերեն լեզու [hy]</option><option value=\"id\">Bahasa Indonesia [id] (*)</option><option value=\"is\">íslenska [is]</option><option value=\"it\">italiano (Italy) [it]</option><option value=\"ja\">日本語 [ja]</option><option value=\"kn_IN\">ಕನ್ನಡ [kn_IN]</option><option value=\"ko\">한국어 [ko]</option><option value=\"la\">Latin [la] (*)</option><option value=\"leet\">1337 [leet]</option><option value=\"lol\">LOL [lol]</option><option value=\"lt\">lietuvių kalba [lt] (*)</option><option value=\"lv\">latviešu valoda [lv]</option><option value=\"ms\">Bahasa Melayu [ms] (*)</option><option value=\"mt-MT\">Malti [mt-MT]</option><option value=\"nl\">Nederlands [nl]</option><option value=\"nn\">Nynorsk [nn]</option><option value=\"no\">Norsk [no]</option><option value=\"pir\">Arrrrrrrr! [pir] (*)</option><option value=\"pl\">polski [pl]</option><option value=\"pt\">português [pt] (*)</option><option value=\"pt-pt\">português [pt-pt]</option><option value=\"pt_BR\">português brasileiro [pt_BR]</option><option value=\"ro\">română [ro]</option><option value=\"ru\">русский [ru]</option><option value=\"sk\">slovenčina [sk]</option><option value=\"sl\">slovenščina [sl] (*)</option><option value=\"sr\">српски језик [sr]</option><option value=\"sr-la\">Srpski [sr-la]</option><option value=\"sv\">Svenska [sv]</option><option value=\"ta\">தமிழ் [ta]</option><option value=\"th\">ภาษาไทย [th]</option><option value=\"tr\">Türkçe [tr]</option><option value=\"uk\">українська мова [uk]</option><option value=\"vi\">Tiếng Việt [vi]</option><option value=\"zh\">中文 [zh]</option><option value=\"zh-cn\">简化字 [zh-cn]</option></select>&#32;<span class=\"details hover\">(*) incomplete &#32;<a href=\"https://www.reddit.com/r/i18n/wiki/getting_started\">volunteer to translate</a></span></td></tr><tr><td><input type=\"submit\" class=\"btn save-preferences\" value=\"save options\"/></td></tr></table></form>π\\xa0Rendered by PID 43006 on  app-280  at 2018-03-29 18:46:46.445892+00:00 running 393cd81 country code: US.(function() { var ads = window.__adslots = window.__adslots || []; window.googletag = window.googletag || {}; googletag.cmd = googletag.cmd || []; function indexGoogleTagSlots(googSlots) { return googSlots.reduce(function(o, slot) { var slotID = slot.getSlotElementId(); o[slotID] = slot; return o; }, {}); } var gads = document.createElement(\\'script\\'); gads.async = true; gads.type = \\'text/javascript\\'; var useSSL = \\'https:\\' == document.location.protocol; gads.src = (useSSL ? \\'https:\\' : \\'http:\\') + \\'//www.googletagservices.com/tag/js/gpt.js\\'; var node = document.getElementsByTagName(\\'script\\')[0]; node.parentNode.insertBefore(gads, node); googletag.cmd.push(function() { googletag.pubads().disableInitialLoad(); googletag.pubads().setSafeFrameConfig({ allowOverlayExpansion: false, allowPushExpansion: false, sandbox: !(r.utils.testAcceptableAds() && /firefox/i.test(navigator.userAgent)), }); googletag.enableServices(); }); var percentage = 0.05; var usePrebid = window._usePrebid = Math.random()<= percentage || /.*prebid=1.*/.test(location.search || \\'\\'); if (usePrebid) { /* prebid */ window.pbjs = window.pbjs || {}; pbjs.que = pbjs.que || []; pbjs.que.push(function() { pbjs.setConfig({ priceGranularity: { buckets: [{ min: 0, max: 3, increment: 0.01, }, { min: 3, max: 8, increment: 0.05, }, { min: 8, max: 20, increment: 0.5, }, { min: 20, max: 35, increment: 1, }], }, }); }); var pb = document.createElement(\\'script\\'); pb.type = \\'text/javascript\\'; pb.async = true; pb.src = \"//www.redditstatic.com/js/prebid.js\"; var s = document.getElementsByTagName(\\'script\\')[0]; s.parentNode.insertBefore(pb, s); } else { /* amazon a9 ads */ !function(a9,a,p,s,t,A,g){if(a[a9])return;function q(c,r){a[a9]._Q.push([c,r])}a[a9]={init:function(){q(\\'i\\',arguments)},fetchBids:function(){q(\\'f\\',arguments)},_Q:[]};A=p.createElement(s);A.async=!0;A.src=t;g=p.getElementsByTagName(s)[0];g.parentNode.insertBefore(A,g)}(\\'apstag\\',window,document,\\'script\\',\\'//c.amazon-adsystem.com/aax2/apstag.js\\'); } r.hooks.get(\\'reddit\\').register(function() { var category = \"\"; if (!usePrebid) { apstag.init({ pubID: r.utils.testAcceptableAds() ? \\'3570\\' : \\'3379\\', adServer: \\'googletag\\', bidTimeout: 2e3, params: { position: \\'sidebar\\', section: category, sis_sitesection: [\\'reddit.com\\', category].filter(function(x) { return x; }).join(\\':\\'), subreddit: r.config.post_site, }, }); } googletag.cmd.push(function() { var adSlots = googletag.pubads().getSlots(); var headerBidCallback = function() { var callbacks = _.pluck(ads, \\'callback\\'); _.invoke(callbacks, \\'call\\'); }; if (usePrebid) { var bidsBackHandler = function() { if (pbjs.adserverRequestSent) return; pbjs.adserverRequestSent = true; headerBidCallback(); }; pbjs.que.push(function() { pbjs.addAdUnits(ads.map(function(ad) { return { code: ad.slotID, sizes: ad.sizes, bids: [{ bidder: \\'appnexus\\', params: { placementId: \\'11905719\\', }, }], }; })); pbjs.requestBids({ bidsBackHandler: bidsBackHandler, }); }); setTimeout(bidsBackHandler, 700); } else { apstag.fetchBids({ slots: _.map(ads, function(ad) { return _.pick(ad, [\\'slotID\\', \\'sizes\\']); }), timeout: 2e3, }, function(bids) { googletag.cmd.push(function() { var slotsById = indexGoogleTagSlots(adSlots); bids.forEach(function(bid) { var slot = slotsById[bid.slotID]; if (slot) { apstag.targetingKeys().forEach(function(key) { slot.setTargeting(key, bid[key]) }); } }); }); headerBidCallback(); }); } }); }); })();'"
      ]
     },
     "execution_count": 15,
     "metadata": {},
     "output_type": "execute_result"
    }
   ],
   "source": [
    "soup.extract().text"
   ]
  },
  {
   "cell_type": "markdown",
   "metadata": {},
   "source": [
    "While this has some more verbose elements removed, we can see that there is some structure to the above:\n",
    "\n",
    "- The thread title is within an <a> tag with the attribute data-event-action=\"title\".\n",
    "- The time since the thread was created is within a <time> tag with attribute class=\"live-timestamp\".\n",
    "- The subreddit is within an <a> tag with the attribute class=\"subreddit hover may-blank\".\n",
    "- The number of comments is within an <a> tag with the attribute data-event-action=\"comments\"`."
   ]
  },
  {
   "cell_type": "markdown",
   "metadata": {},
   "source": [
    "## Write 4 functions to extract these items (one function for each): title, time, subreddit, and number of comments."
   ]
  },
  {
   "cell_type": "code",
   "execution_count": 16,
   "metadata": {
    "collapsed": true
   },
   "outputs": [],
   "source": [
    "def get_title(soup):\n",
    "    titles = []\n",
    "\n",
    "    for element in soup.find_all('div', {'class':'top-matter'}):\n",
    "        lin_titles = element.find('a')\n",
    "        if lin_titles: \n",
    "            titles.append(lin_titles.text)\n",
    "\n",
    "    return titles"
   ]
  },
  {
   "cell_type": "code",
   "execution_count": 17,
   "metadata": {},
   "outputs": [
    {
     "data": {
      "text/plain": [
       "['TIL the CIA once \"kidnapped\" a Soviet spacecraft overnight, took it apart, studied it, reassembled it, & sent it back without the Soviets realizing.',\n",
       " 'TIL a group of undercover Detroit police posing as drug dealers tried to arrest another group of undercover police posing as drug buyers.',\n",
       " \"3 years in and I've finally got a photo that does her justice!\",\n",
       " 'ACLU urges cities to build public broadband to protect net neutrality',\n",
       " 'This level of hypocrisy makes my insides itchy 😐',\n",
       " '🅱️indergardeners',\n",
       " 'But you said you love me the most',\n",
       " \"'Westworld' Season 2 Official Trailer\",\n",
       " 'Ian Happ hits a home run on the first pitch of the 2018 season',\n",
       " 'MRW someone asks if I like old Kung Fu movies',\n",
       " 'Oh man, this hits deep',\n",
       " 'Oklahoma Senate passes $447 million revenue package to fund teacher pay raise',\n",
       " 'TIL Alcatraz had some of the best food in the federal prison system including chili dogs, butter-drenched potatoes, pork chops, biscuits and gravy & banana pudding because the warden believed “most trouble in prison is caused by bad food.” The prison staff ate the same food as the prisoners.',\n",
       " 'My daughter, $3 date night clearly worth it',\n",
       " 'So many questions lol',\n",
       " 'Mind your business',\n",
       " '🔥 Meet the world smallest feline',\n",
       " 'Squeeze [OC]',\n",
       " 'Qui-Gon Gin and Darth Maul putting up a painting of Darth Vader, while Obi-Wan is supervising them. (xpost from r/photoshopbattles made by u/Matiasjkk',\n",
       " 'New York Public Library',\n",
       " \"Bear catching snowflakes on it's paws\",\n",
       " 'Meanwhile, at the pool...',\n",
       " 'A single 31 second exposure I captured of the Galactic Core rising over Banks Lake National Wildlife Refuge in Lanier County Georgia on Thursday, March 22nd at 5:57 A.M. (1459x973) (OC)',\n",
       " 'Cherry blossom in Japan',\n",
       " 'The perfect GIF']"
      ]
     },
     "execution_count": 17,
     "metadata": {},
     "output_type": "execute_result"
    }
   ],
   "source": [
    "titles = get_title(soup)\n",
    "titles"
   ]
  },
  {
   "cell_type": "code",
   "execution_count": 18,
   "metadata": {
    "collapsed": true
   },
   "outputs": [],
   "source": [
    "def get_time(soup):\n",
    "    time = []\n",
    "\n",
    "    for element in soup.find_all('p', {'class':'tagline'}):\n",
    "        lin_time = element.find('time')\n",
    "        if lin_time: \n",
    "            time.append(lin_time.text)\n",
    "\n",
    "    return time"
   ]
  },
  {
   "cell_type": "code",
   "execution_count": 19,
   "metadata": {},
   "outputs": [
    {
     "data": {
      "text/plain": [
       "['4 hours ago',\n",
       " '3 hours ago',\n",
       " '3 hours ago',\n",
       " '4 hours ago',\n",
       " '4 hours ago',\n",
       " '5 hours ago',\n",
       " '5 hours ago',\n",
       " '3 hours ago',\n",
       " '2 hours ago',\n",
       " '5 hours ago',\n",
       " '6 hours ago',\n",
       " '6 hours ago',\n",
       " '4 hours ago',\n",
       " '5 hours ago',\n",
       " '6 hours ago',\n",
       " '5 hours ago',\n",
       " '2 hours ago',\n",
       " '6 hours ago',\n",
       " '6 hours ago',\n",
       " '5 hours ago',\n",
       " '6 hours ago',\n",
       " '5 hours ago',\n",
       " '5 hours ago',\n",
       " '6 hours ago',\n",
       " '6 hours ago']"
      ]
     },
     "execution_count": 19,
     "metadata": {},
     "output_type": "execute_result"
    }
   ],
   "source": [
    "time = get_time(soup)\n",
    "time"
   ]
  },
  {
   "cell_type": "code",
   "execution_count": 20,
   "metadata": {},
   "outputs": [
    {
     "data": {
      "text/plain": [
       "'r/todayilearned'"
      ]
     },
     "execution_count": 20,
     "metadata": {},
     "output_type": "execute_result"
    }
   ],
   "source": [
    "soup.find_all('a', {'class':'subreddit hover may-blank'})[0].text"
   ]
  },
  {
   "cell_type": "code",
   "execution_count": 21,
   "metadata": {
    "collapsed": true
   },
   "outputs": [],
   "source": [
    "def get_subreddits(soup):\n",
    "    subreddits = []\n",
    "\n",
    "    for element in soup.find_all('a', {'class':'subreddit hover may-blank'}):\n",
    "#         lin_subreddits = element.find('a')\n",
    "#         if lin_subreddits: \n",
    "        subreddits.append(element.text)\n",
    "\n",
    "    return subreddits"
   ]
  },
  {
   "cell_type": "code",
   "execution_count": 22,
   "metadata": {},
   "outputs": [
    {
     "data": {
      "text/plain": [
       "['r/todayilearned',\n",
       " 'r/todayilearned',\n",
       " 'r/aww',\n",
       " 'r/technology',\n",
       " 'r/PoliticalHumor',\n",
       " 'r/BikiniBottomTwitter',\n",
       " 'r/Eyebleach',\n",
       " 'r/television',\n",
       " 'r/baseball',\n",
       " 'r/reactiongifs',\n",
       " 'r/WhitePeopleTwitter',\n",
       " 'r/news',\n",
       " 'r/todayilearned',\n",
       " 'r/videos',\n",
       " 'r/BlackPeopleTwitter',\n",
       " 'r/Unexpected',\n",
       " 'r/NatureIsFuckingLit',\n",
       " 'r/funny',\n",
       " 'r/PrequelMemes',\n",
       " 'r/pics',\n",
       " 'r/gifs',\n",
       " 'r/whitepeoplegifs',\n",
       " 'r/EarthPorn',\n",
       " 'r/pics',\n",
       " 'r/HighQualityGifs']"
      ]
     },
     "execution_count": 22,
     "metadata": {},
     "output_type": "execute_result"
    }
   ],
   "source": [
    "subreddits = get_subreddits(soup)\n",
    "subreddits"
   ]
  },
  {
   "cell_type": "code",
   "execution_count": 23,
   "metadata": {
    "collapsed": true
   },
   "outputs": [],
   "source": [
    "def get_comments(soup):\n",
    "    comments = []\n",
    "\n",
    "    for element in soup.find_all('li', {'class':'first'}):\n",
    "        lin_comments = element.find('a')\n",
    "        if lin_comments: \n",
    "            comments.append(lin_comments.text)\n",
    "\n",
    "    return comments"
   ]
  },
  {
   "cell_type": "code",
   "execution_count": 24,
   "metadata": {},
   "outputs": [
    {
     "data": {
      "text/plain": [
       "['1285 comments',\n",
       " '658 comments',\n",
       " '463 comments',\n",
       " '217 comments',\n",
       " '1058 comments',\n",
       " '248 comments',\n",
       " '157 comments',\n",
       " '700 comments',\n",
       " '448 comments',\n",
       " '351 comments',\n",
       " '451 comments',\n",
       " '3241 comments',\n",
       " '421 comments',\n",
       " '1862 comments',\n",
       " '725 comments',\n",
       " '237 comments',\n",
       " '106 comments',\n",
       " '204 comments',\n",
       " '201 comments',\n",
       " '153 comments',\n",
       " '1725 comments',\n",
       " '974 comments',\n",
       " '188 comments',\n",
       " '157 comments',\n",
       " '102 comments']"
      ]
     },
     "execution_count": 24,
     "metadata": {},
     "output_type": "execute_result"
    }
   ],
   "source": [
    "comments = get_comments(soup)\n",
    "comments"
   ]
  },
  {
   "cell_type": "markdown",
   "metadata": {},
   "source": [
    "## Write one more function that finds the last `id` on the page, and stores it."
   ]
  },
  {
   "cell_type": "code",
   "execution_count": 25,
   "metadata": {
    "collapsed": true
   },
   "outputs": [],
   "source": [
    "URL2 = 'https://www.reddit.com/?count=25&after=t3_7z5s20'"
   ]
  },
  {
   "cell_type": "code",
   "execution_count": 26,
   "metadata": {
    "collapsed": true
   },
   "outputs": [],
   "source": [
    "response = requests.get(URL2, headers = {'User-agent': 'AC'})"
   ]
  },
  {
   "cell_type": "code",
   "execution_count": 27,
   "metadata": {},
   "outputs": [
    {
     "data": {
      "text/plain": [
       "200"
      ]
     },
     "execution_count": 27,
     "metadata": {},
     "output_type": "execute_result"
    }
   ],
   "source": [
    "response.status_code"
   ]
  },
  {
   "cell_type": "code",
   "execution_count": 28,
   "metadata": {
    "collapsed": true
   },
   "outputs": [],
   "source": [
    "html = response.text"
   ]
  },
  {
   "cell_type": "code",
   "execution_count": 29,
   "metadata": {
    "collapsed": true
   },
   "outputs": [],
   "source": [
    "soup = BeautifulSoup(html, 'lxml')"
   ]
  },
  {
   "cell_type": "code",
   "execution_count": 30,
   "metadata": {},
   "outputs": [
    {
     "name": "stdout",
     "output_type": "stream",
     "text": [
      "200\n",
      "200\n",
      "200\n",
      "200\n",
      "200\n",
      "200\n",
      "200\n",
      "200\n",
      "200\n",
      "200\n",
      "200\n",
      "200\n",
      "200\n",
      "200\n",
      "200\n",
      "200\n",
      "200\n",
      "200\n",
      "200\n",
      "200\n"
     ]
    }
   ],
   "source": [
    "# for loop\n",
    "import time\n",
    "URL = 'https://www.reddit.com/'\n",
    "\n",
    "soups = []\n",
    "urls = ['https://www.reddit.com/']\n",
    "\n",
    "for i in range(20):\n",
    "    response = requests.get(URL, headers = {'User-agent': 'AC'})\n",
    "    print(response.status_code)\n",
    "    html = response.text\n",
    "    soup = BeautifulSoup(html, 'lxml')\n",
    "    soups.append(soup)\n",
    "\n",
    "    URL = soup.find('span', {'class':'next-button'}).find('a')['href']\n",
    "#     URL = new_url[-1].find('a')\n",
    "#     URL = URL['href']\n",
    "    urls.append(URL)"
   ]
  },
  {
   "cell_type": "code",
   "execution_count": 31,
   "metadata": {
    "collapsed": true
   },
   "outputs": [],
   "source": [
    "# Turn features into lists. \n",
    "\n",
    "all_titles = []\n",
    "all_time = []\n",
    "all_subreddits = []\n",
    "all_comments = []\n",
    "for i in soups:\n",
    "    all_titles.append(get_title(i))\n",
    "    all_time.append(get_time(i))\n",
    "    all_subreddits.append(get_subreddits(i))\n",
    "    all_comments.append(get_comments(i))"
   ]
  },
  {
   "cell_type": "code",
   "execution_count": 32,
   "metadata": {
    "scrolled": true
   },
   "outputs": [
    {
     "name": "stdout",
     "output_type": "stream",
     "text": [
      "['https://www.reddit.com/', 'https://www.reddit.com/?count=25&after=t3_881v9b', 'https://www.reddit.com/?count=50&after=t3_881how', 'https://www.reddit.com/?count=75&after=t3_880qsz', 'https://www.reddit.com/?count=100&after=t3_881w8f', 'https://www.reddit.com/?count=125&after=t3_87zyq7', 'https://www.reddit.com/?count=150&after=t3_880vjy', 'https://www.reddit.com/?count=175&after=t3_880gwq', 'https://www.reddit.com/?count=200&after=t3_880pb2', 'https://www.reddit.com/?count=225&after=t3_881lba', 'https://www.reddit.com/?count=250&after=t3_880aa4', 'https://www.reddit.com/?count=275&after=t3_87zs2t', 'https://www.reddit.com/?count=300&after=t3_8813oh', 'https://www.reddit.com/?count=325&after=t3_87yqow', 'https://www.reddit.com/?count=350&after=t3_881vkn', 'https://www.reddit.com/?count=375&after=t3_87xpi5', 'https://www.reddit.com/?count=400&after=t3_880p3x', 'https://www.reddit.com/?count=425&after=t3_881ae3', 'https://www.reddit.com/?count=450&after=t3_87yze5', 'https://www.reddit.com/?count=475&after=t3_881f4w', 'https://www.reddit.com/?count=500&after=t3_87x6na']\n"
     ]
    },
    {
     "name": "stderr",
     "output_type": "stream",
     "text": [
      "IOPub data rate exceeded.\n",
      "The notebook server will temporarily stop sending output\n",
      "to the client in order to avoid crashing it.\n",
      "To change this limit, set the config variable\n",
      "`--NotebookApp.iopub_data_rate_limit`.\n"
     ]
    }
   ],
   "source": [
    "print(urls)\n",
    "print(soups)"
   ]
  },
  {
   "cell_type": "code",
   "execution_count": 33,
   "metadata": {
    "collapsed": true
   },
   "outputs": [],
   "source": [
    "def new_pages(num = 20):\n",
    "    URL = 'https://www.reddit.com/'\n",
    "    soups = []\n",
    "    urls = ['https://www.reddit.com/']\n",
    "    for i in range(num):\n",
    "        response = requests.get(URL, headers = {'User-agent': 'AC'})\n",
    "        html = response.text\n",
    "        soup = BeautifulSoup(html, 'lxml')\n",
    "        soups.append(soup)\n",
    "\n",
    "        new_url = soup.find_all('span', {'class':'next-button'})\n",
    "        URL = new_url[-1].find('a')\n",
    "        URL = URL['href']\n",
    "        urls.append(URL)\n",
    "    return soups"
   ]
  },
  {
   "cell_type": "code",
   "execution_count": 35,
   "metadata": {},
   "outputs": [],
   "source": [
    "all_soups = new_pages(20)"
   ]
  },
  {
   "cell_type": "code",
   "execution_count": 36,
   "metadata": {
    "collapsed": true
   },
   "outputs": [],
   "source": [
    "lst_titles = []\n",
    "lst_time = []\n",
    "lst_subreddits = []\n",
    "lst_comments = []\n",
    "for i in all_soups:\n",
    "    titles = get_title(i)\n",
    "    for x in titles:\n",
    "        lst_titles.append(x)\n",
    "    \n",
    "    time = get_time(i)\n",
    "    for x in time:\n",
    "        lst_time.append(x)\n",
    "    \n",
    "    subreddits = get_subreddits(i)\n",
    "    for x in subreddits:\n",
    "        lst_subreddits.append(x)\n",
    "    \n",
    "    comments = get_comments(i)\n",
    "    for x in comments:\n",
    "        lst_comments.append(x)"
   ]
  },
  {
   "cell_type": "code",
   "execution_count": 37,
   "metadata": {},
   "outputs": [
    {
     "data": {
      "text/plain": [
       "(500, 500, 500, 500)"
      ]
     },
     "execution_count": 37,
     "metadata": {},
     "output_type": "execute_result"
    }
   ],
   "source": [
    "# checking the length of the 4 lists to make sure everything lines up. \n",
    "\n",
    "len(lst_titles), len(lst_time), len(lst_subreddits), len(lst_comments)"
   ]
  },
  {
   "cell_type": "code",
   "execution_count": 38,
   "metadata": {},
   "outputs": [
    {
     "data": {
      "text/plain": [
       "['TIL the CIA once \"kidnapped\" a Soviet spacecraft overnight, took it apart, studied it, reassembled it, & sent it back without the Soviets realizing.',\n",
       " 'TIL a group of undercover Detroit police posing as drug dealers tried to arrest another group of undercover police posing as drug buyers.',\n",
       " \"3 years in and I've finally got a photo that does her justice!\",\n",
       " 'ACLU urges cities to build public broadband to protect net neutrality',\n",
       " 'This level of hypocrisy makes my insides itchy 😐',\n",
       " '🅱️indergardeners',\n",
       " 'But you said you love me the most',\n",
       " \"'Westworld' Season 2 Official Trailer\",\n",
       " 'Ian Happ hits a home run on the first pitch of the 2018 season',\n",
       " 'MRW someone asks if I like old Kung Fu movies',\n",
       " 'Oh man, this hits deep',\n",
       " 'Oklahoma Senate passes $447 million revenue package to fund teacher pay raise',\n",
       " 'TIL Alcatraz had some of the best food in the federal prison system including chili dogs, butter-drenched potatoes, pork chops, biscuits and gravy & banana pudding because the warden believed “most trouble in prison is caused by bad food.” The prison staff ate the same food as the prisoners.',\n",
       " 'My daughter, $3 date night clearly worth it',\n",
       " '🔥 Meet the world smallest feline',\n",
       " 'So many questions lol',\n",
       " 'Mind your business',\n",
       " 'Squeeze [OC]',\n",
       " 'Qui-Gon Gin and Darth Maul putting up a painting of Darth Vader, while Obi-Wan is supervising them. (xpost from r/photoshopbattles made by u/Matiasjkk',\n",
       " 'New York Public Library',\n",
       " \"Bear catching snowflakes on it's paws\",\n",
       " 'A single 31 second exposure I captured of the Galactic Core rising over Banks Lake National Wildlife Refuge in Lanier County Georgia on Thursday, March 22nd at 5:57 A.M. (1459x973) (OC)',\n",
       " 'Meanwhile, at the pool...',\n",
       " 'Cherry blossom in Japan',\n",
       " 'If the UFC had a series finale',\n",
       " 'The perfect GIF',\n",
       " 'I made a Thing for my entryway with magic mirror, wireless charger, mail sorter, key holder, and 200-year-old reclaimed wood',\n",
       " 'Comparing the Sizes of Microorganisms Up to 1mm',\n",
       " 'JR Smith credits good game he had to good boy Remington who he hung out with before the game',\n",
       " 'Marijuana may not be as damaging to the brain as previously thought; easier on the brain than booze, study finds',\n",
       " 'Cochem, Germany',\n",
       " 'User explains that Alex Van Der Zwaan - who just plead guilty to lying to Mueller - is the son-in-law of the oligarch who owns Alfa Bank, the same Russian bank that notoriously made up 80% of lookup traffic to the Trump Tower server during the campaign.',\n",
       " 'My Aunt’s response to the birth of our child',\n",
       " \"Fiverr's new hiring campaign is terrible\",\n",
       " 'Is this what it feels like to be a Dark Souls boss? [Far Cry 5]',\n",
       " 'Flip and sit',\n",
       " \"I'm so scared\",\n",
       " 'A selfie from 1951 - My Dutch Grandfather testing his new camera out',\n",
       " 'A perfect slice',\n",
       " 'This is amazing.',\n",
       " \"If there's a stairway to heaven, this must be the escalator to hell\",\n",
       " 'High voltage service error',\n",
       " 'Adopted a doggo and I’ve never loved anything more than him',\n",
       " 'Not knowing what the hell went on here...',\n",
       " 'Water identification sensors need repair/replacement',\n",
       " 'Elephant Rock, Iceland',\n",
       " 'My Aunt tried to use the \"you don\\'t need money, I\\'m giving you experience and exposure\" for some art I did for \"business.\" She got called out, now her entire scam (and life) is unravelling and while I don\\'t like to gloat, I can\\'t help but snicker.',\n",
       " 'A selfie from 1951. My Dutch Grandfather testing his new camera',\n",
       " 'Week 6 Challenges (All Inclusive Cheat Sheet)',\n",
       " 'Erin LaVoie destroys the single buck(saw) event.',\n",
       " 'Presidential Approval Ratings Since Kenney [OC]',\n",
       " 'PsBattle: Anna Kendrick in a suitcase',\n",
       " 'Westworld - Season 2 | Official Trailer',\n",
       " 'anime irl',\n",
       " 'Cel shaded comic jeans ~ inspired by Borderlands Telltale Games',\n",
       " \"Just visited New Orleans. Here's a watercolor painting I made while I was there\",\n",
       " 'Mao Zedong',\n",
       " 'Come here little birdie',\n",
       " 'SELL SELL SELL',\n",
       " 'My girlfriend and i listened to Terry Crews speak last night and he did this for a fan.',\n",
       " 'A format I can afford to lose',\n",
       " 'Indian brothel owners get first life sentence for trafficking children: Two Indian brothel owners have been jailed for life for the trafficking, rape and sexual abuse of children, an unprecedented sentence in a country where fewer than two in five trafficking cases ends in a conviction.',\n",
       " \"It's almost a month when i took this little guy to my home. He was waiting six years in shelter and now he is part of my family\",\n",
       " 'Unconditional Love',\n",
       " 'Monkey Bars weeeeeeeeeeeeeeee',\n",
       " 'Squeeze [OC]',\n",
       " '[I ate] A Hungarian Dobish Triangle',\n",
       " 'Is that a PITA in your pocket? A look at ideas for the future of computing from 1999',\n",
       " 'I could relate to this..',\n",
       " 'hmmm',\n",
       " 'Diane and Mr Peanutbutter back to normal',\n",
       " \"ULPT: Prostitutes are cheaper by the hour than a licensed therapist and it's okay just to talk to them\",\n",
       " 'Someone started playing Wolfenstein on back screen on Polish news channel.',\n",
       " 'Ken M on weightlifting',\n",
       " 'True story...',\n",
       " 'One way exit sign.',\n",
       " 'What are some ethical life choices we should all be making?',\n",
       " 'A curious cat',\n",
       " \"Arrived in time, I can't wait to sit at the family table this Easter weekend\",\n",
       " 'Scandinavian Airlines, 1969',\n",
       " 'Fake deep guy who will view you as his manic pixie dream girl starter pack',\n",
       " 'Robert Downy Jr. with his dads friend Mike Tyson, circa 1980.',\n",
       " 'My girl keeps having disturbed dreams, shouting things like \"Hobbit!\", \"Gandalf!\", and \"Mordor!\".',\n",
       " '“My own personal dignity as a woman was impacted during my incarceration,” said a former Connecticut inmate “I was denied feminine hygiene products on more than one occasion. When I asked a male correction officer for feminine products he told me to use my sock.”',\n",
       " 'Do Your Job with a Smile On Your Face',\n",
       " 'The new guided missile in action - 2 Kills',\n",
       " 'Ancient serial killer',\n",
       " 'Decayed lovers [oc]',\n",
       " \"Sad cringe of myself: my friend who informed me he's having a house party tonight but won't invite me to it. You could have just said you were busy bro\",\n",
       " 'Arcade in New Jersey by Franck Bohbot',\n",
       " 'Early morning looking over the water',\n",
       " 'Sky of cherry blossoms',\n",
       " 'Anon woke AF',\n",
       " \"An accidental super like that didn't end in disaster.\",\n",
       " 'Art Nouveau Door, Brussels, Belgium',\n",
       " \"Kid's reaction at 5 sec. and then in the end.\",\n",
       " 'wait wait , scroll back down please',\n",
       " 'So happy with my collection',\n",
       " 'My 5 month old puppy practically has tree trunks for stumps',\n",
       " '[Educational] Greeks 101',\n",
       " 'IRS: Refunds worth $1.1B waiting to be claimed by those who have not filed 2014 federal income tax returns!',\n",
       " '\"Go wash your feet, human!\"',\n",
       " \"[WP] In the near future, all the world's superpowers switch to AI to make their military more efficient. The AIs do the unthinkable: They negotiate world peace.\",\n",
       " \"'That fake 80's aesthetic' starter pack\",\n",
       " 'This Swiss cheese has one hole',\n",
       " 'UK government recently passed the Space Industry Bill, as it laid regulatory groundwork that will be needed to create an operational spaceport, potentially by 2020. UK also set to create world’s first fully commercial astronaut training ground, with construction expected to start later this year.',\n",
       " \"Monkey tries a lemon, can't even\",\n",
       " 'Ran into tough guys',\n",
       " 'I will go down this makeshift zipline WCGW?',\n",
       " '\"This might be dangerous, so let\\'s put on our mean faces.\" Mantis:',\n",
       " 'Happy birthday to the ground',\n",
       " 'I met some chess players in the hotel lobby. They were bragging about how good they are.',\n",
       " 'It’s a rainy morning in Vietnam so I sat on the porch and ate banana pancakes and snuggled with my kitten.',\n",
       " 'WE ARE EATING TOMORROW',\n",
       " '[Image] The best you can do is work on yourself.',\n",
       " 'Mods are under siege, upvote battering ram',\n",
       " 'Life goals',\n",
       " 'Cancer equals Karma',\n",
       " 'Creepy asterisks leaking into software engineering world *starts twerking*',\n",
       " 'Need a whiteboard drawing? Why not zoidberg?',\n",
       " 'Scum',\n",
       " \"Just a reminder that it's been 10 years and 18 movies, and Cap still hasn't told the Avengers to assemble.\",\n",
       " 'So much derp, so little time.',\n",
       " 'New York style pastrami, smoked and steamed until tender [640 x 800] [GIF]',\n",
       " 'Ye gotta pick ye battles.',\n",
       " 'Satire',\n",
       " 'TIL That there have been nine different studies on DARE (Drug Abuse Resistance Education) and all agree that the program does nothing or worsens the problem',\n",
       " 'After being the victim of the “Batman Slap” meme for years, Robin decided he had enough',\n",
       " 'How to offend the maximum amount of people at once',\n",
       " 'Written in a 1999 magazine',\n",
       " \"Sleep is the body's best safety mechanism. It keeps you from screwing things up for 8 hours.\",\n",
       " 'PSA: Apple will remove Facebook Contact sync',\n",
       " 'TIL George HW Bush shaved his head in support of a member of his security teams child in 2013 at 89',\n",
       " 'When PewDiePie pledges his allegiance to the prequel memes',\n",
       " 'Rusty Staub, beloved Mets icon, dead at 73',\n",
       " 'All set for his big car ride 🙂',\n",
       " \"ATTN Frank: I will post a very unflattering Photoshop of your face EVERY WEEK that my Endless Vinyl hasn't arrived. You've been warned!\",\n",
       " \"[Cerami] If Ian Happ leads off today's game with a home run, I will jump in Lake Michigan later today.\",\n",
       " \"The real reason he's gone\",\n",
       " 'Spain and portugal - The rivals',\n",
       " 'Pow! Right in the (pillow) kisser!',\n",
       " \"What Is Phubbing? Why It's Bad for Relationships and Mental Health | It’s a made up word that means using your phone instead of talking to the people you’re with. It’s bad to ignore people.\",\n",
       " 'April fools idea: The Map is The L',\n",
       " 'cAuGhT bAe ChEaTiNg!!',\n",
       " '[OC][CC] Tried to \"construct\" a beech tree leaf by leaf. What do you think? Worth it or not?',\n",
       " 'Erin LaVoie destroys the single buck(saw) event.',\n",
       " 'You Died',\n",
       " \"My dad has been feeding a fox that comes to our garden for a couple of weeks, he's asked me to put this on the Internet so I figured this would be the best place for it.\",\n",
       " 'Who wants a drink from the firehose?',\n",
       " 'Taco Bell to offer free tuition to employees',\n",
       " \"3D Printed 'Gear Cube'\",\n",
       " 'Shoot',\n",
       " \"Yulia Skripal is 'improving rapidly and no longer in critical condition' after Salisbury nerve agent attack.\",\n",
       " 'How to Play Tag with a Corpse',\n",
       " 'Familiar?',\n",
       " 'The Toronto Blue Jays receive secret commissions on every ticket sold on StubHub, allowing the club to profit on the scalping of its own seats',\n",
       " 'APRIL FOOL!!',\n",
       " 'ELI5: Why do symptoms of a cold sometimes go away overnight and sometimes take several days to fade away?',\n",
       " 'During the opening of John Carpenter\\'s \"The Thing\" (1980), the \"crazed\" Norwegian that accidentally shoots one of the expedition members shouts \"Get the hell away from that thing. That\\'s not a dog, it\\'s some sort of thing! It\\'s imitating a dog, it isn\\'t real! GET AWAY YOU IDIOTS!!\"',\n",
       " 'why does refusing to regain spell slots mean breaking the law?',\n",
       " 'How ironic',\n",
       " 'Yes because people do this.',\n",
       " 'We are Martin, Iain, & Lauren of CHVRCHES, ask us anything again!',\n",
       " 'Dolomites, Italy',\n",
       " 'A total noob squad trying to escape from the storm',\n",
       " 'Finished my Chamber of Secrets, Final Fantasy style piece.',\n",
       " 'Scared The Shit Outta Me',\n",
       " 'The airbag did not deploy',\n",
       " 'This is Arnold: my flying brick',\n",
       " 'No matter what happens during your opening day game today, you have to remember one thing...',\n",
       " 'My wallet is ready, epic',\n",
       " 'Only 90s kids will remember...',\n",
       " 'Front porch sittin’ at Lake Atitlan, Guatemala [4200x2800][OC]',\n",
       " 'And Now a Word from Reddit’s Engineers…',\n",
       " '[Rob Manfred on Golic and Wingo] On the subject of Minor league games starting extra innings with a runner on 2nd “I don’t see this as a rule we’ll be brining to Major League Baseball”',\n",
       " 'The local gang',\n",
       " 'Mans best friend',\n",
       " 'Like if you relate😂💯',\n",
       " 'I’ve drawn a lot of pet portraits since, but I think my first ever one is still my favourite :) this was Patch.',\n",
       " 'Kansas: The true underdogs.',\n",
       " 'This sub after every update',\n",
       " 'Happy Birthday to the Living Legend, the King of Cool, the Flyest Man on Earth and the greatest Knick of all time!',\n",
       " 'Blue Nebula.',\n",
       " 'Washington State governor to sign bill banning therapists from practicing gay conversion therapy',\n",
       " \"Me in the center '87. Daughter said I looked cool in the photo....\",\n",
       " 'The senate just voted to downgrade cannabis to schedule 4, which would make it an easily accessible prescription medicine',\n",
       " 'From a certain point of view...',\n",
       " 'Behold. The Ultimate weapon',\n",
       " 'Something I drew in my notebook...',\n",
       " 'Smashing through a table',\n",
       " 'My friend wrote and directed a movie (Exposed) with Keanu Reeves, but had his name taken off after Lionsgate edited the movie into something completely different than intended. Now the original cut of the movie is available - Daughter of God',\n",
       " 'I never knew chemistry could be so satisfying.',\n",
       " 'HMB and throw a dart at my head',\n",
       " 'When someone asks if they can have the last slice of garlic bread since you already ate 5',\n",
       " 'Cat.',\n",
       " 'He will make it legal.',\n",
       " \"GallowBoob changed the rules of /r/DadReflexes so he could farm karma with content that used to go against the rules. He proceeded to delete all comments calling him out, and he didn't consult the mods about the rule change.\",\n",
       " 'Future Water Bender by Josh Hutchinson',\n",
       " 'Oh Snapchat',\n",
       " \"She's up all night for good fun, I'm up all night to get ____________.\",\n",
       " 'Manny Pacquiao Builds 1000 Homes For Poor Families In Hometown',\n",
       " 'Hell yeah',\n",
       " 'Sydney Harbour [1080x809]',\n",
       " 'Sichuan Fried Chicken Sandwich [PRO/CHEF]',\n",
       " 'A pretty nice Hermione Granger cosplay',\n",
       " 'My disappointment is immeasurable and my day is ruined.',\n",
       " 'Yesterday Mt. Fuji at 8am',\n",
       " 'Get that crap outta here',\n",
       " 'Every 8%-Banner Ever',\n",
       " 'This is such a beautiful and underrated shot',\n",
       " 'Must have left the oven on, two burnt loafs waiting for me when i got home.',\n",
       " 'Showdown at the supermarket.',\n",
       " 'Oh, a whole bunch of them here.',\n",
       " 'Bombings were ‘domestic terrorism,’ Austin police chief says',\n",
       " 'Horse Head Rock, NSW, Australia',\n",
       " 'Our hummingbirds are growing up fast!',\n",
       " 'When Nicki Minaj is your Missing Piece',\n",
       " 'The Guided Missile is hella OP',\n",
       " 'This owl taking a bath.',\n",
       " 'This guy gets it',\n",
       " 'My newest piece by Kyle Stacher at Ever True Tattoo in Portland, Oregon',\n",
       " 'The art of claw',\n",
       " 'Stephen Hawking tests out his first communication device(1997)',\n",
       " 'How does something as temporary as a human footprint get preserved for more than 10,000 years?',\n",
       " 'TIL that Doc Pomus, who wrote the lyrics to \"Save the Last Dance for Me,\" had polio and was confined to a wheelchair. He wrote the song after his wedding, where he watched his new wife dance with everyone but him.',\n",
       " 'Cows are real bros',\n",
       " 'Monique really did deserve to be top for this look',\n",
       " 'So I was skiing and I had to stop to take this picture. [OC, 3968x2240 , Steinach in Austria] And this is the third try uploading :(',\n",
       " \"Ichiro makes Mariners' opening day roster.\",\n",
       " \"No Man's Sky coming to Xbox One\",\n",
       " 'How do you even say no to this handsome boy?',\n",
       " 'This is what having a puppy in college is like',\n",
       " 'hmmm',\n",
       " 'Minutes after @GovWalker calls special elections for pair of legislative vacancies as ordered by a court, @SenFitzgerald says the Legislature is dropping its bill to change the law in attempt to cancel elections, saying they are \"boxed in\" by court orders',\n",
       " 'To be cool',\n",
       " 'I was in physical pain after I saw this in theaters.',\n",
       " 'MRW a teacher hands out an extra credit assignment, but I already have an A.',\n",
       " 'Demand good vibrations from your next Android phone',\n",
       " 'User shows that the ability of the Chinese people to bypass government censors arises from the Chinese language being conducive for wordplay.',\n",
       " 'BEST Character Customization IDEA !',\n",
       " 'The rails for this staircase',\n",
       " 'Self Missile Ride.',\n",
       " 'When you forget to lock the back door for a long time.',\n",
       " '[NY Daily News] Rusty Staub, beloved Mets icon, dead at 73.',\n",
       " 'TIL the shotgun choke pickup is actually the container that holds barrel shaped choke attachments. It is not a rectangle you slap on the gun',\n",
       " 'He is ready for this season',\n",
       " 'A starfragment led me to the hardest memory spot!',\n",
       " 'UK Politician says those accused of rape should have anonymity.',\n",
       " \"If you're trapped in a well, you yourself are not well, but everything around you is well\",\n",
       " 'Someone Built This In The Final Circle. It Was Quite The Stage To Battle On.',\n",
       " 'to kick a cyclist',\n",
       " 'Fellow cyclists. Please do not do this, you make us all look bad.',\n",
       " 'Mechanical Rat Pizza is a good band name.',\n",
       " 'When you get those big wheels and air suspension goes kaput. Can’t even roll it. Oh, and they lost their security lug but socket too. 04 Range Rover',\n",
       " 'What would Onion look like all grown up?',\n",
       " 'MAGBA',\n",
       " 'When people say the new rocket is \"op\"',\n",
       " 'Tom from MySpace never seemed like a data stealing robot man, he just wanted to be everyone’s friend.',\n",
       " 'DMX Sentenced to 1 Year in Prison For Tax Fraud',\n",
       " 'A still from the Italian version of Up (2009)',\n",
       " \"I wonder what he's so happy about\",\n",
       " 'Leaked memo shows EPA told employees to lie about climate science',\n",
       " 'My dad and I made a snow llama',\n",
       " 'Poo-Chi dogs! Anyone else remember these bad boys?',\n",
       " 'This guy has WAY too much time on his hand.',\n",
       " 'Electric Meme',\n",
       " 'Creepy Guy',\n",
       " 'Me at the pub',\n",
       " 'Thought you all might like this portrait of Ru that I drew',\n",
       " 'So sad',\n",
       " 'This customer was right on time',\n",
       " 'Maywa Denki has created a Kirby Otamatone, releases in May',\n",
       " 'Me for sure 😩😩😩😩',\n",
       " 'I drew a smol Barroth',\n",
       " 'The millionth 911. [4032x3024][OC]',\n",
       " 'haha today might be the day',\n",
       " 'How to find an idea for your next big novel.',\n",
       " 'Isle of Skye in Scotland',\n",
       " 'GAME THREAD: Cardinals (0-0) @ Mets (0-0) - March 29, 2018',\n",
       " 'Binary Sunset [Star Wars:The Last Jedi, 2017]',\n",
       " '😡/😏',\n",
       " 'Moments like this is what makes life special.',\n",
       " 'The Onion has unionized',\n",
       " 'Fields of lavender in Provence, France',\n",
       " 'The best way to ask a girl to prom',\n",
       " '[New York Red Bulls] Best of luck to our local baseball teams this season! We know we enjoy visiting our local ballparks (➕6⃣ goal differential)! 😉',\n",
       " 'Mountain lion having a playful moment irritating her cub',\n",
       " 'Wonderboy vs Till confirmed',\n",
       " 'Dragon Boat Drift',\n",
       " 'Stacked Wood',\n",
       " 'Who are you strangely attracted to?',\n",
       " 'Always help out others',\n",
       " 'Can we please get a hockey game on the Switch?',\n",
       " 'My former boss wanted me to cast his wife in my short film. He didn’t like that I didn’t have a part for her. Resubmitted with everything personal blocked out.',\n",
       " ':P :)',\n",
       " 'When you find an unlikely ally in the meme war',\n",
       " 'Those Days...',\n",
       " 'Old homesteader cabin in north Joshua Tree, CA [OC] [3024x3024]',\n",
       " 'Just thought I’d share a picture I took in the Texas capital building, of the chandelier from directly below.',\n",
       " 'Bend wooden plywood',\n",
       " 'Lizard Squad member found guilty of offering DDoS-for-hire and jailed',\n",
       " 'Kyoto University says no to military-related research despite spike in Defense Ministry funding: Kyoto University, one of Japan’s oldest and most prestigious centers of higher education, has announced a basic policy of not conducting military-related research.',\n",
       " 'After -.000009 hours, I got my first brown chest! Finally got my first bullet kin kill on this run',\n",
       " 'Smart.',\n",
       " 'Metallica: The Miracle and the sleepy drums',\n",
       " 'Be sure to pray for strength for your priests over these next few days!',\n",
       " '\"You mean this is what\\'s kept me struggling... kept me from getting revenge... all this time???\"',\n",
       " 'Marriage proposal before the alliance choosing ceremony!',\n",
       " 'https://twitter.com/the_jingoist/status/979343594527043591',\n",
       " \"George's colleagues think he supports Trump after seeing him on TV waiting in line for a Trump rally. His father finds out and they bond for first time. George fakes support for Father's approval while convincing work he hates Trump. Secretly he's not even registered to vote\",\n",
       " '4Koma: Poke Through',\n",
       " \"NHL 18 as a whole. ps. I'm Back!\",\n",
       " 'VIXX - EAU DE VIXX (Image Teaser)',\n",
       " '[SHITPOST]Show is doing so badly that poor Wiila has to rob casinos',\n",
       " 'New Trailer!!!!!!!',\n",
       " 'Was messing with Java Alice and a friend suggested to do this...',\n",
       " 'Meme: Armageddon be like...',\n",
       " '/r/pics didn’t like my autistic cousin so they banned me',\n",
       " 'My wife spend 3 days making this Rapunzel tower cake, I am trying to convince her to sell them [3095 x 4405]',\n",
       " 'This was beautiful',\n",
       " '“Jimmy” is such an underrated, under appreciated song',\n",
       " 'The Keeper',\n",
       " 'Timelapse PowerWashing',\n",
       " 'ITAP of an alleyway in Tokyo, Japan.',\n",
       " '[Theme] Simple Monochrome',\n",
       " 'TIL the CIA once \"kidnapped\" a Soviet spacecraft overnight, took it apart, studied it, reassembled it, & sent it back without the Soviets realizing.',\n",
       " 'TIL a group of undercover Detroit police posing as drug dealers tried to arrest another group of undercover police posing as drug buyers.',\n",
       " \"3 years in and I've finally got a photo that does her justice!\",\n",
       " 'ACLU urges cities to build public broadband to protect net neutrality',\n",
       " 'This level of hypocrisy makes my insides itchy 😐',\n",
       " '🅱️indergardeners',\n",
       " 'But you said you love me the most',\n",
       " \"'Westworld' Season 2 Official Trailer\",\n",
       " 'Ian Happ hits a home run on the first pitch of the 2018 season',\n",
       " 'MRW someone asks if I like old Kung Fu movies',\n",
       " 'Oh man, this hits deep',\n",
       " 'Oklahoma Senate passes $447 million revenue package to fund teacher pay raise',\n",
       " 'TIL Alcatraz had some of the best food in the federal prison system including chili dogs, butter-drenched potatoes, pork chops, biscuits and gravy & banana pudding because the warden believed “most trouble in prison is caused by bad food.” The prison staff ate the same food as the prisoners.',\n",
       " 'My daughter, $3 date night clearly worth it',\n",
       " '🔥 Meet the world smallest feline',\n",
       " 'So many questions lol',\n",
       " 'Mind your business',\n",
       " 'Squeeze [OC]',\n",
       " 'Qui-Gon Gin and Darth Maul putting up a painting of Darth Vader, while Obi-Wan is supervising them. (xpost from r/photoshopbattles made by u/Matiasjkk',\n",
       " 'New York Public Library',\n",
       " \"Bear catching snowflakes on it's paws\",\n",
       " 'A single 31 second exposure I captured of the Galactic Core rising over Banks Lake National Wildlife Refuge in Lanier County Georgia on Thursday, March 22nd at 5:57 A.M. (1459x973) (OC)',\n",
       " 'Meanwhile, at the pool...',\n",
       " 'Cherry blossom in Japan',\n",
       " 'If the UFC had a series finale',\n",
       " 'The perfect GIF',\n",
       " 'I made a Thing for my entryway with magic mirror, wireless charger, mail sorter, key holder, and 200-year-old reclaimed wood',\n",
       " 'Comparing the Sizes of Microorganisms Up to 1mm',\n",
       " 'JR Smith credits good game he had to good boy Remington who he hung out with before the game',\n",
       " 'Marijuana may not be as damaging to the brain as previously thought; easier on the brain than booze, study finds',\n",
       " 'Cochem, Germany',\n",
       " 'User explains that Alex Van Der Zwaan - who just plead guilty to lying to Mueller - is the son-in-law of the oligarch who owns Alfa Bank, the same Russian bank that notoriously made up 80% of lookup traffic to the Trump Tower server during the campaign.',\n",
       " 'My Aunt’s response to the birth of our child',\n",
       " \"Fiverr's new hiring campaign is terrible\",\n",
       " 'Is this what it feels like to be a Dark Souls boss? [Far Cry 5]',\n",
       " 'Flip and sit',\n",
       " \"I'm so scared\",\n",
       " 'A selfie from 1951 - My Dutch Grandfather testing his new camera out',\n",
       " 'A perfect slice',\n",
       " 'This is amazing.',\n",
       " \"If there's a stairway to heaven, this must be the escalator to hell\",\n",
       " 'High voltage service error',\n",
       " 'Adopted a doggo and I’ve never loved anything more than him',\n",
       " 'Not knowing what the hell went on here...',\n",
       " 'Water identification sensors need repair/replacement',\n",
       " 'Elephant Rock, Iceland',\n",
       " 'My Aunt tried to use the \"you don\\'t need money, I\\'m giving you experience and exposure\" for some art I did for \"business.\" She got called out, now her entire scam (and life) is unravelling and while I don\\'t like to gloat, I can\\'t help but snicker.',\n",
       " 'A selfie from 1951. My Dutch Grandfather testing his new camera',\n",
       " 'Week 6 Challenges (All Inclusive Cheat Sheet)',\n",
       " 'Erin LaVoie destroys the single buck(saw) event.',\n",
       " 'Presidential Approval Ratings Since Kenney [OC]',\n",
       " 'PsBattle: Anna Kendrick in a suitcase',\n",
       " 'Westworld - Season 2 | Official Trailer',\n",
       " 'anime irl',\n",
       " 'Cel shaded comic jeans ~ inspired by Borderlands Telltale Games',\n",
       " \"Just visited New Orleans. Here's a watercolor painting I made while I was there\",\n",
       " 'Mao Zedong',\n",
       " 'Come here little birdie',\n",
       " 'SELL SELL SELL',\n",
       " 'My girlfriend and i listened to Terry Crews speak last night and he did this for a fan.',\n",
       " 'A format I can afford to lose',\n",
       " 'Indian brothel owners get first life sentence for trafficking children: Two Indian brothel owners have been jailed for life for the trafficking, rape and sexual abuse of children, an unprecedented sentence in a country where fewer than two in five trafficking cases ends in a conviction.',\n",
       " \"It's almost a month when i took this little guy to my home. He was waiting six years in shelter and now he is part of my family\",\n",
       " 'Unconditional Love',\n",
       " 'Monkey Bars weeeeeeeeeeeeeeee',\n",
       " 'Squeeze [OC]',\n",
       " '[I ate] A Hungarian Dobish Triangle',\n",
       " 'Is that a PITA in your pocket? A look at ideas for the future of computing from 1999',\n",
       " 'I could relate to this..',\n",
       " 'hmmm',\n",
       " 'Diane and Mr Peanutbutter back to normal',\n",
       " \"ULPT: Prostitutes are cheaper by the hour than a licensed therapist and it's okay just to talk to them\",\n",
       " 'Someone started playing Wolfenstein on back screen on Polish news channel.',\n",
       " 'Ken M on weightlifting',\n",
       " 'True story...',\n",
       " '[I ate] A Hungarian Dobish Triangle',\n",
       " \"Arrived in time, I can't wait to sit at the family table this Easter weekend\",\n",
       " 'UK government recently passed the Space Industry Bill, as it laid regulatory groundwork that will be needed to create an operational spaceport, potentially by 2020. UK also set to create world’s first fully commercial astronaut training ground, with construction expected to start later this year.',\n",
       " 'Indian brothel owners get first life sentence for trafficking children: Two Indian brothel owners have been jailed for life for the trafficking, rape and sexual abuse of children, an unprecedented sentence in a country where fewer than two in five trafficking cases ends in a conviction.',\n",
       " 'Diane and Mr Peanutbutter back to normal',\n",
       " 'Do Your Job with a Smile On Your Face',\n",
       " 'Ancient serial killer',\n",
       " 'Anon woke AF',\n",
       " \"An accidental super like that didn't end in disaster.\",\n",
       " 'Scum',\n",
       " 'I will go down this makeshift zipline WCGW?',\n",
       " '“My own personal dignity as a woman was impacted during my incarceration,” said a former Connecticut inmate “I was denied feminine hygiene products on more than one occasion. When I asked a male correction officer for feminine products he told me to use my sock.”',\n",
       " \"[WP] In the near future, all the world's superpowers switch to AI to make their military more efficient. The AIs do the unthinkable: They negotiate world peace.\",\n",
       " 'wait wait , scroll back down please',\n",
       " 'Creepy asterisks leaking into software engineering world *starts twerking*',\n",
       " 'So happy with my collection',\n",
       " \"Kid's reaction at 5 sec. and then in the end.\",\n",
       " \"'That fake 80's aesthetic' starter pack\",\n",
       " 'Sky of cherry blossoms',\n",
       " 'Early morning looking over the water',\n",
       " 'Cherry blossom in Japan',\n",
       " 'Spain and portugal - The rivals',\n",
       " 'Like if you relate😂💯',\n",
       " 'Cancer equals Karma',\n",
       " 'Mods are under siege, upvote battering ram',\n",
       " 'Life goals',\n",
       " 'Cancer equals Karma',\n",
       " 'Creepy asterisks leaking into software engineering world *starts twerking*',\n",
       " 'Need a whiteboard drawing? Why not zoidberg?',\n",
       " 'Scum',\n",
       " \"Just a reminder that it's been 10 years and 18 movies, and Cap still hasn't told the Avengers to assemble.\",\n",
       " 'So much derp, so little time.',\n",
       " 'New York style pastrami, smoked and steamed until tender [640 x 800] [GIF]',\n",
       " 'Ye gotta pick ye battles.',\n",
       " 'Satire',\n",
       " 'TIL That there have been nine different studies on DARE (Drug Abuse Resistance Education) and all agree that the program does nothing or worsens the problem',\n",
       " 'After being the victim of the “Batman Slap” meme for years, Robin decided he had enough',\n",
       " 'How to offend the maximum amount of people at once',\n",
       " 'Written in a 1999 magazine',\n",
       " \"Sleep is the body's best safety mechanism. It keeps you from screwing things up for 8 hours.\",\n",
       " 'PSA: Apple will remove Facebook Contact sync',\n",
       " 'TIL George HW Bush shaved his head in support of a member of his security teams child in 2013 at 89',\n",
       " 'When PewDiePie pledges his allegiance to the prequel memes',\n",
       " 'Rusty Staub, beloved Mets icon, dead at 73',\n",
       " 'All set for his big car ride 🙂',\n",
       " \"ATTN Frank: I will post a very unflattering Photoshop of your face EVERY WEEK that my Endless Vinyl hasn't arrived. You've been warned!\",\n",
       " \"[Cerami] If Ian Happ leads off today's game with a home run, I will jump in Lake Michigan later today.\",\n",
       " \"The real reason he's gone\",\n",
       " 'Spain and portugal - The rivals',\n",
       " 'Pow! Right in the (pillow) kisser!',\n",
       " \"What Is Phubbing? Why It's Bad for Relationships and Mental Health | It’s a made up word that means using your phone instead of talking to the people you’re with. It’s bad to ignore people.\",\n",
       " 'April fools idea: The Map is The L',\n",
       " 'cAuGhT bAe ChEaTiNg!!',\n",
       " '[OC][CC] Tried to \"construct\" a beech tree leaf by leaf. What do you think? Worth it or not?',\n",
       " 'Erin LaVoie destroys the single buck(saw) event.',\n",
       " 'You Died',\n",
       " \"My dad has been feeding a fox that comes to our garden for a couple of weeks, he's asked me to put this on the Internet so I figured this would be the best place for it.\",\n",
       " 'Who wants a drink from the firehose?',\n",
       " 'Taco Bell to offer free tuition to employees',\n",
       " \"3D Printed 'Gear Cube'\",\n",
       " 'Shoot',\n",
       " \"Yulia Skripal is 'improving rapidly and no longer in critical condition' after Salisbury nerve agent attack.\",\n",
       " 'How to Play Tag with a Corpse',\n",
       " 'Familiar?',\n",
       " 'The Toronto Blue Jays receive secret commissions on every ticket sold on StubHub, allowing the club to profit on the scalping of its own seats',\n",
       " 'APRIL FOOL!!',\n",
       " 'ELI5: Why do symptoms of a cold sometimes go away overnight and sometimes take several days to fade away?',\n",
       " 'During the opening of John Carpenter\\'s \"The Thing\" (1980), the \"crazed\" Norwegian that accidentally shoots one of the expedition members shouts \"Get the hell away from that thing. That\\'s not a dog, it\\'s some sort of thing! It\\'s imitating a dog, it isn\\'t real! GET AWAY YOU IDIOTS!!\"',\n",
       " 'why does refusing to regain spell slots mean breaking the law?',\n",
       " 'How ironic',\n",
       " 'Yes because people do this.',\n",
       " 'We are Martin, Iain, & Lauren of CHVRCHES, ask us anything again!',\n",
       " 'Dolomites, Italy',\n",
       " 'A total noob squad trying to escape from the storm',\n",
       " 'Finished my Chamber of Secrets, Final Fantasy style piece.',\n",
       " 'During the opening of John Carpenter\\'s \"The Thing\" (1980), the \"crazed\" Norwegian that accidentally shoots one of the expedition members shouts \"Get the hell away from that thing. That\\'s not a dog, it\\'s some sort of thing! It\\'s imitating a dog, it isn\\'t real! GET AWAY YOU IDIOTS!!\"',\n",
       " 'ELI5: Why do symptoms of a cold sometimes go away overnight and sometimes take several days to fade away?',\n",
       " 'This sub after every update',\n",
       " 'Front porch sittin’ at Lake Atitlan, Guatemala [4200x2800][OC]',\n",
       " 'Familiar?',\n",
       " 'Adopted a doggo and I’ve never loved anything more than him',\n",
       " \"ATTN Frank: I will post a very unflattering Photoshop of your face EVERY WEEK that my Endless Vinyl hasn't arrived. You've been warned!\",\n",
       " 'Taco Bell to offer free tuition to employees',\n",
       " 'Scandinavian Airlines, 1969',\n",
       " '[Educational] Greeks 101',\n",
       " 'why does refusing to regain spell slots mean breaking the law?',\n",
       " 'This guy gets it',\n",
       " 'Hell yeah',\n",
       " 'The airbag did not deploy',\n",
       " 'Scared The Shit Outta Me',\n",
       " \"The real reason he's gone\",\n",
       " 'When you get those big wheels and air suspension goes kaput. Can’t even roll it. Oh, and they lost their security lug but socket too. 04 Range Rover',\n",
       " 'Behold. The Ultimate weapon',\n",
       " '“Working together of women the power”',\n",
       " 'New York style pastrami, smoked and steamed until tender [640 x 800] [GIF]',\n",
       " 'This owl taking a bath.',\n",
       " 'Smashing through a table',\n",
       " 'The senate just voted to downgrade cannabis to schedule 4, which would make it an easily accessible prescription medicine',\n",
       " 'Helping a thirsty friend',\n",
       " \"GallowBoob changed the rules of /r/DadReflexes so he could farm karma with content that used to go against the rules. He proceeded to delete all comments calling him out, and he didn't consult the mods about the rule change.\"]"
      ]
     },
     "execution_count": 38,
     "metadata": {},
     "output_type": "execute_result"
    }
   ],
   "source": [
    "lst_titles"
   ]
  },
  {
   "cell_type": "code",
   "execution_count": 39,
   "metadata": {
    "collapsed": true
   },
   "outputs": [],
   "source": [
    "# Removing 'comments' from comments column and turning the number into an integer. \n",
    "\n",
    "comments1 = []\n",
    "for i in lst_comments:\n",
    "    x = pd.to_numeric(i.replace('comments', '').replace('comment', ''))\n",
    "    comments1.append(x)"
   ]
  },
  {
   "cell_type": "code",
   "execution_count": 40,
   "metadata": {
    "collapsed": true
   },
   "outputs": [],
   "source": [
    "# Removing 'hours ago' from time column and turning the number into an integer. \n",
    "\n",
    "time1 = []\n",
    "for i in lst_time:\n",
    "    xt = i.replace('hours ago', '').replace('hour ago', '')\n",
    "    time1.append(xt)\n",
    "    \n",
    "# df has minutes ago in it."
   ]
  },
  {
   "cell_type": "code",
   "execution_count": 41,
   "metadata": {},
   "outputs": [
    {
     "data": {
      "text/html": [
       "<div>\n",
       "<style>\n",
       "    .dataframe thead tr:only-child th {\n",
       "        text-align: right;\n",
       "    }\n",
       "\n",
       "    .dataframe thead th {\n",
       "        text-align: left;\n",
       "    }\n",
       "\n",
       "    .dataframe tbody tr th {\n",
       "        vertical-align: top;\n",
       "    }\n",
       "</style>\n",
       "<table border=\"1\" class=\"dataframe\">\n",
       "  <thead>\n",
       "    <tr style=\"text-align: right;\">\n",
       "      <th></th>\n",
       "      <th>Titles</th>\n",
       "      <th>Comments</th>\n",
       "      <th>Time</th>\n",
       "      <th>Subreddit</th>\n",
       "    </tr>\n",
       "  </thead>\n",
       "  <tbody>\n",
       "    <tr>\n",
       "      <th>0</th>\n",
       "      <td>TIL the CIA once \"kidnapped\" a Soviet spacecra...</td>\n",
       "      <td>1290</td>\n",
       "      <td>4</td>\n",
       "      <td>r/todayilearned</td>\n",
       "    </tr>\n",
       "    <tr>\n",
       "      <th>1</th>\n",
       "      <td>TIL a group of undercover Detroit police posin...</td>\n",
       "      <td>719</td>\n",
       "      <td>3</td>\n",
       "      <td>r/todayilearned</td>\n",
       "    </tr>\n",
       "    <tr>\n",
       "      <th>2</th>\n",
       "      <td>3 years in and I've finally got a photo that d...</td>\n",
       "      <td>472</td>\n",
       "      <td>3</td>\n",
       "      <td>r/aww</td>\n",
       "    </tr>\n",
       "    <tr>\n",
       "      <th>3</th>\n",
       "      <td>ACLU urges cities to build public broadband to...</td>\n",
       "      <td>226</td>\n",
       "      <td>4</td>\n",
       "      <td>r/technology</td>\n",
       "    </tr>\n",
       "    <tr>\n",
       "      <th>4</th>\n",
       "      <td>This level of hypocrisy makes my insides itchy 😐</td>\n",
       "      <td>1072</td>\n",
       "      <td>4</td>\n",
       "      <td>r/PoliticalHumor</td>\n",
       "    </tr>\n",
       "  </tbody>\n",
       "</table>\n",
       "</div>"
      ],
      "text/plain": [
       "                                              Titles  Comments Time  \\\n",
       "0  TIL the CIA once \"kidnapped\" a Soviet spacecra...      1290   4    \n",
       "1  TIL a group of undercover Detroit police posin...       719   3    \n",
       "2  3 years in and I've finally got a photo that d...       472   3    \n",
       "3  ACLU urges cities to build public broadband to...       226   4    \n",
       "4   This level of hypocrisy makes my insides itchy 😐      1072   4    \n",
       "\n",
       "          Subreddit  \n",
       "0   r/todayilearned  \n",
       "1   r/todayilearned  \n",
       "2             r/aww  \n",
       "3      r/technology  \n",
       "4  r/PoliticalHumor  "
      ]
     },
     "execution_count": 41,
     "metadata": {},
     "output_type": "execute_result"
    }
   ],
   "source": [
    "# Create a DataFrame with items scraped from reddit.com\n",
    "\n",
    "df = pd.DataFrame()\n",
    "df['Titles'] = lst_titles\n",
    "df['Comments'] = comments1\n",
    "df['Time'] = time1\n",
    "df['Subreddit'] = lst_subreddits\n",
    "df.head()"
   ]
  },
  {
   "cell_type": "code",
   "execution_count": 42,
   "metadata": {},
   "outputs": [
    {
     "data": {
      "text/html": [
       "<div>\n",
       "<style>\n",
       "    .dataframe thead tr:only-child th {\n",
       "        text-align: right;\n",
       "    }\n",
       "\n",
       "    .dataframe thead th {\n",
       "        text-align: left;\n",
       "    }\n",
       "\n",
       "    .dataframe tbody tr th {\n",
       "        vertical-align: top;\n",
       "    }\n",
       "</style>\n",
       "<table border=\"1\" class=\"dataframe\">\n",
       "  <thead>\n",
       "    <tr style=\"text-align: right;\">\n",
       "      <th></th>\n",
       "      <th>Titles</th>\n",
       "      <th>Comments</th>\n",
       "      <th>Time</th>\n",
       "      <th>Subreddit</th>\n",
       "    </tr>\n",
       "  </thead>\n",
       "  <tbody>\n",
       "  </tbody>\n",
       "</table>\n",
       "</div>"
      ],
      "text/plain": [
       "Empty DataFrame\n",
       "Columns: [Titles, Comments, Time, Subreddit]\n",
       "Index: []"
      ]
     },
     "execution_count": 42,
     "metadata": {},
     "output_type": "execute_result"
    }
   ],
   "source": [
    "df[df['Time'].str.contains('minutes ago')] # Looking for any discrepancies in Time column. "
   ]
  },
  {
   "cell_type": "code",
   "execution_count": 43,
   "metadata": {},
   "outputs": [
    {
     "data": {
      "text/html": [
       "<div>\n",
       "<style>\n",
       "    .dataframe thead tr:only-child th {\n",
       "        text-align: right;\n",
       "    }\n",
       "\n",
       "    .dataframe thead th {\n",
       "        text-align: left;\n",
       "    }\n",
       "\n",
       "    .dataframe tbody tr th {\n",
       "        vertical-align: top;\n",
       "    }\n",
       "</style>\n",
       "<table border=\"1\" class=\"dataframe\">\n",
       "  <thead>\n",
       "    <tr style=\"text-align: right;\">\n",
       "      <th></th>\n",
       "      <th>Titles</th>\n",
       "      <th>Comments</th>\n",
       "      <th>Time</th>\n",
       "      <th>Subreddit</th>\n",
       "    </tr>\n",
       "  </thead>\n",
       "  <tbody>\n",
       "  </tbody>\n",
       "</table>\n",
       "</div>"
      ],
      "text/plain": [
       "Empty DataFrame\n",
       "Columns: [Titles, Comments, Time, Subreddit]\n",
       "Index: []"
      ]
     },
     "execution_count": 43,
     "metadata": {},
     "output_type": "execute_result"
    }
   ],
   "source": [
    "df[df['Time'].str.contains('minute ago')]  "
   ]
  },
  {
   "cell_type": "code",
   "execution_count": 44,
   "metadata": {},
   "outputs": [
    {
     "data": {
      "text/html": [
       "<div>\n",
       "<style>\n",
       "    .dataframe thead tr:only-child th {\n",
       "        text-align: right;\n",
       "    }\n",
       "\n",
       "    .dataframe thead th {\n",
       "        text-align: left;\n",
       "    }\n",
       "\n",
       "    .dataframe tbody tr th {\n",
       "        vertical-align: top;\n",
       "    }\n",
       "</style>\n",
       "<table border=\"1\" class=\"dataframe\">\n",
       "  <thead>\n",
       "    <tr style=\"text-align: right;\">\n",
       "      <th></th>\n",
       "      <th>Titles</th>\n",
       "      <th>Comments</th>\n",
       "      <th>Time</th>\n",
       "      <th>Subreddit</th>\n",
       "    </tr>\n",
       "  </thead>\n",
       "  <tbody>\n",
       "  </tbody>\n",
       "</table>\n",
       "</div>"
      ],
      "text/plain": [
       "Empty DataFrame\n",
       "Columns: [Titles, Comments, Time, Subreddit]\n",
       "Index: []"
      ]
     },
     "execution_count": 44,
     "metadata": {},
     "output_type": "execute_result"
    }
   ],
   "source": [
    "df[df['Time'].str.contains('day ago')] "
   ]
  },
  {
   "cell_type": "code",
   "execution_count": 45,
   "metadata": {
    "collapsed": true
   },
   "outputs": [],
   "source": [
    "df['Time'] = pd.to_numeric(df['Time'])"
   ]
  },
  {
   "cell_type": "code",
   "execution_count": 46,
   "metadata": {
    "collapsed": true
   },
   "outputs": [],
   "source": [
    "df['Comments'] = pd.to_numeric(df['Comments'])"
   ]
  },
  {
   "cell_type": "code",
   "execution_count": 47,
   "metadata": {},
   "outputs": [
    {
     "name": "stdout",
     "output_type": "stream",
     "text": [
      "<class 'pandas.core.frame.DataFrame'>\n",
      "RangeIndex: 500 entries, 0 to 499\n",
      "Data columns (total 4 columns):\n",
      "Titles       500 non-null object\n",
      "Comments     500 non-null int64\n",
      "Time         500 non-null int64\n",
      "Subreddit    500 non-null object\n",
      "dtypes: int64(2), object(2)\n",
      "memory usage: 15.7+ KB\n"
     ]
    }
   ],
   "source": [
    "df.info()"
   ]
  },
  {
   "cell_type": "code",
   "execution_count": 48,
   "metadata": {},
   "outputs": [
    {
     "data": {
      "text/plain": [
       "131.0"
      ]
     },
     "execution_count": 48,
     "metadata": {},
     "output_type": "execute_result"
    }
   ],
   "source": [
    "median = df.Comments.median()\n",
    "median"
   ]
  },
  {
   "cell_type": "markdown",
   "metadata": {},
   "source": [
    "### Save your results as a CSV\n",
    "Do this regularly while scraping data, so that if your scraper stops or your computer crashes, you don't lose all your data."
   ]
  },
  {
   "cell_type": "code",
   "execution_count": 49,
   "metadata": {
    "collapsed": true
   },
   "outputs": [],
   "source": [
    "# Export to csv\n",
    "df.to_csv('./reddit_scrape', index=False)"
   ]
  },
  {
   "cell_type": "markdown",
   "metadata": {},
   "source": [
    "## Predicting comments using Random Forests + Another Classifier"
   ]
  },
  {
   "cell_type": "code",
   "execution_count": 50,
   "metadata": {},
   "outputs": [
    {
     "data": {
      "text/html": [
       "<div>\n",
       "<style>\n",
       "    .dataframe thead tr:only-child th {\n",
       "        text-align: right;\n",
       "    }\n",
       "\n",
       "    .dataframe thead th {\n",
       "        text-align: left;\n",
       "    }\n",
       "\n",
       "    .dataframe tbody tr th {\n",
       "        vertical-align: top;\n",
       "    }\n",
       "</style>\n",
       "<table border=\"1\" class=\"dataframe\">\n",
       "  <thead>\n",
       "    <tr style=\"text-align: right;\">\n",
       "      <th></th>\n",
       "      <th>Titles</th>\n",
       "      <th>Comments</th>\n",
       "      <th>Time</th>\n",
       "      <th>Subreddit</th>\n",
       "    </tr>\n",
       "  </thead>\n",
       "  <tbody>\n",
       "    <tr>\n",
       "      <th>0</th>\n",
       "      <td>TIL the CIA once \"kidnapped\" a Soviet spacecra...</td>\n",
       "      <td>1290</td>\n",
       "      <td>4</td>\n",
       "      <td>r/todayilearned</td>\n",
       "    </tr>\n",
       "    <tr>\n",
       "      <th>1</th>\n",
       "      <td>TIL a group of undercover Detroit police posin...</td>\n",
       "      <td>719</td>\n",
       "      <td>3</td>\n",
       "      <td>r/todayilearned</td>\n",
       "    </tr>\n",
       "    <tr>\n",
       "      <th>2</th>\n",
       "      <td>3 years in and I've finally got a photo that d...</td>\n",
       "      <td>472</td>\n",
       "      <td>3</td>\n",
       "      <td>r/aww</td>\n",
       "    </tr>\n",
       "    <tr>\n",
       "      <th>3</th>\n",
       "      <td>ACLU urges cities to build public broadband to...</td>\n",
       "      <td>226</td>\n",
       "      <td>4</td>\n",
       "      <td>r/technology</td>\n",
       "    </tr>\n",
       "    <tr>\n",
       "      <th>4</th>\n",
       "      <td>This level of hypocrisy makes my insides itchy 😐</td>\n",
       "      <td>1072</td>\n",
       "      <td>4</td>\n",
       "      <td>r/PoliticalHumor</td>\n",
       "    </tr>\n",
       "  </tbody>\n",
       "</table>\n",
       "</div>"
      ],
      "text/plain": [
       "                                              Titles  Comments  Time  \\\n",
       "0  TIL the CIA once \"kidnapped\" a Soviet spacecra...      1290     4   \n",
       "1  TIL a group of undercover Detroit police posin...       719     3   \n",
       "2  3 years in and I've finally got a photo that d...       472     3   \n",
       "3  ACLU urges cities to build public broadband to...       226     4   \n",
       "4   This level of hypocrisy makes my insides itchy 😐      1072     4   \n",
       "\n",
       "          Subreddit  \n",
       "0   r/todayilearned  \n",
       "1   r/todayilearned  \n",
       "2             r/aww  \n",
       "3      r/technology  \n",
       "4  r/PoliticalHumor  "
      ]
     },
     "execution_count": 50,
     "metadata": {},
     "output_type": "execute_result"
    }
   ],
   "source": [
    "# Load new csv that I just created\n",
    "df2 = pd.read_csv('./reddit_scrape')\n",
    "df2.head()"
   ]
  },
  {
   "cell_type": "code",
   "execution_count": 51,
   "metadata": {},
   "outputs": [
    {
     "data": {
      "text/html": [
       "<div>\n",
       "<style>\n",
       "    .dataframe thead tr:only-child th {\n",
       "        text-align: right;\n",
       "    }\n",
       "\n",
       "    .dataframe thead th {\n",
       "        text-align: left;\n",
       "    }\n",
       "\n",
       "    .dataframe tbody tr th {\n",
       "        vertical-align: top;\n",
       "    }\n",
       "</style>\n",
       "<table border=\"1\" class=\"dataframe\">\n",
       "  <thead>\n",
       "    <tr style=\"text-align: right;\">\n",
       "      <th></th>\n",
       "      <th>Comments</th>\n",
       "      <th>Time</th>\n",
       "    </tr>\n",
       "  </thead>\n",
       "  <tbody>\n",
       "    <tr>\n",
       "      <th>count</th>\n",
       "      <td>500.000000</td>\n",
       "      <td>500.000000</td>\n",
       "    </tr>\n",
       "    <tr>\n",
       "      <th>mean</th>\n",
       "      <td>314.406000</td>\n",
       "      <td>6.028000</td>\n",
       "    </tr>\n",
       "    <tr>\n",
       "      <th>std</th>\n",
       "      <td>641.366356</td>\n",
       "      <td>2.502747</td>\n",
       "    </tr>\n",
       "    <tr>\n",
       "      <th>min</th>\n",
       "      <td>1.000000</td>\n",
       "      <td>1.000000</td>\n",
       "    </tr>\n",
       "    <tr>\n",
       "      <th>25%</th>\n",
       "      <td>53.000000</td>\n",
       "      <td>4.000000</td>\n",
       "    </tr>\n",
       "    <tr>\n",
       "      <th>50%</th>\n",
       "      <td>131.000000</td>\n",
       "      <td>6.000000</td>\n",
       "    </tr>\n",
       "    <tr>\n",
       "      <th>75%</th>\n",
       "      <td>304.000000</td>\n",
       "      <td>7.000000</td>\n",
       "    </tr>\n",
       "    <tr>\n",
       "      <th>max</th>\n",
       "      <td>7901.000000</td>\n",
       "      <td>21.000000</td>\n",
       "    </tr>\n",
       "  </tbody>\n",
       "</table>\n",
       "</div>"
      ],
      "text/plain": [
       "          Comments        Time\n",
       "count   500.000000  500.000000\n",
       "mean    314.406000    6.028000\n",
       "std     641.366356    2.502747\n",
       "min       1.000000    1.000000\n",
       "25%      53.000000    4.000000\n",
       "50%     131.000000    6.000000\n",
       "75%     304.000000    7.000000\n",
       "max    7901.000000   21.000000"
      ]
     },
     "execution_count": 51,
     "metadata": {},
     "output_type": "execute_result"
    }
   ],
   "source": [
    "df2.describe()"
   ]
  },
  {
   "cell_type": "markdown",
   "metadata": {},
   "source": [
    "#### I want to predict a binary variable - whether the number of comments was low or high. Compute the median number of comments and create a new binary variable that is true when the number of comments is high (above the median)\n",
    "\n",
    "I could also perform Linear Regression (or any regression) to predict the number of comments here. Instead, I'm going to convert this into a _binary_ classification problem, by predicting two classes, HIGH vs LOW number of comments.\n",
    "\n",
    "While performing regression may be better, performing classification may help remove some of the noise of the extremely popular threads. I don't _have_ to choose the `median` as the splitting point - I could also split on the 75th percentile or any other reasonable breaking point.\n",
    "\n",
    "In fact, the ideal scenario may be to predict many levels of comment numbers. "
   ]
  },
  {
   "cell_type": "code",
   "execution_count": 52,
   "metadata": {
    "collapsed": true
   },
   "outputs": [],
   "source": [
    "# creat target that seperates posts if they are above or below the median amount of comments. \n",
    "target = []\n",
    "for i in df['Comments']:\n",
    "    if i > median:\n",
    "        target.append(1)\n",
    "    else:\n",
    "        target.append(0)\n",
    "        \n",
    "df2['target'] = target"
   ]
  },
  {
   "cell_type": "code",
   "execution_count": 53,
   "metadata": {},
   "outputs": [
    {
     "data": {
      "text/html": [
       "<div>\n",
       "<style>\n",
       "    .dataframe thead tr:only-child th {\n",
       "        text-align: right;\n",
       "    }\n",
       "\n",
       "    .dataframe thead th {\n",
       "        text-align: left;\n",
       "    }\n",
       "\n",
       "    .dataframe tbody tr th {\n",
       "        vertical-align: top;\n",
       "    }\n",
       "</style>\n",
       "<table border=\"1\" class=\"dataframe\">\n",
       "  <thead>\n",
       "    <tr style=\"text-align: right;\">\n",
       "      <th></th>\n",
       "      <th>Titles</th>\n",
       "      <th>Comments</th>\n",
       "      <th>Time</th>\n",
       "      <th>Subreddit</th>\n",
       "      <th>target</th>\n",
       "    </tr>\n",
       "  </thead>\n",
       "  <tbody>\n",
       "    <tr>\n",
       "      <th>0</th>\n",
       "      <td>TIL the CIA once \"kidnapped\" a Soviet spacecra...</td>\n",
       "      <td>1290</td>\n",
       "      <td>4</td>\n",
       "      <td>r/todayilearned</td>\n",
       "      <td>1</td>\n",
       "    </tr>\n",
       "    <tr>\n",
       "      <th>1</th>\n",
       "      <td>TIL a group of undercover Detroit police posin...</td>\n",
       "      <td>719</td>\n",
       "      <td>3</td>\n",
       "      <td>r/todayilearned</td>\n",
       "      <td>1</td>\n",
       "    </tr>\n",
       "    <tr>\n",
       "      <th>2</th>\n",
       "      <td>3 years in and I've finally got a photo that d...</td>\n",
       "      <td>472</td>\n",
       "      <td>3</td>\n",
       "      <td>r/aww</td>\n",
       "      <td>1</td>\n",
       "    </tr>\n",
       "    <tr>\n",
       "      <th>3</th>\n",
       "      <td>ACLU urges cities to build public broadband to...</td>\n",
       "      <td>226</td>\n",
       "      <td>4</td>\n",
       "      <td>r/technology</td>\n",
       "      <td>1</td>\n",
       "    </tr>\n",
       "    <tr>\n",
       "      <th>4</th>\n",
       "      <td>This level of hypocrisy makes my insides itchy 😐</td>\n",
       "      <td>1072</td>\n",
       "      <td>4</td>\n",
       "      <td>r/PoliticalHumor</td>\n",
       "      <td>1</td>\n",
       "    </tr>\n",
       "  </tbody>\n",
       "</table>\n",
       "</div>"
      ],
      "text/plain": [
       "                                              Titles  Comments  Time  \\\n",
       "0  TIL the CIA once \"kidnapped\" a Soviet spacecra...      1290     4   \n",
       "1  TIL a group of undercover Detroit police posin...       719     3   \n",
       "2  3 years in and I've finally got a photo that d...       472     3   \n",
       "3  ACLU urges cities to build public broadband to...       226     4   \n",
       "4   This level of hypocrisy makes my insides itchy 😐      1072     4   \n",
       "\n",
       "          Subreddit  target  \n",
       "0   r/todayilearned       1  \n",
       "1   r/todayilearned       1  \n",
       "2             r/aww       1  \n",
       "3      r/technology       1  \n",
       "4  r/PoliticalHumor       1  "
      ]
     },
     "execution_count": 53,
     "metadata": {},
     "output_type": "execute_result"
    }
   ],
   "source": [
    "df2.head()"
   ]
  },
  {
   "cell_type": "code",
   "execution_count": 54,
   "metadata": {},
   "outputs": [
    {
     "data": {
      "text/plain": [
       "(500, 227)"
      ]
     },
     "execution_count": 54,
     "metadata": {},
     "output_type": "execute_result"
    }
   ],
   "source": [
    "len(df.Subreddit), len(df.Subreddit.unique())"
   ]
  },
  {
   "cell_type": "code",
   "execution_count": 55,
   "metadata": {},
   "outputs": [
    {
     "data": {
      "text/plain": [
       "[Text(0,0.5,'# of Comments'),\n",
       " Text(0.5,0,'Time(hours)'),\n",
       " Text(0.5,1,'Comments vs. Time')]"
      ]
     },
     "execution_count": 55,
     "metadata": {},
     "output_type": "execute_result"
    },
    {
     "data": {
      "image/png": "[encoded data removed]",
      "text/plain": [
       "<matplotlib.figure.Figure at 0x1178c5400>"
      ]
     },
     "metadata": {
      "image/png": {
       "height": 345,
       "width": 520
      }
     },
     "output_type": "display_data"
    }
   ],
   "source": [
    "plt.figure(figsize=(8,5))\n",
    "plt.style.use('fivethirtyeight')\n",
    "ax = sns.regplot(x = 'Time', y = 'Comments', data = df2)\n",
    "ax.set(ylabel='# of Comments', \n",
    "       xlabel='Time(hours)', \n",
    "       title='Comments vs. Time')"
   ]
  },
  {
   "cell_type": "code",
   "execution_count": 56,
   "metadata": {
    "collapsed": true
   },
   "outputs": [],
   "source": [
    "# Find the Subreddits with the most comments\n",
    "\n",
    "df_top_subreddits = df.groupby(df2.Subreddit,as_index=False).agg({\n",
    "        'Comments': np.sum,\n",
    "        'Subreddit': lambda x: x.iloc[0]\n",
    "                }).sort_values(by='Comments', ascending=False)"
   ]
  },
  {
   "cell_type": "code",
   "execution_count": 57,
   "metadata": {},
   "outputs": [
    {
     "data": {
      "text/html": [
       "<div>\n",
       "<style>\n",
       "    .dataframe thead tr:only-child th {\n",
       "        text-align: right;\n",
       "    }\n",
       "\n",
       "    .dataframe thead th {\n",
       "        text-align: left;\n",
       "    }\n",
       "\n",
       "    .dataframe tbody tr th {\n",
       "        vertical-align: top;\n",
       "    }\n",
       "</style>\n",
       "<table border=\"1\" class=\"dataframe\">\n",
       "  <thead>\n",
       "    <tr style=\"text-align: right;\">\n",
       "      <th></th>\n",
       "      <th>Comments</th>\n",
       "      <th>Subreddit</th>\n",
       "    </tr>\n",
       "  </thead>\n",
       "  <tbody>\n",
       "    <tr>\n",
       "      <th>4</th>\n",
       "      <td>12450</td>\n",
       "      <td>r/AskReddit</td>\n",
       "    </tr>\n",
       "    <tr>\n",
       "      <th>209</th>\n",
       "      <td>11696</td>\n",
       "      <td>r/todayilearned</td>\n",
       "    </tr>\n",
       "    <tr>\n",
       "      <th>196</th>\n",
       "      <td>8924</td>\n",
       "      <td>r/science</td>\n",
       "    </tr>\n",
       "    <tr>\n",
       "      <th>179</th>\n",
       "      <td>7536</td>\n",
       "      <td>r/news</td>\n",
       "    </tr>\n",
       "    <tr>\n",
       "      <th>224</th>\n",
       "      <td>7414</td>\n",
       "      <td>r/worldnews</td>\n",
       "    </tr>\n",
       "    <tr>\n",
       "      <th>132</th>\n",
       "      <td>4852</td>\n",
       "      <td>r/dataisbeautiful</td>\n",
       "    </tr>\n",
       "    <tr>\n",
       "      <th>153</th>\n",
       "      <td>4340</td>\n",
       "      <td>r/gifs</td>\n",
       "    </tr>\n",
       "    <tr>\n",
       "      <th>113</th>\n",
       "      <td>4092</td>\n",
       "      <td>r/aww</td>\n",
       "    </tr>\n",
       "    <tr>\n",
       "      <th>216</th>\n",
       "      <td>3757</td>\n",
       "      <td>r/videos</td>\n",
       "    </tr>\n",
       "    <tr>\n",
       "      <th>186</th>\n",
       "      <td>3396</td>\n",
       "      <td>r/pics</td>\n",
       "    </tr>\n",
       "  </tbody>\n",
       "</table>\n",
       "</div>"
      ],
      "text/plain": [
       "     Comments          Subreddit\n",
       "4       12450        r/AskReddit\n",
       "209     11696    r/todayilearned\n",
       "196      8924          r/science\n",
       "179      7536             r/news\n",
       "224      7414        r/worldnews\n",
       "132      4852  r/dataisbeautiful\n",
       "153      4340             r/gifs\n",
       "113      4092              r/aww\n",
       "216      3757           r/videos\n",
       "186      3396             r/pics"
      ]
     },
     "execution_count": 57,
     "metadata": {},
     "output_type": "execute_result"
    }
   ],
   "source": [
    "df_top_top_subreddits = df_top_subreddits.head(10)\n",
    "df_top_top_subreddits"
   ]
  },
  {
   "cell_type": "code",
   "execution_count": 58,
   "metadata": {},
   "outputs": [
    {
     "data": {
      "text/plain": [
       "[Text(0,0.5,'Subreddits'),\n",
       " Text(0.5,0,'# of Comments'),\n",
       " Text(0.5,1,'Subreddits With Most Comments')]"
      ]
     },
     "execution_count": 58,
     "metadata": {},
     "output_type": "execute_result"
    },
    {
     "data": {
      "image/png": "[encoded data removed]",
      "text/plain": [
       "<matplotlib.figure.Figure at 0x117a89da0>"
      ]
     },
     "metadata": {
      "image/png": {
       "height": 365,
       "width": 654
      }
     },
     "output_type": "display_data"
    }
   ],
   "source": [
    "plt.figure(figsize=(8,5))\n",
    "plt.style.use('fivethirtyeight')\n",
    "ax = sns.barplot(x = 'Comments', y = 'Subreddit', data = df_top_subreddits.head(10))\n",
    "ax.set(ylabel='Subreddits', \n",
    "       xlabel='# of Comments', \n",
    "       title='Subreddits With Most Comments')"
   ]
  },
  {
   "cell_type": "code",
   "execution_count": 59,
   "metadata": {},
   "outputs": [
    {
     "data": {
      "text/html": [
       "<div>\n",
       "<style>\n",
       "    .dataframe thead tr:only-child th {\n",
       "        text-align: right;\n",
       "    }\n",
       "\n",
       "    .dataframe thead th {\n",
       "        text-align: left;\n",
       "    }\n",
       "\n",
       "    .dataframe tbody tr th {\n",
       "        vertical-align: top;\n",
       "    }\n",
       "</style>\n",
       "<table border=\"1\" class=\"dataframe\">\n",
       "  <thead>\n",
       "    <tr style=\"text-align: right;\">\n",
       "      <th></th>\n",
       "      <th>Subreddit</th>\n",
       "    </tr>\n",
       "  </thead>\n",
       "  <tbody>\n",
       "    <tr>\n",
       "      <th>r/funny</th>\n",
       "      <td>22</td>\n",
       "    </tr>\n",
       "    <tr>\n",
       "      <th>r/pics</th>\n",
       "      <td>19</td>\n",
       "    </tr>\n",
       "    <tr>\n",
       "      <th>r/FortNiteBR</th>\n",
       "      <td>14</td>\n",
       "    </tr>\n",
       "    <tr>\n",
       "      <th>r/aww</th>\n",
       "      <td>13</td>\n",
       "    </tr>\n",
       "    <tr>\n",
       "      <th>r/todayilearned</th>\n",
       "      <td>11</td>\n",
       "    </tr>\n",
       "    <tr>\n",
       "      <th>r/PrequelMemes</th>\n",
       "      <td>8</td>\n",
       "    </tr>\n",
       "    <tr>\n",
       "      <th>r/gifs</th>\n",
       "      <td>8</td>\n",
       "    </tr>\n",
       "    <tr>\n",
       "      <th>r/baseball</th>\n",
       "      <td>8</td>\n",
       "    </tr>\n",
       "    <tr>\n",
       "      <th>r/news</th>\n",
       "      <td>6</td>\n",
       "    </tr>\n",
       "    <tr>\n",
       "      <th>r/worldnews</th>\n",
       "      <td>6</td>\n",
       "    </tr>\n",
       "  </tbody>\n",
       "</table>\n",
       "</div>"
      ],
      "text/plain": [
       "                 Subreddit\n",
       "r/funny                 22\n",
       "r/pics                  19\n",
       "r/FortNiteBR            14\n",
       "r/aww                   13\n",
       "r/todayilearned         11\n",
       "r/PrequelMemes           8\n",
       "r/gifs                   8\n",
       "r/baseball               8\n",
       "r/news                   6\n",
       "r/worldnews              6"
      ]
     },
     "execution_count": 59,
     "metadata": {},
     "output_type": "execute_result"
    }
   ],
   "source": [
    "# find the fequency that each Subbreddit appears.\n",
    "\n",
    "subs = pd.DataFrame(df.Subreddit.value_counts())\n",
    "subs = subs[0:10]\n",
    "subs"
   ]
  },
  {
   "cell_type": "code",
   "execution_count": 60,
   "metadata": {},
   "outputs": [
    {
     "data": {
      "text/plain": [
       "<matplotlib.figure.Figure at 0x117948dd8>"
      ]
     },
     "metadata": {},
     "output_type": "display_data"
    },
    {
     "data": {
      "image/png": "[encoded data removed]",
      "text/plain": [
       "<matplotlib.figure.Figure at 0x1179be2b0>"
      ]
     },
     "metadata": {
      "image/png": {
       "height": 286,
       "width": 507
      }
     },
     "output_type": "display_data"
    }
   ],
   "source": [
    "plt.figure(figsize=(8,5))\n",
    "plt.style.use('fivethirtyeight')\n",
    "# ax = sns.barplot(x = 'index', y = 'Subreddit', data = subs.head(10))\n",
    "subs.plot(kind = 'barh')\n",
    "plt.xticks\n",
    "plt.ylabel=('Number')\n",
    "plt.xlabel=('Subreddits') \n",
    "plt.title('Subreddit Frequency');"
   ]
  },
  {
   "cell_type": "code",
   "execution_count": 80,
   "metadata": {},
   "outputs": [],
   "source": [
    "baseline = (1 - np.median(df2.target))"
   ]
  },
  {
   "cell_type": "code",
   "execution_count": 81,
   "metadata": {},
   "outputs": [
    {
     "name": "stdout",
     "output_type": "stream",
     "text": [
      "0.5\n"
     ]
    }
   ],
   "source": [
    "np.median(df2.target)\n",
    "if np.median(df2.target) < 0.5:\n",
    "    baseline = (1 - np.median(df2.target))\n",
    "    \n",
    "    round(baseline, 3)\n",
    "print(baseline)"
   ]
  },
  {
   "cell_type": "code",
   "execution_count": 62,
   "metadata": {},
   "outputs": [
    {
     "data": {
      "text/plain": [
       "array(['TIL the CIA once \"kidnapped\" a Soviet spacecraft overnight, took it apart, studied it, reassembled it, & sent it back without the Soviets realizing.',\n",
       "       'TIL a group of undercover Detroit police posing as drug dealers tried to arrest another group of undercover police posing as drug buyers.',\n",
       "       \"3 years in and I've finally got a photo that does her justice!\",\n",
       "       'ACLU urges cities to build public broadband to protect net neutrality',\n",
       "       'This level of hypocrisy makes my insides itchy 😐',\n",
       "       '🅱️indergardeners', 'But you said you love me the most',\n",
       "       \"'Westworld' Season 2 Official Trailer\",\n",
       "       'Ian Happ hits a home run on the first pitch of the 2018 season',\n",
       "       'MRW someone asks if I like old Kung Fu movies',\n",
       "       'Oh man, this hits deep',\n",
       "       'Oklahoma Senate passes $447 million revenue package to fund teacher pay raise',\n",
       "       'TIL Alcatraz had some of the best food in the federal prison system including chili dogs, butter-drenched potatoes, pork chops, biscuits and gravy & banana pudding because the warden believed “most trouble in prison is caused by bad food.” The prison staff ate the same food as the prisoners.',\n",
       "       'My daughter, $3 date night clearly worth it',\n",
       "       '🔥 Meet the world smallest feline', 'So many questions lol',\n",
       "       'Mind your business', 'Squeeze [OC]',\n",
       "       'Qui-Gon Gin and Darth Maul putting up a painting of Darth Vader, while Obi-Wan is supervising them. (xpost from r/photoshopbattles made by u/Matiasjkk',\n",
       "       'New York Public Library', \"Bear catching snowflakes on it's paws\",\n",
       "       'A single 31 second exposure I captured of the Galactic Core rising over Banks Lake National Wildlife Refuge in Lanier County Georgia on Thursday, March 22nd at 5:57 A.M. (1459x973) (OC)',\n",
       "       'Meanwhile, at the pool...', 'Cherry blossom in Japan',\n",
       "       'If the UFC had a series finale', 'The perfect GIF',\n",
       "       'I made a Thing for my entryway with magic mirror, wireless charger, mail sorter, key holder, and 200-year-old reclaimed wood',\n",
       "       'Comparing the Sizes of Microorganisms Up to 1mm',\n",
       "       'JR Smith credits good game he had to good boy Remington who he hung out with before the game',\n",
       "       'Marijuana may not be as damaging to the brain as previously thought; easier on the brain than booze, study finds',\n",
       "       'Cochem, Germany',\n",
       "       'User explains that Alex Van Der Zwaan - who just plead guilty to lying to Mueller - is the son-in-law of the oligarch who owns Alfa Bank, the same Russian bank that notoriously made up 80% of lookup traffic to the Trump Tower server during the campaign.',\n",
       "       'My Aunt’s response to the birth of our child',\n",
       "       \"Fiverr's new hiring campaign is terrible\",\n",
       "       'Is this what it feels like to be a Dark Souls boss? [Far Cry 5]',\n",
       "       'Flip and sit', \"I'm so scared\",\n",
       "       'A selfie from 1951 - My Dutch Grandfather testing his new camera out',\n",
       "       'A perfect slice', 'This is amazing.',\n",
       "       \"If there's a stairway to heaven, this must be the escalator to hell\",\n",
       "       'High voltage service error',\n",
       "       'Adopted a doggo and I’ve never loved anything more than him',\n",
       "       'Not knowing what the hell went on here...',\n",
       "       'Water identification sensors need repair/replacement',\n",
       "       'Elephant Rock, Iceland',\n",
       "       'My Aunt tried to use the \"you don\\'t need money, I\\'m giving you experience and exposure\" for some art I did for \"business.\" She got called out, now her entire scam (and life) is unravelling and while I don\\'t like to gloat, I can\\'t help but snicker.',\n",
       "       'A selfie from 1951. My Dutch Grandfather testing his new camera',\n",
       "       'Week 6 Challenges (All Inclusive Cheat Sheet)',\n",
       "       'Erin LaVoie destroys the single buck(saw) event.',\n",
       "       'Presidential Approval Ratings Since Kenney [OC]',\n",
       "       'PsBattle: Anna Kendrick in a suitcase',\n",
       "       'Westworld - Season 2 | Official Trailer', 'anime irl',\n",
       "       'Cel shaded comic jeans ~ inspired by Borderlands Telltale Games',\n",
       "       \"Just visited New Orleans. Here's a watercolor painting I made while I was there\",\n",
       "       'Mao Zedong', 'Come here little birdie', 'SELL SELL SELL',\n",
       "       'My girlfriend and i listened to Terry Crews speak last night and he did this for a fan.',\n",
       "       'A format I can afford to lose',\n",
       "       'Indian brothel owners get first life sentence for trafficking children: Two Indian brothel owners have been jailed for life for the trafficking, rape and sexual abuse of children, an unprecedented sentence in a country where fewer than two in five trafficking cases ends in a conviction.',\n",
       "       \"It's almost a month when i took this little guy to my home. He was waiting six years in shelter and now he is part of my family\",\n",
       "       'Unconditional Love', 'Monkey Bars weeeeeeeeeeeeeeee',\n",
       "       '[I ate] A Hungarian Dobish Triangle',\n",
       "       'Is that a PITA in your pocket? A look at ideas for the future of computing from 1999',\n",
       "       'I could relate to this..', 'hmmm',\n",
       "       'Diane and Mr Peanutbutter back to normal',\n",
       "       \"ULPT: Prostitutes are cheaper by the hour than a licensed therapist and it's okay just to talk to them\",\n",
       "       'Someone started playing Wolfenstein on back screen on Polish news channel.',\n",
       "       'Ken M on weightlifting', 'True story...', 'One way exit sign.',\n",
       "       'What are some ethical life choices we should all be making?',\n",
       "       'A curious cat',\n",
       "       \"Arrived in time, I can't wait to sit at the family table this Easter weekend\",\n",
       "       'Scandinavian Airlines, 1969',\n",
       "       'Fake deep guy who will view you as his manic pixie dream girl starter pack',\n",
       "       'Robert Downy Jr. with his dads friend Mike Tyson, circa 1980.',\n",
       "       'My girl keeps having disturbed dreams, shouting things like \"Hobbit!\", \"Gandalf!\", and \"Mordor!\".',\n",
       "       '“My own personal dignity as a woman was impacted during my incarceration,” said a former Connecticut inmate “I was denied feminine hygiene products on more than one occasion. When I asked a male correction officer for feminine products he told me to use my sock.”',\n",
       "       'Do Your Job with a Smile On Your Face',\n",
       "       'The new guided missile in action - 2 Kills',\n",
       "       'Ancient serial killer', 'Decayed lovers [oc]',\n",
       "       \"Sad cringe of myself: my friend who informed me he's having a house party tonight but won't invite me to it. You could have just said you were busy bro\",\n",
       "       'Arcade in New Jersey by Franck Bohbot',\n",
       "       'Early morning looking over the water', 'Sky of cherry blossoms',\n",
       "       'Anon woke AF',\n",
       "       \"An accidental super like that didn't end in disaster.\",\n",
       "       'Art Nouveau Door, Brussels, Belgium',\n",
       "       \"Kid's reaction at 5 sec. and then in the end.\",\n",
       "       'wait wait , scroll back down please',\n",
       "       'So happy with my collection',\n",
       "       'My 5 month old puppy practically has tree trunks for stumps',\n",
       "       '[Educational] Greeks 101',\n",
       "       'IRS: Refunds worth $1.1B waiting to be claimed by those who have not filed 2014 federal income tax returns!',\n",
       "       '\"Go wash your feet, human!\"',\n",
       "       \"[WP] In the near future, all the world's superpowers switch to AI to make their military more efficient. The AIs do the unthinkable: They negotiate world peace.\",\n",
       "       \"'That fake 80's aesthetic' starter pack\",\n",
       "       'This Swiss cheese has one hole',\n",
       "       'UK government recently passed the Space Industry Bill, as it laid regulatory groundwork that will be needed to create an operational spaceport, potentially by 2020. UK also set to create world’s first fully commercial astronaut training ground, with construction expected to start later this year.',\n",
       "       \"Monkey tries a lemon, can't even\", 'Ran into tough guys',\n",
       "       'I will go down this makeshift zipline WCGW?',\n",
       "       '\"This might be dangerous, so let\\'s put on our mean faces.\" Mantis:',\n",
       "       'Happy birthday to the ground',\n",
       "       'I met some chess players in the hotel lobby. They were bragging about how good they are.',\n",
       "       'It’s a rainy morning in Vietnam so I sat on the porch and ate banana pancakes and snuggled with my kitten.',\n",
       "       'WE ARE EATING TOMORROW',\n",
       "       '[Image] The best you can do is work on yourself.',\n",
       "       'Mods are under siege, upvote battering ram', 'Life goals',\n",
       "       'Cancer equals Karma',\n",
       "       'Creepy asterisks leaking into software engineering world *starts twerking*',\n",
       "       'Need a whiteboard drawing? Why not zoidberg?', 'Scum',\n",
       "       \"Just a reminder that it's been 10 years and 18 movies, and Cap still hasn't told the Avengers to assemble.\",\n",
       "       'So much derp, so little time.',\n",
       "       'New York style pastrami, smoked and steamed until tender [640 x 800] [GIF]',\n",
       "       'Ye gotta pick ye battles.', 'Satire',\n",
       "       'TIL That there have been nine different studies on DARE (Drug Abuse Resistance Education) and all agree that the program does nothing or worsens the problem',\n",
       "       'After being the victim of the “Batman Slap” meme for years, Robin decided he had enough',\n",
       "       'How to offend the maximum amount of people at once',\n",
       "       'Written in a 1999 magazine',\n",
       "       \"Sleep is the body's best safety mechanism. It keeps you from screwing things up for 8 hours.\",\n",
       "       'PSA: Apple will remove Facebook Contact sync',\n",
       "       'TIL George HW Bush shaved his head in support of a member of his security teams child in 2013 at 89',\n",
       "       'When PewDiePie pledges his allegiance to the prequel memes',\n",
       "       'Rusty Staub, beloved Mets icon, dead at 73',\n",
       "       'All set for his big car ride 🙂',\n",
       "       \"ATTN Frank: I will post a very unflattering Photoshop of your face EVERY WEEK that my Endless Vinyl hasn't arrived. You've been warned!\",\n",
       "       \"[Cerami] If Ian Happ leads off today's game with a home run, I will jump in Lake Michigan later today.\",\n",
       "       \"The real reason he's gone\", 'Spain and portugal - The rivals',\n",
       "       'Pow! Right in the (pillow) kisser!',\n",
       "       \"What Is Phubbing? Why It's Bad for Relationships and Mental Health | It’s a made up word that means using your phone instead of talking to the people you’re with. It’s bad to ignore people.\",\n",
       "       'April fools idea: The Map is The L', 'cAuGhT bAe ChEaTiNg!!',\n",
       "       '[OC][CC] Tried to \"construct\" a beech tree leaf by leaf. What do you think? Worth it or not?',\n",
       "       'You Died',\n",
       "       \"My dad has been feeding a fox that comes to our garden for a couple of weeks, he's asked me to put this on the Internet so I figured this would be the best place for it.\",\n",
       "       'Who wants a drink from the firehose?',\n",
       "       'Taco Bell to offer free tuition to employees',\n",
       "       \"3D Printed 'Gear Cube'\", 'Shoot',\n",
       "       \"Yulia Skripal is 'improving rapidly and no longer in critical condition' after Salisbury nerve agent attack.\",\n",
       "       'How to Play Tag with a Corpse', 'Familiar?',\n",
       "       'The Toronto Blue Jays receive secret commissions on every ticket sold on StubHub, allowing the club to profit on the scalping of its own seats',\n",
       "       'APRIL FOOL!!',\n",
       "       'ELI5: Why do symptoms of a cold sometimes go away overnight and sometimes take several days to fade away?',\n",
       "       'During the opening of John Carpenter\\'s \"The Thing\" (1980), the \"crazed\" Norwegian that accidentally shoots one of the expedition members shouts \"Get the hell away from that thing. That\\'s not a dog, it\\'s some sort of thing! It\\'s imitating a dog, it isn\\'t real! GET AWAY YOU IDIOTS!!\"',\n",
       "       'why does refusing to regain spell slots mean breaking the law?',\n",
       "       'How ironic', 'Yes because people do this.',\n",
       "       'We are Martin, Iain, & Lauren of CHVRCHES, ask us anything again!',\n",
       "       'Dolomites, Italy',\n",
       "       'A total noob squad trying to escape from the storm',\n",
       "       'Finished my Chamber of Secrets, Final Fantasy style piece.',\n",
       "       'Scared The Shit Outta Me', 'The airbag did not deploy',\n",
       "       'This is Arnold: my flying brick',\n",
       "       'No matter what happens during your opening day game today, you have to remember one thing...',\n",
       "       'My wallet is ready, epic', 'Only 90s kids will remember...',\n",
       "       'Front porch sittin’ at Lake Atitlan, Guatemala [4200x2800][OC]',\n",
       "       'And Now a Word from Reddit’s Engineers…',\n",
       "       '[Rob Manfred on Golic and Wingo] On the subject of Minor league games starting extra innings with a runner on 2nd “I don’t see this as a rule we’ll be brining to Major League Baseball”',\n",
       "       'The local gang', 'Mans best friend', 'Like if you relate😂💯',\n",
       "       'I’ve drawn a lot of pet portraits since, but I think my first ever one is still my favourite :) this was Patch.',\n",
       "       'Kansas: The true underdogs.', 'This sub after every update',\n",
       "       'Happy Birthday to the Living Legend, the King of Cool, the Flyest Man on Earth and the greatest Knick of all time!',\n",
       "       'Blue Nebula.',\n",
       "       'Washington State governor to sign bill banning therapists from practicing gay conversion therapy',\n",
       "       \"Me in the center '87. Daughter said I looked cool in the photo....\",\n",
       "       'The senate just voted to downgrade cannabis to schedule 4, which would make it an easily accessible prescription medicine',\n",
       "       'From a certain point of view...', 'Behold. The Ultimate weapon',\n",
       "       'Something I drew in my notebook...', 'Smashing through a table',\n",
       "       'My friend wrote and directed a movie (Exposed) with Keanu Reeves, but had his name taken off after Lionsgate edited the movie into something completely different than intended. Now the original cut of the movie is available - Daughter of God',\n",
       "       'I never knew chemistry could be so satisfying.',\n",
       "       'HMB and throw a dart at my head',\n",
       "       'When someone asks if they can have the last slice of garlic bread since you already ate 5',\n",
       "       'Cat.', 'He will make it legal.',\n",
       "       \"GallowBoob changed the rules of /r/DadReflexes so he could farm karma with content that used to go against the rules. He proceeded to delete all comments calling him out, and he didn't consult the mods about the rule change.\",\n",
       "       'Future Water Bender by Josh Hutchinson', 'Oh Snapchat',\n",
       "       \"She's up all night for good fun, I'm up all night to get ____________.\",\n",
       "       'Manny Pacquiao Builds 1000 Homes For Poor Families In Hometown',\n",
       "       'Hell yeah', 'Sydney Harbour [1080x809]',\n",
       "       'Sichuan Fried Chicken Sandwich [PRO/CHEF]',\n",
       "       'A pretty nice Hermione Granger cosplay',\n",
       "       'My disappointment is immeasurable and my day is ruined.',\n",
       "       'Yesterday Mt. Fuji at 8am', 'Get that crap outta here',\n",
       "       'Every 8%-Banner Ever',\n",
       "       'This is such a beautiful and underrated shot',\n",
       "       'Must have left the oven on, two burnt loafs waiting for me when i got home.',\n",
       "       'Showdown at the supermarket.', 'Oh, a whole bunch of them here.',\n",
       "       'Bombings were ‘domestic terrorism,’ Austin police chief says',\n",
       "       'Horse Head Rock, NSW, Australia',\n",
       "       'Our hummingbirds are growing up fast!',\n",
       "       'When Nicki Minaj is your Missing Piece',\n",
       "       'The Guided Missile is hella OP', 'This owl taking a bath.',\n",
       "       'This guy gets it',\n",
       "       'My newest piece by Kyle Stacher at Ever True Tattoo in Portland, Oregon',\n",
       "       'The art of claw',\n",
       "       'Stephen Hawking tests out his first communication device(1997)',\n",
       "       'How does something as temporary as a human footprint get preserved for more than 10,000 years?',\n",
       "       'TIL that Doc Pomus, who wrote the lyrics to \"Save the Last Dance for Me,\" had polio and was confined to a wheelchair. He wrote the song after his wedding, where he watched his new wife dance with everyone but him.',\n",
       "       'Cows are real bros',\n",
       "       'Monique really did deserve to be top for this look',\n",
       "       'So I was skiing and I had to stop to take this picture. [OC, 3968x2240 , Steinach in Austria] And this is the third try uploading :(',\n",
       "       \"Ichiro makes Mariners' opening day roster.\",\n",
       "       \"No Man's Sky coming to Xbox One\",\n",
       "       'How do you even say no to this handsome boy?',\n",
       "       'This is what having a puppy in college is like',\n",
       "       'Minutes after @GovWalker calls special elections for pair of legislative vacancies as ordered by a court, @SenFitzgerald says the Legislature is dropping its bill to change the law in attempt to cancel elections, saying they are \"boxed in\" by court orders',\n",
       "       'To be cool',\n",
       "       'I was in physical pain after I saw this in theaters.',\n",
       "       'MRW a teacher hands out an extra credit assignment, but I already have an A.',\n",
       "       'Demand good vibrations from your next Android phone',\n",
       "       'User shows that the ability of the Chinese people to bypass government censors arises from the Chinese language being conducive for wordplay.',\n",
       "       'BEST Character Customization IDEA !',\n",
       "       'The rails for this staircase', 'Self Missile Ride.',\n",
       "       'When you forget to lock the back door for a long time.',\n",
       "       '[NY Daily News] Rusty Staub, beloved Mets icon, dead at 73.',\n",
       "       'TIL the shotgun choke pickup is actually the container that holds barrel shaped choke attachments. It is not a rectangle you slap on the gun',\n",
       "       'He is ready for this season',\n",
       "       'A starfragment led me to the hardest memory spot!',\n",
       "       'UK Politician says those accused of rape should have anonymity.',\n",
       "       \"If you're trapped in a well, you yourself are not well, but everything around you is well\",\n",
       "       'Someone Built This In The Final Circle. It Was Quite The Stage To Battle On.',\n",
       "       'to kick a cyclist',\n",
       "       'Fellow cyclists. Please do not do this, you make us all look bad.',\n",
       "       'Mechanical Rat Pizza is a good band name.',\n",
       "       'When you get those big wheels and air suspension goes kaput. Can’t even roll it. Oh, and they lost their security lug but socket too. 04 Range Rover',\n",
       "       'What would Onion look like all grown up?', 'MAGBA',\n",
       "       'When people say the new rocket is \"op\"',\n",
       "       'Tom from MySpace never seemed like a data stealing robot man, he just wanted to be everyone’s friend.',\n",
       "       'DMX Sentenced to 1 Year in Prison For Tax Fraud',\n",
       "       'A still from the Italian version of Up (2009)',\n",
       "       \"I wonder what he's so happy about\",\n",
       "       'Leaked memo shows EPA told employees to lie about climate science',\n",
       "       'My dad and I made a snow llama',\n",
       "       'Poo-Chi dogs! Anyone else remember these bad boys?',\n",
       "       'This guy has WAY too much time on his hand.', 'Electric Meme',\n",
       "       'Creepy Guy', 'Me at the pub',\n",
       "       'Thought you all might like this portrait of Ru that I drew',\n",
       "       'So sad', 'This customer was right on time',\n",
       "       'Maywa Denki has created a Kirby Otamatone, releases in May',\n",
       "       'Me for sure 😩😩😩😩', 'I drew a smol Barroth',\n",
       "       'The millionth 911. [4032x3024][OC]',\n",
       "       'haha today might be the day',\n",
       "       'How to find an idea for your next big novel.',\n",
       "       'Isle of Skye in Scotland',\n",
       "       'GAME THREAD: Cardinals (0-0) @ Mets (0-0) - March 29, 2018',\n",
       "       'Binary Sunset [Star Wars:The Last Jedi, 2017]', '😡/😏',\n",
       "       'Moments like this is what makes life special.',\n",
       "       'The Onion has unionized',\n",
       "       'Fields of lavender in Provence, France',\n",
       "       'The best way to ask a girl to prom',\n",
       "       '[New York Red Bulls] Best of luck to our local baseball teams this season! We know we enjoy visiting our local ballparks (➕6⃣ goal differential)! 😉',\n",
       "       'Mountain lion having a playful moment irritating her cub',\n",
       "       'Wonderboy vs Till confirmed', 'Dragon Boat Drift', 'Stacked Wood',\n",
       "       'Who are you strangely attracted to?', 'Always help out others',\n",
       "       'Can we please get a hockey game on the Switch?',\n",
       "       'My former boss wanted me to cast his wife in my short film. He didn’t like that I didn’t have a part for her. Resubmitted with everything personal blocked out.',\n",
       "       ':P :)', 'When you find an unlikely ally in the meme war',\n",
       "       'Those Days...',\n",
       "       'Old homesteader cabin in north Joshua Tree, CA [OC] [3024x3024]',\n",
       "       'Just thought I’d share a picture I took in the Texas capital building, of the chandelier from directly below.',\n",
       "       'Bend wooden plywood',\n",
       "       'Lizard Squad member found guilty of offering DDoS-for-hire and jailed',\n",
       "       'Kyoto University says no to military-related research despite spike in Defense Ministry funding: Kyoto University, one of Japan’s oldest and most prestigious centers of higher education, has announced a basic policy of not conducting military-related research.',\n",
       "       'After -.000009 hours, I got my first brown chest! Finally got my first bullet kin kill on this run',\n",
       "       'Smart.', 'Metallica: The Miracle and the sleepy drums',\n",
       "       'Be sure to pray for strength for your priests over these next few days!',\n",
       "       '\"You mean this is what\\'s kept me struggling... kept me from getting revenge... all this time???\"',\n",
       "       'Marriage proposal before the alliance choosing ceremony!',\n",
       "       'https://twitter.com/the_jingoist/status/979343594527043591',\n",
       "       \"George's colleagues think he supports Trump after seeing him on TV waiting in line for a Trump rally. His father finds out and they bond for first time. George fakes support for Father's approval while convincing work he hates Trump. Secretly he's not even registered to vote\",\n",
       "       '4Koma: Poke Through', \"NHL 18 as a whole. ps. I'm Back!\",\n",
       "       'VIXX - EAU DE VIXX (Image Teaser)',\n",
       "       '[SHITPOST]Show is doing so badly that poor Wiila has to rob casinos',\n",
       "       'New Trailer!!!!!!!',\n",
       "       'Was messing with Java Alice and a friend suggested to do this...',\n",
       "       'Meme: Armageddon be like...',\n",
       "       '/r/pics didn’t like my autistic cousin so they banned me',\n",
       "       'My wife spend 3 days making this Rapunzel tower cake, I am trying to convince her to sell them [3095 x 4405]',\n",
       "       'This was beautiful',\n",
       "       '“Jimmy” is such an underrated, under appreciated song',\n",
       "       'The Keeper', 'Timelapse PowerWashing',\n",
       "       'ITAP of an alleyway in Tokyo, Japan.',\n",
       "       '[Theme] Simple Monochrome',\n",
       "       '“Working together of women the power”',\n",
       "       'Helping a thirsty friend'], dtype=object)"
      ]
     },
     "execution_count": 62,
     "metadata": {},
     "output_type": "execute_result"
    }
   ],
   "source": [
    "df3 = (df2['Titles'].unique())\n",
    "df3"
   ]
  },
  {
   "cell_type": "code",
   "execution_count": 63,
   "metadata": {
    "collapsed": true
   },
   "outputs": [],
   "source": [
    "#NLP or get dummies. \n",
    "\n",
    "dummy_X = pd.get_dummies(df2[['Titles', 'Comments', 'Time', 'Subreddit', 'target']], drop_first=True)\n",
    "dummy_X2 = pd.concat([df2[['Titles', 'Comments', 'Time', 'Subreddit', 'target']], dummy_X], axis=1)"
   ]
  },
  {
   "cell_type": "code",
   "execution_count": 64,
   "metadata": {},
   "outputs": [
    {
     "data": {
      "text/html": [
       "<div>\n",
       "<style>\n",
       "    .dataframe thead tr:only-child th {\n",
       "        text-align: right;\n",
       "    }\n",
       "\n",
       "    .dataframe thead th {\n",
       "        text-align: left;\n",
       "    }\n",
       "\n",
       "    .dataframe tbody tr th {\n",
       "        vertical-align: top;\n",
       "    }\n",
       "</style>\n",
       "<table border=\"1\" class=\"dataframe\">\n",
       "  <thead>\n",
       "    <tr style=\"text-align: right;\">\n",
       "      <th></th>\n",
       "      <th>Titles</th>\n",
       "      <th>Comments</th>\n",
       "      <th>Time</th>\n",
       "      <th>Subreddit</th>\n",
       "      <th>target</th>\n",
       "      <th>Comments</th>\n",
       "      <th>Time</th>\n",
       "      <th>target</th>\n",
       "      <th>Titles_\"This might be dangerous, so let's put on our mean faces.\" Mantis:</th>\n",
       "      <th>Titles_\"You mean this is what's kept me struggling... kept me from getting revenge... all this time???\"</th>\n",
       "      <th>...</th>\n",
       "      <th>Subreddit_r/wallstreetbets</th>\n",
       "      <th>Subreddit_r/westworld</th>\n",
       "      <th>Subreddit_r/whitepeoplegifs</th>\n",
       "      <th>Subreddit_r/wholesomeanimemes</th>\n",
       "      <th>Subreddit_r/wholesomememes</th>\n",
       "      <th>Subreddit_r/woahdude</th>\n",
       "      <th>Subreddit_r/woooosh</th>\n",
       "      <th>Subreddit_r/worldnews</th>\n",
       "      <th>Subreddit_r/xboxone</th>\n",
       "      <th>Subreddit_r/youseeingthisshit</th>\n",
       "    </tr>\n",
       "  </thead>\n",
       "  <tbody>\n",
       "    <tr>\n",
       "      <th>0</th>\n",
       "      <td>TIL the CIA once \"kidnapped\" a Soviet spacecra...</td>\n",
       "      <td>1290</td>\n",
       "      <td>4</td>\n",
       "      <td>r/todayilearned</td>\n",
       "      <td>1</td>\n",
       "      <td>1290</td>\n",
       "      <td>4</td>\n",
       "      <td>1</td>\n",
       "      <td>0</td>\n",
       "      <td>0</td>\n",
       "      <td>...</td>\n",
       "      <td>0</td>\n",
       "      <td>0</td>\n",
       "      <td>0</td>\n",
       "      <td>0</td>\n",
       "      <td>0</td>\n",
       "      <td>0</td>\n",
       "      <td>0</td>\n",
       "      <td>0</td>\n",
       "      <td>0</td>\n",
       "      <td>0</td>\n",
       "    </tr>\n",
       "    <tr>\n",
       "      <th>1</th>\n",
       "      <td>TIL a group of undercover Detroit police posin...</td>\n",
       "      <td>719</td>\n",
       "      <td>3</td>\n",
       "      <td>r/todayilearned</td>\n",
       "      <td>1</td>\n",
       "      <td>719</td>\n",
       "      <td>3</td>\n",
       "      <td>1</td>\n",
       "      <td>0</td>\n",
       "      <td>0</td>\n",
       "      <td>...</td>\n",
       "      <td>0</td>\n",
       "      <td>0</td>\n",
       "      <td>0</td>\n",
       "      <td>0</td>\n",
       "      <td>0</td>\n",
       "      <td>0</td>\n",
       "      <td>0</td>\n",
       "      <td>0</td>\n",
       "      <td>0</td>\n",
       "      <td>0</td>\n",
       "    </tr>\n",
       "    <tr>\n",
       "      <th>2</th>\n",
       "      <td>3 years in and I've finally got a photo that d...</td>\n",
       "      <td>472</td>\n",
       "      <td>3</td>\n",
       "      <td>r/aww</td>\n",
       "      <td>1</td>\n",
       "      <td>472</td>\n",
       "      <td>3</td>\n",
       "      <td>1</td>\n",
       "      <td>0</td>\n",
       "      <td>0</td>\n",
       "      <td>...</td>\n",
       "      <td>0</td>\n",
       "      <td>0</td>\n",
       "      <td>0</td>\n",
       "      <td>0</td>\n",
       "      <td>0</td>\n",
       "      <td>0</td>\n",
       "      <td>0</td>\n",
       "      <td>0</td>\n",
       "      <td>0</td>\n",
       "      <td>0</td>\n",
       "    </tr>\n",
       "    <tr>\n",
       "      <th>3</th>\n",
       "      <td>ACLU urges cities to build public broadband to...</td>\n",
       "      <td>226</td>\n",
       "      <td>4</td>\n",
       "      <td>r/technology</td>\n",
       "      <td>1</td>\n",
       "      <td>226</td>\n",
       "      <td>4</td>\n",
       "      <td>1</td>\n",
       "      <td>0</td>\n",
       "      <td>0</td>\n",
       "      <td>...</td>\n",
       "      <td>0</td>\n",
       "      <td>0</td>\n",
       "      <td>0</td>\n",
       "      <td>0</td>\n",
       "      <td>0</td>\n",
       "      <td>0</td>\n",
       "      <td>0</td>\n",
       "      <td>0</td>\n",
       "      <td>0</td>\n",
       "      <td>0</td>\n",
       "    </tr>\n",
       "    <tr>\n",
       "      <th>4</th>\n",
       "      <td>This level of hypocrisy makes my insides itchy 😐</td>\n",
       "      <td>1072</td>\n",
       "      <td>4</td>\n",
       "      <td>r/PoliticalHumor</td>\n",
       "      <td>1</td>\n",
       "      <td>1072</td>\n",
       "      <td>4</td>\n",
       "      <td>1</td>\n",
       "      <td>0</td>\n",
       "      <td>0</td>\n",
       "      <td>...</td>\n",
       "      <td>0</td>\n",
       "      <td>0</td>\n",
       "      <td>0</td>\n",
       "      <td>0</td>\n",
       "      <td>0</td>\n",
       "      <td>0</td>\n",
       "      <td>0</td>\n",
       "      <td>0</td>\n",
       "      <td>0</td>\n",
       "      <td>0</td>\n",
       "    </tr>\n",
       "  </tbody>\n",
       "</table>\n",
       "<p>5 rows × 557 columns</p>\n",
       "</div>"
      ],
      "text/plain": [
       "                                              Titles  Comments  Time  \\\n",
       "0  TIL the CIA once \"kidnapped\" a Soviet spacecra...      1290     4   \n",
       "1  TIL a group of undercover Detroit police posin...       719     3   \n",
       "2  3 years in and I've finally got a photo that d...       472     3   \n",
       "3  ACLU urges cities to build public broadband to...       226     4   \n",
       "4   This level of hypocrisy makes my insides itchy 😐      1072     4   \n",
       "\n",
       "          Subreddit  target  Comments  Time  target  \\\n",
       "0   r/todayilearned       1      1290     4       1   \n",
       "1   r/todayilearned       1       719     3       1   \n",
       "2             r/aww       1       472     3       1   \n",
       "3      r/technology       1       226     4       1   \n",
       "4  r/PoliticalHumor       1      1072     4       1   \n",
       "\n",
       "   Titles_\"This might be dangerous, so let's put on our mean faces.\" Mantis:  \\\n",
       "0                                                  0                           \n",
       "1                                                  0                           \n",
       "2                                                  0                           \n",
       "3                                                  0                           \n",
       "4                                                  0                           \n",
       "\n",
       "   Titles_\"You mean this is what's kept me struggling... kept me from getting revenge... all this time???\"  \\\n",
       "0                                                  0                                                         \n",
       "1                                                  0                                                         \n",
       "2                                                  0                                                         \n",
       "3                                                  0                                                         \n",
       "4                                                  0                                                         \n",
       "\n",
       "               ...                Subreddit_r/wallstreetbets  \\\n",
       "0              ...                                         0   \n",
       "1              ...                                         0   \n",
       "2              ...                                         0   \n",
       "3              ...                                         0   \n",
       "4              ...                                         0   \n",
       "\n",
       "   Subreddit_r/westworld  Subreddit_r/whitepeoplegifs  \\\n",
       "0                      0                            0   \n",
       "1                      0                            0   \n",
       "2                      0                            0   \n",
       "3                      0                            0   \n",
       "4                      0                            0   \n",
       "\n",
       "   Subreddit_r/wholesomeanimemes  Subreddit_r/wholesomememes  \\\n",
       "0                              0                           0   \n",
       "1                              0                           0   \n",
       "2                              0                           0   \n",
       "3                              0                           0   \n",
       "4                              0                           0   \n",
       "\n",
       "   Subreddit_r/woahdude  Subreddit_r/woooosh  Subreddit_r/worldnews  \\\n",
       "0                     0                    0                      0   \n",
       "1                     0                    0                      0   \n",
       "2                     0                    0                      0   \n",
       "3                     0                    0                      0   \n",
       "4                     0                    0                      0   \n",
       "\n",
       "   Subreddit_r/xboxone  Subreddit_r/youseeingthisshit  \n",
       "0                    0                              0  \n",
       "1                    0                              0  \n",
       "2                    0                              0  \n",
       "3                    0                              0  \n",
       "4                    0                              0  \n",
       "\n",
       "[5 rows x 557 columns]"
      ]
     },
     "execution_count": 64,
     "metadata": {},
     "output_type": "execute_result"
    }
   ],
   "source": [
    "dummy_X2.head()"
   ]
  },
  {
   "cell_type": "code",
   "execution_count": 65,
   "metadata": {},
   "outputs": [
    {
     "data": {
      "text/html": [
       "<div>\n",
       "<style>\n",
       "    .dataframe thead tr:only-child th {\n",
       "        text-align: right;\n",
       "    }\n",
       "\n",
       "    .dataframe thead th {\n",
       "        text-align: left;\n",
       "    }\n",
       "\n",
       "    .dataframe tbody tr th {\n",
       "        vertical-align: top;\n",
       "    }\n",
       "</style>\n",
       "<table border=\"1\" class=\"dataframe\">\n",
       "  <thead>\n",
       "    <tr style=\"text-align: right;\">\n",
       "      <th></th>\n",
       "      <th>Subreddit</th>\n",
       "    </tr>\n",
       "  </thead>\n",
       "  <tbody>\n",
       "    <tr>\n",
       "      <th>0</th>\n",
       "      <td>r/todayilearned</td>\n",
       "    </tr>\n",
       "    <tr>\n",
       "      <th>1</th>\n",
       "      <td>r/todayilearned</td>\n",
       "    </tr>\n",
       "    <tr>\n",
       "      <th>2</th>\n",
       "      <td>r/aww</td>\n",
       "    </tr>\n",
       "    <tr>\n",
       "      <th>3</th>\n",
       "      <td>r/technology</td>\n",
       "    </tr>\n",
       "    <tr>\n",
       "      <th>4</th>\n",
       "      <td>r/PoliticalHumor</td>\n",
       "    </tr>\n",
       "  </tbody>\n",
       "</table>\n",
       "</div>"
      ],
      "text/plain": [
       "          Subreddit\n",
       "0   r/todayilearned\n",
       "1   r/todayilearned\n",
       "2             r/aww\n",
       "3      r/technology\n",
       "4  r/PoliticalHumor"
      ]
     },
     "execution_count": 65,
     "metadata": {},
     "output_type": "execute_result"
    }
   ],
   "source": [
    "df_sub_dum = pd.DataFrame(dummy_X2['Subreddit'])\n",
    "df_sub_dum['Subreddit'] = dummy_X2['Subreddit']\n",
    "df_sub_dum.head()"
   ]
  },
  {
   "cell_type": "code",
   "execution_count": 66,
   "metadata": {},
   "outputs": [
    {
     "data": {
      "text/plain": [
       "CountVectorizer(analyzer='word', binary=False, decode_error='strict',\n",
       "        dtype=<class 'numpy.int64'>, encoding='utf-8', input='content',\n",
       "        lowercase=True, max_df=1.0, max_features=None, min_df=1,\n",
       "        ngram_range=(1, 1), preprocessor=None, stop_words=None,\n",
       "        strip_accents=None, token_pattern='(?u)\\\\b\\\\w\\\\w+\\\\b',\n",
       "        tokenizer=None, vocabulary=None)"
      ]
     },
     "execution_count": 66,
     "metadata": {},
     "output_type": "execute_result"
    }
   ],
   "source": [
    "cvec = CountVectorizer()\n",
    "cvec.fit(df_sub_dum)"
   ]
  },
  {
   "cell_type": "code",
   "execution_count": 67,
   "metadata": {},
   "outputs": [
    {
     "data": {
      "text/html": [
       "<div>\n",
       "<style>\n",
       "    .dataframe thead tr:only-child th {\n",
       "        text-align: right;\n",
       "    }\n",
       "\n",
       "    .dataframe thead th {\n",
       "        text-align: left;\n",
       "    }\n",
       "\n",
       "    .dataframe tbody tr th {\n",
       "        vertical-align: top;\n",
       "    }\n",
       "</style>\n",
       "<table border=\"1\" class=\"dataframe\">\n",
       "  <thead>\n",
       "    <tr style=\"text-align: right;\">\n",
       "      <th></th>\n",
       "      <th>Titles</th>\n",
       "    </tr>\n",
       "  </thead>\n",
       "  <tbody>\n",
       "    <tr>\n",
       "      <th>0</th>\n",
       "      <td>TIL the CIA once \"kidnapped\" a Soviet spacecra...</td>\n",
       "    </tr>\n",
       "    <tr>\n",
       "      <th>1</th>\n",
       "      <td>TIL a group of undercover Detroit police posin...</td>\n",
       "    </tr>\n",
       "    <tr>\n",
       "      <th>2</th>\n",
       "      <td>3 years in and I've finally got a photo that d...</td>\n",
       "    </tr>\n",
       "    <tr>\n",
       "      <th>3</th>\n",
       "      <td>ACLU urges cities to build public broadband to...</td>\n",
       "    </tr>\n",
       "    <tr>\n",
       "      <th>4</th>\n",
       "      <td>This level of hypocrisy makes my insides itchy 😐</td>\n",
       "    </tr>\n",
       "  </tbody>\n",
       "</table>\n",
       "</div>"
      ],
      "text/plain": [
       "                                              Titles\n",
       "0  TIL the CIA once \"kidnapped\" a Soviet spacecra...\n",
       "1  TIL a group of undercover Detroit police posin...\n",
       "2  3 years in and I've finally got a photo that d...\n",
       "3  ACLU urges cities to build public broadband to...\n",
       "4   This level of hypocrisy makes my insides itchy 😐"
      ]
     },
     "execution_count": 67,
     "metadata": {},
     "output_type": "execute_result"
    }
   ],
   "source": [
    "df_tit_dum = pd.DataFrame(dummy_X2['Titles'])\n",
    "df_tit_dum['Titles'] = dummy_X2['Titles']\n",
    "df_tit_dum.head()"
   ]
  },
  {
   "cell_type": "code",
   "execution_count": 68,
   "metadata": {},
   "outputs": [
    {
     "data": {
      "text/plain": [
       "CountVectorizer(analyzer='word', binary=False, decode_error='strict',\n",
       "        dtype=<class 'numpy.int64'>, encoding='utf-8', input='content',\n",
       "        lowercase=True, max_df=1.0, max_features=None, min_df=1,\n",
       "        ngram_range=(1, 1), preprocessor=None, stop_words=None,\n",
       "        strip_accents=None, token_pattern='(?u)\\\\b\\\\w\\\\w+\\\\b',\n",
       "        tokenizer=None, vocabulary=None)"
      ]
     },
     "execution_count": 68,
     "metadata": {},
     "output_type": "execute_result"
    }
   ],
   "source": [
    "cvec = CountVectorizer()\n",
    "cvec.fit(df_tit_dum)"
   ]
  },
  {
   "cell_type": "markdown",
   "metadata": {},
   "source": [
    "#### Create a few new variables in your dataframe to represent interesting features of a thread title."
   ]
  },
  {
   "cell_type": "code",
   "execution_count": 69,
   "metadata": {
    "collapsed": true
   },
   "outputs": [],
   "source": [
    "import nltk\n",
    "from nltk.stem import WordNetLemmatizer\n",
    "lemmatizer = WordNetLemmatizer()\n",
    "from nltk.tokenize import RegexpTokenizer\n",
    "tokenizer = RegexpTokenizer(r'\\w+')\n",
    "import pandas as pd\n",
    "from sklearn.feature_extraction.text import CountVectorizer, HashingVectorizer"
   ]
  },
  {
   "cell_type": "code",
   "execution_count": 70,
   "metadata": {
    "collapsed": true
   },
   "outputs": [],
   "source": [
    "cvec = CountVectorizer()"
   ]
  },
  {
   "cell_type": "code",
   "execution_count": 71,
   "metadata": {},
   "outputs": [
    {
     "data": {
      "text/plain": [
       "RegexpTokenizer(pattern='\\\\w+', gaps=False, discard_empty=True, flags=<RegexFlag.UNICODE|DOTALL|MULTILINE: 56>)"
      ]
     },
     "execution_count": 71,
     "metadata": {},
     "output_type": "execute_result"
    }
   ],
   "source": [
    "tokenizer"
   ]
  },
  {
   "cell_type": "code",
   "execution_count": 72,
   "metadata": {
    "collapsed": true
   },
   "outputs": [],
   "source": [
    "spam_tit = df_tit_dum['Titles'].to_string"
   ]
  },
  {
   "cell_type": "code",
   "execution_count": 73,
   "metadata": {
    "collapsed": true
   },
   "outputs": [],
   "source": [
    "spam = spam_tit"
   ]
  },
  {
   "cell_type": "markdown",
   "metadata": {},
   "source": [
    "#### Use cross-validation in scikit-learn to evaluate the model above. \n",
    "- Evaluate the accuracy of the model, as well as any other metrics you feel are appropriate. "
   ]
  },
  {
   "cell_type": "code",
   "execution_count": 82,
   "metadata": {},
   "outputs": [
    {
     "name": "stdout",
     "output_type": "stream",
     "text": [
      "Random Forest Score:\t0.47 ± 0.075\n",
      "Baseline Score:\t\t 0.5\n"
     ]
    }
   ],
   "source": [
    "# Random Forest Subreddit - target\n",
    "\n",
    "y = df2.target\n",
    "X = df_sub_dum['Subreddit']\n",
    "\n",
    "# A:\n",
    "X_train, X_test, y_train, y_test, = train_test_split(X, y, \n",
    "                                                     test_size=0.2,\n",
    "                                                     random_state = 42)\n",
    "\n",
    "cvec = CountVectorizer()\n",
    "cvec.fit(X_train)\n",
    "\n",
    "cvectrain = cvec.transform(X_train)\n",
    "cvectest = cvec.transform(X_test)\n",
    "\n",
    "subtrain = pd.DataFrame(cvectrain.todense(),\n",
    "            columns=cvec.get_feature_names())\n",
    "\n",
    "subtest = pd.DataFrame(cvectest.todense(),\n",
    "            columns=cvec.get_feature_names())\n",
    "\n",
    "rf = RandomForestClassifier()\n",
    "rf.fit(subtrain, y_train)\n",
    "s = cross_val_score(rf, subtest, y_test, cv=5, n_jobs=-1)\n",
    "print(\"{} Score:\\t{:0.3} ± {:0.3}\".format(\"Random Forest\", s.mean().round(3), s.std().round(3)))\n",
    "print(\"Baseline Score:\\t\\t\", baseline)"
   ]
  },
  {
   "cell_type": "code",
   "execution_count": null,
   "metadata": {
    "collapsed": true
   },
   "outputs": [],
   "source": [
    "# Subbreddit does not beat the baseline."
   ]
  },
  {
   "cell_type": "code",
   "execution_count": 83,
   "metadata": {},
   "outputs": [
    {
     "data": {
      "text/plain": [
       "((100, 204), (400, 204))"
      ]
     },
     "execution_count": 83,
     "metadata": {},
     "output_type": "execute_result"
    }
   ],
   "source": [
    "cvectest.shape, cvectrain.shape"
   ]
  },
  {
   "cell_type": "code",
   "execution_count": 84,
   "metadata": {},
   "outputs": [
    {
     "data": {
      "text/plain": [
       "((400,), (400,))"
      ]
     },
     "execution_count": 84,
     "metadata": {},
     "output_type": "execute_result"
    }
   ],
   "source": [
    "X_train.shape, y_train.shape"
   ]
  },
  {
   "cell_type": "code",
   "execution_count": 85,
   "metadata": {},
   "outputs": [
    {
     "name": "stdout",
     "output_type": "stream",
     "text": [
      "Random Forest Score:\t0.6 ± 0.0\n",
      "Baseline Score:\t\t 0.5\n"
     ]
    }
   ],
   "source": [
    "# Random Forest Titles - Target\n",
    "\n",
    "y2 = df2.target\n",
    "\n",
    "X2 = df_tit_dum['Titles']\n",
    "\n",
    "\n",
    "X2_train, X2_test, y2_train, y2_test, = train_test_split(X2, y2, \n",
    "                                                     test_size=0.2,\n",
    "                                                     random_state = 42)\n",
    "\n",
    "cvec2 = CountVectorizer()\n",
    "cvec2.fit(X_train)\n",
    "\n",
    "cvectrain2 = cvec2.transform(X2_train)\n",
    "cvectest2 = cvec2.transform(X2_test)\n",
    "\n",
    "tittrain = pd.DataFrame(cvectrain2.todense(),\n",
    "            columns=cvec.get_feature_names())\n",
    "\n",
    "tittest = pd.DataFrame(cvectest2.todense(),\n",
    "            columns=cvec.get_feature_names())\n",
    "\n",
    "rf = RandomForestClassifier()\n",
    "rf.fit(tittrain, y2_train)\n",
    "s = cross_val_score(rf, tittest, y_test, cv=5, n_jobs=-1)\n",
    "print(\"{} Score:\\t{:0.3} ± {:0.3}\".format(\"Random Forest\", s.mean().round(3), s.std().round(3)))\n",
    "print(\"Baseline Score:\\t\\t\", baseline)"
   ]
  },
  {
   "cell_type": "code",
   "execution_count": 86,
   "metadata": {
    "collapsed": true
   },
   "outputs": [],
   "source": [
    "# Random Forest does slightly beat the baseline."
   ]
  },
  {
   "cell_type": "markdown",
   "metadata": {},
   "source": [
    "Repeat the model-building process with a non-tree-based method."
   ]
  },
  {
   "cell_type": "code",
   "execution_count": 87,
   "metadata": {
    "collapsed": true
   },
   "outputs": [],
   "source": [
    "from sklearn.ensemble import RandomForestClassifier\n",
    "from sklearn.model_selection import train_test_split, cross_val_score\n",
    "from sklearn.grid_search import GridSearchCV\n",
    "from sklearn.linear_model import LogisticRegression, LinearRegression"
   ]
  },
  {
   "cell_type": "code",
   "execution_count": 88,
   "metadata": {},
   "outputs": [
    {
     "data": {
      "text/plain": [
       "(500, 1)"
      ]
     },
     "execution_count": 88,
     "metadata": {},
     "output_type": "execute_result"
    }
   ],
   "source": [
    "df_sub_dum.shape"
   ]
  },
  {
   "cell_type": "code",
   "execution_count": 108,
   "metadata": {},
   "outputs": [
    {
     "data": {
      "text/html": [
       "<div>\n",
       "<style>\n",
       "    .dataframe thead tr:only-child th {\n",
       "        text-align: right;\n",
       "    }\n",
       "\n",
       "    .dataframe thead th {\n",
       "        text-align: left;\n",
       "    }\n",
       "\n",
       "    .dataframe tbody tr th {\n",
       "        vertical-align: top;\n",
       "    }\n",
       "</style>\n",
       "<table border=\"1\" class=\"dataframe\">\n",
       "  <thead>\n",
       "    <tr style=\"text-align: right;\">\n",
       "      <th></th>\n",
       "      <th>r/AbandonedPorn</th>\n",
       "      <th>r/AccidentalWesAnderson</th>\n",
       "      <th>r/Android</th>\n",
       "      <th>r/AskOuija</th>\n",
       "      <th>r/AskReddit</th>\n",
       "      <th>r/BeAmazed</th>\n",
       "      <th>r/BetterEveryLoop</th>\n",
       "      <th>r/BikiniBottomTwitter</th>\n",
       "      <th>r/BlackPeopleTwitter</th>\n",
       "      <th>r/BlueMidterm2018</th>\n",
       "      <th>...</th>\n",
       "      <th>r/wallstreetbets</th>\n",
       "      <th>r/westworld</th>\n",
       "      <th>r/whitepeoplegifs</th>\n",
       "      <th>r/wholesomeanimemes</th>\n",
       "      <th>r/wholesomememes</th>\n",
       "      <th>r/woahdude</th>\n",
       "      <th>r/woooosh</th>\n",
       "      <th>r/worldnews</th>\n",
       "      <th>r/xboxone</th>\n",
       "      <th>r/youseeingthisshit</th>\n",
       "    </tr>\n",
       "  </thead>\n",
       "  <tbody>\n",
       "    <tr>\n",
       "      <th>0</th>\n",
       "      <td>0</td>\n",
       "      <td>0</td>\n",
       "      <td>0</td>\n",
       "      <td>0</td>\n",
       "      <td>0</td>\n",
       "      <td>0</td>\n",
       "      <td>0</td>\n",
       "      <td>0</td>\n",
       "      <td>0</td>\n",
       "      <td>0</td>\n",
       "      <td>...</td>\n",
       "      <td>0</td>\n",
       "      <td>0</td>\n",
       "      <td>0</td>\n",
       "      <td>0</td>\n",
       "      <td>0</td>\n",
       "      <td>0</td>\n",
       "      <td>0</td>\n",
       "      <td>0</td>\n",
       "      <td>0</td>\n",
       "      <td>0</td>\n",
       "    </tr>\n",
       "    <tr>\n",
       "      <th>1</th>\n",
       "      <td>0</td>\n",
       "      <td>0</td>\n",
       "      <td>0</td>\n",
       "      <td>0</td>\n",
       "      <td>0</td>\n",
       "      <td>0</td>\n",
       "      <td>0</td>\n",
       "      <td>0</td>\n",
       "      <td>0</td>\n",
       "      <td>0</td>\n",
       "      <td>...</td>\n",
       "      <td>0</td>\n",
       "      <td>0</td>\n",
       "      <td>0</td>\n",
       "      <td>0</td>\n",
       "      <td>0</td>\n",
       "      <td>0</td>\n",
       "      <td>0</td>\n",
       "      <td>0</td>\n",
       "      <td>0</td>\n",
       "      <td>0</td>\n",
       "    </tr>\n",
       "    <tr>\n",
       "      <th>2</th>\n",
       "      <td>0</td>\n",
       "      <td>0</td>\n",
       "      <td>0</td>\n",
       "      <td>0</td>\n",
       "      <td>0</td>\n",
       "      <td>0</td>\n",
       "      <td>0</td>\n",
       "      <td>0</td>\n",
       "      <td>0</td>\n",
       "      <td>0</td>\n",
       "      <td>...</td>\n",
       "      <td>0</td>\n",
       "      <td>0</td>\n",
       "      <td>0</td>\n",
       "      <td>0</td>\n",
       "      <td>0</td>\n",
       "      <td>0</td>\n",
       "      <td>0</td>\n",
       "      <td>0</td>\n",
       "      <td>0</td>\n",
       "      <td>0</td>\n",
       "    </tr>\n",
       "    <tr>\n",
       "      <th>3</th>\n",
       "      <td>0</td>\n",
       "      <td>0</td>\n",
       "      <td>0</td>\n",
       "      <td>0</td>\n",
       "      <td>0</td>\n",
       "      <td>0</td>\n",
       "      <td>0</td>\n",
       "      <td>0</td>\n",
       "      <td>0</td>\n",
       "      <td>0</td>\n",
       "      <td>...</td>\n",
       "      <td>0</td>\n",
       "      <td>0</td>\n",
       "      <td>0</td>\n",
       "      <td>0</td>\n",
       "      <td>0</td>\n",
       "      <td>0</td>\n",
       "      <td>0</td>\n",
       "      <td>0</td>\n",
       "      <td>0</td>\n",
       "      <td>0</td>\n",
       "    </tr>\n",
       "    <tr>\n",
       "      <th>4</th>\n",
       "      <td>0</td>\n",
       "      <td>0</td>\n",
       "      <td>0</td>\n",
       "      <td>0</td>\n",
       "      <td>0</td>\n",
       "      <td>0</td>\n",
       "      <td>0</td>\n",
       "      <td>0</td>\n",
       "      <td>0</td>\n",
       "      <td>0</td>\n",
       "      <td>...</td>\n",
       "      <td>0</td>\n",
       "      <td>0</td>\n",
       "      <td>0</td>\n",
       "      <td>0</td>\n",
       "      <td>0</td>\n",
       "      <td>0</td>\n",
       "      <td>0</td>\n",
       "      <td>0</td>\n",
       "      <td>0</td>\n",
       "      <td>0</td>\n",
       "    </tr>\n",
       "  </tbody>\n",
       "</table>\n",
       "<p>5 rows × 227 columns</p>\n",
       "</div>"
      ],
      "text/plain": [
       "   r/AbandonedPorn  r/AccidentalWesAnderson  r/Android  r/AskOuija  \\\n",
       "0                0                        0          0           0   \n",
       "1                0                        0          0           0   \n",
       "2                0                        0          0           0   \n",
       "3                0                        0          0           0   \n",
       "4                0                        0          0           0   \n",
       "\n",
       "   r/AskReddit  r/BeAmazed  r/BetterEveryLoop  r/BikiniBottomTwitter  \\\n",
       "0            0           0                  0                      0   \n",
       "1            0           0                  0                      0   \n",
       "2            0           0                  0                      0   \n",
       "3            0           0                  0                      0   \n",
       "4            0           0                  0                      0   \n",
       "\n",
       "   r/BlackPeopleTwitter  r/BlueMidterm2018         ...           \\\n",
       "0                     0                  0         ...            \n",
       "1                     0                  0         ...            \n",
       "2                     0                  0         ...            \n",
       "3                     0                  0         ...            \n",
       "4                     0                  0         ...            \n",
       "\n",
       "   r/wallstreetbets  r/westworld  r/whitepeoplegifs  r/wholesomeanimemes  \\\n",
       "0                 0            0                  0                    0   \n",
       "1                 0            0                  0                    0   \n",
       "2                 0            0                  0                    0   \n",
       "3                 0            0                  0                    0   \n",
       "4                 0            0                  0                    0   \n",
       "\n",
       "   r/wholesomememes  r/woahdude  r/woooosh  r/worldnews  r/xboxone  \\\n",
       "0                 0           0          0            0          0   \n",
       "1                 0           0          0            0          0   \n",
       "2                 0           0          0            0          0   \n",
       "3                 0           0          0            0          0   \n",
       "4                 0           0          0            0          0   \n",
       "\n",
       "   r/youseeingthisshit  \n",
       "0                    0  \n",
       "1                    0  \n",
       "2                    0  \n",
       "3                    0  \n",
       "4                    0  \n",
       "\n",
       "[5 rows x 227 columns]"
      ]
     },
     "execution_count": 108,
     "metadata": {},
     "output_type": "execute_result"
    }
   ],
   "source": [
    "dummy_sub = pd.get_dummies(df_sub_dum['Subreddit'])\n",
    "dummy_sub.head()"
   ]
  },
  {
   "cell_type": "code",
   "execution_count": 109,
   "metadata": {},
   "outputs": [],
   "source": [
    "# Logistic Regression\n",
    "\n",
    "y3 = df2.target\n",
    "X3 = dummy_sub\n",
    "\n",
    "X3_train, X3_test, y3_train, y3_test, = train_test_split(X3, y3, \n",
    "                                                     test_size=0.2,\n",
    "                                                     random_state = 42)\n",
    "\n",
    "cvec3 = CountVectorizer()\n",
    "cvec3.fit(X_train)\n",
    "\n",
    "cvectrain3 = cvec3.transform(X3_train)\n",
    "cvectest3 = cvec3.transform(X3_test)\n",
    "\n",
    "subtrain3 = pd.DataFrame(cvectrain3.todense(),\n",
    "            columns=cvec.get_feature_names())\n",
    "\n",
    "subtest3 = pd.DataFrame(cvectest3.todense(),\n",
    "            columns=cvec.get_feature_names())"
   ]
  },
  {
   "cell_type": "code",
   "execution_count": 110,
   "metadata": {},
   "outputs": [
    {
     "data": {
      "text/plain": [
       "0.888"
      ]
     },
     "execution_count": 110,
     "metadata": {},
     "output_type": "execute_result"
    }
   ],
   "source": [
    "logreg = LogisticRegression()\n",
    "model = logreg.fit(X3, y3)\n",
    "predictions = model.predict(X3)\n",
    "score = model.score(X3, y3)\n",
    "score"
   ]
  },
  {
   "cell_type": "code",
   "execution_count": 111,
   "metadata": {},
   "outputs": [
    {
     "name": "stdout",
     "output_type": "stream",
     "text": [
      "intercept [-0.13266036]\n"
     ]
    }
   ],
   "source": [
    "print('intercept', logreg.intercept_)"
   ]
  },
  {
   "cell_type": "code",
   "execution_count": 112,
   "metadata": {},
   "outputs": [
    {
     "name": "stdout",
     "output_type": "stream",
     "text": [
      "Coefficients [[ 0.42694256 -0.37559638  0.42694256  0.42694256  0.71622535  0.71622535\n",
      "  -0.37559638  0.71622535  0.06632145 -0.37559638  0.93108558 -0.37559638\n",
      "  -0.37559638 -0.634282   -0.37559638 -0.37559638 -0.37559638 -0.37559638\n",
      "  -0.37559638 -0.37559638  0.42694256 -0.634282    0.42694256  0.93108558\n",
      "  -0.37559638  0.71622535 -0.37559638  0.71622535 -0.82939728  0.93108558\n",
      "  -0.634282    0.34289821 -0.37559638  0.71622535 -0.37559638 -0.37559638\n",
      "  -0.37559638 -0.44127612  0.32586876 -0.82939728  0.93108558  0.71622535\n",
      "  -0.37559638 -0.37559638 -0.634282   -0.37559638  0.71622535 -0.37559638\n",
      "   0.42694256  0.34289821 -0.37559638  0.42694256  0.71622535  0.42694256\n",
      "   0.71622535 -0.37559638  0.93108558  0.71622535 -0.634282   -0.37559638\n",
      "  -0.37559638 -0.37559638 -0.82939728  0.71622535 -0.37559638 -0.37559638\n",
      "  -0.634282   -0.23054406  0.42694256  0.48168167  0.34289821 -0.634282\n",
      "  -0.37559638 -0.634282   -0.634282    0.34289821  0.08843241  0.71622535\n",
      "  -0.634282   -0.37559638 -0.634282   -0.634282   -0.634282   -0.634282\n",
      "   0.06632145  0.71622535 -0.634282    0.71622535 -0.634282   -0.37559638\n",
      "  -0.37559638 -0.37559638 -0.634282   -0.37559638 -0.37559638  0.71622535\n",
      "   0.71622535  0.71622535  0.71622535  0.04420106 -0.634282    0.71622535\n",
      "   0.71622535 -0.634282    0.71622535  0.71622535 -0.37559638 -0.634282\n",
      "   0.42694256 -0.634282   -0.37559638 -0.37559638  0.71622535  0.70100793\n",
      "  -0.37559638 -0.37559638 -0.634282    0.08843241 -0.634282   -0.37559638\n",
      "   0.93108558  0.42694256 -0.37559638 -0.37559638 -0.37559638 -0.634282\n",
      "   0.42694256 -0.37559638 -0.37559638  0.42694256 -0.82939728 -0.37559638\n",
      "   0.71622535 -0.634282   -0.634282    0.42694256 -0.37559638  0.71622535\n",
      "  -0.37559638  0.71622535  0.71622535  0.93108558 -0.634282    0.71622535\n",
      "  -0.634282    0.56972434 -0.82939728 -0.35735588 -0.634282    1.3599292\n",
      "  -0.37559638 -0.37559638  0.71622535  0.42312403 -0.37559638 -0.634282\n",
      "  -0.37559638  0.42694256 -0.634282   -0.37559638  0.34289821 -0.37559638\n",
      "   0.71622535  0.42694256  0.71622535 -0.634282    1.10090054 -0.37559638\n",
      "  -0.37559638 -0.37559638 -0.634282   -0.37559638  0.42694256  0.06632145\n",
      "  -0.44127612  0.71622535  0.42694256 -0.37559638 -0.37559638  1.3599292\n",
      "  -0.37559638  0.42694256 -1.22639292 -0.634282    0.42694256  0.71622535\n",
      "   0.73261007 -0.82939728 -0.37559638 -0.82939728 -0.37559638 -0.634282\n",
      "   0.34289821  0.04420106  0.42694256 -0.634282    0.71622535 -0.37559638\n",
      "   0.71622535 -0.37559638 -0.634282    0.42694256  0.71622535  0.71622535\n",
      "   0.71622535 -0.634282   -0.634282   -0.634282   -0.37559638  1.40583652\n",
      "  -0.37559638 -0.37559638  0.71622535 -0.37559638 -0.634282    0.71622535\n",
      "   0.71622535  0.71622535  0.71622535  0.71622535 -0.37559638 -0.634282\n",
      "   0.42694256 -0.37559638  1.3599292   0.42694256  0.71622535]]\n"
     ]
    }
   ],
   "source": [
    "print('Coefficients', logreg.coef_)"
   ]
  },
  {
   "cell_type": "markdown",
   "metadata": {},
   "source": [
    "# Executive Summary"
   ]
  },
  {
   "cell_type": "markdown",
   "metadata": {},
   "source": [
    "I believe the people at Fivethirtyeight can learn a lot through a study of Reddit posts. Reddit is an American social news aggregation, web content rating, and discussion website. Members can submt their own submit content, which is then upvoted or downvoted by other members of the website. Posts from members are then organized into “subreddits”. Submissions with more upvotes appear towards the top of their subreddit, and if they receive enough votes will be displayed on the front page of Reddit.com. I believe by understanding what topics are being upvoted and displayed on the front page of Reddit can help Fivethirtyeight create engaging content on your own website. \n",
    "\n",
    "As you are aware, there are plenty of websites filled with news content on the internet. Therefore, websites like Fivethirtyeight need to constantly release intriguing content to stay on the cutting edge. \n",
    "\n",
    "I am here to present to you my findings of top content trending on Reddit. I have created a model that can webscrape data from Reddit at any giving time so you can find out what topics are currently trending. Not surprising some of the top trending sub reddits were News, gaming, funny and gadgets. During this experiment I also ran a random forest test and logistic regression to see if subreddits and titles had an affect on how a post trended. Both of my experiments showed that titles and subreddits are significant at affecting the popularity of a post. Also, not surprisingly time had a positive correlation with the number of comments a post got. I have prepared a presentation for you to better descibe my findings. \n",
    "\n",
    "I very much enjoy working with companies like Fivethirtyeight and hope my model can help your business grow. I believe understanding what topics are trending on Reddit and help you publish relevant and engaging content on your website. This will create more traffic to your site and in the end gain Fivethirtyeight more profits. Please enjoy this presentation and prepare yourselves for more future success for your website. "
   ]
  },
  {
   "cell_type": "markdown",
   "metadata": {},
   "source": [
    "# Presentation"
   ]
  },
  {
   "cell_type": "markdown",
   "metadata": {},
   "source": [
    "Presentation:  https://docs.google.com/presentation/d/1hnt_Q6ysK_gvwc6W-xvubaPhoDpFOp1KQM7_AnVh12I/edit?usp=sharing"
   ]
  },
  {
   "cell_type": "code",
   "execution_count": null,
   "metadata": {
    "collapsed": true
   },
   "outputs": [],
   "source": []
  }
 ],
 "metadata": {
  "kernelspec": {
   "display_name": "Python 3",
   "language": "python",
   "name": "python3"
  },
  "language_info": {
   "codemirror_mode": {
    "name": "ipython",
    "version": 3
   },
   "file_extension": ".py",
   "mimetype": "text/x-python",
   "name": "python",
   "nbconvert_exporter": "python",
   "pygments_lexer": "ipython3",
   "version": "3.6.3"
  }
 },
 "nbformat": 4,
 "nbformat_minor": 2
}
